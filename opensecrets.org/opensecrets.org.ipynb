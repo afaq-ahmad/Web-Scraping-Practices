{
 "cells": [
  {
   "cell_type": "code",
   "execution_count": 1,
   "metadata": {},
   "outputs": [],
   "source": [
    "from openpyxl import load_workbook\n",
    "storagedata0=[]\n",
    "wb = load_workbook(filename = 'ScrapedOSV2.xlsx')\n",
    "sheet_ranges = wb['Sheet1']\n",
    "for row in sheet_ranges:\n",
    "    rowinstr=[]\n",
    "    for rowin in row:\n",
    "        rowinstr.append(rowin.value)\n",
    "    storagedata0.append(rowinstr)"
   ]
  },
  {
   "cell_type": "code",
   "execution_count": 7,
   "metadata": {},
   "outputs": [
    {
     "name": "stdout",
     "output_type": "stream",
     "text": [
      "106\n",
      "260\n",
      "320\n",
      "346\n"
     ]
    }
   ],
   "source": [
    "for q in range(0,4):\n",
    "    print storagedata0[q][1]"
   ]
  },
  {
   "cell_type": "code",
   "execution_count": null,
   "metadata": {},
   "outputs": [],
   "source": []
  },
  {
   "cell_type": "code",
   "execution_count": 3,
   "metadata": {},
   "outputs": [],
   "source": [
    "import re\n",
    "import urllib\n",
    "import urllib3\n",
    "import csv\n",
    "import requests\n",
    "from bs4 import BeautifulSoup\n",
    "from collections import OrderedDict\n",
    "urllib3.disable_warnings()"
   ]
  },
  {
   "cell_type": "code",
   "execution_count": 4,
   "metadata": {},
   "outputs": [],
   "source": [
    "storages=[]"
   ]
  },
  {
   "cell_type": "code",
   "execution_count": 8,
   "metadata": {
    "scrolled": true
   },
   "outputs": [
    {
     "name": "stdout",
     "output_type": "stream",
     "text": [
      "[u'x', 106L, u'https://www.opensecrets.org/orgs/toprecips.php?id=D000000672&cycle=2016', u'CHTR.OQ', u'Dems:', u'', u'$439,737            ', u'Repubs:', u'', u'$575,418            ', u'Others:', u'', u'$0            ', u'Incumbents:', u'', u'$981,775            ', u'Non-Incumbents:', u'', u'$33,380    ', u'Democrats', u'73', u'$3,892', u'$284,183', u'Republicans', u'83', u'$4,694', u'$389,680', u'Independents', u'0', u'$0', u'$0', u'TOTAL', u'156', u'$4,319', u'$673,863', u'Democrats', u'20', u'$6,457', u'$129,144', u'Republicans', u'25', u'$7,150', u'$178,768', u'Independents', u'0', u'$0', u'$0', u'TOTAL', u'45', u'$6,842', u'$307,912', u'Senate', u'Blumenthal, Richard (D-CT)', u'$48,600', u'President', u'Clinton, Hillary (D)', u'$47,829', u'Senate', u'Lee, Mike (R-UT)', u'$42,400', u'President', u'Kasich, John (R)', u'$19,450', u'Senate', u'Sanders, Bernie (D-VT)', u'$16,663', u'Senate', u'Thune, John (R-SD)', u'$16,000', u'House', u'Latta, Robert E (R-OH)', u'$15,000', u'House', u'Blackburn, Marsha (R-TN)', u'$14,000', u'Senate', u'Blunt, Roy (R-MO)', u'$14,000', u'House', u'Cramer, Kevin (R-ND)', u'$13,500', u'House', u'Wagner, Ann L (R-MO)', u'$13,250', u'House', u'Himes, Jim (D-CT)', u'$12,700', u'House', u'McCarthy, Kevin (R-CA)', u'$12,500', u'House', u'Pallone, Frank Jr (D-NJ)', u'$12,500', u'Senate', u'Schumer, Charles E (D-NY)', u'$12,500', u'House', u'Shimkus, John M (R-IL)', u'$12,500', u'Senate', u'Ayotte, Kelly (R-NH)', u'$11,750', u'Senate', u'Rubio, Marco (R-FL)', u'$11,611', u'Senate', u'Harris, Kamala D (D-CA)', u'$10,725', u'House', u'Collins, Chris (R-NY)', u'$10,500', u'See all recipients']\n",
      "[u'x', 260L, u'https://www.opensecrets.org/orgs/toprecips.php?id=D000026667&cycle=2016', u'INTU.OQ', u'Dems:', u'', u'$241,658            ', u'Repubs:', u'', u'$152,626            ', u'Others:', u'', u'$0            ', u'Incumbents:', u'', u'$332,862            ', u'Non-Incumbents:', u'', u'$61,422    ', u'Democrats', u'35', u'$4,130', u'$144,551', u'Republicans', u'35', u'$2,952', u'$103,340', u'Independents', u'0', u'$0', u'$0', u'TOTAL', u'70', u'$3,541', u'$247,891', u'Democrats', u'14', u'$2,611', u'$36,565', u'Republicans', u'12', u'$4,033', u'$48,406', u'Independents', u'0', u'$0', u'$0', u'TOTAL', u'26', u'$3,268', u'$84,971', u'President', u'Clinton, Hillary (D)', u'$60,700', u'House', u'Eshoo, Anna (D-CA)', u'$35,225', u'House', u'Lofgren, Zoe (D-CA)', u'$32,650', u'House', u'McCarthy, Kevin (R-CA)', u'$16,300', u'Senate', u'Sanders, Bernie (D-VT)', u'$13,015', u'Senate', u'Ross, Deborah (D-NC)', u'$8,727', u'House', u'Crenshaw, Ander  (R-FL)', u'$8,500', u'Senate', u'Johnson, Ron (R-WI)', u'$8,500', u'Senate', u'Burr, Richard (R-NC)', u'$7,500', u'House', u'Roskam, Peter (R-IL)', u'$7,500', u'Senate', u'Boozman, John (R-AR)', u'$7,000', u'House', u'Barragan, Nanette (D-CA)', u'$6,198', u'House', u'Brownley, Julia (D-CA)', u'$5,510', u'House', u'Holding, George (R-NC)', u'$5,500', u'President', u'Christie, Chris (R)', u'$5,400', u'Senate', u'Judge, Patty (D-IA)', u'$5,400', u'House', u'Takano, Mark (D-CA)', u'$5,400', u'Senate', u'Toomey, Pat (R-PA)', u'$5,130', u'House', u'Brady, Kevin (R-TX)', u'$5,000', u'House', u'Kind, Ron (D-WI)', u'$5,000', u'See all recipients']\n",
      "[u'x', 320L, u'https://www.opensecrets.org/orgs/toprecips.php?id=D000069794&cycle=2016', u'MHK.N', u'Dems:', u'', u'$1,557            ', u'Repubs:', u'', u'$9,534            ', u'Others:', u'', u'$0            ', u'Incumbents:', u'', u'$10,591            ', u'Non-Incumbents:', u'', u'$500    ', u'Democrats', u'0', u'$0', u'$0', u'Republicans', u'1', u'$2,500', u'$2,500', u'Independents', u'0', u'$0', u'$0', u'TOTAL', u'1', u'$2,500', u'$2,500', u'Democrats', u'1', u'$1,307', u'$1,307', u'Republicans', u'3', u'$2,261', u'$6,784', u'Independents', u'0', u'$0', u'$0', u'TOTAL', u'4', u'$2,022', u'$8,091', u'Senate', u'Isakson, Johnny (R-GA)', u'$5,200', u'President', u'Bush, Jeb (R)', u'$2,700', u'House', u'Graves, Tom (R-GA)', u'$2,500', u'President', u'Clinton, Hillary (D)', u'$1,639', u'Senate', u'Sanders, Bernie (D-VT)', u'$1,307', u'Senate', u'Cruz, Ted (R-TX)', u'$944', u'Senate', u'Corker, Bob (R-TN)', u'$640', u'President', u'Carson, Ben (R)', u'$631', u'House', u'Jayapal, Pramila (D-WA)', u'$250', u'Senate', u'McConnell, Jonathan (R-AL)', u'$250', u'President', u'Trump, Donald (R)', u'$80', u'See all recipients']\n",
      "[u'x', 346L, u'https://www.opensecrets.org/orgs/toprecips.php?id=D000019639&cycle=2016', u'NSC.N', u'Dems:', u'', u'$372,806            ', u'Repubs:', u'', u'$570,493            ', u'Others:', u'', u'$0            ', u'Incumbents:', u'', u'$913,550            ', u'Non-Incumbents:', u'', u'$29,749    ', u'Democrats', u'55', u'$4,629', u'$254,639', u'Republicans', u'81', u'$4,738', u'$383,820', u'Independents', u'0', u'$0', u'$0', u'TOTAL', u'136', u'$4,694', u'$638,459', u'Democrats', u'16', u'$6,714', u'$107,438', u'Republicans', u'29', u'$5,781', u'$167,653', u'Independents', u'0', u'$0', u'$0', u'TOTAL', u'45', u'$6,113', u'$275,091', u'Senate', u'Warner, Mark (D-VA)', u'$32,700', u'President', u'Clinton, Hillary (D)', u'$22,736', u'Senate', u'Blunt, Roy (R-MO)', u'$19,800', u'House', u'Beyer, Don (D-VA)', u'$15,400', u'House', u'Scott, Bobby (D-VA)', u'$13,000', u'House', u'Rigell, Scott (R-VA)', u'$11,900', u'Senate', u'Kaine, Tim (D-VA)', u'$11,800', u'House', u'Goodlatte, Bob (R-VA)', u'$11,000', u'House', u'DeFazio, Peter (D-OR)', u'$10,500', u'House', u'Barletta, Lou (R-PA)', u'$10,000', u'Senate', u'Booker, Cory (D-NJ)', u'$10,000', u'House', u'Boustany, Charles Jr (R-LA)', u'$10,000', u'Senate', u'Burr, Richard (R-NC)', u'$10,000', u'House', u'Bustos, Cheri (D-IL)', u'$10,000', u'House', u'Capuano, Michael E (D-MA)', u'$10,000', u'House', u'Clyburn, James E (D-SC)', u'$10,000', u'House', u'Denham, Jeff (R-CA)', u'$10,000', u'House', u'Duncan, John J Jr (R-TN)', u'$10,000', u'House', u'Graves, Sam (R-MO)', u'$10,000', u'House', u'Griffith, Morgan (R-VA)', u'$10,000', u'See all recipients']\n"
     ]
    }
   ],
   "source": [
    "for q in range(0,4):#\n",
    "    urlpage=storagedata0[q][2]\n",
    "    headers = {'User-Agent':'Mozilla/5.0'}\n",
    "    page = requests.get(urlpage, headers=headers, verify=False)\n",
    "    data = page.content\n",
    "    soup = BeautifulSoup(data, \"html.parser\")\n",
    "\n",
    "    storagesaver0=[]\n",
    "    storagesaver0.append(storagedata0[q][0])\n",
    "    storagesaver0.append(storagedata0[q][1])\n",
    "    storagesaver0.append(storagedata0[q][2])\n",
    "    storagesaver0.append(storagedata0[q][3])\n",
    "    tdds=soup.find_all('td')\n",
    "    for i in range(len(tdds)):\n",
    "        detdds=tdds[i].text.replace('\\t','').replace('\\n','').replace('\\r','')\n",
    "        storagesaver0.append(detdds)\n",
    "    print storagesaver0\n",
    "    storages.append(storagesaver0)"
   ]
  },
  {
   "cell_type": "code",
   "execution_count": null,
   "metadata": {},
   "outputs": [],
   "source": []
  },
  {
   "cell_type": "code",
   "execution_count": null,
   "metadata": {},
   "outputs": [],
   "source": [
    "len(storagedata0)"
   ]
  },
  {
   "cell_type": "code",
   "execution_count": 9,
   "metadata": {},
   "outputs": [],
   "source": [
    "import warnings\n",
    "from openpyxl import Workbook\n",
    "\n",
    "wb = Workbook(write_only=True)\n",
    "ws = wb.create_sheet()\n",
    "\n",
    "# now we'll fill it with 100 rows x 200 columns\n",
    "for irow in storages:\n",
    "    ws.append(irow)\n",
    "# save the file\n",
    "wb.save('search_results2.xlsx')"
   ]
  },
  {
   "cell_type": "code",
   "execution_count": null,
   "metadata": {},
   "outputs": [],
   "source": []
  },
  {
   "cell_type": "code",
   "execution_count": null,
   "metadata": {},
   "outputs": [],
   "source": []
  },
  {
   "cell_type": "code",
   "execution_count": null,
   "metadata": {},
   "outputs": [],
   "source": []
  }
 ],
 "metadata": {
  "kernelspec": {
   "display_name": "Python 2",
   "language": "python",
   "name": "python2"
  },
  "language_info": {
   "codemirror_mode": {
    "name": "ipython",
    "version": 2
   },
   "file_extension": ".py",
   "mimetype": "text/x-python",
   "name": "python",
   "nbconvert_exporter": "python",
   "pygments_lexer": "ipython2",
   "version": "2.7.14"
  }
 },
 "nbformat": 4,
 "nbformat_minor": 2
}
