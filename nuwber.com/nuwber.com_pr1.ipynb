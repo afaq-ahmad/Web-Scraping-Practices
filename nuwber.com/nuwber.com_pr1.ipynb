{
 "cells": [
  {
   "cell_type": "code",
   "execution_count": 1,
   "metadata": {},
   "outputs": [],
   "source": [
    "from bs4 import BeautifulSoup\n",
    "from selenium import webdriver\n",
    "from time import sleep\n",
    "import csv\n",
    "from random import randint\n",
    "import json, io\n",
    "\n",
    "from selenium.webdriver.common.by import By\n",
    "from selenium.webdriver.common.keys import Keys\n",
    "from selenium.webdriver.support.ui import Select\n",
    "from selenium.webdriver.support.ui import WebDriverWait\n",
    "from selenium.common.exceptions import TimeoutException\n",
    "from selenium.webdriver.support import expected_conditions as EC\n",
    "from selenium.common.exceptions import NoSuchElementException\n",
    "from selenium.common.exceptions import NoAlertPresentException\n",
    "\n",
    "driver = webdriver.Chrome(executable_path=r'/Users/Name/Downloads/Compressed/chromedrives/chromedriver.exe')\n"
   ]
  },
  {
   "cell_type": "code",
   "execution_count": 2,
   "metadata": {},
   "outputs": [],
   "source": [
    "driver.get(\"https://nuwber.com/\")"
   ]
  },
  {
   "cell_type": "code",
   "execution_count": 3,
   "metadata": {},
   "outputs": [],
   "source": [
    "from openpyxl import load_workbook\n",
    "import requests.api\n",
    "import warnings\n",
    "from openpyxl import Workbook\n",
    "import random\n"
   ]
  },
  {
   "cell_type": "code",
   "execution_count": 4,
   "metadata": {},
   "outputs": [],
   "source": [
    "list0=[]\n",
    "wb = load_workbook(filename='72 Jumbo Adjustables (1).xlsx', read_only=True)\n",
    "ws = wb['Jumbo20Adjustables_Feb_22_2018_']\n",
    "for row in ws.rows:\n",
    "#       list0.append([row[0].value,row[1].value,row[2].value,row[3].value,row[4].value,row[5].value,row[6].value,row[7].value,row[8].value,row[9].value,row[10].value,row[11].value,row[12].value,row[13].value,row[14].value,row[15].value,row[16].value,row[17].value,row[18].value,row[19].value,row[20].value,row[21].value,row[22].value,row[23].value,row[24].value,row[25].value,row[26].value,row[27].value,row[28].value,row[29].value,row[30].value,row[31].value,row[32].value,row[33].value,row[34].value,row[35].value,row[36].value,row[37].value,row[38].value,row[39].value])\n",
    "    list00=[]\n",
    "    for kl in range(len(row)):\n",
    "        \n",
    "        list00.append(row[kl].value)\n",
    "    list0.append(list00)"
   ]
  },
  {
   "cell_type": "code",
   "execution_count": 6,
   "metadata": {
    "scrolled": true
   },
   "outputs": [
    {
     "name": "stdout",
     "output_type": "stream",
     "text": [
      "PCity\n",
      "PState\n"
     ]
    }
   ],
   "source": [
    "print list0[0][18]\n",
    "print list0[0][19]"
   ]
  },
  {
   "cell_type": "code",
   "execution_count": 7,
   "metadata": {},
   "outputs": [
    {
     "name": "stdout",
     "output_type": "stream",
     "text": [
      "Owner1FName\n",
      "Owner1LName\n",
      "Owner2FName\n",
      "Owner2LName\n"
     ]
    }
   ],
   "source": [
    "print list0[0][2]\n",
    "print list0[0][3]\n",
    "print list0[0][4]\n",
    "print list0[0][5]"
   ]
  },
  {
   "cell_type": "code",
   "execution_count": 71,
   "metadata": {},
   "outputs": [
    {
     "data": {
      "text/plain": [
       "1993"
      ]
     },
     "execution_count": 71,
     "metadata": {},
     "output_type": "execute_result"
    }
   ],
   "source": [
    "\n",
    "len(list0)\n",
    "i"
   ]
  },
  {
   "cell_type": "code",
   "execution_count": 72,
   "metadata": {
    "scrolled": true
   },
   "outputs": [
    {
     "ename": "IndexError",
     "evalue": "list index out of range",
     "output_type": "error",
     "traceback": [
      "\u001b[1;31m---------------------------------------------------------------------------\u001b[0m",
      "\u001b[1;31mIndexError\u001b[0m                                Traceback (most recent call last)",
      "\u001b[1;32m<ipython-input-72-aa37f91808b1>\u001b[0m in \u001b[0;36m<module>\u001b[1;34m()\u001b[0m\n\u001b[0;32m      2\u001b[0m     \u001b[1;32mif\u001b[0m \u001b[0mdriver\u001b[0m\u001b[1;33m.\u001b[0m\u001b[0mcurrent_url\u001b[0m\u001b[1;33m==\u001b[0m\u001b[1;34m'data:,'\u001b[0m\u001b[1;33m:\u001b[0m\u001b[1;33m\u001b[0m\u001b[0m\n\u001b[0;32m      3\u001b[0m         \u001b[0mdriver\u001b[0m\u001b[1;33m.\u001b[0m\u001b[0mget\u001b[0m\u001b[1;33m(\u001b[0m\u001b[1;34m\"https://nuwber.com/\"\u001b[0m\u001b[1;33m)\u001b[0m\u001b[1;33m\u001b[0m\u001b[0m\n\u001b[1;32m----> 4\u001b[1;33m     \u001b[1;32mif\u001b[0m \u001b[0mlist0\u001b[0m\u001b[1;33m[\u001b[0m\u001b[0mi\u001b[0m\u001b[1;33m]\u001b[0m\u001b[1;33m[\u001b[0m\u001b[1;36m2\u001b[0m\u001b[1;33m]\u001b[0m \u001b[1;32mis\u001b[0m \u001b[1;32mnot\u001b[0m \u001b[0mNone\u001b[0m\u001b[1;33m:\u001b[0m\u001b[1;33m\u001b[0m\u001b[0m\n\u001b[0m\u001b[0;32m      5\u001b[0m         \u001b[1;31m#if list0[i][3] is not None:\u001b[0m\u001b[1;33m\u001b[0m\u001b[1;33m\u001b[0m\u001b[0m\n\u001b[0;32m      6\u001b[0m         \u001b[1;32mprint\u001b[0m \u001b[0mlist0\u001b[0m\u001b[1;33m[\u001b[0m\u001b[0mi\u001b[0m\u001b[1;33m]\u001b[0m\u001b[1;33m[\u001b[0m\u001b[1;36m2\u001b[0m\u001b[1;33m]\u001b[0m\u001b[1;33m+\u001b[0m\u001b[1;34m' '\u001b[0m\u001b[1;33m+\u001b[0m\u001b[0mlist0\u001b[0m\u001b[1;33m[\u001b[0m\u001b[0mi\u001b[0m\u001b[1;33m]\u001b[0m\u001b[1;33m[\u001b[0m\u001b[1;36m3\u001b[0m\u001b[1;33m]\u001b[0m\u001b[1;33m\u001b[0m\u001b[0m\n",
      "\u001b[1;31mIndexError\u001b[0m: list index out of range"
     ]
    }
   ],
   "source": [
    "for i in range(1994,2000):#len(list0)): \n",
    "    if driver.current_url=='data:,':\n",
    "        driver.get(\"https://nuwber.com/\")\n",
    "    if list0[i][2] is not None:\n",
    "        #if list0[i][3] is not None:\n",
    "        print list0[i][2]+' '+list0[i][3]\n",
    "        print list0[i][18]+', '+list0[i][19]\n",
    "\n",
    "        name=driver.find_element_by_id('search_name1')\n",
    "        name.send_keys(list0[i][2]+' '+list0[i][3])\n",
    "        state=driver.find_element_by_id('search_state1')\n",
    "        state.send_keys(list0[i][18]+', '+list0[i][19])\n",
    "        sleep(random.randint(1,5))\n",
    "        driver.find_elements_by_tag_name('button')[0].click()\n",
    "        sleep(random.randint(1,5))    \n",
    "        so0=BeautifulSoup(driver.page_source, 'lxml')\n",
    "\n",
    "        persons0=so0.find_all('div',class_=\"search__best_block\")\n",
    "        if len(persons0)>0:\n",
    "            persons1=persons0[0].find_all('a',href=True)\n",
    "            if len(persons1)>0:\n",
    "                hrefto=persons1[0].get('href')\n",
    "                prelink0='https://nuwber.com'\n",
    "                prelink=prelink0+hrefto\n",
    "                print prelink\n",
    "                list1=[]\n",
    "                list1.append(prelink)\n",
    "                list0[i]=list0[i]+list1\n",
    "        driver.back()\n",
    "\n",
    "\n",
    "\n",
    "    if list0[i][4] is not None:\n",
    "        if list0[i][5] is not None:\n",
    "            print list0[i][4]+' '+list0[i][5]\n",
    "            print list0[i][18]+', '+list0[i][19]\n",
    "\n",
    "\n",
    "            name=driver.find_element_by_id('search_name1')\n",
    "            name.send_keys(list0[i][4]+' '+list0[i][5])\n",
    "            state=driver.find_element_by_id('search_state1')\n",
    "            state.send_keys(list0[i][18]+', '+list0[i][19])\n",
    "            sleep(random.randint(1,5))\n",
    "            driver.find_elements_by_tag_name('button')[0].click()\n",
    "            sleep(random.randint(1,5))    \n",
    "            so0=BeautifulSoup(driver.page_source, 'lxml')\n",
    "\n",
    "            persons0=so0.find_all('div',class_=\"search__best_block\")\n",
    "            if len(persons0)>0:\n",
    "                persons1=persons0[0].find_all('a',href=True)\n",
    "                if len(persons1)>0:\n",
    "                    hrefto=persons1[0].get('href')\n",
    "                    prelink0='https://nuwber.com'\n",
    "                    prelink=prelink0+hrefto\n",
    "                    print prelink\n",
    "                    list1=[]\n",
    "                    list1.append(prelink)\n",
    "                    list0[i]=list0[i]+list1\n",
    "            driver.back()\n",
    "    if driver.current_url=='data:,':\n",
    "        driver.get(\"https://nuwber.com/\")\n",
    "    print i"
   ]
  },
  {
   "cell_type": "code",
   "execution_count": 70,
   "metadata": {
    "scrolled": true
   },
   "outputs": [
    {
     "data": {
      "text/plain": [
       "1993"
      ]
     },
     "execution_count": 70,
     "metadata": {},
     "output_type": "execute_result"
    }
   ],
   "source": [
    "#1831-\n",
    "i"
   ]
  },
  {
   "cell_type": "code",
   "execution_count": 54,
   "metadata": {},
   "outputs": [
    {
     "name": "stdout",
     "output_type": "stream",
     "text": [
      "yes\n"
     ]
    }
   ],
   "source": [
    "if driver.current_url=='data:,':\n",
    "    print 'yes'"
   ]
  },
  {
   "cell_type": "code",
   "execution_count": 32,
   "metadata": {},
   "outputs": [
    {
     "data": {
      "text/plain": [
       "1"
      ]
     },
     "execution_count": 32,
     "metadata": {},
     "output_type": "execute_result"
    }
   ],
   "source": [
    "# driver.back()\n",
    "len(list0[165][5])"
   ]
  },
  {
   "cell_type": "code",
   "execution_count": null,
   "metadata": {},
   "outputs": [],
   "source": []
  },
  {
   "cell_type": "code",
   "execution_count": 73,
   "metadata": {},
   "outputs": [],
   "source": [
    "import warnings\n",
    "from openpyxl import Workbook\n",
    "\n",
    "wb = Workbook(write_only=True)\n",
    "ws = wb.create_sheet()\n",
    "\n",
    "# now we'll fill it with 100 rows x 200 columns\n",
    "for irow in list0:\n",
    "    ws.append(irow)\n",
    "# save the file\n",
    "wb.save('72_Jumbo_Adjustables_links.xlsx')"
   ]
  },
  {
   "cell_type": "code",
   "execution_count": null,
   "metadata": {
    "scrolled": true
   },
   "outputs": [],
   "source": []
  },
  {
   "cell_type": "code",
   "execution_count": 302,
   "metadata": {},
   "outputs": [],
   "source": [
    "driver.find_elements_by_tag_name('input')[4].click()"
   ]
  },
  {
   "cell_type": "code",
   "execution_count": 317,
   "metadata": {},
   "outputs": [],
   "source": []
  },
  {
   "cell_type": "code",
   "execution_count": 206,
   "metadata": {},
   "outputs": [
    {
     "data": {
      "text/plain": [
       "0"
      ]
     },
     "execution_count": 206,
     "metadata": {},
     "output_type": "execute_result"
    }
   ],
   "source": [
    "len(persons0)"
   ]
  },
  {
   "cell_type": "code",
   "execution_count": 175,
   "metadata": {},
   "outputs": [],
   "source": [
    "so1=BeautifulSoup(driver.page_source, 'lxml')"
   ]
  },
  {
   "cell_type": "code",
   "execution_count": 176,
   "metadata": {},
   "outputs": [],
   "source": [
    "inner_text_phone=so1.find_all('div',class_=\"content__block_inner_item\")"
   ]
  },
  {
   "cell_type": "code",
   "execution_count": null,
   "metadata": {},
   "outputs": [],
   "source": []
  },
  {
   "cell_type": "code",
   "execution_count": 204,
   "metadata": {},
   "outputs": [
    {
     "name": "stdout",
     "output_type": "stream",
     "text": [
      "beamosbuys@cs.com\n",
      "domain-admin@onednr.com\n",
      "drich333@aol.com\n",
      "domain_admin@onednr.com\n"
     ]
    }
   ],
   "source": [
    "if inner_text_phone is not None:\n",
    "    for hg in range(len(inner_text_phone)):\n",
    "        if inner_text_phone[hg].find('span').text=='Email':\n",
    "            text_mail=inner_text_phone[hg].find_all('p',class_=\"inner_text inner_text_phone\")\n",
    "            for mn in range(len(text_mail)):\n",
    "                emailid=((text_mail[mn].text).replace('\\n','')).replace('  ','')\n",
    "                print emailid"
   ]
  },
  {
   "cell_type": "code",
   "execution_count": 205,
   "metadata": {},
   "outputs": [
    {
     "name": "stdout",
     "output_type": "stream",
     "text": [
      "(650) 366-3350\n",
      "(650) 366-3350\n",
      "(650) 941-3350\n"
     ]
    }
   ],
   "source": [
    "resp_cell=so1.find_all('div',class_=\"resp_cell resp_cell3\")\n",
    "for nb in range(len(resp_cell)):\n",
    "    resp_cell1=resp_cell[nb].find_all('p')\n",
    "    phones=((resp_cell1[1].text).replace('\\n','')).replace('  ','')\n",
    "    print phones"
   ]
  },
  {
   "cell_type": "code",
   "execution_count": null,
   "metadata": {},
   "outputs": [],
   "source": []
  },
  {
   "cell_type": "code",
   "execution_count": 242,
   "metadata": {},
   "outputs": [],
   "source": [
    "driver.back()"
   ]
  }
 ],
 "metadata": {
  "kernelspec": {
   "display_name": "Python 2",
   "language": "python",
   "name": "python2"
  },
  "language_info": {
   "codemirror_mode": {
    "name": "ipython",
    "version": 2
   },
   "file_extension": ".py",
   "mimetype": "text/x-python",
   "name": "python",
   "nbconvert_exporter": "python",
   "pygments_lexer": "ipython2",
   "version": "2.7.14"
  }
 },
 "nbformat": 4,
 "nbformat_minor": 2
}
