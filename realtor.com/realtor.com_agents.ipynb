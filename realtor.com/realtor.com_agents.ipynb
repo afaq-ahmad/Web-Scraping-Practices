{
 "cells": [
  {
   "cell_type": "code",
   "execution_count": 1,
   "metadata": {},
   "outputs": [],
   "source": [
    "from bs4 import BeautifulSoup\n",
    "import requests\n",
    "import sys\n",
    "import json\n",
    "\n",
    "from time import sleep"
   ]
  },
  {
   "cell_type": "code",
   "execution_count": 11,
   "metadata": {},
   "outputs": [
    {
     "data": {
      "text/plain": [
       "149"
      ]
     },
     "execution_count": 11,
     "metadata": {},
     "output_type": "execute_result"
    }
   ],
   "source": [
    "len(dataids)"
   ]
  },
  {
   "cell_type": "code",
   "execution_count": 9,
   "metadata": {},
   "outputs": [
    {
     "name": "stdout",
     "output_type": "stream",
     "text": [
      "https://www.realtor.com/realestateagents/Topeka_KS/photo-0/pg-1\n",
      "https://www.realtor.com/realestateagents/Topeka_KS/photo-0/pg-2\n",
      "https://www.realtor.com/realestateagents/Topeka_KS/photo-0/pg-3\n",
      "https://www.realtor.com/realestateagents/Topeka_KS/photo-0/pg-4\n",
      "https://www.realtor.com/realestateagents/Topeka_KS/photo-0/pg-5\n",
      "https://www.realtor.com/realestateagents/Topeka_KS/photo-0/pg-6\n",
      "https://www.realtor.com/realestateagents/Topeka_KS/photo-0/pg-7\n",
      "https://www.realtor.com/realestateagents/Topeka_KS/photo-0/pg-8\n"
     ]
    }
   ],
   "source": [
    "for l in range(1,9):\n",
    "    url = 'https://www.realtor.com/realestateagents/Topeka_KS/photo-0/pg-'+str(l)\n",
    "    print url\n",
    "    bitmex = requests.get(url)\n",
    "    bitmex_html = bitmex.text\n",
    "    soup = BeautifulSoup(bitmex_html , 'lxml')\n",
    "    \n",
    "    agenttolin=soup.find_all(class_=\"agent-name text-bold\")\n",
    "    for i in range(0,len(agenttolin)):\n",
    "        agentidlink=agenttolin[i].find('a').get('href')\n",
    "#         print agentidlink\n",
    "        dataids.append(agentidlink)\n",
    "        len(dataids)"
   ]
  },
  {
   "cell_type": "code",
   "execution_count": 77,
   "metadata": {},
   "outputs": [
    {
     "name": "stdout",
     "output_type": "stream",
     "text": [
      "https://www.realtor.com/realestateagents/MICHELE-LOEFFLER_Lyndon_KS_63383_448899775\n",
      "6\n",
      "[u'MICHELE LOEFFLER , Agent', u'\\n              LYNDON, KS\\n            ', '-', u'622 TOPEKA AVE, LYNDON, KS, 66451', 'http://www.wischroppauctions.com']\n",
      "https://www.realtor.com/realestateagents/Carlene-Claspill_Topeka_KS_2067755_709799775\n",
      "6\n",
      "[u'Carlene Claspill , Agent', u'\\n              TOPEKA, KS\\n            ', u'(785) 383-2482', u'1225 SW HARVEY ST, TOPEKA, KS, 66604', 'http://e.g. http://www.yourwebsite.com']\n",
      "https://www.realtor.com/realestateagents/Constance-Fox_Holton_KS_3182161_496799775\n",
      "6\n",
      "[u'Constance Fox (Constance), Agent', u'\\n              HOLTON, KS\\n            ', u'(785) 851-1310', u'PO BOX 1025 101 W. 4TH,, HOLTON, KS, 66436-1025', 'http://Kellermanrealestate.com']\n",
      "https://www.realtor.com/realestateagents/Marion-Hawks_Topeka_KS_147372_815999775\n",
      "6\n",
      "[u'Marion Hawks , Broker/Owner', u'\\n              TOPEKA, KS\\n            ', u'(785) 224-1099', u'1225 SW HARVEY ST, TOPEKA, KS, 66604', 'http://www.hawksrealestatepros.com']\n",
      "https://www.realtor.com/realestateagents/RANDY-HASSLER___14068_607999775\n",
      "6\n",
      "[u'RANDY HASSLER , Broker Associate', u'\\n              , \\n            ', u'(785) 925-1548', '-', 'http://randyhassler.com']\n",
      "https://www.realtor.com/realestateagents/Sharon-Markley_Topeka_KS_63384_300999775\n",
      "6\n",
      "[u'Sharon Markley , Agent', u'\\n              Topeka, KS\\n            ', u'(785) 246-8075', u'2641 SW Wanamaker Rd Suite 203, Topeka, KS, 66614', 'http://century21millermidyett.com']\n",
      "https://www.realtor.com/realestateagents/BILL-WELCH,-Broker_Topeka_KS_63386_608899775\n",
      "6\n",
      "[u'BILL WELCH, Broker , Broker', u'\\n              TOPEKA, KS\\n            ', u'(785) 273-9419', u'1238 SW LANE ST, TOPEKA, KS, 66604', 'http://www.yourrealtorbillwelch.com/home.asp']\n",
      "https://www.realtor.com/realestateagents/LOU-ANN-THOMS___2768_789999775\n",
      "6\n",
      "[u'LOU ANN THOMS ', u'\\n              , \\n            ', u'(785) 845-7068', '-', 'http://www.louannthoms.com']\n",
      "https://www.realtor.com/realestateagents/Shawna-Pope_Topeka_KS_2155936_358799775\n",
      "6\n",
      "[u'Shawna Pope , Agent', u'\\n              Topeka, KS\\n            ', u'(785) 221-9990', u'2641 SW Wanamaker Rd Suite 203, Topeka, KS, 66614', '-']\n",
      "https://www.realtor.com/realestateagents/JOHN-LOVE_Topeka_KS_3947_798999775\n",
      "6\n",
      "[u'JOHN LOVE ', u'\\n              Topeka, KS\\n            ', u'(785) 273-9327', u'5815 SW 29th street, Topeka, KS, 66614', 'http://www.johnlovetopeka.com']\n",
      "https://www.realtor.com/realestateagents/CAROL-RONNEBAUM___44712_247899775\n",
      "6\n",
      "[u'CAROL RONNEBAUM ', u'\\n              , \\n            ', u'(785) 640-2685', '-', 'http://carolrealtor.com/']\n",
      "https://www.realtor.com/realestateagents/Karl-Purvis_Topeka_KS_1342757_483899775\n",
      "6\n",
      "[u'Karl Purvis ', u'\\n              Topeka, KS\\n            ', u'(785) 640-2839', u'2641 SW Wanamaker Rd Suite 203, Topeka, KS, 66614', 'http://www.karlpurvis.com']\n",
      "https://www.realtor.com/realestateagents/Suzette-Shields_Topeka_KS_752767_751899775\n",
      "6\n",
      "[u'Suzette Shields , Real Estate Consultant', u'\\n              Topeka, KS\\n            ', u'(785) 506-2007', u'2641 SW Wanamaker Rd Suite 203, Topeka, KS, 66614', 'http://suzette.topekaareahomefinder.com']\n",
      "https://www.realtor.com/realestateagents/BECKY-WISE_Oskaloosa_KS_1205017_73479961\n",
      "6\n",
      "[u'BECKY WISE , Agent', u'\\n              OSKALOOSA, KS\\n            ', u'(785) 224-7819', u'313 JEFFERSON ST, OSKALOOSA, KS, 66066', 'http://www.TCWELCOMEHOME.com']\n",
      "https://www.realtor.com/realestateagents/Renee-Greco-May_Lawrence_KS_1723998_749799775\n",
      "6\n",
      "[u'Renee Greco May ', u'\\n              LAWRENCE, KS\\n            ', u'(785) 230-1608', u'545 COLUMBIA DR, LAWRENCE, KS, 66049', '-']\n",
      "https://www.realtor.com/realestateagents/Mary-Diane-Elliott_Topeka_KS_2071716_806999775\n",
      "6\n",
      "[u'Mary Diane Elliott , Broker/Owner', u'\\n              Topeka, KS\\n            ', u'(785) 230-2999', u'5660 SW 29th Street, Topeka, KS, 66614', 'http://www.realtyprofessionalstopeka.com']\n",
      "https://www.realtor.com/realestateagents/Ruth-Humphrey_Kansas-City_KS_938791_200714685\n",
      "6\n",
      "[u'Ruth Humphrey ', u'\\n              Kansas City, KS\\n            ', u'(913) 634-8173', u'8027 State Avenue, Kansas City, KS, 66112', 'http://www.rhumphrey.reeceandnichols.com']\n",
      "https://www.realtor.com/realestateagents/Adnan-Pekusic_Lawrence_KA_1989962_859899485\n",
      "6\n",
      "[u'Adnan Pekusic , Agent', u'\\n              LAWRENCE, KA\\n            ', u'(785) 979-3336', u'Hedges Real Estate, LAWRENCE, KA', 'http://www.adnanpekusic.com']\n",
      "https://www.realtor.com/realestateagents/Brian-Johnson_Lawrence_KS_3078903_26899485\n",
      "6\n",
      "[u'Brian Johnson , Agent', u'\\n              Lawrence, KS\\n            ', u'(785) 220-5115', u'1501 Kasold Dr, Lawrence, KS, 66047', '-']\n",
      "https://www.realtor.com/realestateagents/Jaclyn-Giroux_Topeka_KS_3208156_766799775\n",
      "6\n",
      "[u'Jaclyn Giroux (Jackie), Agent', u'\\n              Topeka, KS\\n            ', u'(785) 249-0145', u'2641 SW Wanamaker Rd Suite 203, Topeka, KS, 66614', 'http://jackiegiroux.com']\n",
      "https://www.realtor.com/realestateagents/Jeff-LaCerte_Manhattan_KS_1856148_943999385\n",
      "6\n",
      "[u'Jeff LaCerte ', u'\\n              Manhattan, KS\\n            ', u'(785) 539-9333', u'2803 Claflin Rd, Manhattan, KS, 66502', '-']\n",
      "https://www.realtor.com/realestateagents/Steven-Berger_Lawrence_KA_697552_942999485\n",
      "6\n",
      "[u'Steven Berger , Agent', u'\\n              LAWRENCE, KA\\n            ', u'(785) 840-4027', u'Hedges Real Estate, LAWRENCE, KA', 'http://www.steven-berger.com']\n",
      "https://www.realtor.com/realestateagents/Jessica-Shepherd_Topeka_KS_2884971_047799775\n",
      "6\n",
      "[u'Jessica Shepherd , Agent', u'\\n              Topeka, KS\\n            ', u'(785) 969-5731', u'2901 SW Burlingame Rd, Topeka, KS, 66611', '-']\n",
      "https://www.realtor.com/realestateagents/Abbey-Wostal_Topeka_KS_2208040_338799775\n",
      "6\n",
      "[u'Abbey Wostal , Broker Associate', u'\\n              TOPEKA, KS\\n            ', u'(785) 554-2694', u'2901 SW Burlingame Rd, TOPEKA, KS, 66611', 'http://www.abbeywostal.com']\n",
      "https://www.realtor.com/realestateagents/DEBBIE-LAUBACH___3331_896999775\n",
      "6\n",
      "[u'DEBBIE LAUBACH , Agent', u'\\n              , \\n            ', u'(785) 271-0332', '-', 'http://www.LaubachTeam.com']\n",
      "https://www.realtor.com/realestateagents/Tracy-Bailey_Topeka_KS_3179744_180899775\n",
      "6\n",
      "[u'Tracy Bailey ', u'\\n              Topeka, KS\\n            ', u'(785) 230-2131', u'2641 SW Wanamaker Rd Suite 203, Topeka, KS, 66614', '-']\n",
      "https://www.realtor.com/realestateagents/Jenny-Merrick_Topeka_KS_1722217_370899775\n",
      "6\n",
      "[u'Jenny Merrick , Agent', u'\\n              Topeka, KS\\n            ', u'(785) 608-3480', u'2641 SW Wanamaker Rd Suite 203, Topeka, KS, 66614', 'http://jennifermerrick.kw.com/']\n",
      "https://www.realtor.com/realestateagents/Heather-Evans_Topeka_KS_2133907_929799775\n",
      "6\n",
      "[u'Heather Evans , Agent', u'\\n              TOPEKA, KS\\n            ', u'(785) 640-4129', u'1225 SW HARVEY ST, TOPEKA, KS, 66604', 'http://heatherevansrealtor.com']\n",
      "https://www.realtor.com/realestateagents/Pamela-T-Flemming,-Agent_Topeka_KS_1913122_109799775\n",
      "6\n",
      "[u'Pamela T Flemming, Agent , Agent', u'\\n              Topeka, KS\\n            ', u'(785) 383-2861', u'2641 SW Wanamaker Rd Suite 203, Topeka, KS, 66614', 'http://pamflemming.kwrealty.com/']\n",
      "https://www.realtor.com/realestateagents/Sean-Kesler_Topeka_KS_3494079_485799775\n",
      "6\n",
      "[u'Sean Kesler , Agent', u'\\n              Topeka, KS\\n            ', u'(785) 408-0603', u'2641 SW Wanamaker Rd Suite 203, Topeka, KS, 66614', 'https://seankesler.kw.com/']\n",
      "https://www.realtor.com/realestateagents/Trudi-Carabio_Topeka_KS_2239535_308799775\n",
      "6\n",
      "[u'Trudi Carabio , Agent', u'\\n              TOPEKA, KS\\n            ', u'(785) 608-0696', u'1225 SW HARVEY ST, TOPEKA, KS, 66604', 'http://www.hawksrealestatepros.com']\n",
      "https://www.realtor.com/realestateagents/Robbie-Ramos_Topeka_KS_2017468_434899775\n",
      "6\n",
      "[u'Robbie Ramos ', u'\\n              Topeka, KS\\n            ', u'(785) 273-1100', u'2641 SW Wanamaker Rd Suite 203, Topeka, KS, 66614', 'http://www.remax-associatesoftopekaks.com/']\n",
      "https://www.realtor.com/realestateagents/Stephanie-Dodge___2260917_897799775\n",
      "6\n",
      "[u'Stephanie Dodge , Agent', u'\\n              , \\n            ', u'(785) 506-1620', '-', '-']\n",
      "https://www.realtor.com/realestateagents/Boomer-Berry_Topeka_KS_3343830_317799775\n",
      "6\n",
      "[u'Boomer Berry , Agent', u'\\n              TOPEKA, KS\\n            ', u'(785) 383-9342', u'2222 SW 29TH ST, TOPEKA, KS, 66611', '-']\n"
     ]
    },
    {
     "name": "stdout",
     "output_type": "stream",
     "text": [
      "https://www.realtor.com/realestateagents/Brian-Ruiz_Topeka_KS_3481367_885799775\n",
      "6\n",
      "[u'Brian Ruiz , Agent', u'\\n              TOPEKA, KS\\n            ', u'(785) 213-2782', u'1931 SW GAGE BLVD, TOPEKA, KS, 66604', 'http://Brian.ReeceNichols.com']\n",
      "https://www.realtor.com/realestateagents/Deborah-Davis_Overland-Park_KS_1544301_928899775\n",
      "6\n",
      "[u'Deborah Davis , Broker Associate', u'\\n              Overland Park, KS\\n            ', u'(785) 806-3059', u'9393 West 110 St. Suite 170, Overland Park, KS, 66210', 'http://www.jimdavisrealtor.org']\n",
      "https://www.realtor.com/realestateagents/Emily-Szopinski_Topeka_KS_1925016_998799775\n",
      "6\n",
      "[u'Emily Szopinski , Agent', u'\\n              TOPEKA, KS\\n            ', u'(785) 250-1564', u'1225 SW HARVEY ST, TOPEKA, KS, 66604', '-']\n",
      "https://www.realtor.com/realestateagents/Hanna-Walton_Topeka_KS_2069161_598799775\n",
      "6\n",
      "[u'Hanna Walton , Agent', u'\\n              Topeka, KS\\n            ', u'(785) 213-1880', u'2641 SW Wanamaker Rd Suite 203, Topeka, KS, 66614', 'http://www.buyandselltopeka.com']\n",
      "https://www.realtor.com/realestateagents/Jamie-Boling_Topeka_KS_2149199_397799775\n",
      "6\n",
      "[u'Jamie Boling , Owner', u'\\n              Topeka, KS\\n            ', u'(785) 260-0013', u'2641 SW Wanamaker Rd Suite 203, Topeka, KS, 66614', 'http://thebolinggroup.com']\n",
      "https://www.realtor.com/realestateagents/Kelli-Higgins_Topeka__2121024_988094585\n",
      "6\n",
      "[u'Kelli Higgins (Kelli), Agent', u'\\n              Topeka, \\n            ', u'(785) 817-9255', u'2901 SW Burlingame Rd, Topeka, 66611', 'http://www.kellihiggins.com']\n",
      "https://www.realtor.com/realestateagents/Kelly-Pert_Topeka_KS_3446586_206799775\n",
      "6\n",
      "[u'Kelly Pert , Agent', u'\\n              Topeka, KS\\n            ', u'(785) 215-4245', u'2641 SW Wanamaker Rd Suite 203, Topeka, KS, 66614', '-']\n",
      "https://www.realtor.com/realestateagents/Lori-Ruddle_Topeka_KS_1995885_309799775\n",
      "6\n",
      "[u'Lori Ruddle , Agent', u'\\n              TOPEKA, KS\\n            ', u'(785) 640-7904', u'1225 SW HARVEY ST, TOPEKA, KS, 66604', 'http://www.ruddlerealestate.com']\n",
      "https://www.realtor.com/realestateagents/Mark-Albrecht_Topeka_KS_3493745_585799775\n",
      "6\n",
      "[u'Mark Albrecht , Agent', u'\\n              Topeka, KS\\n            ', u'(785) 338-3772', u'2641 SW Wanamaker Rd Suite 203, Topeka, KS, 66614', 'http://mark-a-albrecht.kw.com']\n",
      "https://www.realtor.com/realestateagents/Megan-Geis_Topeka_KS_2101672_778799775\n",
      "6\n",
      "[u'Megan Geis , Agent', u'\\n              Topeka, KS\\n            ', u'(785) 817-5201', u'2641 SW Wanamaker Rd Suite 203, Topeka, KS, 66614', 'http://Meganlone.kwrealty.com']\n",
      "https://www.realtor.com/realestateagents/Michele-Holley_Topeka_KS_892703_532899775\n",
      "6\n",
      "[u'Michele Holley ', u'\\n              Topeka, KS\\n            ', u'(785) 806-5509', u'2641 SW Wanamaker Rd Suite 203, Topeka, KS, 66614', 'http://www.micheleholley.com']\n",
      "https://www.realtor.com/realestateagents/Michelle-Erwin_Topeka_KS_2138134_578799775\n",
      "6\n",
      "[u'Michelle Erwin , Agent', u'\\n              Topeka, KS\\n            ', u'(785) 220-6059', u'2641 SW Wanamaker Rd Suite 203, Topeka, KS, 66614', 'http://michelleerwin.kwrealty.com']\n",
      "https://www.realtor.com/realestateagents/Owen-Kueser_Olathe__3375498_085404685\n",
      "6\n",
      "[u'Owen Kueser , Real Estate Consultant', u'\\n              OLATHE, \\n            ', u'(913) 660-3402', u'801 N MUR LEN RD STE 110, OLATHE, 66062-1794', 'http://www.okkueser.kw.com']\n",
      "https://www.realtor.com/realestateagents/Quillan-Houser_Topeka_KS_3099657_707799775\n",
      "6\n",
      "[u'Quillan Houser (Quillan), Agent', u'\\n              Topeka, KS\\n            ', u'(785) 338-0382', u'2641 SW Wanamaker Rd Suite 203, Topeka, KS, 66614', 'http://qhouser.com']\n",
      "https://www.realtor.com/realestateagents/Richard-Garvin_Oskaloosa_KS_3352255_029994185\n",
      "6\n",
      "[u'Richard Garvin , Auctioneer', u'\\n              Oskaloosa, KS\\n            ', u'(785) 224-4492', u'313 Jefferson St, Oskaloosa, KS, 66066', 'http://www.TCWELCOMEHOME.com']\n",
      "https://www.realtor.com/realestateagents/Riley-Ringgold_Topeka_KS_3111679_507799775\n",
      "6\n",
      "[u'Riley Ringgold , Agent', u'\\n              Topeka, KS\\n            ', u'(785) 817-9724', u'2641 SW Wanamaker Rd Suite 203, Topeka, KS, 66614', 'http://www.topekahomeprices.com/']\n",
      "https://www.realtor.com/realestateagents/Robert-Palmer_Topeka_KS_865494_780899775\n",
      "6\n",
      "[u'Robert Palmer ', u'\\n              Topeka, KS\\n            ', u'(785) 272-1190', u'5815 SW 29th street, Topeka, KS, 66614', 'http://century21millermidyett.com']\n",
      "https://www.realtor.com/realestateagents/STAN-AND-BRENDA-ZIMMERMAN_Topeka_KS_495289_019999775\n",
      "6\n",
      "[u'STAN AND BRENDA ZIMMERMAN , Agent', u'\\n              TOPEKA, KS\\n            ', u'(785) 640-2223', u'2858 SW VILLA WEST DR STE 200, TOPEKA, KS, 66614', 'http://www.stanzimmerman.com']\n",
      "https://www.realtor.com/realestateagents/Shannon-Gregory_Topeka_KS_2239175_108799775\n",
      "6\n",
      "[u'Shannon Gregory , Agent', u'\\n              Topeka, KS\\n            ', u'(785) 383-6414', u'2641 SW Wanamaker Rd Suite 203, Topeka, KS, 66614', '-']\n",
      "https://www.realtor.com/realestateagents/Stuart-Elliott,_Topeka_KS_1639506_765999775\n",
      "6\n",
      "[u'Stuart Elliott, , Broker/Owner', u'\\n              Topeka, KS\\n            ', u'(785) 249-8400', u'5660 SW 29th Street, Topeka, KS, 66614', 'http://RealtyProfessionalsTopeka.com']\n",
      "https://www.realtor.com/realestateagents/steve-johnson_Topeka_KS_1561715_876999775\n",
      "6\n",
      "[u'steve johnson ', u'\\n              TOPEKA, KS\\n            ', u'(785) 224-3420', u'2858 SW VILLA WEST DR STE 200, TOPEKA, KS, 66614', 'http://topekahomes4u.com']\n",
      "https://www.realtor.com/realestateagents/Cindy-Lacey-Purcell_Topeka_KS_698314_288999775\n",
      "6\n",
      "[u'Cindy Lacey Purcell ', u'\\n              TOPEKA, KS\\n            ', u'(785) 640-4272', u'1225 SW HARVEY ST, TOPEKA, KS, 66604', '-']\n",
      "https://www.realtor.com/realestateagents/Jason-Williams_Topeka_KS_1544304_404899775\n",
      "6\n",
      "[u'Jason Williams ', u'\\n              Topeka, KS\\n            ', u'(785) 224-9000', u'2641 SW Wanamaker Rd Suite 203, Topeka, KS, 66614', '-']\n",
      "https://www.realtor.com/realestateagents/John-Green___1321189_358999775\n",
      "6\n",
      "[u'John Green ', u'\\n              , \\n            ', u'(785) 271-0386', '-', '-']\n",
      "https://www.realtor.com/realestateagents/Larry-Lutz_Topeka_KS_3242_319999775\n",
      "6\n",
      "[u'Larry Lutz (Larry), Broker/Owner', u'\\n              TOPEKA, KS\\n            ', u'(785) 224-3054', u'2858 SW VILLA WEST DR STE 200, TOPEKA, KS, 66614', 'http://www.larryandkatielutz.com']\n",
      "https://www.realtor.com/realestateagents/Matthew-Geis_Topeka_KS_3426387_706799775\n",
      "6\n",
      "[u'Matthew Geis (Matt), Agent', u'\\n              Topeka, KS\\n            ', u'(785) 633-3176', u'2641 SW Wanamaker Rd Suite 203, Topeka, KS, 66614', 'http://the-geis-group-realtors-keller-williams-one.business.site']\n"
     ]
    }
   ],
   "source": [
    "for i in range(89,len(dataids)):\n",
    "    url='https://www.realtor.com'+dataids[i]\n",
    "    print url\n",
    "    bitmex = requests.get(url)\n",
    "    bitmex_html = bitmex.text\n",
    "    soup = BeautifulSoup(bitmex_html , 'lxml')\n",
    "    print len(soup)\n",
    "    person=soup.find_all('div',itemtype=\"//schema.org/Person\")[0]\n",
    "    datas=[\"-\"]*5\n",
    "    name=person.find(itemprop=\"name\").text\n",
    "    name\n",
    "    datas[0]=name\n",
    "    agent_location=person.find(class_=\"modal-agent-location\").text\n",
    "    agent_location\n",
    "    datas[1]=agent_location\n",
    "    telephone=person.find(itemprop=\"telephone\")\n",
    "    if telephone is not None:\n",
    "        datas[2]=telephone.text\n",
    "    streetAddress=person.find(itemprop=\"streetAddress\")\n",
    "    if streetAddress is not None:\n",
    "        streetAddress.text\n",
    "        datas[3]=streetAddress.text\n",
    "    website0=person.find(itemprop=\"url\")\n",
    "    if website0 is not None:\n",
    "        website=website0.get('href')\n",
    "        datas[4]=website\n",
    "    print datas\n",
    "    datasett.append(datas)\n",
    "    sleep(3)"
   ]
  },
  {
   "cell_type": "code",
   "execution_count": 78,
   "metadata": {},
   "outputs": [
    {
     "data": {
      "text/plain": [
       "148"
      ]
     },
     "execution_count": 78,
     "metadata": {},
     "output_type": "execute_result"
    }
   ],
   "source": [
    "i"
   ]
  },
  {
   "cell_type": "code",
   "execution_count": 71,
   "metadata": {},
   "outputs": [],
   "source": [
    "datasett=[]"
   ]
  },
  {
   "cell_type": "code",
   "execution_count": 41,
   "metadata": {},
   "outputs": [
    {
     "data": {
      "text/plain": [
       "u'\\n              Topeka, KS\\n            '"
      ]
     },
     "execution_count": 41,
     "metadata": {},
     "output_type": "execute_result"
    }
   ],
   "source": []
  },
  {
   "cell_type": "code",
   "execution_count": 48,
   "metadata": {},
   "outputs": [
    {
     "data": {
      "text/plain": [
       "u'(785) 608-0985'"
      ]
     },
     "execution_count": 48,
     "metadata": {},
     "output_type": "execute_result"
    }
   ],
   "source": []
  },
  {
   "cell_type": "code",
   "execution_count": 52,
   "metadata": {},
   "outputs": [
    {
     "data": {
      "text/plain": [
       "u'2641 SW Wanamaker Rd Suite 203, Topeka, KS, 66614'"
      ]
     },
     "execution_count": 52,
     "metadata": {},
     "output_type": "execute_result"
    }
   ],
   "source": []
  },
  {
   "cell_type": "code",
   "execution_count": 56,
   "metadata": {},
   "outputs": [
    {
     "data": {
      "text/plain": [
       "'https://gregross.kw.com/'"
      ]
     },
     "execution_count": 56,
     "metadata": {},
     "output_type": "execute_result"
    }
   ],
   "source": []
  },
  {
   "cell_type": "code",
   "execution_count": null,
   "metadata": {},
   "outputs": [],
   "source": []
  },
  {
   "cell_type": "code",
   "execution_count": 79,
   "metadata": {},
   "outputs": [],
   "source": [
    "import warnings\n",
    "from openpyxl import Workbook\n",
    "\n",
    "wb = Workbook(write_only=True)\n",
    "ws = wb.create_sheet()\n",
    "\n",
    "# now we'll fill it with 100 rows x 200 columns\n",
    "for irow in datasett:\n",
    "    ws.append(irow)\n",
    "# save the file\n",
    "wb.save('start0.xlsx')"
   ]
  }
 ],
 "metadata": {
  "kernelspec": {
   "display_name": "Python 2",
   "language": "python",
   "name": "python2"
  },
  "language_info": {
   "codemirror_mode": {
    "name": "ipython",
    "version": 2
   },
   "file_extension": ".py",
   "mimetype": "text/x-python",
   "name": "python",
   "nbconvert_exporter": "python",
   "pygments_lexer": "ipython2",
   "version": "2.7.14"
  }
 },
 "nbformat": 4,
 "nbformat_minor": 2
}
