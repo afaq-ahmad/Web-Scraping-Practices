{
 "cells": [
  {
   "cell_type": "markdown",
   "metadata": {},
   "source": [
    "Target: Airline Name and Email Address"
   ]
  },
  {
   "cell_type": "markdown",
   "metadata": {},
   "source": [
    "I have not completly run the program as I am writing it for learning purpose. If you have any issue contact me at afaq.ahmad100@gmail.com"
   ]
  },
  {
   "cell_type": "markdown",
   "metadata": {},
   "source": [
    "Tested on Anaconda 2.7 windows. You can download chrome driver from http://chromedriver.chromium.org/downloads"
   ]
  },
  {
   "cell_type": "code",
   "execution_count": 1,
   "metadata": {},
   "outputs": [],
   "source": [
    "from openpyxl import load_workbook\n",
    "\n",
    "from bs4 import BeautifulSoup\n",
    "from selenium import webdriver\n",
    "from time import sleep\n",
    "import csv\n",
    "from random import randint\n",
    "import json, io\n",
    "\n",
    "from selenium.webdriver.common.by import By\n",
    "from selenium.webdriver.common.keys import Keys\n",
    "from selenium.webdriver.support.ui import Select\n",
    "from selenium.webdriver.support.ui import WebDriverWait\n",
    "from selenium.common.exceptions import TimeoutException\n",
    "from selenium.webdriver.support import expected_conditions as EC\n",
    "from selenium.common.exceptions import NoSuchElementException\n",
    "from selenium.common.exceptions import NoAlertPresentException\n",
    "from selenium.webdriver.common.action_chains import ActionChains\n",
    "\n",
    "import urllib\n",
    "import urllib3\n",
    "import requests\n",
    "import json, io\n",
    "from bs4 import BeautifulSoup\n",
    "urllib3.disable_warnings()\n",
    "header = {'User-Agent':'Mozilla/5.0'}\n",
    "\n",
    "\n",
    "chrome_options = webdriver.ChromeOptions()\n",
    "chrome_options.add_argument('--user-agent=\"Mozilla/5.0')\n",
    "chrome_options.add_argument(\"user-data-dir=selenium\")\n",
    "driver = webdriver.Chrome(chrome_options=chrome_options, executable_path=r'/Users/Name/Downloads/Compressed/chromedrives/chromedriver.exe')"
   ]
  },
  {
   "cell_type": "code",
   "execution_count": null,
   "metadata": {},
   "outputs": [],
   "source": []
  },
  {
   "cell_type": "code",
   "execution_count": null,
   "metadata": {
    "scrolled": true
   },
   "outputs": [],
   "source": [
    "for f in range(0,60):\n",
    "    driver.switch_to_window(driver.window_handles[0])\n",
    "    driver.get('http://www.aircharterguide.com/ListingSearch.aspx?dt=8&Region=North+America&showMore=true&pageNum='+str(f))\n",
    "    sleep(10)\n",
    "    for i in range(0,25):\n",
    "        try:\n",
    "            data0=['-']*2\n",
    "            driver.switch_to_window(driver.window_handles[0])\n",
    "            actions = ActionChains(driver)\n",
    "            about=driver.find_elements_by_xpath('//*[@id=\"ctl00_ctl00_MainContent_ContentPlaceHolderResults_lvListings_ctrl'+str(i)+'_lnkDetails\"]')[0]\n",
    "            actions.key_down(Keys.CONTROL).click(about).key_up(Keys.CONTROL).perform() \n",
    "            sleep(10)\n",
    "\n",
    "            driver.switch_to_window(driver.window_handles[1])\n",
    "            so1=BeautifulSoup(driver.page_source, 'lxml')\n",
    "\n",
    "            mail=(so1.find('a',id='emailTag').text)[::-1]\n",
    "            print mail\n",
    "            data0[0]=mail\n",
    "\n",
    "            companyname=so1.find('span',id=\"ctl00_MainContent_lblCompanyName\").text\n",
    "            print companyname\n",
    "            data0[1]=companyname\n",
    "\n",
    "            driver.close()\n",
    "\n",
    "            data1.append(data0)\n",
    "            print i,'---',data0\n",
    "        except:\n",
    "            try:\n",
    "                print '-------------'\n",
    "                driver.switch_to_window(driver.window_handles[1])\n",
    "                driver.close()\n",
    "\n",
    "                data0=['-']*2\n",
    "                driver.switch_to_window(driver.window_handles[0])\n",
    "                actions = ActionChains(driver)\n",
    "                about=driver.find_elements_by_xpath('//*[@id=\"ctl00_ctl00_MainContent_ContentPlaceHolderResults_lvListings_ctrl'+str(i)+'_lnkDetails\"]')[0]\n",
    "                actions.key_down(Keys.CONTROL).click(about).key_up(Keys.CONTROL).perform() \n",
    "                sleep(12)\n",
    "\n",
    "                driver.switch_to_window(driver.window_handles[1])\n",
    "                so1=BeautifulSoup(driver.page_source, 'lxml')\n",
    "\n",
    "                mail=(so1.find('a',id='emailTag').text)[::-1]\n",
    "                print mail\n",
    "                data0[0]=mail\n",
    "\n",
    "                companyname=so1.find('span',id=\"ctl00_MainContent_lblCompanyName\").text\n",
    "                print companyname\n",
    "                data0[1]=companyname\n",
    "\n",
    "                driver.close()\n",
    "\n",
    "                data1.append(data0)\n",
    "                print i,'---',data0\n",
    "                print '-------------'\n",
    "            except:\n",
    "                errols.append([f,i])\n",
    "                driver.switch_to_window(driver.window_handles[1])\n",
    "                driver.close()\n",
    "                print errols\n",
    "                print '0000000000000000'"
   ]
  },
  {
   "cell_type": "code",
   "execution_count": null,
   "metadata": {},
   "outputs": [],
   "source": []
  },
  {
   "cell_type": "code",
   "execution_count": 219,
   "metadata": {},
   "outputs": [],
   "source": [
    "from openpyxl import load_workbook\n",
    "import warnings\n",
    "from openpyxl import Workbook\n",
    "\n",
    "wb = Workbook(write_only=True)\n",
    "ws = wb.create_sheet()\n",
    "\n",
    "# now we'll fill it with 100 rows x 200 columns\n",
    "for irow in data1:\n",
    "    ws.append(irow)\n",
    "# save the file\n",
    "wb.save('Files/aircharterguide.xlsx')"
   ]
  }
 ],
 "metadata": {
  "kernelspec": {
   "display_name": "Python 2",
   "language": "python",
   "name": "python2"
  },
  "language_info": {
   "codemirror_mode": {
    "name": "ipython",
    "version": 2
   },
   "file_extension": ".py",
   "mimetype": "text/x-python",
   "name": "python",
   "nbconvert_exporter": "python",
   "pygments_lexer": "ipython2",
   "version": "2.7.14"
  }
 },
 "nbformat": 4,
 "nbformat_minor": 2
}
