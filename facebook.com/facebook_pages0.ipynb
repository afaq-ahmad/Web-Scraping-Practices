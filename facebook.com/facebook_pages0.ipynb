{
 "cells": [
  {
   "cell_type": "code",
   "execution_count": 1,
   "metadata": {},
   "outputs": [],
   "source": [
    "'''\n",
    "Devolper Name: AFAQ AHMAD\n",
    "Fiverr: https://www.fiverr.com/mrafaq1\n",
    "Whatssapp: +92-335695635\n",
    "Email:afaq.ahmad100@gmail.com\n",
    "'''\n",
    "\n",
    "from bs4 import BeautifulSoup\n",
    "from selenium import webdriver\n",
    "import time\n",
    "import csv\n",
    "from random import randint\n",
    "import json, io\n",
    "\n",
    "from selenium.webdriver.common.by import By\n",
    "from selenium.webdriver.common.keys import Keys\n",
    "from selenium.webdriver.support.ui import Select\n",
    "from selenium.webdriver.support.ui import WebDriverWait\n",
    "from selenium.common.exceptions import TimeoutException\n",
    "from selenium.webdriver.support import expected_conditions as EC\n",
    "from selenium.common.exceptions import NoSuchElementException\n",
    "from selenium.common.exceptions import NoAlertPresentException\n",
    "\n",
    "driver = webdriver.Chrome(executable_path=r'/Users/Name/Downloads/Compressed/chromedrives/chromedriver.exe')\n"
   ]
  },
  {
   "cell_type": "code",
   "execution_count": 2,
   "metadata": {},
   "outputs": [],
   "source": [
    "s = BeautifulSoup(driver.page_source, 'lxml')"
   ]
  },
  {
   "cell_type": "code",
   "execution_count": 3,
   "metadata": {},
   "outputs": [],
   "source": [
    "post_selector=s.find_all(\"div\", class_=\"_4-u2 _4-u8\")"
   ]
  },
  {
   "cell_type": "code",
   "execution_count": 4,
   "metadata": {},
   "outputs": [
    {
     "data": {
      "text/plain": [
       "18"
      ]
     },
     "execution_count": 4,
     "metadata": {},
     "output_type": "execute_result"
    }
   ],
   "source": [
    "len(post_selector)"
   ]
  },
  {
   "cell_type": "code",
   "execution_count": 249,
   "metadata": {},
   "outputs": [
    {
     "name": "stdout",
     "output_type": "stream",
     "text": [
      "<div class=\"_4-u2 _4-u8\"><div class=\"_427x\"><div aria-describedby=\"js_3lb js_3lc\" aria-labelledby=\"js_3la\" class=\"_4-u2 mbm _4mrt _5jmm _5pat _5v3q _4-u8\" data-fte=\"1\" data-ftr=\"1\" data-insertion-position=\"6\" id=\"u_fetchstream_5_a\" role=\"article\"><div class=\"_3ccb\" data-ft='{\"tn\":\"-R\"}' data-gt='{\"type\":\"click2canvas\",\"fbsource\":703,\"ref\":\"nf_generic\"}' id=\"u_fetchstream_5_1z\"><div></div><div></div><div class=\"_5pcr userContentWrapper\" data-ft='{\"tn\":\"-R\"}' style=\"\"><div class=\"_1dwg _1w_m _q7o\"><div class=\"_4r_y\" id=\"u_fetchstream_5_25\"><div class=\"_6a uiPopover _5pbi _cmw _b1e _1wbl\" id=\"u_fetchstream_5_26\"><a aria-expanded=\"false\" aria-haspopup=\"true\" aria-label=\"Story options\" class=\"_4xev _p\" data-testid=\"post_chevron_button\" href=\"#\" id=\"u_fetchstream_5_32\" rel=\"toggle\" role=\"button\"></a></div></div><div><div class=\"c_xhcbxe185 e_xhcbxa8s8 clearfix\"><div class=\"clearfix l_xhcbxe2-g\"><a aria-hidden=\"true\" class=\"_5pb8 p_xhcbxa8sf _8o _8s lfloat _ohe\" data-ft='{\"tn\":\"\\u003C\"}' data-hovercard=\"/ajax/hovercard/page.php?id=206592029351928&amp;extragetparams=%7B%22hc_ref%22%3A%22ARQldWUdi_7tYbjoxh88xqzSYjJqqswN622hnJe_T3sV4cfQT78NA2DkBhozfOIawJQ%22%7D\" data-hovercard-prefer-more-content-show=\"1\" data-hovercard-referer=\"ARQldWUdi_7tYbjoxh88xqzSYjJqqswN622hnJe_T3sV4cfQT78NA2DkBhozfOIawJQ\" href=\"https://www.facebook.com/abnamro/?ref=nf&amp;hc_ref=ARQldWUdi_7tYbjoxh88xqzSYjJqqswN622hnJe_T3sV4cfQT78NA2DkBhozfOIawJQ\" tabindex=\"-1\" target=\"\"><div class=\"_38vo\"><img alt=\"\" aria-label=\"ABN AMRO\" class=\"_s0 _4ooo _5xib _5sq7 _44ma _rw img\" role=\"img\" src=\"https://scontent.fkhi11-1.fna.fbcdn.net/v/t1.0-1/p50x50/22090081_1717117228299393_8709906435186478386_n.png?_nc_cat=0&amp;oh=42d5a950a1c512d8d3b975767178b88d&amp;oe=5BAD7505\"/></div></a><div class=\"clearfix _42ef\"><div class=\"rfloat _ohf\"></div><div class=\"m_xhcbxe2-n\"><div><div class=\"_6a _5u5j\"><div class=\"_6a _6b\" style=\"height:40px\"></div><div class=\"_6a _5u5j _6b\"><h5 class=\"_14f3 _14f5 _5pbw _5vra\" data-ft='{\"tn\":\"C\"}' id=\"js_3la\"><span class=\"fwn fcg\"><span class=\"fwb fcg\" data-ft='{\"tn\":\"k\"}'><a data-hovercard=\"/ajax/hovercard/page.php?id=206592029351928&amp;extragetparams=%7B%22hc_ref%22%3A%22ARTfeP1NpL4w8ODKSjNf2d8EWou2dt-jZfVd-MXYMQynBCVZ6b3VEl6L6UjkUs41Iv4%22%2C%22fref%22%3A%22nf%22%7D\" data-hovercard-prefer-more-content-show=\"1\" data-hovercard-referer=\"ARTfeP1NpL4w8ODKSjNf2d8EWou2dt-jZfVd-MXYMQynBCVZ6b3VEl6L6UjkUs41Iv4\" href=\"https://www.facebook.com/abnamro/?hc_ref=ARTfeP1NpL4w8ODKSjNf2d8EWou2dt-jZfVd-MXYMQynBCVZ6b3VEl6L6UjkUs41Iv4&amp;fref=nf\">ABN AMRO</a></span></span></h5><div class=\"_5pcp _5lel _2jyu _232_\" id=\"feed_subtitle_206592029351928;1752702278157985;;9\"><span class=\"c_xhcbxdpt1 m_xhcbx987z\" data-ft='{\"tn\":\"j\"}'><a class=\"f_xhcbx703p q_xhcbx987-\" href=\"#\"></a></span><span aria-hidden=\"true\" role=\"presentation\"> · </span><span><span class=\"fsm fwn fcg\"><a ajaxify=\"#\" aria-label=\"Video, Komen Joshua en Niels er samen uit?, Duration: 13 seconds\" class=\"async_saving _400z _2-40 _5pcq\" data-channel-caller=\"channel_view_from_page_timeline\" data-onclick='[[\"TahoeController\",\"openFromVideoLinkHelper\",{\"__elem\":1},\"page_timeline\",\"unknown\",null,36]]' data-video-channel-id=\"206592029351928\" href=\"/abnamro/videos/1752702278157985/\" rel=\"async\" target=\"\"><abbr class=\"_5ptz\" data-shorten=\"1\" data-utime=\"1528203968\" title=\"06/05/2018 6:06pm\"><span class=\"timestampContent\" id=\"js_3lb\">June 5 at 6:06 PM</span></abbr></a></span></span><span aria-hidden=\"true\" role=\"presentation\"> · </span><a aria-label=\"Public\" class=\"uiStreamPrivacy inlineBlock fbStreamPrivacy fbPrivacyAudienceIndicator _5pcq\" data-hover=\"tooltip\" data-tooltip-content=\"Public\" href=\"#\" role=\"button\"><i class=\"lock img sp_jud-21-QNpz sx_5b21a7\"></i></a></div></div></div></div></div></div></div></div><div class=\"_5pbx userContent _3576\" data-ft='{\"tn\":\"K\"}' id=\"js_3lc\"><div><p>Klein in de stad of kies je voor ruimte? Een huis kopen = keuzes maken.</p><div class=\"_43f9 _63qh\" data-ft='{\"tn\":\",K\"}' id=\"u_fetchstream_5_6e\"><a href=\"#\" role=\"button\">See Translation</a><span class=\"_3-8s\" id=\"translationSpinnerPlaceholder_1752702278157985\"></span></div></div></div><div class=\"_3x-2\" data-ft='{\"tn\":\"H\"}'><div data-ft='{\"tn\":\"H\"}'><div class=\"mtm\"><div class=\"_6m2 _1zpr clearfix _dcs _4_w4 _41u- _6m8 _59ap _64lx _3eqz _20pq _3eqw _2rk1\" data-ft='{\"tn\":\"H\"}' id=\"u_fetchstream_5_27\"><div class=\"clearfix _2r3x\"><div class=\"lfloat _ohe\"><span class=\"_3m6-\"><div class=\"_150c\" data-ft='{\"tn\":\"F\"}'><img class=\"_3chq\" src=\"https://scontent.fkhi11-1.fna.fbcdn.net/v/t15.0-10/30857245_1752702344824645_8886829716779040768_n.jpg?_nc_cat=0&amp;oh=7ffd2ba70e20a707360b4805f9b2c5e4&amp;oe=5BB49267\"/><div class=\"_5mly _40ja _45oh\" id=\"u_fetchstream_5_5q\"><div class=\"_5v-_ _zpr\" id=\"u_fetchstream_5_5r\"><div class=\"_1c_u _45oh\" id=\"u_fetchstream_5_5s\" tabindex=\"0\"><div class=\"_53j5\" id=\"u_fetchstream_5_5t\" style=\"height:500px;width:500px;\"><video class=\"_ox1 _21y0\" data-original-aspect-ratio=\"1\" data-video-height=\"500\" data-video-width=\"500\" height=\"500\" id=\"u_fetchstream_5_5u\" muted=\"1\" preload=\"auto\" src=\"blob:https://www.facebook.com/906c35ef-4d2d-4ca2-8313-1c8e41dda035\" style=\"\" width=\"500\"></video><div class=\"_4lpe _3htz\"><img class=\"_4lpf\" src=\"https://scontent.fkhi11-1.fna.fbcdn.net/v/t15.0-10/30857245_1752702344824645_8886829716779040768_n.jpg?_nc_cat=0&amp;oh=7ffd2ba70e20a707360b4805f9b2c5e4&amp;oe=5BB49267\"/></div><div class=\"_m54 _1jto _3htz\" id=\"u_fetchstream_5_5v\"><img alt=\"\" class=\"_1445 _4ndd img\" id=\"u_fetchstream_5_5w\" src=\"https://static.xx.fbcdn.net/rsrc.php/v3/y4/r/-PAXP-deijE.gif\" style=\"background-image: url('https\\3a //scontent.fkhi11-1.fna.fbcdn.net/v/t15.0-10/p526x296/30857245_1752702344824645_8886829716779040768_n.jpg?_nc_cat\\3d 0\\26 oh\\3d 664315dcf749419ef83b0bb284a31e4b\\26 oe\\3d 5BEB7EA9');\"/></div><div class=\"_4ubd _170l _27db _3htz\" id=\"u_fetchstream_5_5x\"><div class=\"_2w_u\"><div class=\"_w80 _2oy-\"></div><div class=\"_1otk _3t1r _4ubd\"><div class=\"_2w_w\"><div class=\"_1c7d\"><div class=\"_1c7f _1c7g _2oy-\"><button class=\"_zbd _2sm1 _42ft\" data-testid=\"play_pause_control\" tabindex=\"0\" type=\"button\"><i alt=\"\" class=\"_rwt img sp_CRO6erz0Bcn sx_19c94b\"></i><span class=\"accessible_elem\">Play</span></button></div><div class=\"_1c7f _2pvx _2oy-\"><div><div class=\"_2yu5\"><div aria-label=\"Change Position\" aria-orientation=\"horizontal\" aria-valuemax=\"12\" aria-valuemin=\"0\" aria-valuenow=\"0\" aria-valuetext=\"0%\" class=\"_2yu7\" role=\"slider\" tabindex=\"0\"><div class=\"_2yu8\" style=\"width: 65.4222%;\"></div><div class=\"_2yu9\" style=\"width: 0%;\"><div class=\"_2yua _4sxb\"></div></div><div></div></div></div></div></div><div class=\"_1c7f _1c7h _2oy-\"><div class=\"_5qsr _66_y _66_z\" playbackdurationtimestamp=\"12\" role=\"button\" tabindex=\"0\">-0:12</div><div class=\"_2j04\"><div data-hover=\"tooltip\" data-tooltip-content=\"Settings\" data-tooltip-position=\"above\"><button class=\"_zbd _42ft\" tabindex=\"0\" type=\"button\"><i alt=\"\" class=\"_rwt img sp_SXf05a9FPbP sx_81dfcf\"></i><span class=\"accessible_elem\">Additional Visual Settings</span></button></div></div><span><button class=\"_zbd _42ft\" data-hover=\"tooltip\" data-testid=\"wns_control\" data-tooltip-content=\"Continue watching while you use Facebook\" data-tooltip-position=\"above\" type=\"button\"><i alt=\"\" class=\"_rwt img sp_Vn2s5yNzLS0 sx_926cd7\"></i><span class=\"accessible_elem\">Enter Watch And Scroll</span></button></span><button class=\"_zbd _400z _1vek _42ft\" data-hover=\"tooltip\" data-tooltip-content=\"Click to enlarge\" data-tooltip-position=\"above\" tabindex=\"0\" type=\"submit\" value=\"1\"><i alt=\"\" class=\"_rwt img sp_mABwujNingP sx_a36b4d\"></i><span class=\"accessible_elem\">Click to enlarge</span></button></div><div class=\"_1c7f _w7o _2oy-\"><div class=\"_2swo\"><div class=\"_3pao\"><div class=\"_4sxa\"><div class=\"_3paq\"><div class=\"_3par\" style=\"height: 0%;\"><div class=\"_3pas _4sxb\"></div></div></div></div><div class=\"_3pat\"></div></div><button class=\"_zbd _1agg _42ft\" data-testid=\"mute_unmute_control\" tabindex=\"0\" type=\"button\"><i alt=\"\" class=\"_rwt img sp_mABwujNingP sx_aaa30a\"></i><span class=\"accessible_elem\">Unmute</span></button></div></div></div></div></div></div></div><div class=\"_4i5p _2is8 _2is6 _3htz\" id=\"u_fetchstream_5_5y\">Click for more</div><div class=\"_27vv _n2z _167h _3htz _1he7\" id=\"u_fetchstream_5_5z\"><div class=\"_31-p _3t-6\"><div class=\"_42o0\"><div class=\"_2za- _5tps uiContextualLayerParent _10sh _360f\" data-ft='{\"tn\":\"k\"}'><div class=\"_1vx9\"><a class=\"_2za_ _5p5v\" href=\"https://www.facebook.com/abnamro/videos\"><span class=\"_50f7\">ABN AMRO</span></a></div></div></div><div class=\"_bvu\"><div class=\"_-pr\"><a class=\"_3xxp\" href=\"#\" role=\"button\" tabindex=\"8\"><i class=\"_5-q_ _360f img sp_mABwujNingP sx_3c6cc3\" data-hover=\"tooltip\" data-tooltip-content=\"Expand Video\"><u>triangle-down</u></i></a><a class=\"_3xxo\" href=\"#\" role=\"button\" tabindex=\"9\"><i class=\"_5-r0 _360f img sp_mABwujNingP sx_0b86c8\" data-hover=\"tooltip\" data-tooltip-content=\"Collapse Video\"><u>triangle-up</u></i></a><div class=\"_n2_ _j-p _360f\"><input alt=\"close watch and scroll\" aria-label=\"Close watch and scroll\" class=\"_27w3\" tabindex=\"4\" type=\"button\"/></div></div></div></div><div class=\"_62jj _qzf _2se8\"></div><div class=\"_31-o _3t-6 _2se8\"><div class=\"_5aj7\"><div class=\"_4bl9 _3w_z _360f\"><div class=\"_11jc\"></div></div><div class=\"_4bl7\"><div class=\"_5sv5 _360f\"></div></div></div><div class=\"clearfix\"><div class=\"lfloat _ohe\"><div class=\"_3bn1\"><div class=\"_n2- _n2y _360f\"><input alt=\"playback control\" aria-label=\"Play video\" class=\"_27w3\" tabindex=\"1\" type=\"button\"/></div><div class=\"_4per _4pep _360f\"><input alt=\"volume control\" aria-label=\"Volume control\" class=\"_27w3\" tabindex=\"2\" type=\"button\"/></div><div class=\"_35vp _360f _j-o _400z _1vek\"><input alt=\"enter channel view from watch and scroll\" aria-label=\"Enter channel full screen view\" class=\"_27w3\" tabindex=\"3\" type=\"button\"/></div></div></div><div class=\"rfloat _ohf\"><div class=\"_27w7\"><span class=\"_4qo2 _360f\"><div class=\"_khz _4sz1 _4rw5 _3wv2\"><a aria-pressed=\"false\" class=\"UFILikeLink _4x9- _4x9_ _48-k\" data-testid=\"fb-ufi-likelink\" href=\"#\" role=\"button\" tabindex=\"0\">Like</a><span class=\"accessible_elem\" data-accessibilityid=\"virtual_cursor_trigger\" role=\"button\" tabindex=\"-1\">Show more reactions</span></div></span><a ajaxify=\"/ajax/sharer/?s=11&amp;appid=2392950137&amp;id=1752702278157985&amp;p[]=1752702278157985\" aria-label=\"Share\" class=\"_27w8 _24mq _360f\" href=\"#\" rel=\"dialog\" role=\"button\" tabindex=\"6\"><i class=\"_27w9 img sp_jud-21-QNpz sx_327330\"><u>share</u></i><span class=\"_3l-d\">Share</span></a></div></div></div></div></div><div class=\"_npo hidden_elem _3htz\" id=\"u_fetchstream_5_61\"><div class=\"_3drf\"></div><div class=\"_3x62\"><div class=\"_63rn\"><div class=\"_63rm\"><div class=\"_iij\">It looks like you may be having problems playing this video. If so, please try restarting your browser.</div><div class=\"_iir\">Close</div></div></div></div></div><div class=\"_567v _3bw _4ubd _28dy _3htz\" id=\"u_fetchstream_5_62\"><div class=\"_567_\"><div class=\"_2za- _2vd- uiContextualLayerParent _28dz\" data-ft='{\"tn\":\"k\"}' id=\"u_fetchstream_5_63\"><div class=\"_1vx9\"><a class=\"_2za_\" href=\"https://www.facebook.com/abnamro/videos\"><span class=\"_50f7\">Komen Joshua en Niels er samen uit?</span></a></div><div class=\"_1vx9\">Posted by <a class=\"_2za_ _5p5v\" href=\"https://www.facebook.com/abnamro/videos\"><span class=\"_50f7\">ABN AMRO</span></a></div><div class=\"_1vx9\"><span>26,725 Views</span></div></div></div><div class=\"_5bke\" id=\"u_fetchstream_5_64\"></div></div><div class=\"_35sk _tbz _3htz\" id=\"u_fetchstream_5_65\"><ul class=\"_53bj\"><li><a data-ft='{\"tn\":\"+i\"}' data-lynx-mode=\"asynclazy\" href=\"https://l.facebook.com/l.php?u=https%3A%2F%2Fwww.abnamro.nl%2Fnl%2Fmobile%2Fprive%2Fhypotheken%2Factueel%2Fbeiden-aan-bod.html%3Fext%3Dfb_dbhyp_hypotheken_continu-BeidenaanBod11-Tell-StartersNietRandstad_20180604%26extid%3Dfb%3A40576140d7&amp;h=AT33RAAKFOsoZGSe_R-1lpSc_NQnqgojBlNSALzHuC9cB8jFadNc0ckUss3DSQuPzraQNl2m6lSQzGRPHqDM-FyYc7WYXVb4djEEMqKfXnhgUDS1Xvl7udhmddDKdYlGpN0_8vBbijwwCH6JxA\" id=\"u_fetchstream_5_66\" rel=\"noopener nofollow\" target=\"_blank\"><i class=\"_53bk img sp_GzrfIy9Y3Jr sx_6e0f71\"></i><div class=\"_53bl\"><div class=\"_35si\">Learn More</div></div></a></li></ul><a class=\"_2le_\" data-ft='{\"tn\":\"+k\"}' href=\"#\" id=\"u_fetchstream_5_67\" role=\"button\"><i class=\"_53bk\"></i><div class=\"_53bl _35si\">Watch Again</div></a></div><div class=\"_35sk _3htz\" id=\"u_fetchstream_5_68\"><ul class=\"_53bj\"><li><a class=\"_2le_\" data-ft='{\"tn\":\"+}\"}' href=\"#\" id=\"u_fetchstream_5_69\" role=\"button\"><i class=\"_2ipv\"></i><div class=\"_53bl _35si\">Resume Video</div></a></li><li><a data-ft='{\"tn\":\"+i\"}' data-lynx-mode=\"asynclazy\" href=\"https://l.facebook.com/l.php?u=https%3A%2F%2Fwww.abnamro.nl%2Fnl%2Fmobile%2Fprive%2Fhypotheken%2Factueel%2Fbeiden-aan-bod.html%3Fext%3Dfb_dbhyp_hypotheken_continu-BeidenaanBod11-Tell-StartersNietRandstad_20180604%26extid%3Dfb%3A40576140d7&amp;h=AT2sMHhxB2xaDyP3HyKOu2B1UxitPR7yBxk00C8dW4v-b9w5eDZPKjG_-pWOT3_ixb-loFiNT7TCV2jnmqfkU-r8qLg-1YSn8yqw8b1HK0MvcUX4hTOxJZzJgcjPFIsZB30xuGr7fK0esgydZg\" id=\"u_fetchstream_5_6a\" rel=\"noopener nofollow\" target=\"_blank\"><i class=\"_53bk img sp_GzrfIy9Y3Jr sx_6e0f71\"></i><div class=\"_53bl\"><div class=\"_35si\">Learn More</div></div></a></li></ul></div><i class=\"_1jto _bsl _4ubd _3htz\" id=\"u_fetchstream_5_5m\"><input aria-label=\"Play video\" class=\"accessible_elem _5f0v\" id=\"u_fetchstream_5_6b\" type=\"button\"/></i><span aria-busy=\"true\" aria-valuemax=\"100\" aria-valuemin=\"0\" aria-valuetext=\"Loading...\" class=\"img _55ym _55yq _55yo _167h _4ubd _1hiu hidden_elem _360f _167h _3htz\" id=\"u_fetchstream_5_5n\" role=\"progressbar\"></span><div class=\"_3htz _4ubd _1zmi\" id=\"u_fetchstream_5_6c\"></div></div><div class=\"_2i84\"><div id=\"u_fetchstream_5_6d\"></div></div></div></div></div></div><div class=\"_3ekx _29_4\" data-ft='{\"tn\":\"H\"}'><div class=\"_44ae _651x\" data-ft='{\"tn\":\",\\u003C\"}'><div class=\"_6m3 _--6\"><div class=\"_275z _6m6 _2cnj _5s6c\">Komen Joshua en Niels er samen uit?</div><div class=\"_6m7 _3bt9\"></div></div><div class=\"_44af _2e6-\"><div class=\"_275- _4s-8\"><a class=\"_42ft _4jy0 _4jy4 _517h _51sy\" data-ft='{\"tn\":\"*J\"}' data-lynx-mode=\"asynclazy\" href=\"https://l.facebook.com/l.php?u=https%3A%2F%2Fwww.abnamro.nl%2Fnl%2Fmobile%2Fprive%2Fhypotheken%2Factueel%2Fbeiden-aan-bod.html%3Fext%3Dfb_dbhyp_hypotheken_continu-BeidenaanBod11-Tell-StartersNietRandstad_20180604%26extid%3Dfb%3A40576140d7&amp;h=AT39zsusrdJ-60WtUBVWMI-54a-BHtnBp8UFsy_mATkOtv6-HKfZN_ASezvg21kmi84PYHZ6xaWWc2RAirr4Vk9Zjy27Wmw93VsOMMqYo4QQhcwUEy4RmtDWg9R2XqrvcY_EXphQuu6Tu2Zk5ZE\" rel=\"noopener nofollow\" role=\"button\" target=\"_blank\">Learn More</a></div></div><a class=\"_275_ _52c6\" data-lynx-mode=\"asynclazy\" href=\"https://l.facebook.com/l.php?u=https%3A%2F%2Fwww.abnamro.nl%2Fnl%2Fmobile%2Fprive%2Fhypotheken%2Factueel%2Fbeiden-aan-bod.html%3Fext%3Dfb_dbhyp_hypotheken_continu-BeidenaanBod11-Tell-StartersNietRandstad_20180604%26extid%3Dfb%3A40576140d7&amp;h=AT3o1muOQOqeZ8rxLrjfoPDjVemQ6Lwlqf6DGGkDMfjadx4WJeVOG0WOcvJfwBimYk8N9h3jRSxT5mcAduflkJfIbwdG14rJcqgO78NWgR8_79xEkccnbg0LOlcfsxXWCK8YMpK1xamav4LE\" rel=\"noopener nofollow\" target=\"_blank\"></a></div></div></span></div><div class=\"_42ef\"><span class=\"_3c21\"></span></div></div></div></div></div></div><div></div></div></div><div><form action=\"/ajax/ufi/modify.php\" class=\"commentable_item\" data-ft='{\"tn\":\"]\"}' id=\"u_fetchstream_5_6m\" method=\"post\" onsubmit=\"return window.Event &amp;&amp; Event.__inlineSubmit &amp;&amp; Event.__inlineSubmit(this,event)\" rel=\"async\"><input autocomplete=\"off\" name=\"fb_dtsg\" type=\"hidden\" value=\"AQEfkygM_Bxo:AQEx6E_at7p4\"/><input autocomplete=\"off\" name=\"ft_ent_identifier\" type=\"hidden\" value=\"1752702278157985\"/><input autocomplete=\"off\" name=\"data_only_response\" type=\"hidden\" value=\"1\"/><div class=\"_sa_ _gsd _fgm _5vsi _192z\"><div class=\"_1t6k\"><span class=\"fcg\">26K Views</span></div><div class=\"_37uu\"><div><div class=\"_57w\"><div class=\"_3399 _a7s _20h6 _610i _610j _125r clearfix _zw3\"><div class=\"_524d\"><div class=\"_42nr _1mtp\"><span class=\"_1mto\"><div class=\"_khz _4sz1 _4rw5 _3wv2\"><a aria-pressed=\"false\" class=\"UFILikeLink _4x9- _4x9_ _48-k\" data-testid=\"fb-ufi-likelink\" href=\"#\" role=\"button\" tabindex=\"0\">Like</a><span class=\"accessible_elem\" data-accessibilityid=\"virtual_cursor_trigger\" role=\"button\" tabindex=\"-1\">Show more reactions</span></div></span><span class=\"_1mto\"><span class=\"_6a _15-7 _3h-u _4k43\"><a class=\"comment_link _5yxe\" data-ft='{ \"tn\": \"S\", \"type\": 24 }' href=\"#\" role=\"button\" title=\"Leave a comment\">Comment</a></span></span><span class=\"_1mto\"><span class=\"_27de _4noj\"><a class=\"share_action_link _5f9b\" data-ft='{ \"tn\": \"J\", \"type\": 25 }' data-testid=\"ufi_share_link_placeholder\" href=\"#\" role=\"button\" tabindex=\"0\" title=\"Send this to friends or post it on your timeline.\">Share<span aria-busy=\"true\" aria-valuemax=\"100\" aria-valuemin=\"0\" aria-valuetext=\"Loading...\" class=\"UFIShareLinkSpinner _1wfk img _55ym _55yn _55yo _5tqs\" role=\"progressbar\"></span></a></span></span></div></div></div></div></div></div></div><div class=\"uiUfi UFIContainer _3-a6 _4eno _1blz _69ad _65_9 _5pc9 _5vsj _5v9k\" id=\"u_fetchstream_5_6l\"><div class=\"UFIList\"><div class=\"UFIRow UFILikeSentence _4204 _4_dr\"><div class=\"clearfix\" direction=\"right\"><div class=\"_ohf rfloat\"><div class=\"_3scp\"><div class=\"_6a\"><div class=\"_3scs uiPopover _6a _6b\"><a class=\"_p\" href=\"#\" role=\"button\">Oldest<div class=\"_3sct\"></div></a></div></div></div></div><div class=\"\"><div class=\"_1vaq\"><div class=\"_ipp\"><div class=\"_3t53 _4ar- _ipn\"><span aria-label=\"See who reacted to this\" class=\"_3t54\" role=\"toolbar\" tabindex=\"0\"><a ajaxify=\"/ufi/reaction/profile/dialog/?ft_ent_identifier=1752702278157985&amp;reaction_type=1&amp;av=100003302787970\" aria-label=\"17 Like\" class=\"_3emk _401_\" href=\"/ufi/reaction/profile/browser/?ft_ent_identifier=1752702278157985&amp;av=100003302787970\" rel=\"dialog\" role=\"button\" tabindex=\"-1\"><span class=\"_9zc _2p7a _4-op _3uet _4e-m\"><i class=\"_3j7l _2p78 _9-- _hly\"></i></span><span class=\"_3chu\">17</span></a></span><a class=\"_2x4v\" href=\"/ufi/reaction/profile/browser/?ft_ent_identifier=1752702278157985&amp;av=100003302787970\" rel=\"ignore\" role=\"button\"><span aria-hidden=\"true\" class=\"_1g5v\"><span data-hover=\"tooltip\" data-tooltip-uri=\"/ufi/reaction/tooltip/?ft_ent_identifier=1752702278157985&amp;av=100003302787970\">17</span></span><span class=\"_4arz\"><span data-hover=\"tooltip\" data-tooltip-uri=\"/ufi/reaction/tooltip/?ft_ent_identifier=1752702278157985&amp;av=100003302787970\">17</span></span></a></div></div></div></div></div></div><div class=\"UFIRow UFIShareRow\"><a ajaxify=\"/ajax/shares/view?target_fbid=1752702278157985\" class=\"UFIShareLink\" data-hover=\"tooltip\" data-tooltip-uri=\"/ufi/share/tooltip/?ft_ent_identifier=1752702278157985&amp;av=100003302787970\" href=\"https://www.facebook.com/shares/view?id=1752702278157985\" rel=\"dialog\">2 Shares</a></div><h6 class=\"accessible_elem\">Comments</h6><div class=\"_3b-9 _j6a\"><div><div class=\"UFIRow UFIPagerRow _4oep _48pi\" data-ft='{\"tn\":\"Q\"}'><div class=\"clearfix\" direction=\"right\"><div class=\"_ohf rfloat\"></div><div class=\"\"><a class=\"UFIPagerLink\" href=\"#\" role=\"button\">View 2 more comments</a></div></div></div><div aria-label=\"Comment\" class=\"UFIRow _48ph UFILastComment _48pi UFIComment _4oep\" data-ft='{\"tn\":\"R\"}' id=\"comment_js_3mg\" role=\"article\"><div class=\"_3b-9\"><div><div class=\"clearfix\" direction=\"left\"><div class=\"_ohe lfloat\"><a aria-hidden=\"true\" class=\"UFICommentAuthorWithPresence img _8o _8s UFIImageBlockImage\" data-ft='{\"tn\":\"T\"}' data-hovercard=\"/ajax/hovercard/hovercard.php?id=100000742050715&amp;extragetparams=%7B%22on_public_ufi%22%3Atrue%2C%22hc_location%22%3A%22ufi%22%7D\" href=\"https://www.facebook.com/joshkrishnadath?fref=ufi&amp;rc=p\" tabindex=\"-1\" target=\"_self\"><img alt=\"Josh Krishnadath\" class=\"img UFIActorImage _54ru img\" src=\"https://scontent.fkhi11-1.fna.fbcdn.net/v/t1.0-1/p32x32/13428620_1217886878246036_5409061481032353273_n.jpg?_nc_cat=0&amp;oh=f75a33357c70a0363254d0617644ba16&amp;oe=5BA98A0E\"/><div class=\"UFICommentAuthorPresence\"></div></a></div><div class=\"\"><div class=\"UFIImageBlockContent _42ef\"><div class=\"UFICommentContentBlock\"><div class=\"UFICommentContent\"><div class=\"_26f8\"><div class=\"_10la _10lg\"><span class=\" UFICommentActorAndBody\"><span class=\"\"><a class=\" UFICommentActorName\" data-ft='{\"tn\":\";\"}' data-hovercard=\"/ajax/hovercard/hovercard.php?id=100000742050715&amp;extragetparams=%7B%22is_public%22%3Atrue%2C%22hc_location%22%3A%22ufi%22%7D\" dir=\"ltr\" href=\"https://www.facebook.com/joshkrishnadath?fref=ufi&amp;rc=p\" target=\"_self\">Josh Krishnadath</a></span> <span><span> <span data-ft='{\"tn\":\"K\"}'><span class=\"UFICommentBody\"><a class=\"profileLink\" data-hovercard=\"/ajax/hovercard/hovercard.php?id=100002310207165&amp;extragetparams=%7B%22hc_location%22%3A%22ufi%22%7D\" dir=\"ltr\" href=\"https://www.facebook.com/niels.heijnen.7?hc_location=ufi\" target=\"_blank\">Niels Heijnen</a><span> we staan erop <span class=\"_47e3 _5mfr\"><img alt=\"\" class=\"img\" height=\"16\" src=\"https://static.xx.fbcdn.net/images/emoji.php/v9/fbf/1/16/1f62c.png\" width=\"16\"/><span class=\"_7oe\">😬</span></span></span></span></span></span><div></div></span></span><div class=\"_10lo _10lp\"><a ajaxify=\"/ufi/reaction/profile/dialog/?ft_ent_identifier=1752702278157985_1755631944531685&amp;av=100003302787970\" data-hover=\"tooltip\" data-tooltip-alignh=\"center\" data-tooltip-offsety=\"-3\" data-tooltip-uri=\"/ufi/reaction/sentence/tooltip/?ft_ent_identifier=1752702278157985_1755631944531685&amp;client_id=1530338086902%3A3744575107&amp;user_count=4&amp;av=100003302787970\" href=\"/ufi/reaction/profile/browser/?ft_ent_identifier=1752702278157985_1755631944531685&amp;av=100003302787970\" rel=\"dialog\" role=\"button\"><div class=\"_3t53 UFICommentReactionsBling _4ar- _ipn\"><span aria-label=\"See who reacted to this\" class=\"_3t54\"><span aria-label=\"4 Like\" class=\"_3emk _401_\"><span class=\"_9zc _2p7a _4-op _3uet _4e-m\"><i class=\"_3j7l _2p78 _9-- _hly\"></i></span><span class=\"_3chu\">4</span></span></span><span class=\"UFICommentLikeButton UFISutroLikeCount\">4</span></div></a></div></div><span class=\"_36rj\"><a aria-label=\"Hide or embed this\" class=\"UFICommentCloseButton _1-be _xw0 _xw9 _5upp _42ft\" data-hover=\"tooltip\" data-testid=\"ufi_comment_close_button\" data-tooltip-alignh=\"center\" data-tooltip-content=\"Hide or embed this\" href=\"#\" menudata=\"[object Object],[object Object]\" menutype=\"DOTS\" tooltip=\"Hide or embed this\">Manage</a></span></div><span></span><div></div></div><div class=\"fsm fwn fcg UFICommentActions\"><span class=\"_6a _3-me\"><div class=\"_khz _4sz1 _4rw5 _3wv2\"><a aria-pressed=\"false\" class=\"UFILikeLink UFIReactionLink\" data-testid=\"ufi_comment_like_link\" href=\"#\" role=\"button\" tabindex=\"0\">Like</a><span class=\"accessible_elem\" data-accessibilityid=\"virtual_cursor_trigger\" role=\"button\" tabindex=\"-1\">Show more reactions</span></div></span><span aria-hidden=\"true\" role=\"presentation\"> · </span><a class=\"UFIReplyLink _460i\" href=\"#\" role=\"button\">Reply</a><span aria-hidden=\"true\" role=\"presentation\"> · </span><a class=\"UFITranslateLink\" href=\"#\">See Translation</a><span aria-hidden=\"true\" role=\"presentation\"> · </span><span><a class=\"uiLinkSubtle\" data-ft='{\"tn\":\"N\"}' data-testid=\"ufi_comment_timestamp\" href=\"/abnamro/videos/1752702278157985/?comment_id=1755631944531685&amp;comment_tracking=%7B%22tn%22%3A%22R%22%7D\"><abbr class=\"UFISutroCommentTimestamp livetimestamp\" data-minimize=\"true\" data-shorten=\"true\" data-utime=\"1528356131\" title=\"Thursday, June 7, 2018 at 12:22 PM\">3w</abbr></a></span></div></div></div></div></div></div></div></div></div></div><div class=\"UFIRow _4oep UFIAddComment UFIAddCommentWithPhotoAttacher _2o9m\" data-ft='{\"tn\":\"[\"}' id=\"addComment_1752702278157985\"><div class=\"UFIMentionsInputWrap UFIStickersEnabledInput UFIGifEnabledInput clearfix\" direction=\"left\"><div class=\"_ohe lfloat\"><div class=\"UFIReplyActorPhotoWrapper img _8o _8r UFIImageBlockImage\" role=\"presentation\"><img alt=\"Afaq Ahmad\" class=\"img UFIActorImage _54ru img\" src=\"https://scontent.fkhi11-1.fna.fbcdn.net/v/t1.0-1/c1.0.32.32/p32x32/1922020_517685618351526_108121466_n.jpg?_nc_cat=0&amp;oh=9dadf680dfd96728a82149d39b5229ba&amp;oe=5BE98853\"/></div></div><div class=\"\"><div class=\"UFIImageBlockContent _42ef _8u\"><div class=\"UFICommentContainer\"><div class=\"_fmi _613v UFIInputContainer\"><div class=\"_2xwx\" role=\"presentation\"><div class=\"UFIAddCommentInput _1osb _1osc _2xww\"><input class=\"_1osa mentionsHidden\" name=\"add_comment_text\"/>Write a comment...</div></div><div class=\"_fmk UFICommentAttachmentButtons _5op2 _15i7 _2kwm\"><a aria-label=\"Insert an emoji\" class=\"_r1a UFICommentEmojiButton\" data-hover=\"tooltip\" data-tooltip-alignh=\"center\" data-tooltip-content=\"Insert an emoji\" href=\"#\" role=\"button\"><div class=\"UFICommentEmojiIcon\"></div></a><div class=\"_r1a UFIPhotoAttachLinkWrapper _m\" data-hover=\"tooltip\" data-tooltip-alignh=\"center\" data-tooltip-content=\"Attach a Photo or Video\" role=\"presentation\"><span class=\"UFICommentPhotoIcon\"><input accept=\"video/*,  video/x-m4v, video/webm, video/x-ms-wmv, video/x-msvideo, video/3gpp, video/flv, video/x-flv, video/mp4, video/quicktime, video/mpeg, video/ogv, .ts, .mkv, image/*\" aria-label=\"Attach a Photo or Video\" class=\"_n _5f0v\" id=\"js_3mh\" name=\"file\" title=\"Attach a Photo or Video\" type=\"file\"/></span></div><a aria-label=\"Post a GIF\" class=\"_r1a UFICommentGifButton\" data-hover=\"tooltip\" data-tooltip-alignh=\"center\" data-tooltip-content=\"Post a GIF\" href=\"#\" role=\"button\"><div class=\"UFICommentGifIcon\"></div></a><a aria-label=\"Post a sticker\" class=\"_r1a UFICommentStickerButton\" data-hover=\"tooltip\" data-tooltip-alignh=\"center\" data-tooltip-content=\"Post a sticker\" href=\"#\" role=\"button\"><div class=\"UFICommentStickerIcon\"></div></a></div></div></div></div></div></div></div></div></div></form></div></div></div></div></div></div>\n"
     ]
    }
   ],
   "source": [
    "print(post_selector[9])"
   ]
  },
  {
   "cell_type": "code",
   "execution_count": 103,
   "metadata": {},
   "outputs": [
    {
     "data": {
      "text/plain": [
       "u'Today at 2:13 PM'"
      ]
     },
     "execution_count": 103,
     "metadata": {},
     "output_type": "execute_result"
    }
   ],
   "source": []
  },
  {
   "cell_type": "code",
   "execution_count": 106,
   "metadata": {},
   "outputs": [
    {
     "data": {
      "text/plain": [
       "0"
      ]
     },
     "execution_count": 106,
     "metadata": {},
     "output_type": "execute_result"
    }
   ],
   "source": [
    "len(timep)"
   ]
  },
  {
   "cell_type": "code",
   "execution_count": 110,
   "metadata": {},
   "outputs": [
    {
     "name": "stdout",
     "output_type": "stream",
     "text": [
      "3:36pm\n"
     ]
    }
   ],
   "source": [
    "timep=post_selector[3].find_all(\"abbr\", class_=\"_5ptz\")\n",
    "if len(timep)>0:    \n",
    "    datetime=timep[0].attrs['title']\n",
    "    date=datetime.split()[0]\n",
    "    time=datetime.split()[1]\n",
    "    print(time)\n",
    "else:\n",
    "    time=post_selector[2].find_all(\"span\", class_=\"timestampContent\")\n",
    "    time=time[0].text\n",
    "    print(time)"
   ]
  },
  {
   "cell_type": "code",
   "execution_count": 54,
   "metadata": {},
   "outputs": [
    {
     "name": "stdout",
     "output_type": "stream",
     "text": [
      "<div class=\"_5pbx userContent _3576\" data-ft='{\"tn\":\"K\"}'><div><p>Binnenkort op vakantie? Ga zelfverzekerd op reis met onze tips. Kijk daarom dinsdag 26 juni vanaf 20:30 uur naar onze livestream en stel je vragen live!</p><div class=\"_43f9 _63qh\" data-ft='{\"tn\":\",K\"}' id=\"u_0_69\"><a href=\"#\" role=\"button\">See Translation</a><span class=\"_3-8s\" id=\"translationSpinnerPlaceholder_1997868426890937\"></span></div></div></div>\n"
     ]
    }
   ],
   "source": [
    "post_word=post_selector[6].find_all(\"div\", class_=\"_5pbx userContent _3576\")\n",
    "print(post_word[0])"
   ]
  },
  {
   "cell_type": "code",
   "execution_count": 100,
   "metadata": {},
   "outputs": [
    {
     "data": {
      "text/plain": [
       "0"
      ]
     },
     "execution_count": 100,
     "metadata": {},
     "output_type": "execute_result"
    }
   ],
   "source": [
    "a=(post_word[0].find_all(\"p\"))[0].text\n",
    "Hashtags=a.count('#')\n",
    "Hashtags"
   ]
  },
  {
   "cell_type": "code",
   "execution_count": 94,
   "metadata": {},
   "outputs": [
    {
     "data": {
      "text/plain": [
       "[<input alt=\"playback control\" aria-label=\"Play video\" class=\"_27w3\" tabindex=\"1\" type=\"button\"/>]"
      ]
     },
     "execution_count": 94,
     "metadata": {},
     "output_type": "execute_result"
    }
   ],
   "source": []
  },
  {
   "cell_type": "code",
   "execution_count": 92,
   "metadata": {},
   "outputs": [],
   "source": [
    "forlink0=post_word[0].find_all(\"p\")\n",
    "links=forlink0[0].find_all('a', href=True)\n",
    "if len(links)>0:\n",
    "    if 'https://l.facebook.com/l.php' in links[0].attrs['href']:\n",
    "        print 'yes'"
   ]
  },
  {
   "cell_type": "code",
   "execution_count": null,
   "metadata": {},
   "outputs": [],
   "source": []
  },
  {
   "cell_type": "code",
   "execution_count": 33,
   "metadata": {},
   "outputs": [
    {
     "data": {
      "text/plain": [
       "<a ajaxify=\"/ajax/sharer/?s=11&amp;appid=2392950137&amp;id=2232905916726431&amp;p[]=2232905916726431\" aria-label=\"Share\" class=\"_27w8 _24mq _360f\" href=\"#\" rel=\"dialog\" role=\"button\" tabindex=\"6\"><i class=\"_27w9 img sp_TXVLMpD7xby sx_98a714\"><u>share</u></i><span class=\"_3l-d\">Share</span></a>"
      ]
     },
     "execution_count": 33,
     "metadata": {},
     "output_type": "execute_result"
    }
   ],
   "source": [
    "(post_selector[10].find_all(\"a\", ajaxify=True))[1]"
   ]
  },
  {
   "cell_type": "code",
   "execution_count": 98,
   "metadata": {},
   "outputs": [],
   "source": [
    "if 'photos' in (post_selector[6].find_all(\"a\", ajaxify=True))[0].attrs['ajaxify']:\n",
    "    print 'yes'"
   ]
  },
  {
   "cell_type": "code",
   "execution_count": null,
   "metadata": {},
   "outputs": [],
   "source": []
  },
  {
   "cell_type": "code",
   "execution_count": 91,
   "metadata": {},
   "outputs": [
    {
     "name": "stdout",
     "output_type": "stream",
     "text": [
      "<span class=\"_4arz\"><span data-hover=\"tooltip\" data-tooltip-uri=\"/ufi/reaction/tooltip/?ft_ent_identifier=2010292862315160&amp;av=100003302787970\">81</span></span>\n"
     ]
    }
   ],
   "source": [
    "post_likes=post_selector[3].find_all(\"span\", class_=\"_4arz\")\n",
    "print(post_likes[0])"
   ]
  },
  {
   "cell_type": "code",
   "execution_count": 95,
   "metadata": {},
   "outputs": [
    {
     "ename": "IndexError",
     "evalue": "list index out of range",
     "output_type": "error",
     "traceback": [
      "\u001b[1;31m---------------------------------------------------------------------------\u001b[0m",
      "\u001b[1;31mIndexError\u001b[0m                                Traceback (most recent call last)",
      "\u001b[1;32m<ipython-input-95-04015feae99b>\u001b[0m in \u001b[0;36m<module>\u001b[1;34m()\u001b[0m\n\u001b[0;32m      2\u001b[0m \u001b[0mvideoorimage\u001b[0m\u001b[1;33m\u001b[0m\u001b[0m\n\u001b[0;32m      3\u001b[0m \u001b[0mpvideo_views0\u001b[0m\u001b[1;33m=\u001b[0m\u001b[0mpost_selector\u001b[0m\u001b[1;33m[\u001b[0m\u001b[1;36m6\u001b[0m\u001b[1;33m]\u001b[0m\u001b[1;33m.\u001b[0m\u001b[0mfind_all\u001b[0m\u001b[1;33m(\u001b[0m\u001b[1;34m\"div\"\u001b[0m\u001b[1;33m,\u001b[0m \u001b[0mclass_\u001b[0m\u001b[1;33m=\u001b[0m\u001b[1;34m\"_1t6k\"\u001b[0m\u001b[1;33m)\u001b[0m\u001b[1;33m\u001b[0m\u001b[0m\n\u001b[1;32m----> 4\u001b[1;33m \u001b[0mpvideo_views\u001b[0m\u001b[1;33m=\u001b[0m\u001b[0mpvideo_views0\u001b[0m\u001b[1;33m[\u001b[0m\u001b[1;36m0\u001b[0m\u001b[1;33m]\u001b[0m\u001b[1;33m.\u001b[0m\u001b[0mfind_all\u001b[0m\u001b[1;33m(\u001b[0m\u001b[1;34m\"span\"\u001b[0m\u001b[1;33m,\u001b[0m \u001b[0mclass_\u001b[0m\u001b[1;33m=\u001b[0m\u001b[1;34m\"fcg\"\u001b[0m\u001b[1;33m)\u001b[0m\u001b[1;33m\u001b[0m\u001b[0m\n\u001b[0m\u001b[0;32m      5\u001b[0m \u001b[1;32mprint\u001b[0m\u001b[1;33m(\u001b[0m\u001b[0mpvideo_views\u001b[0m\u001b[1;33m[\u001b[0m\u001b[1;36m0\u001b[0m\u001b[1;33m]\u001b[0m\u001b[1;33m.\u001b[0m\u001b[0mtext\u001b[0m\u001b[1;33m)\u001b[0m\u001b[1;33m\u001b[0m\u001b[0m\n",
      "\u001b[1;31mIndexError\u001b[0m: list index out of range"
     ]
    }
   ],
   "source": [
    "\n",
    "pvideo_views0=post_selector[6].find_all(\"div\", class_=\"_1t6k\")\n",
    "pvideo_views=pvideo_views0[0].find_all(\"span\", class_=\"fcg\")\n",
    "print(pvideo_views[0].text)"
   ]
  },
  {
   "cell_type": "code",
   "execution_count": 117,
   "metadata": {},
   "outputs": [
    {
     "name": "stdout",
     "output_type": "stream",
     "text": [
      "video Found\n",
      "110K Views\n"
     ]
    }
   ],
   "source": [
    "videoorimage=post_selector[6].find_all(\"input\", alt=\"playback control\")\n",
    "if len(videoorimage)>0:\n",
    "    print 'video Found'\n",
    "    pvideo_views0=post_selector[6].find_all(\"span\", class_=\"_ipm _2x0m\")\n",
    "    views0=pvideo_views0[0].text\n",
    "    print(views0)\n",
    "\n",
    "else:\n",
    "    print 'No video'\n"
   ]
  },
  {
   "cell_type": "code",
   "execution_count": 120,
   "metadata": {},
   "outputs": [
    {
     "name": "stdout",
     "output_type": "stream",
     "text": [
      "likes 28\n",
      "10 Shares\n",
      "48 Comments\n"
     ]
    }
   ],
   "source": [
    "plikes0=post_selector[4].find_all(\"span\", class_=\"_1g5v\")\n",
    "likesno=plikes0[0].text\n",
    "print 'likes',likesno\n",
    "pshares0=post_selector[4].find_all(\"a\", class_=\"_ipm _2x0m\")\n",
    "sharesno=pshares0[0].text\n",
    "print(sharesno)\n",
    "comentsno=(post_selector[4].find_all(\"a\", class_=\"_ipm _-56\"))[0].text\n",
    "print(comentsno)"
   ]
  },
  {
   "cell_type": "code",
   "execution_count": 65,
   "metadata": {},
   "outputs": [
    {
     "ename": "IndexError",
     "evalue": "list index out of range",
     "output_type": "error",
     "traceback": [
      "\u001b[1;31m---------------------------------------------------------------------------\u001b[0m",
      "\u001b[1;31mIndexError\u001b[0m                                Traceback (most recent call last)",
      "\u001b[1;32m<ipython-input-65-f87822bc762f>\u001b[0m in \u001b[0;36m<module>\u001b[1;34m()\u001b[0m\n\u001b[0;32m      1\u001b[0m \u001b[0mpshares0\u001b[0m\u001b[1;33m=\u001b[0m\u001b[0mpost_selector\u001b[0m\u001b[1;33m[\u001b[0m\u001b[1;36m5\u001b[0m\u001b[1;33m]\u001b[0m\u001b[1;33m.\u001b[0m\u001b[0mfind_all\u001b[0m\u001b[1;33m(\u001b[0m\u001b[1;34m\"a\"\u001b[0m\u001b[1;33m,\u001b[0m \u001b[0mclass_\u001b[0m\u001b[1;33m=\u001b[0m\u001b[1;34m\"UFIShareLink\"\u001b[0m\u001b[1;33m)\u001b[0m\u001b[1;33m\u001b[0m\u001b[0m\n\u001b[1;32m----> 2\u001b[1;33m \u001b[0mpshares0\u001b[0m\u001b[1;33m[\u001b[0m\u001b[1;36m0\u001b[0m\u001b[1;33m]\u001b[0m\u001b[1;33m.\u001b[0m\u001b[0mtext\u001b[0m\u001b[1;33m\u001b[0m\u001b[0m\n\u001b[0m",
      "\u001b[1;31mIndexError\u001b[0m: list index out of range"
     ]
    }
   ],
   "source": [
    "pshares0=post_selector[5].find_all(\"a\", class_=\"UFIShareLink\")\n",
    "pshares0[0].text"
   ]
  },
  {
   "cell_type": "code",
   "execution_count": 83,
   "metadata": {},
   "outputs": [
    {
     "data": {
      "text/plain": [
       "u'258 Comments'"
      ]
     },
     "execution_count": 83,
     "metadata": {},
     "output_type": "execute_result"
    }
   ],
   "source": []
  },
  {
   "cell_type": "code",
   "execution_count": 73,
   "metadata": {},
   "outputs": [
    {
     "data": {
      "text/plain": [
       "<a ajaxify=\"/abnamro/photos/a.248841611793636.73306.206592029351928/2010292862315160/?type=3&amp;size=1200%2C628&amp;fbid=2010292862315160&amp;source=12&amp;player_origin=pages\" class=\"_5pcq\" href=\"/abnamro/photos/a.248841611793636.73306.206592029351928/2010292862315160/?type=3\" rel=\"theater\" target=\"\"><abbr class=\"_5ptz\" data-shorten=\"1\" data-utime=\"1530614203\" title=\"07/03/2018 3:36pm\"><span class=\"timestampContent\">Yesterday at 3:36 PM</span></abbr></a>"
      ]
     },
     "execution_count": 73,
     "metadata": {},
     "output_type": "execute_result"
    }
   ],
   "source": [
    "(post_selector[3].find_all(\"a\", ajaxify=True))[0]"
   ]
  },
  {
   "cell_type": "code",
   "execution_count": 75,
   "metadata": {
    "scrolled": true
   },
   "outputs": [
    {
     "data": {
      "text/plain": [
       "[<div class=\"_3b-9 _j6a\"><div><div class=\"UFIRow UFIPagerRow _4oep _48pi _4204\"><div class=\"clearfix\" direction=\"right\"><div class=\"_ohf rfloat\"><span class=\"fcg UFIPagerCount\">2 of 82</span></div><div class=\"\"><a class=\"UFIPagerLink\" href=\"#\" role=\"button\">View previous comments</a></div></div></div><div aria-label=\"Comment\" class=\"UFIRow _48ph _48pi _4204 UFIComment _4oep\" data-ft='{\"tn\":\"R0\"}' id=\"comment_js_w\" role=\"article\"><div class=\"_3b-9\"><div><div class=\"clearfix\" direction=\"left\"><div class=\"_ohe lfloat\"><a aria-hidden=\"true\" class=\"UFICommentAuthorWithPresence img _8o _8s UFIImageBlockImage\" data-ft='{\"tn\":\"T\"}' data-hovercard=\"/ajax/hovercard/hovercard.php?id=1199203182&amp;extragetparams=%7B%22on_public_ufi%22%3Atrue%2C%22hc_location%22%3A%22ufi%22%7D\" href=\"https://web.facebook.com/profile.php?id=1199203182&amp;fref=ufi&amp;rc=p\" tabindex=\"-1\" target=\"_self\"><img alt=\"Dieuwertje Prins\" class=\"img UFIActorImage _54ru img\" src=\"https://scontent.fisb3-1.fna.fbcdn.net/v/t1.0-1/p32x32/34798338_10215104780311767_86073919160713216_n.jpg?_nc_cat=0&amp;_nc_eui2=AeELU_UCXEthCJzj7On3QhzI6n0Cmeyc0bMKQaw9R3ptZ0MyOZBX5HZGdbF-xwRhp50sBX-PgHn61rPjrH9LojVtf1gTJaWQCmclNbLHUv5p-w&amp;oh=a0dacdd3551b08e20a0151f9130d4e32&amp;oe=5BA4F7BD\"/><div class=\"UFICommentAuthorPresence\"></div></a></div><div class=\"\"><div class=\"UFIImageBlockContent _42ef\"><div class=\"UFICommentContentBlock\"><div class=\"UFICommentContent\"><div class=\"_26f8\"><div class=\"_10la _10lg\"><span class=\" UFICommentActorAndBody\"><span class=\"\"><a class=\" UFICommentActorName\" data-ft='{\"tn\":\";\"}' data-hovercard=\"/ajax/hovercard/hovercard.php?id=1199203182&amp;extragetparams=%7B%22is_public%22%3Atrue%2C%22hc_location%22%3A%22ufi%22%7D\" dir=\"ltr\" href=\"https://web.facebook.com/profile.php?id=1199203182&amp;fref=ufi&amp;rc=p\" target=\"_self\">Dieuwertje Prins</a></span> <span><span> <span data-ft='{\"tn\":\"K\"}'><span class=\"UFICommentBody\"><span>Klote bank ! En de Automaat in Sluis w\\xe9\\xe9r  buiten gebruik.  Afgelopen weekend de automaat ook weer stuk in oostburg .. Moet je weer de Auto pakken om ergens anders een Automaat te zoeken... dan wil je in centrum van Vlissingen iets opnemen..\\u2019ook alles buiten gebruik... ik denk dat ik Maar ga overstappen naar een andere bank.. waardeloos dit </span><a class=\"profileLink\" data-hovercard=\"/ajax/hovercard/hovercard.php?id=206592029351928&amp;extragetparams=%7B%22hc_location%22%3A%22ufi%22%7D\" dir=\"ltr\" href=\"https://web.facebook.com/abnamro/?hc_location=ufi\" target=\"_blank\">ABN AMRO</a><span> !!!</span></span></span></span><div></div></span></span><div class=\"_10lo\"></div></div><span class=\"_36rj\"><a aria-label=\"Hide or embed this\" class=\"UFICommentCloseButton _1-be _xw0 _xw9 _5upp _42ft\" data-hover=\"tooltip\" data-testid=\"ufi_comment_close_button\" data-tooltip-alignh=\"center\" data-tooltip-content=\"Hide or embed this\" href=\"#\" menudata=\"[object Object],[object Object]\" menutype=\"DOTS\" tooltip=\"Hide or embed this\">Manage</a></span></div><span></span><div></div></div><div class=\"fsm fwn fcg UFICommentActions\"><span class=\"_6a _3-me\"><div class=\"_khz _4sz1 _4rw5 _3wv2\"><a aria-pressed=\"false\" class=\"UFILikeLink UFIReactionLink\" data-testid=\"ufi_comment_like_link\" href=\"#\" role=\"button\" tabindex=\"0\">Like</a><span class=\"accessible_elem\" data-accessibilityid=\"virtual_cursor_trigger\" role=\"button\" tabindex=\"-1\">Show more reactions</span></div></span><span aria-hidden=\"true\" role=\"presentation\"> \\xb7 </span><a class=\"UFIReplyLink _460i\" href=\"#\" role=\"button\">Reply</a><span aria-hidden=\"true\" role=\"presentation\"> \\xb7 </span><a class=\"UFITranslateLink\" href=\"#\">See Translation</a><span aria-hidden=\"true\" role=\"presentation\"> \\xb7 </span><span><a class=\"uiLinkSubtle\" data-ft='{\"tn\":\"N\"}' data-testid=\"ufi_comment_timestamp\" href=\"/abnamro/photos/a.248841611793636.73306.206592029351928/2010292862315160/?type=3&amp;comment_id=2011618235515956&amp;comment_tracking=%7B%22tn%22%3A%22R0%22%7D\"><abbr class=\"UFISutroCommentTimestamp livetimestamp\" data-minimize=\"true\" data-shorten=\"true\" data-utime=\"1530683319\" title=\"Wednesday, July 4, 2018 at 10:48 AM\">9h</abbr></a></span></div></div></div></div></div></div></div></div><div class=\" UFIReplyList\"><div aria-label=\"Comment reply\" class=\"UFIRow _48ph UFILastComment _48pi _4204 _2o9m UFIComment _4oep\" data-ft='{\"tn\":\"R9\"}' id=\"comment_js_x\" role=\"article\"><div class=\"_3b-9\"><div><div class=\"clearfix\" direction=\"left\"><div class=\"_ohe lfloat\"><a aria-hidden=\"true\" class=\"UFICommentAuthorWithPresence img _8o _8s UFIImageBlockImage\" data-ft='{\"tn\":\"T\"}' data-hovercard=\"/ajax/hovercard/hovercard.php?id=206592029351928&amp;extragetparams=%7B%22on_public_ufi%22%3Atrue%2C%22hc_location%22%3A%22ufi%22%7D\" href=\"https://web.facebook.com/abnamro/?rc=p\" tabindex=\"-1\" target=\"_self\"><img alt=\"ABN AMRO\" class=\"img UFIActorImage _54ru img\" src=\"https://scontent.fisb3-1.fna.fbcdn.net/v/t1.0-1/p24x24/22090081_1717117228299393_8709906435186478386_n.png?_nc_cat=0&amp;_nc_eui2=AeGpAdI0DyMg0cmU1KL5EjN8r04CTTmA8vJrLwjpr0BI5VFo8ivAaYbVUw51-WNm_fFdKafy3Q4Li7OMOzivnEZJe79mb_UkOiUXTKbzIs9pNA&amp;oh=7416a7271da470c9cd744539117ae287&amp;oe=5BE41122\"/><div class=\"UFICommentAuthorPresence\"></div></a></div><div class=\"\"><div class=\"UFIImageBlockContent _42ef\"><div class=\"UFICommentContentBlock\"><div class=\"UFICommentContent\"><div class=\"_26f8\"><div class=\"_10la _10lg\"><span class=\" UFICommentActorAndBody\"><span class=\"\"><a class=\" UFICommentActorName\" data-ft='{\"tn\":\";\"}' data-hovercard=\"/ajax/hovercard/hovercard.php?id=206592029351928&amp;extragetparams=%7B%22is_public%22%3Atrue%2C%22hc_location%22%3A%22ufi%22%7D\" dir=\"ltr\" href=\"https://web.facebook.com/abnamro/?rc=p\" target=\"_self\">ABN AMRO</a><span class=\"_5dzz _56_f _5dzy\"></span></span> <span><span> <span data-ft='{\"tn\":\"K\"}'><span class=\"UFICommentBody _1n4g\"><span><span>Goedemorgen Dieuwertje, het is logisch dat je hier erg van baalt. Uiteraard wil je altijd kunnen pinnen bij een automaat in de buurt en niet stad en land doorrijden om een automaat te vinden die wel werkt. Ik ben dan ook blij dat je de moeite neemt om </span></span><span class=\"_5uzb\">...</span><a class=\"_5v47 fss\" href=\"#\" role=\"button\">See More</a></span></span></span><div></div></span></span><div class=\"_10lo\"></div></div><span class=\"_36rj\"><a aria-label=\"Hide or embed this\" class=\"UFICommentCloseButton _1-be _xw0 _xw9 _5upp _42ft\" data-hover=\"tooltip\" data-testid=\"ufi_comment_close_button\" data-tooltip-alignh=\"center\" data-tooltip-content=\"Hide or embed this\" href=\"#\" menudata=\"[object Object],[object Object]\" menutype=\"DOTS\" tooltip=\"Hide or embed this\">Manage</a></span></div><span></span><div></div></div><div class=\"fsm fwn fcg UFICommentActions\"><span class=\"_6a _3-me\"><div class=\"_khz _4sz1 _4rw5 _3wv2\"><a aria-pressed=\"false\" class=\"UFILikeLink UFIReactionLink\" data-testid=\"ufi_reply_like_link\" href=\"#\" role=\"button\" tabindex=\"0\">Like</a><span class=\"accessible_elem\" data-accessibilityid=\"virtual_cursor_trigger\" role=\"button\" tabindex=\"-1\">Show more reactions</span></div></span><span aria-hidden=\"true\" role=\"presentation\"> \\xb7 </span><a class=\"UFIReplyLink _460i\" href=\"#\" role=\"button\">Reply</a><span aria-hidden=\"true\" role=\"presentation\"> \\xb7 </span><a class=\"UFITranslateLink\" href=\"#\">See Translation</a><span aria-hidden=\"true\" role=\"presentation\"> \\xb7 </span><span><a class=\"uiLinkSubtle\" data-ft='{\"tn\":\"N\"}' data-testid=\"ufi_comment_timestamp\" href=\"/abnamro/photos/a.248841611793636.73306.206592029351928/2010292862315160/?type=3&amp;comment_id=2011618235515956&amp;reply_comment_id=2011621298848983&amp;comment_tracking=%7B%22tn%22%3A%22R9%22%7D\"><abbr class=\"UFISutroCommentTimestamp livetimestamp\" data-minimize=\"true\" data-shorten=\"true\" data-utime=\"1530683564\" title=\"Wednesday, July 4, 2018 at 10:52 AM\">9h</abbr></a></span></div></div></div></div></div></div></div></div></div><div aria-label=\"Comment\" class=\"UFIRow UFILastComment UFIComment _4oep\" data-ft='{\"tn\":\"R\"}' id=\"comment_js_y\" role=\"article\"><div class=\"_3b-9\"><div><div class=\"clearfix\" direction=\"left\"><div class=\"_ohe lfloat\"><a aria-hidden=\"true\" class=\"UFICommentAuthorWithPresence img _8o _8s UFIImageBlockImage\" data-ft='{\"tn\":\"T\"}' data-hovercard=\"/ajax/hovercard/hovercard.php?id=100003890152642&amp;extragetparams=%7B%22on_public_ufi%22%3Atrue%2C%22hc_location%22%3A%22ufi%22%7D\" href=\"https://web.facebook.com/miranda.robben.5?fref=ufi&amp;rc=p\" tabindex=\"-1\" target=\"_self\"><img alt=\"Miranda Hassen\" class=\"img UFIActorImage _54ru img\" src=\"https://scontent.fisb3-1.fna.fbcdn.net/v/t1.0-1/p32x32/36589926_1155421864597474_9030132232617984000_n.jpg?_nc_cat=0&amp;_nc_eui2=AeG3sM4UF1NDnjslOjSKbGfpeydbNIFkIIuADpREgkXrsxOfoOkDQId1v6y5fPKxwA6uGzbWas_rMZisq7NbH_m4vbTKVH0SrrVxWlW-DWBCsQ&amp;oh=2b86a7b1a7f9e526b767044b308917d9&amp;oe=5BDFC4FA\"/><div class=\"UFICommentAuthorPresence\"></div></a></div><div class=\"\"><div class=\"UFIImageBlockContent _42ef\"><div class=\"UFICommentContentBlock\"><div class=\"UFICommentContent\"><div class=\"_26f8\"><div class=\"_10la _10lg\"><span class=\" UFICommentActorAndBody\"><span class=\"\"><a class=\" UFICommentActorName\" data-ft='{\"tn\":\";\"}' data-hovercard=\"/ajax/hovercard/hovercard.php?id=100003890152642&amp;extragetparams=%7B%22is_public%22%3Atrue%2C%22hc_location%22%3A%22ufi%22%7D\" dir=\"ltr\" href=\"https://web.facebook.com/miranda.robben.5?fref=ufi&amp;rc=p\" target=\"_self\">Miranda Hassen</a></span> <span><span> <span data-ft='{\"tn\":\"K\"}'><span class=\"UFICommentBody\"><span>Mijn bewind heeft gistwr middag van abn naar mijn abn gestort maar staat vandaag nog geen geld op hoe kan dat of staat het er dan morgen</span></span></span></span><div></div></span></span><div class=\"_10lo\"></div></div><span class=\"_36rj\"><a aria-label=\"Hide or embed this\" class=\"UFICommentCloseButton _1-be _xw0 _xw9 _5upp _42ft\" data-hover=\"tooltip\" data-testid=\"ufi_comment_close_button\" data-tooltip-alignh=\"center\" data-tooltip-content=\"Hide or embed this\" href=\"#\" menudata=\"[object Object],[object Object]\" menutype=\"DOTS\" tooltip=\"Hide or embed this\">Manage</a></span></div><span></span><div></div></div><div class=\"fsm fwn fcg UFICommentActions\"><span class=\"_6a _3-me\"><div class=\"_khz _4sz1 _4rw5 _3wv2\"><a aria-pressed=\"false\" class=\"UFILikeLink UFIReactionLink\" data-testid=\"ufi_comment_like_link\" href=\"#\" role=\"button\" tabindex=\"0\">Like</a><span class=\"accessible_elem\" data-accessibilityid=\"virtual_cursor_trigger\" role=\"button\" tabindex=\"-1\">Show more reactions</span></div></span><span aria-hidden=\"true\" role=\"presentation\"> \\xb7 </span><a class=\"UFIReplyLink _460i\" href=\"#\" role=\"button\">Reply</a><span aria-hidden=\"true\" role=\"presentation\"> \\xb7 </span><a class=\"UFITranslateLink\" href=\"#\">See Translation</a><span aria-hidden=\"true\" role=\"presentation\"> \\xb7 </span><span><a class=\"uiLinkSubtle\" data-ft='{\"tn\":\"N\"}' data-testid=\"ufi_comment_timestamp\" href=\"/abnamro/photos/a.248841611793636.73306.206592029351928/2010292862315160/?type=3&amp;comment_id=2012206528790460&amp;comment_tracking=%7B%22tn%22%3A%22R%22%7D\"><abbr class=\"UFISutroCommentTimestamp livetimestamp\" data-minimize=\"true\" data-shorten=\"true\" data-utime=\"1530715303\" title=\"Wednesday, July 4, 2018 at 7:41 PM\">16m</abbr></a></span></div></div></div></div></div></div></div></div><div class=\" UFIReplyList\"><div aria-label=\"Comment reply\" class=\"UFIRow _48ph UFILastComment _48pi _4204 UFIComment _4oep\" data-ft='{\"tn\":\"R9\"}' id=\"comment_js_z\" role=\"article\"><div class=\"_3b-9\"><div><div class=\"clearfix\" direction=\"left\"><div class=\"_ohe lfloat\"><a aria-hidden=\"true\" class=\"UFICommentAuthorWithPresence img _8o _8s UFIImageBlockImage\" data-ft='{\"tn\":\"T\"}' data-hovercard=\"/ajax/hovercard/hovercard.php?id=206592029351928&amp;extragetparams=%7B%22on_public_ufi%22%3Atrue%2C%22hc_location%22%3A%22ufi%22%7D\" href=\"https://web.facebook.com/abnamro/?rc=p\" tabindex=\"-1\" target=\"_self\"><img alt=\"ABN AMRO\" class=\"img UFIActorImage _54ru img\" src=\"https://scontent.fisb3-1.fna.fbcdn.net/v/t1.0-1/p24x24/22090081_1717117228299393_8709906435186478386_n.png?_nc_cat=0&amp;_nc_eui2=AeGpAdI0DyMg0cmU1KL5EjN8r04CTTmA8vJrLwjpr0BI5VFo8ivAaYbVUw51-WNm_fFdKafy3Q4Li7OMOzivnEZJe79mb_UkOiUXTKbzIs9pNA&amp;oh=7416a7271da470c9cd744539117ae287&amp;oe=5BE41122\"/><div class=\"UFICommentAuthorPresence\"></div></a></div><div class=\"\"><div class=\"UFIImageBlockContent _42ef\"><div class=\"UFICommentContentBlock\"><div class=\"UFICommentContent\"><div class=\"_26f8\"><div class=\"_10la _10lg\"><span class=\" UFICommentActorAndBody\"><span class=\"\"><a class=\" UFICommentActorName\" data-ft='{\"tn\":\";\"}' data-hovercard=\"/ajax/hovercard/hovercard.php?id=206592029351928&amp;extragetparams=%7B%22is_public%22%3Atrue%2C%22hc_location%22%3A%22ufi%22%7D\" dir=\"ltr\" href=\"https://web.facebook.com/abnamro/?rc=p\" target=\"_self\">ABN AMRO</a><span class=\"_5dzz _56_f _5dzy\"></span></span> <span><span> <span data-ft='{\"tn\":\"K\"}'><span class=\"UFICommentBody _1n4g\"><span><span>Hey Miranda, </span><br/><br/><span>Ik kan me voorstellen dat je met smart op dit geld zit te wachten. Als je bewindvoerder geld van ABN naar ABN overboekt, moet het direct op je rekening staan. Je kunt dus het best even je bewindvoerder bellen!</span></span><span class=\"_5uzb\">...</span><a class=\"_5v47 fss\" href=\"#\" role=\"button\">See More</a></span></span></span><div></div></span></span><div class=\"_10lo\"></div></div><span class=\"_36rj\"><a aria-label=\"Hide or embed this\" class=\"UFICommentCloseButton _1-be _xw0 _xw9 _5upp _42ft\" data-hover=\"tooltip\" data-testid=\"ufi_comment_close_button\" data-tooltip-alignh=\"center\" data-tooltip-content=\"Hide or embed this\" href=\"#\" menudata=\"[object Object],[object Object]\" menutype=\"DOTS\" tooltip=\"Hide or embed this\">Manage</a></span></div><span></span><div></div></div><div class=\"fsm fwn fcg UFICommentActions\"><span class=\"_6a _3-me\"><div class=\"_khz _4sz1 _4rw5 _3wv2\"><a aria-pressed=\"false\" class=\"UFILikeLink UFIReactionLink\" data-testid=\"ufi_reply_like_link\" href=\"#\" role=\"button\" tabindex=\"0\">Like</a><span class=\"accessible_elem\" data-accessibilityid=\"virtual_cursor_trigger\" role=\"button\" tabindex=\"-1\">Show more reactions</span></div></span><span aria-hidden=\"true\" role=\"presentation\"> \\xb7 </span><a class=\"UFIReplyLink _460i\" href=\"#\" role=\"button\">Reply</a><span aria-hidden=\"true\" role=\"presentation\"> \\xb7 </span><a class=\"UFITranslateLink\" href=\"#\">See Translation</a><span aria-hidden=\"true\" role=\"presentation\"> \\xb7 </span><span><a class=\"uiLinkSubtle\" data-ft='{\"tn\":\"N\"}' data-testid=\"ufi_comment_timestamp\" href=\"/abnamro/photos/a.248841611793636.73306.206592029351928/2010292862315160/?type=3&amp;comment_id=2012206528790460&amp;reply_comment_id=2012217442122702&amp;comment_tracking=%7B%22tn%22%3A%22R9%22%7D\"><abbr class=\"UFISutroCommentTimestamp livetimestamp\" data-minimize=\"true\" data-shorten=\"true\" data-utime=\"1530715781\" title=\"Wednesday, July 4, 2018 at 7:49 PM\">8m</abbr></a></span></div></div></div></div></div></div></div></div><div class=\"UFIRow UFIPagerRow _4oep _2o9m\"><div class=\"clearfix\" direction=\"left\"><div class=\"_ohe lfloat\"><a aria-hidden=\"true\" class=\"UFIPagerIcon img _8o _8r UFIImageBlockImage\" href=\"#\" role=\"button\" tabindex=\"-1\"></a></div><div class=\"\"><div class=\"UFIImageBlockContent _42ef _8u clearfix\" direction=\"right\"><div class=\"_ohf rfloat\"><span class=\"fcg UFIPagerCount\"></span></div><div class=\"\"><a class=\"UFIPagerLink\" href=\"#\" role=\"button\">View more replies</a></div></div></div></div></div></div></div></div>]"
      ]
     },
     "execution_count": 75,
     "metadata": {},
     "output_type": "execute_result"
    }
   ],
   "source": [
    "pcommnets0=post_selector[3].find_all(\"div\", class_=\"_3b-9 _j6a\")\n",
    "pcommnets0"
   ]
  },
  {
   "cell_type": "code",
   "execution_count": 82,
   "metadata": {},
   "outputs": [
    {
     "data": {
      "text/plain": [
       "u'258 Comments'"
      ]
     },
     "execution_count": 82,
     "metadata": {},
     "output_type": "execute_result"
    }
   ],
   "source": []
  },
  {
   "cell_type": "code",
   "execution_count": 34,
   "metadata": {},
   "outputs": [
    {
     "data": {
      "text/plain": [
       "<div class=\"UFICommentContent\"><div class=\"_26f8\"><div class=\"_10la _10lg\"><span class=\" UFICommentActorAndBody\"><span class=\"\"><a class=\" UFICommentActorName\" data-ft='{\"tn\":\";\"}' data-hovercard=\"/ajax/hovercard/hovercard.php?id=100012149652743&amp;extragetparams=%7B%22is_public%22%3Atrue%2C%22hc_location%22%3A%22ufi%22%7D\" dir=\"ltr\" href=\"https://www.facebook.com/CALIS87?fref=ufi&amp;rc=p\" target=\"_self\">Sherin Calista</a></span> <span><span> <span data-ft='{\"tn\":\"K\"}'><span class=\"UFICommentBody\"><span>I can't opened anything when I updated to new version.. What's that good?</span></span></span></span></span></span><div class=\"_10lo\"></div></div><span class=\"_36rj\"><a aria-label=\"Hide or embed this\" class=\"UFICommentCloseButton _1-be _xw0 _xw9 _5upp _42ft\" data-hover=\"tooltip\" data-testid=\"ufi_comment_close_button\" data-tooltip-alignh=\"center\" data-tooltip-content=\"Hide or embed this\" href=\"#\" menudata=\"[object Object],[object Object]\" menutype=\"DOTS\" tooltip=\"Hide or embed this\">Manage</a></span></div><span></span><div></div></div>"
      ]
     },
     "execution_count": 34,
     "metadata": {},
     "output_type": "execute_result"
    }
   ],
   "source": [
    "(post_selector[1].find_all(\"div\", class_=\"UFICommentContent\"))[0]"
   ]
  },
  {
   "cell_type": "code",
   "execution_count": 36,
   "metadata": {},
   "outputs": [
    {
     "data": {
      "text/plain": [
       "3"
      ]
     },
     "execution_count": 36,
     "metadata": {},
     "output_type": "execute_result"
    }
   ],
   "source": [
    "len(post_selector[1].find_all(\"a\", class_=\"UFICommentActorName\"))"
   ]
  }
 ],
 "metadata": {
  "kernelspec": {
   "display_name": "Python 2",
   "language": "python",
   "name": "python2"
  },
  "language_info": {
   "codemirror_mode": {
    "name": "ipython",
    "version": 2
   },
   "file_extension": ".py",
   "mimetype": "text/x-python",
   "name": "python",
   "nbconvert_exporter": "python",
   "pygments_lexer": "ipython2",
   "version": "2.7.14"
  }
 },
 "nbformat": 4,
 "nbformat_minor": 2
}
