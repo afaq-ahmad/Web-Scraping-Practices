{
 "cells": [
  {
   "cell_type": "code",
   "execution_count": 4,
   "metadata": {},
   "outputs": [],
   "source": [
    "from openpyxl import load_workbook\n",
    "\n",
    "from bs4 import BeautifulSoup\n",
    "from selenium import webdriver\n",
    "from time import sleep\n",
    "import csv\n",
    "from random import randint\n",
    "import json, io\n",
    "\n",
    "from selenium.webdriver.common.by import By\n",
    "from selenium.webdriver.common.keys import Keys\n",
    "from selenium.webdriver.support.ui import Select\n",
    "from selenium.webdriver.support.ui import WebDriverWait\n",
    "from selenium.common.exceptions import TimeoutException\n",
    "from selenium.webdriver.support import expected_conditions as EC\n",
    "from selenium.common.exceptions import NoSuchElementException\n",
    "from selenium.common.exceptions import NoAlertPresentException\n",
    "from selenium.webdriver.common.action_chains import ActionChains\n",
    "\n",
    "import urllib\n",
    "import urllib3\n",
    "import requests\n",
    "import json, io\n",
    "from bs4 import BeautifulSoup\n",
    "urllib3.disable_warnings()\n",
    "header = {'User-Agent':'Mozilla/6.0'}\n",
    "\n",
    "\n",
    "chrome_options = webdriver.ChromeOptions()\n",
    "chrome_options.add_argument('--user-agent=\"Mozilla/6.0')\n",
    "chrome_options.add_argument(\"user-data-dir=selenium\")\n",
    "driver = webdriver.Chrome(chrome_options=chrome_options, executable_path=r'chromedriver.exe')\n",
    "\n",
    "\n",
    "# cookies = json.load(open('cookiesdict.txt'))\n",
    "# for cookie in cookies:\n",
    "#     driver.add_cookie(cookie)\n",
    "\n"
   ]
  },
  {
   "cell_type": "code",
   "execution_count": 5,
   "metadata": {},
   "outputs": [],
   "source": [
    "driver.get('https://webcache.gmc-uk.org/gmccgs_enu/start.swe')"
   ]
  },
  {
   "cell_type": "code",
   "execution_count": null,
   "metadata": {},
   "outputs": [],
   "source": [
    "driver.find_elements_by_tag_name('nobr')"
   ]
  },
  {
   "cell_type": "code",
   "execution_count": null,
   "metadata": {},
   "outputs": [],
   "source": [
    "driver.find_elements_by_name('s_1_1_0_0')"
   ]
  },
  {
   "cell_type": "code",
   "execution_count": 12,
   "metadata": {},
   "outputs": [
    {
     "data": {
      "text/plain": [
       "[]"
      ]
     },
     "execution_count": 12,
     "metadata": {},
     "output_type": "execute_result"
    }
   ],
   "source": [
    "so1.find_all('tbody')"
   ]
  },
  {
   "cell_type": "code",
   "execution_count": null,
   "metadata": {},
   "outputs": [],
   "source": []
  },
  {
   "cell_type": "code",
   "execution_count": 11,
   "metadata": {},
   "outputs": [],
   "source": [
    "so1=BeautifulSoup(driver.page_source, 'lxml')"
   ]
  },
  {
   "cell_type": "code",
   "execution_count": 13,
   "metadata": {},
   "outputs": [
    {
     "data": {
      "text/plain": [
       "<html ot=\"SiebWebMainWindow\" xmlns=\"http://www.w3.org/1999/xhtml\"><head>\\n<title>GMC CGS Search</title>\\n<script language=\"javascript\">navigator.id = \"1542406091\";</script><script language=\"javascript\">top._swescript = window;</script><script language=\"javascript\" src=\"23048/scripts/rtcEditor.js\"></script><script language=\"javascript\" src=\"23048/scripts/swecommon_top.js\"></script><script language=\"javascript\" src=\"23048/scripts/swecommon.js\"></script><script language=\"javascript\" src=\"23048/scripts/navctrl.js\"></script><script language=\"javascript\" src=\"23048/scripts/sweutil_keyboard.js\"></script></head>\\n<frameset border=\"0\" frameborder=\"No\" id=\"frset1\" onload='if (navigator.userAgent.toUpperCase().match(/MAC/)){frset1.rows=\"*,0\"}' onunload='SWEUnloadApp(\"/gmccgs_enu/start.swe\",\"\",\"\")' rows=\"100%,0%\">\\n<frame marginheight=\"0\" marginwidth=\"0\" name=\"_sweclient\" noresize=\"\" scrolling=\"No\" src=\"/gmccgs_enu/start.swe?SWECmd=GetCachedFrame&amp;_sn=603Kb66ijyH7h7Mlacf-AZKMozGFEkFKIXh7LpwtyUMNgYNGULGUxUgW7TkTRee-FjOFlOd.T1OMZVwUWunrGudqJzp2uA7F3DHPJxrRKLhdqxrHt8dfPAI5mJCVBKadAnBbJlXhz-L-0XSNrxa0oydjvQ0j4V2lEIKsPTkyXk2JmofbWOv6bTxv7xhNb8eRA.rIpOPvy1g_&amp;SWEC=1&amp;SWEFrame=top._sweclient&amp;SRN=\" title=\"\"/>\\n<frame marginheight=\"0\" marginwidth=\"0\" name=\"_swe\" noresize=\"\" scrolling=\"No\" src=\"/gmccgs_enu/start.swe?SWECmd=GetCachedFrame&amp;_sn=603Kb66ijyH7h7Mlacf-AZKMozGFEkFKIXh7LpwtyUMNgYNGULGUxUgW7TkTRee-FjOFlOd.T1OMZVwUWunrGudqJzp2uA7F3DHPJxrRKLhdqxrHt8dfPAI5mJCVBKadAnBbJlXhz-L-0XSNrxa0oydjvQ0j4V2lEIKsPTkyXk2JmofbWOv6bTxv7xhNb8eRA.rIpOPvy1g_&amp;SWEC=1&amp;SWEFrame=top._swe&amp;SRN=\" tabindex=\"-1\" title=\"\"/>\\n</frameset>\\n</html>"
      ]
     },
     "execution_count": 13,
     "metadata": {},
     "output_type": "execute_result"
    }
   ],
   "source": [
    "so1"
   ]
  },
  {
   "cell_type": "code",
   "execution_count": null,
   "metadata": {},
   "outputs": [],
   "source": []
  },
  {
   "cell_type": "code",
   "execution_count": null,
   "metadata": {},
   "outputs": [],
   "source": []
  }
 ],
 "metadata": {
  "kernelspec": {
   "display_name": "Python 2",
   "language": "python",
   "name": "python2"
  },
  "language_info": {
   "codemirror_mode": {
    "name": "ipython",
    "version": 2
   },
   "file_extension": ".py",
   "mimetype": "text/x-python",
   "name": "python",
   "nbconvert_exporter": "python",
   "pygments_lexer": "ipython2",
   "version": "2.7.14"
  }
 },
 "nbformat": 4,
 "nbformat_minor": 2
}
