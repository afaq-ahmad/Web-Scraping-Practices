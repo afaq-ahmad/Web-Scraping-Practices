{
 "cells": [
  {
   "cell_type": "markdown",
   "metadata": {},
   "source": [
    "# 1.Page Link Scraping"
   ]
  },
  {
   "cell_type": "code",
   "execution_count": null,
   "metadata": {},
   "outputs": [],
   "source": [
    "import bs4\n",
    "import requests\n",
    "from time import sleep\n",
    "datastorage=[]\n",
    "import csv\n"
   ]
  },
  {
   "cell_type": "code",
   "execution_count": null,
   "metadata": {},
   "outputs": [],
   "source": [
    "for w in range(1000,2015):\n",
    "    url='https://www.pakwheels.com/used-cars/search/-/?page='+str(w)\n",
    "    mainpage=requests.get(url)\n",
    "    so0=bs4.BeautifulSoup(mainpage.text,'lxml')\n",
    "    sleep(2)\n",
    "    car_details_link=so0.find_all('a',class_=\"car-name ad-detail-path\")\n",
    "    carlink0='https://www.pakwheels.com/'\n",
    "    for q in range(0,len(car_details_link)):\n",
    "        datastr=['-']*2\n",
    "        carlnk1=car_details_link[q].get('href')\n",
    "        carlink=carlink0+carlnk1\n",
    "        datastr[0]=carlink\n",
    "        datastr[1]=w\n",
    "#         datastorage.append(datastr)\n",
    "        spamWriter = csv.writer(open('output_all_cars_links.csv', 'a'))\n",
    "        spamWriter.writerow(datastr)\n",
    "        \n",
    "    if w%10==0:\n",
    "        print (w)"
   ]
  },
  {
   "cell_type": "markdown",
   "metadata": {},
   "source": [
    "### change the csv to excel remove duplicates"
   ]
  },
  {
   "cell_type": "markdown",
   "metadata": {},
   "source": [
    "# 2.Loading the links from excel"
   ]
  },
  {
   "cell_type": "code",
   "execution_count": null,
   "metadata": {},
   "outputs": [],
   "source": [
    "from openpyxl import load_workbook\n",
    "wb = load_workbook(filename = 'output_all_cars_links.xlsx')\n",
    "sheet_ranges = wb['output_all_cars_links']\n",
    "\n",
    "\n",
    "linksto_profiles=[]\n",
    "for row in sheet_ranges:\n",
    "    linksto_profiles.append(row[0].value)\n",
    "\n",
    "len(linksto_profiles)"
   ]
  },
  {
   "cell_type": "markdown",
   "metadata": {},
   "source": [
    "# 3.Image downloading"
   ]
  },
  {
   "cell_type": "code",
   "execution_count": 3,
   "metadata": {},
   "outputs": [],
   "source": [
    "import requests\n",
    "import shutil\n",
    "from os.path import basename\n",
    "import os\n",
    "from urlparse import urlsplit\n",
    "import urllib2"
   ]
  },
  {
   "cell_type": "code",
   "execution_count": null,
   "metadata": {},
   "outputs": [],
   "source": [
    "#dir is not keyword\n",
    "def makemydir(whatever):\n",
    "    try:\n",
    "        os.makedirs(whatever)\n",
    "    except OSError:\n",
    "        pass\n",
    "    # let exception propagate if we just can't\n",
    "    # cd into the specified directory\n",
    "    os.chdir(whatever)\n",
    "    "
   ]
  },
  {
   "cell_type": "code",
   "execution_count": null,
   "metadata": {},
   "outputs": [],
   "source": [
    "for lnk in range(0,len(linksto_profiles)):\n",
    "    \n",
    "    sleep(2)\n",
    "    mainpage=requests.get(linksto_profiles[lnk])\n",
    "    so0=bs4.BeautifulSoup(mainpage.text,'lxml')\n",
    "\n",
    "    print linksto_profiles[lnk],lnk\n",
    "\n",
    "    breadcrumb=so0.find_all('ul',class_=\"breadcrumb\")[0]\n",
    "    breadcrumb\n",
    "\n",
    "    Brand=breadcrumb.find_all('span')[2].text\n",
    "    Brand\n",
    "\n",
    "    Model=breadcrumb.find_all('span')[3].text\n",
    "    Model\n",
    "\n",
    "    year=so0.find_all('p',itemprop=\"vehicleModelDate\")[0].text.replace('\\n','').replace(' ','')\n",
    "    year\n",
    "\n",
    "    color=so0.find_all('li',itemprop=\"color\")[0].text\n",
    "    color\n",
    "\n",
    "    featured_clearfix=so0.find_all('ul',class_=\"list-unstyled ul-featured clearfix\")[0]\n",
    "    ada_data=featured_clearfix.find_all('li')\n",
    "    for ad in range(len(ada_data)):\n",
    "        if ada_data[ad].text=='Ad Ref #':\n",
    "            Ref=ada_data[ad+1].text\n",
    "    Ref\n",
    "\n",
    "\n",
    "\n",
    "    mb40=so0.find_all('div',class_=\"mb40 pos-rel\")[0]\n",
    "\n",
    "    makemydir(Brand+'/'+Model+'/'+year+'/'+color)\n",
    "\n",
    "    images=mb40.find_all('img')\n",
    "    for image_number in range(len(images)):\n",
    "        url_image=images[image_number].get('data-original')\n",
    "        if url_image!=None:    \n",
    "            image_name=Brand+'_'+Model+'_'+year+'_'+color+'_'+Ref+'_'+str(image_number)+'.'+url_image.split('.')[-1]\n",
    "\n",
    "            r = requests.get(url_image, stream=True, headers={'User-agent': 'Mozilla/5.0'})\n",
    "            if r.status_code == 200:\n",
    "                with open(image_name, 'wb') as f:\n",
    "                    r.raw.decode_content = True\n",
    "                    shutil.copyfileobj(r.raw, f)\n",
    "\n",
    "    os.chdir('..')\n",
    "    os.chdir('..')\n",
    "    os.chdir('..')\n",
    "    os.chdir('..')"
   ]
  },
  {
   "cell_type": "code",
   "execution_count": null,
   "metadata": {},
   "outputs": [],
   "source": []
  },
  {
   "cell_type": "markdown",
   "metadata": {},
   "source": [
    "## if error occured or programmed stopped\n",
    "\n",
    "check the directory first directory must be the main where code is running."
   ]
  },
  {
   "cell_type": "code",
   "execution_count": 7,
   "metadata": {},
   "outputs": [
    {
     "data": {
      "text/plain": [
       "\"C:\\\\Users\\\\Gangolian's PC\""
      ]
     },
     "execution_count": 7,
     "metadata": {},
     "output_type": "execute_result"
    }
   ],
   "source": [
    "os.getcwd() # current directory"
   ]
  },
  {
   "cell_type": "markdown",
   "metadata": {},
   "source": [
    "use \"cd\" to go to the program directory and then run the program."
   ]
  }
 ],
 "metadata": {
  "kernelspec": {
   "display_name": "Python 3",
   "language": "python",
   "name": "python3"
  },
  "language_info": {
   "codemirror_mode": {
    "name": "ipython",
    "version": 3
   },
   "file_extension": ".py",
   "mimetype": "text/x-python",
   "name": "python",
   "nbconvert_exporter": "python",
   "pygments_lexer": "ipython3",
   "version": "3.6.7"
  }
 },
 "nbformat": 4,
 "nbformat_minor": 2
}
