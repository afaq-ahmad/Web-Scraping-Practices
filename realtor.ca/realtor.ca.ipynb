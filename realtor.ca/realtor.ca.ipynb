{
 "cells": [
  {
   "cell_type": "code",
   "execution_count": 2,
   "metadata": {},
   "outputs": [],
   "source": [
    "from selenium import webdriver\n",
    "from selenium.webdriver.common.by import By\n",
    "from selenium.webdriver.common.keys import Keys\n",
    "from selenium.webdriver.support.ui import Select\n",
    "from selenium.webdriver.support.ui import WebDriverWait\n",
    "from selenium.common.exceptions import TimeoutException\n",
    "from selenium.webdriver.support import expected_conditions as EC\n",
    "from selenium.common.exceptions import NoSuchElementException\n",
    "from selenium.common.exceptions import NoAlertPresentException\n",
    "from time import sleep\n",
    "import csv\n",
    "driver = webdriver.Chrome(executable_path=r'/Users/Name/Downloads/Compressed/chromedrives/chromedriver.exe')\n"
   ]
  },
  {
   "cell_type": "code",
   "execution_count": 56,
   "metadata": {},
   "outputs": [],
   "source": [
    "driver.get('https://www.realtor.ca/Residential/Map.aspx#CultureId=1&ApplicationId=1&RecordsPerPage=9&MaximumResults=9&PropertySearchTypeId=1&PriceMax=500000&TransactionTypeId=2&StoreyRange=0-0&BuildingTypeId=1&BedRange=2-0&BathRange=0-0&LongitudeMin=-104.73950671730518&LongitudeMax=-104.38622760353564&LatitudeMin=50.39590733999076&LatitudeMax=50.50302798464609&SortOrder=A&SortBy=1&viewState=l&Longitude=-104.613876342773&Latitude=50.4570668652941&CurrentPage=1&ZoomLevel=12&PropertyTypeGroupID=1')"
   ]
  },
  {
   "cell_type": "code",
   "execution_count": null,
   "metadata": {},
   "outputs": [],
   "source": []
  },
  {
   "cell_type": "code",
   "execution_count": 12,
   "metadata": {},
   "outputs": [],
   "source": []
  },
  {
   "cell_type": "code",
   "execution_count": 33,
   "metadata": {},
   "outputs": [
    {
     "name": "stdout",
     "output_type": "stream",
     "text": [
      "477\n"
     ]
    },
    {
     "data": {
      "text/plain": [
       "0"
      ]
     },
     "execution_count": 33,
     "metadata": {},
     "output_type": "execute_result"
    }
   ],
   "source": [
    "print len(linkstor)\n",
    "len(links0)"
   ]
  },
  {
   "cell_type": "code",
   "execution_count": 27,
   "metadata": {},
   "outputs": [
    {
     "data": {
      "text/plain": [
       "27"
      ]
     },
     "execution_count": 27,
     "metadata": {},
     "output_type": "execute_result"
    }
   ],
   "source": []
  },
  {
   "cell_type": "code",
   "execution_count": 60,
   "metadata": {
    "scrolled": true
   },
   "outputs": [
    {
     "name": "stdout",
     "output_type": "stream",
     "text": [
      "https://www.realtor.ca/Residential/Single-Family/19521128/2744-Rothwell-ST-Regina-Saskatchewan-S4N2E3-Dominion-Heights-RG\n",
      "https://www.realtor.ca/Residential/Single-Family/19682448/4240-Princess-ST-Regina-Saskatchewan-S4S3N3-Albert-Park\n",
      "https://www.realtor.ca/Residential/Single-Family/19597036/5525-Waterer-RD-Regina-Saskatchewan-S0G4G0-Harbour-Landing\n",
      "https://www.realtor.ca/Residential/Single-Family/19478442/6-Fletcher-PL-Regina-Saskatchewan-S4V0A3-University-Park\n",
      "https://www.realtor.ca/Residential/Single-Family/19638213/2226-Newis-BY-E-Regina-Saskatchewan-S4V0S6-Gardiner-Park\n",
      "https://www.realtor.ca/Residential/Single-Family/19620782/4339-Robinson-ST-Regina-Saskatchewan-S4S3E4-Albert-Park\n",
      "https://www.realtor.ca/Residential/Single-Family/18788686/4300-Acadia-DR-Regina-Saskatchewan-S4S4C5-Whitmore-Park\n",
      "https://www.realtor.ca/Residential/Single-Family/19504532/3247-Gordon-RD-Regina-Saskatchewan-S4S2V3-Albert-Park\n",
      "https://www.realtor.ca/Residential/Single-Family/19458513/3136-Crosbie-CRES-Regina-Saskatchewan-S4V3S2-Eastbrook\n",
      "https://www.realtor.ca/Residential/Single-Family/19620782/4339-Robinson-ST-Regina-Saskatchewan-S4S3E4-Albert-Park\n",
      "https://www.realtor.ca/Residential/Single-Family/19504532/3247-Gordon-RD-Regina-Saskatchewan-S4S2V3-Albert-Park\n",
      "https://www.realtor.ca/Residential/Single-Family/19390759/4013-Victoria-AVE-Regina-Saskatchewan-S4T1M8-Cathedral-RG\n",
      "https://www.realtor.ca/Residential/Single-Family/19607995/5188-Donnelly-CRES-Regina-Saskatchewan-S4X4M9-Garden-Ridge\n",
      "https://www.realtor.ca/Residential/Single-Family/19669996/191-Wells-ST-Regina-Saskatchewan-S4R5Z6-Walsh-Acres\n",
      "https://www.realtor.ca/Residential/Single-Family/19584580/3668-Green-Bank-RD-Regina-Saskatchewan-S4V1P6-Greens-on-Gardiner\n",
      "https://www.realtor.ca/Residential/Single-Family/19700860/1006-Orchid-WAY-N-Regina-Saskatchewan-S4X4R5-Garden-Ridge\n",
      "https://www.realtor.ca/Residential/Single-Family/19699495/1046-GOODMURPHY-BY-N-Regina-Saskatchewan-S4X2P7-Sherwood-Estates\n",
      "https://www.realtor.ca/Residential/Single-Family/19311922/6335-Leger-BY-Regina-Saskatchewan-S4X2K4-McCarthy-Park\n",
      "https://www.realtor.ca/Residential/Single-Family/19710454/68-Ritchie-CRES-Regina-Saskatchewan-S4R5A4-Normanview\n",
      "https://www.realtor.ca/Residential/Single-Family/19709988/1111-Dorothy-ST-Regina-Saskatchewan-S4X1A3-Normanview-West\n",
      "https://www.realtor.ca/Residential/Single-Family/19584281/850-Erb-BY-Regina-Saskatchewan-S4N7B2-Parkridge-RG\n",
      "https://www.realtor.ca/Residential/Single-Family/19387077/1934-Retallack-ST-Regina-Saskatchewan-S4T2J9-Cathedral-RG\n",
      "https://www.realtor.ca/Residential/Single-Family/19714771/2070-York-ST-Regina-Saskatchewan-S4T4R6-Pioneer-Village\n",
      "https://www.realtor.ca/Residential/Single-Family/19660925/2354-St-John-ST-Regina-Saskatchewan-S4P1S6-General-Hospital\n",
      "https://www.realtor.ca/Residential/Single-Family/19705150/2479-Wallace-ST-Regina-Saskatchewan-S4N4B2-Arnhem-Place\n",
      "https://www.realtor.ca/Residential/Single-Family/19621828/921-Broadway-AVE-E-Regina-Saskatchewan-S4N1A6-Dominion-Heights-RG\n",
      "https://www.realtor.ca/Residential/Single-Family/19626841/2825-Quinn-DR-Regina-Saskatchewan-S4P2W2-Arnhem-Place\n",
      "https://www.realtor.ca/Residential/Single-Family/19699495/1046-GOODMURPHY-BY-N-Regina-Saskatchewan-S4X2P7-Sherwood-Estates\n",
      "https://www.realtor.ca/Residential/Single-Family/19700860/1006-Orchid-WAY-N-Regina-Saskatchewan-S4X4R5-Garden-Ridge\n",
      "https://www.realtor.ca/Residential/Single-Family/19584281/850-Erb-BY-Regina-Saskatchewan-S4N7B2-Parkridge-RG\n",
      "https://www.realtor.ca/Residential/Single-Family/19133209/1434-Ellice-ST-Regina-Saskatchewan-S4T5S3-Mount-Royal-RG\n",
      "https://www.realtor.ca/Residential/Single-Family/19410122/38-SCOTT-ST-Regina-Saskatchewan-S4S4A2-Hillsdale\n",
      "https://www.realtor.ca/Residential/Single-Family/19584567/71-Sunset-DR-Regina-Saskatchewan-S4S2R6-Albert-Park\n",
      "https://www.realtor.ca/Residential/Single-Family/19607603/10-McMaster-PL-Regina-Saskatchewan-S4V0B4-University-Park\n",
      "https://www.realtor.ca/Residential/Single-Family/19658911/2761-McDonald-ST-Regina-Saskatchewan-S4N2Z9-Arnhem-Place\n",
      "https://www.realtor.ca/Residential/Single-Family/19659700/2255-Garnet-ST-Regina-Saskatchewan-S4T3A1-Cathedral-RG\n",
      "https://www.realtor.ca/Residential/Single-Family/19675484/4027-PASQUA-ST-Regina-Saskatchewan-S4S6C8-Parliament-Place\n",
      "https://www.realtor.ca/Residential/Single-Family/19259796/4433-ACADIA-DR-Regina-Saskatchewan-S4S4T5-Whitmore-Park\n",
      "https://www.realtor.ca/Residential/Single-Family/19628694/2432-14th-AVE-Regina-Saskatchewan-S4P0Y3-Transition-Area\n",
      "https://www.realtor.ca/Residential/Single-Family/19610333/910-Rowell-CRES-N-Regina-Saskatchewan-S4X2A6-McCarthy-Park\n",
      "https://www.realtor.ca/Residential/Single-Family/19427244/10-Bastedo-CRES-Regina-Saskatchewan-S4T6X9-Normanview-West\n",
      "https://www.realtor.ca/Residential/Single-Family/19429680/903-McIntosh-ST-N-Regina-Saskatchewan-S4R6M9-Walsh-Acres\n",
      "https://www.realtor.ca/Residential/Single-Family/19613173/6106-1st-AVE-N-Regina-Saskatchewan-S4T6Z7-Normanview-West\n",
      "https://www.realtor.ca/Residential/Single-Family/19584506/35-Boucher-CRES-Regina-Saskatchewan-S4R7E2-Argyle-Park\n",
      "https://www.realtor.ca/Residential/Single-Family/19584846/27-Donahue-AVE-Regina-Saskatchewan-S4R3Y7-Coronation-Park\n",
      "https://www.realtor.ca/Residential/Single-Family/19613173/6106-1st-AVE-N-Regina-Saskatchewan-S4T6Z7-Normanview-West\n",
      "https://www.realtor.ca/Residential/Single-Family/19619759/639-Argyle-ST-Regina-Saskatchewan-S4T3P5-Washington-Park\n",
      "https://www.realtor.ca/Residential/Single-Family/19584846/27-Donahue-AVE-Regina-Saskatchewan-S4R3Y7-Coronation-Park\n",
      "https://www.realtor.ca/Residential/Single-Family/19642448/68-Atchison-CRES-Regina-Saskatchewan-S4R5J9-Normanview\n",
      "https://www.realtor.ca/Residential/Single-Family/19655250/3723-Jenkins-DR-Regina-Saskatchewan-S4N7P5-Parkridge-RG\n",
      "https://www.realtor.ca/Residential/Single-Family/19584235/8-Simpson-RD-Regina-Saskatchewan-S4S2Y7-Albert-Park\n",
      "https://www.realtor.ca/Residential/Single-Family/19584596/2960-Robinson-ST-Regina-Saskatchewan-S4S1V1-Lakeview-RG\n",
      "https://www.realtor.ca/Residential/Single-Family/19248238/2235-Garnet-ST-Regina-Saskatchewan-S4T3A1-Cathedral-RG\n",
      "https://www.realtor.ca/Residential/Single-Family/19624129/157-Davidson-CRES-Regina-Saskatchewan-S4S4T2-Whitmore-Park\n",
      "https://www.realtor.ca/Residential/Single-Family/19437693/17-BOLE-PL-Regina-Saskatchewan-S4S3W8-Hillsdale\n",
      "https://www.realtor.ca/Residential/Single-Family/19720864/400-Garnet-ST-N-Regina-Saskatchewan-S4R3T1\n",
      "https://www.realtor.ca/Residential/Single-Family/19425629/2474-Atkinson-ST-Regina-Saskatchewan-S4N3X5-Arnhem-Place\n",
      "https://www.realtor.ca/Residential/Single-Family/19440615/2942-Kutarna-CRES-Regina-Saskatchewan-S4V0T3-Wood-Meadows\n",
      "https://www.realtor.ca/Residential/Single-Family/19584725/26-Stice-CRES-Regina-Saskatchewan-S4N4P8-Glencairn-Village\n",
      "https://www.realtor.ca/Residential/Single-Family/19452193/655-Montague-ST-Regina-Saskatchewan-S4T3G8-Washington-Park\n",
      "https://www.realtor.ca/Residential/Single-Family/19594571/39-Langdale-BY-Regina-Saskatchewan-S4X1P1-Sherwood-Estates\n",
      "https://www.realtor.ca/Residential/Single-Family/19584574/43-Aitken-CRES-Regina-Saskatchewan-S4R5Z2-Uplands\n",
      "https://www.realtor.ca/Residential/Single-Family/19617698/31-Lawson-ST-Regina-Saskatchewan-S4R3P6-Coronation-Park\n",
      "https://www.realtor.ca/Residential/Single-Family/19659914/5304-2nd-AVE-Regina-Saskatchewan-S4T0B8-Rosemont\n",
      "https://www.realtor.ca/Residential/Single-Family/19661979/106-Upland-DR-Regina-Saskatchewan-S4R0C2-Uplands\n",
      "https://www.realtor.ca/Residential/Single-Family/19621126/2070-Pasqua-ST-Regina-Saskatchewan-S4T4L9-Cathedral-RG\n",
      "https://www.realtor.ca/Residential/Single-Family/19660465/3010-Truesdale-DR-E-Regina-Saskatchewan-S4V1W8-Wood-Meadows\n",
      "https://www.realtor.ca/Residential/Single-Family/19646699/3637-Queen-ST-Regina-Saskatchewan-S4S2G4-Lakeview-RG\n",
      "https://www.realtor.ca/Residential/Single-Family/19661978/34-Elmwood-PL-Regina-Saskatchewan-S4S5M3-Whitmore-Park\n",
      "https://www.realtor.ca/Residential/Single-Family/19474135/2811-Howell-DR-Regina-Saskatchewan-S4N6G1-Glencairn-Village\n",
      "https://www.realtor.ca/Residential/Single-Family/19515236/75-Weekes-CRES-Regina-Saskatchewan-S4R6Y1-Uplands\n",
      "https://www.realtor.ca/Residential/Single-Family/19495718/1030-Goodmurphy-BY-N-Regina-Saskatchewan-S4X2P7-Sherwood-Estates\n"
     ]
    },
    {
     "name": "stdout",
     "output_type": "stream",
     "text": [
      "https://www.realtor.ca/Residential/Single-Family/19495718/1030-Goodmurphy-BY-N-Regina-Saskatchewan-S4X2P7-Sherwood-Estates\n",
      "https://www.realtor.ca/Residential/Single-Family/19612499/834-Lansdowne-DR-N-Regina-Saskatchewan-S4X2L3-McCarthy-Park\n",
      "https://www.realtor.ca/Residential/Single-Family/19704748/63-Tremaine-AVE-Regina-Saskatchewan-S4R6N6-Walsh-Acres\n",
      "https://www.realtor.ca/Residential/Single-Family/19624207/3101-Garnet-ST-Regina-Saskatchewan-S4S1X6-Lakeview-RG\n",
      "https://www.realtor.ca/Residential/Single-Family/19628249/3128-GRANT-RD-Regina-Saskatchewan-S4S5H1-Whitmore-Park\n",
      "https://www.realtor.ca/Residential/Single-Family/19302061/3939-Cameron-ST-Regina-Saskatchewan-S4S3E8-Parliament-Place\n",
      "https://www.realtor.ca/Residential/Single-Family/19666666/2440-Francis-ST-Regina-Saskatchewan-S4N2P9-Broders-Annex\n",
      "https://www.realtor.ca/Residential/Single-Family/19584213/65-Angus-CRES-Regina-Saskatchewan-S4T6N1-Crescents\n",
      "https://www.realtor.ca/Residential/Single-Family/19487513/2773-Broder-ST-Regina-Saskatchewan-S4N3T8-Arnhem-Place\n",
      "https://www.realtor.ca/Residential/Single-Family/19612499/834-Lansdowne-DR-N-Regina-Saskatchewan-S4X2L3-McCarthy-Park\n",
      "https://www.realtor.ca/Residential/Single-Family/19097419/2802-Victoria-AVE-Regina-Saskatchewan-S4T1K2-Cathedral-RG\n",
      "https://www.realtor.ca/Residential/Single-Family/19584333/1530-10th-AVE-Regina-Saskatchewan-S4N7P6-Glen-Elm-Park\n",
      "https://www.realtor.ca/Residential/Single-Family/19584881/73-Mikkelson-DR-Regina-Saskatchewan-S4T6B9-Mount-Royal-RG\n",
      "https://www.realtor.ca/Residential/Single-Family/19435802/318-Cornwall-ST-N-Regina-Saskatchewan-S4R2G6-Cityview\n",
      "https://www.realtor.ca/Residential/Single-Family/19398957/216-Habkirk-DR-Regina-Saskatchewan-S4S2X8-Albert-Park\n",
      "https://www.realtor.ca/Residential/Single-Family/19664996/3034-Kings-RD-Regina-Saskatchewan-S4S2H6-River-Heights-RG\n",
      "https://www.realtor.ca/Residential/Single-Family/19584513/3708-Queens-GT-Regina-Saskatchewan-S4S7J1-Lakeview-RG\n",
      "https://www.realtor.ca/Residential/Single-Family/19587402/348-Argyle-ST-N-Regina-Saskatchewan-S4R4C8-Coronation-Park\n",
      "https://www.realtor.ca/Residential/Single-Family/19156605/4403-England-RD-Regina-Saskatchewan-S4R4P2-Regent-Park\n",
      "https://www.realtor.ca/Residential/Single-Family/19391659/94-Greenwood-CRES-Regina-Saskatchewan-S4X1G2-Normanview-West\n",
      "https://www.realtor.ca/Residential/Single-Family/19400997/596-Dalgliesh-DR-Regina-Saskatchewan-S4R6L8-Walsh-Acres\n",
      "https://www.realtor.ca/Residential/Single-Family/19584329/2511-Truesdale-DR-Regina-Saskatchewan-S4V0W3-Gardiner-Heights\n",
      "https://www.realtor.ca/Residential/Single-Family/19628695/2769-Park-ST-Regina-Saskatchewan-S4N2H4-Dominion-Heights-RG\n",
      "https://www.realtor.ca/Residential/Single-Family/19589580/119-Mackenzie-CRES-Regina-Saskatchewan-S4N5G4-Glencairn-Village\n",
      "https://www.realtor.ca/Residential/Single-Family/19698246/1600-Uhrich-AVE-Regina-Saskatchewan-S4S4R5-Hillsdale\n",
      "https://www.realtor.ca/Residential/Single-Family/19648292/2309-Grant-RD-Regina-Saskatchewan-S4S5V1-Whitmore-Park\n",
      "https://www.realtor.ca/Residential/Single-Family/19138388/2055-McTavish-ST-Regina-Saskatchewan-S4T3W8-Cathedral-RG\n",
      "https://www.realtor.ca/Residential/Single-Family/19589580/119-Mackenzie-CRES-Regina-Saskatchewan-S4N5G4-Glencairn-Village\n",
      "https://www.realtor.ca/Residential/Single-Family/19480799/79-Kennedy-CRES-Regina-Saskatchewan-S4R6G3-Walsh-Acres\n",
      "https://www.realtor.ca/Residential/Single-Family/19584214/1007-Arnason-ST-N-Regina-Saskatchewan-S4X2T1-Sherwood-Estates\n",
      "https://www.realtor.ca/Residential/Single-Family/19648756/66-Bauermeister-ST-Regina-Saskatchewan-S4R5N6-Uplands\n",
      "https://www.realtor.ca/Residential/Single-Family/19391653/1951-Montreal-ST-Regina-Saskatchewan-S4P1L4-General-Hospital\n",
      "https://www.realtor.ca/Residential/Single-Family/19393345/2336-Garnet-ST-Regina-Saskatchewan-S4T3A2-Cathedral-RG\n",
      "https://www.realtor.ca/Residential/Single-Family/19655995/2673-Rothwell-ST-Regina-Saskatchewan-S4N2E2-Dominion-Heights-RG\n",
      "https://www.realtor.ca/Residential/Single-Family/19706931/2715-Corbett-RD-Regina-Saskatchewan-S4R8J1-Engelwood\n",
      "https://www.realtor.ca/Residential/Single-Family/19584779/40-Ritchie-CRES-Regina-Saskatchewan-S4R5A4-Normanview\n",
      "https://www.realtor.ca/Residential/Single-Family/19584822/101-Frontenac-DR-Regina-Saskatchewan-S4S4L1-Whitmore-Park\n",
      "https://www.realtor.ca/Residential/Single-Family/19724474/3633-Queen-ST-Regina-Saskatchewan-S4S2G4-Lakeview-RG\n",
      "https://www.realtor.ca/Residential/Single-Family/19499257/111-Pappas-CRES-Regina-Saskatchewan-S4R7G7-Walsh-Acres\n",
      "https://www.realtor.ca/Residential/Single-Family/19511981/35-Markwell-DR-Regina-Saskatchewan-S4X1K2-Sherwood-Estates\n",
      "https://www.realtor.ca/Residential/Single-Family/19295617/10-Hayes-CRES-Regina-Saskatchewan-S4X1B2-Normanview-West\n",
      "https://www.realtor.ca/Residential/Single-Family/19373642/3038-Huntington-PL-Regina-Saskatchewan-S4V1Y1-Gardiner-Heights\n",
      "https://www.realtor.ca/Residential/Single-Family/19584778/946-Broad-ST-N-Regina-Saskatchewan-S4R5V7-Uplands\n",
      "https://www.realtor.ca/Residential/Single-Family/19658066/6718-Dalgliesh-DR-Regina-Saskatchewan-S4X2K7-Sherwood-Estates\n",
      "https://www.realtor.ca/Residential/Single-Family/19625809/32-Cannon-ST-Regina-Saskatchewan-S4N1L8-Glencairn\n",
      "https://www.realtor.ca/Residential/Single-Family/19659353/2304-Dewdney-AVE-E-Regina-Saskatchewan-S4N4E1-Glencairn\n",
      "https://www.realtor.ca/Residential/Single-Family/19714460/3023-Assiniboine-AVE-Regina-Saskatchewan-S4S1E2-Lakeview-RG\n",
      "https://www.realtor.ca/Residential/Single-Family/19267417/11-Atchison-CRES-Regina-Saskatchewan-S4R5J8-Normanview\n",
      "https://www.realtor.ca/Residential/Single-Family/18699479/243-St-John-ST-Regina-Saskatchewan-S4R1P8-Churchill-Downs\n",
      "https://www.realtor.ca/Residential/Single-Family/19625809/32-Cannon-ST-Regina-Saskatchewan-S4N1L8-Glencairn\n",
      "https://www.realtor.ca/Residential/Single-Family/19677713/3023-Regina-AVE-Regina-Saskatchewan-S4S0G8-Lakeview-RG\n",
      "https://www.realtor.ca/Residential/Single-Family/19584313/3021-Argyle-RD-Regina-Saskatchewan-S4S2B3-Lakeview-RG\n",
      "https://www.realtor.ca/Residential/Single-Family/19498389/2926-Kutarna-CRES-Regina-Saskatchewan-S4V2P2-Wood-Meadows\n",
      "https://www.realtor.ca/Residential/Single-Family/19476052/4554-James-Hill-RD-Regina-Saskatchewan-S4W0K8-Harbour-Landing\n",
      "https://www.realtor.ca/Residential/Single-Family/19418779/4004-Regina-AVE-Regina-Saskatchewan-S4S0H9-Lakeview-RG\n",
      "https://www.realtor.ca/Residential/Single-Family/19440973/603-Mullin-AVE-E-Regina-Saskatchewan-S4N1E1-Arnhem-Place\n",
      "https://www.realtor.ca/Residential/Single-Family/19584673/2810-Abbott-RD-Regina-Saskatchewan-S4N2J8-Arnhem-Place\n",
      "https://www.realtor.ca/Residential/Single-Family/19689243/1953-Argyle-ST-Regina-Saskatchewan-S4T3S6-Cathedral-RG\n",
      "https://www.realtor.ca/Residential/Single-Family/19247587/3130-Victoria-AVE-Regina-Saskatchewan-S4T1L2-Cathedral-RG\n",
      "https://www.realtor.ca/Residential/Single-Family/19429979/49-Darke-CRES-Regina-Saskatchewan-S4S2W5-Hillsdale\n",
      "https://www.realtor.ca/Residential/Single-Family/19346774/75-Rawlinson-CRES-Regina-Saskatchewan-S4S6B7-Parliament-Place\n",
      "https://www.realtor.ca/Residential/Single-Family/19316744/2758-Mackay-ST-Regina-Saskatchewan-S4N2T7-Arnhem-Place\n",
      "https://www.realtor.ca/Residential/Single-Family/19666663/2742-Borden-ST-Regina-Saskatchewan-S4N2L1-Arnhem-Place\n",
      "https://www.realtor.ca/Residential/Single-Family/19619870/624-17th-AVE-E-Regina-Saskatchewan-S4N0Y7-Arnhem-Place\n",
      "https://www.realtor.ca/Residential/Single-Family/19666663/2742-Borden-ST-Regina-Saskatchewan-S4N2L1-Arnhem-Place\n",
      "https://www.realtor.ca/Residential/Single-Family/19658912/2209-Toronto-ST-Regina-Saskatchewan-S4P1N5-General-Hospital\n",
      "https://www.realtor.ca/Residential/Single-Family/19683542/115-Vernon-CRES-Regina-Saskatchewan-S4P7S8-Argyle-Park\n",
      "https://www.realtor.ca/Residential/Single-Family/19584229/18-Fyfe-ST-Regina-Saskatchewan-S4X1J8-Sherwood-Estates\n",
      "https://www.realtor.ca/Residential/Single-Family/19504530/12-Sandison-CRES-Regina-Saskatchewan-S4R6R9-Walsh-Acres\n",
      "https://www.realtor.ca/Residential/Single-Family/19422034/874-Seymour-CRES-N-Regina-Saskatchewan-S4X2G4-McCarthy-Park\n",
      "https://www.realtor.ca/Residential/Single-Family/19418783/1949-Garnet-ST-Regina-Saskatchewan-S4T2Z5-Cathedral-RG\n",
      "https://www.realtor.ca/Residential/Single-Family/19589582/2936-12th-AVE-Regina-Saskatchewan-S4T1J5-Cathedral-RG\n"
     ]
    },
    {
     "name": "stdout",
     "output_type": "stream",
     "text": [
      "https://www.realtor.ca/Residential/Single-Family/19683090/14-Mollard-CRES-Regina-Saskatchewan-S4T6J2-Mount-Royal-RG\n",
      "https://www.realtor.ca/Residential/Single-Family/19704746/2504-Elliott-ST-Regina-Saskatchewan-S4N3H5-Arnhem-Place\n",
      "https://www.realtor.ca/Residential/Single-Family/19589937/79-Weekes-CRES-Regina-Saskatchewan-S4R6Y1-Uplands\n",
      "https://www.realtor.ca/Residential/Single-Family/19604213/3236-6th-AVE-N-Regina-Saskatchewan-S4R0P6-Coronation-Park\n",
      "https://www.realtor.ca/Residential/Single-Family/19698394/718-Dolan-ST-N-Regina-Saskatchewan-S4X1Z6-Sherwood-Estates\n",
      "https://www.realtor.ca/Residential/Single-Family/19252507/116-Smith-ST-N-Regina-Saskatchewan-S4R3B4-Churchill-Downs\n",
      "https://www.realtor.ca/Residential/Single-Family/19302886/426-Rink-AVE-Regina-Saskatchewan-S4X1S7-McCarthy-Park\n",
      "https://www.realtor.ca/Residential/Single-Family/19694501/6556-Dewdney-AVE-Regina-Saskatchewan-S4T1E5-Mount-Royal-RG\n",
      "https://www.realtor.ca/Residential/Single-Family/19496064/1706-Fleet-ST-Regina-Saskatchewan-S4N6B4-Glencairn\n",
      "https://www.realtor.ca/Residential/Single-Family/19690779/275-Fairview-RD-Regina-Saskatchewan-S4R5V1-Uplands\n",
      "https://www.realtor.ca/Residential/Single-Family/19302886/426-Rink-AVE-Regina-Saskatchewan-S4X1S7-McCarthy-Park\n",
      "https://www.realtor.ca/Residential/Single-Family/19694501/6556-Dewdney-AVE-Regina-Saskatchewan-S4T1E5-Mount-Royal-RG\n",
      "https://www.realtor.ca/Residential/Single-Family/19257340/1747-Rupert-ST-Regina-Saskatchewan-S4N1W4-Glen-Elm-Park\n",
      "https://www.realtor.ca/Residential/Single-Family/19701546/62-Langley-ST-Regina-Saskatchewan-S4S3V6-Hillsdale\n",
      "https://www.realtor.ca/Residential/Single-Family/19511204/830-Dolan-ST-N-Regina-Saskatchewan-S4X1T7-Sherwood-Estates\n",
      "https://www.realtor.ca/Residential/Single-Family/19586328/299-Tremaine-AVE-Regina-Saskatchewan-S4R6T9-Walsh-Acres\n",
      "https://www.realtor.ca/Residential/Single-Family/19454446/158-Williston-DR-Regina-Saskatchewan-S4X1C6-Normanview-West\n",
      "https://www.realtor.ca/Residential/Single-Family/19284878/910-Devonshire-DR-N-Regina-Saskatchewan-S4X2L8-McCarthy-Park\n",
      "https://www.realtor.ca/Residential/Single-Family/19701096/2067-McTavish-ST-Regina-Saskatchewan-S4T3W8-Cathedral-RG\n",
      "https://www.realtor.ca/Residential/Single-Family/19591437/63-Franklin-ST-Regina-Saskatchewan-S4R4E5-Coronation-Park\n",
      "https://www.realtor.ca/Residential/Single-Family/19608619/2245-Mcara-ST-Regina-Saskatchewan-S4N2W2-Broders-Annex\n",
      "https://www.realtor.ca/Residential/Single-Family/19677403/2645-Wallace-ST-Regina-Saskatchewan-S4N4B7-Arnhem-Place\n",
      "https://www.realtor.ca/Residential/Single-Family/19607997/1650-Jubilee-AVE-Regina-Saskatchewan-S4S3T4-Hillsdale\n",
      "https://www.realtor.ca/Residential/Single-Family/19632023/66-Martin-ST-Regina-Saskatchewan-S4S3W3-Hillsdale\n",
      "https://www.realtor.ca/Residential/Single-Family/19584227/2769-Mcara-ST-Regina-Saskatchewan-S4N2X2-Arnhem-Place\n",
      "https://www.realtor.ca/Residential/Single-Family/18798970/64-Gardiner-AVE-Regina-Saskatchewan-S4S4P6-Hillsdale\n",
      "https://www.realtor.ca/Residential/Single-Family/18763908/3417-Mason-AVE-Regina-Saskatchewan-S4S0Z5-Lakeview-RG\n",
      "https://www.realtor.ca/Residential/Single-Family/19316354/343-McIntosh-ST-Regina-Saskatchewan-S4R4Z6-Regent-Park\n",
      "https://www.realtor.ca/Residential/Single-Family/19428485/136-Quebec-ST-N-Regina-Saskatchewan-S4R2S1-Churchill-Downs\n",
      "https://www.realtor.ca/Residential/Single-Family/19584887/381-Froom-CRES-Regina-Saskatchewan-S4N1T5-Glen-Elm-Park\n",
      "https://www.realtor.ca/Residential/Single-Family/19584249/166-Forsyth-CRES-Regina-Saskatchewan-S4R5L7-Normanview\n",
      "https://www.realtor.ca/Residential/Single-Family/19499259/1158-Fleet-ST-Regina-Saskatchewan-S4N6M2-Glencairn\n",
      "https://www.realtor.ca/Residential/Single-Family/19521166/3323-13th-AVE-Regina-Saskatchewan-S4T1P6-Cathedral-RG\n",
      "https://www.realtor.ca/Residential/Single-Family/19701394/6114-4th-AVE-Regina-Saskatchewan-S4T0K9-Mount-Royal-RG\n",
      "https://www.realtor.ca/Residential/Single-Family/19678063/1042-Graham-RD-Regina-Saskatchewan-S4N5Z6-Parkridge-RG\n",
      "https://www.realtor.ca/Residential/Single-Family/19654982/636-Princess-ST-Regina-Saskatchewan-S4T3X5-Washington-Park\n",
      "https://www.realtor.ca/Residential/Single-Family/19620114/2745-Mackay-ST-Regina-Saskatchewan-S4N2T8-Arnhem-Place\n",
      "https://www.realtor.ca/Residential/Single-Family/19652623/248-McIntosh-ST-N-Regina-Saskatchewan-S4R4Z9-Normanview\n",
      "https://www.realtor.ca/Residential/Single-Family/19684437/14-Bird-BY-Regina-Saskatchewan-S4N1P9-Glencairn\n",
      "https://www.realtor.ca/Residential/Single-Family/19633193/2835-15th-AVE-Regina-Saskatchewan-S4T1S6-Cathedral-RG\n",
      "https://www.realtor.ca/Residential/Single-Family/19633979/222-Angus-ST-Regina-Saskatchewan-S4R3K4-Coronation-Park\n",
      "https://www.realtor.ca/Residential/Single-Family/19707583/2700-Harvey-ST-Regina-Saskatchewan-S4N2N6-Arnhem-Place\n",
      "https://www.realtor.ca/Residential/Single-Family/19584372/3611-Jenkins-DR-E-Regina-Saskatchewan-S4N7G9-Parkridge-RG\n",
      "https://www.realtor.ca/Residential/Single-Family/19306296/79-McSherry-CRES-Regina-Saskatchewan-S4T7B5-Normanview-West\n",
      "https://www.realtor.ca/Residential/Single-Family/19171528/126-Milford-CRES-Regina-Saskatchewan-S4N1K8-Glencairn\n",
      "https://www.realtor.ca/Residential/Single-Family/19626460/1354-Horace-ST-Regina-Saskatchewan-S4T5T6-Rosemont\n",
      "https://www.realtor.ca/Residential/Single-Family/19584894/3016-Parliament-AVE-Regina-Saskatchewan-S4S2L5-Parliament-Place\n",
      "https://www.realtor.ca/Residential/Single-Family/19190915/6302-1st-AVE-N-Regina-Saskatchewan-S4T6Z9-Normanview-West\n",
      "https://www.realtor.ca/Residential/Single-Family/19627435/266-Montreal-ST-N-Regina-Saskatchewan-S4R2S9-Churchill-Downs\n",
      "https://www.realtor.ca/Residential/Single-Family/19617697/5409-McKinley-AVE-Regina-Saskatchewan-S4T7M3-Mount-Royal-RG\n",
      "https://www.realtor.ca/Residential/Single-Family/19647929/30-Wilson-CRES-Regina-Saskatchewan-S4R5B3-Normanview\n",
      "https://www.realtor.ca/Residential/Single-Family/19688505/5-Stapleford-CRES-Regina-Saskatchewan-S4R4S3-Regent-Park\n",
      "https://www.realtor.ca/Residential/Single-Family/19486307/7066-Blakeney-DR-Regina-Saskatchewan-S4X2N5-Sherwood-Estates\n",
      "https://www.realtor.ca/Residential/Single-Family/19368856/367-Royal-ST-Regina-Saskatchewan-S4R4Y3-Regent-Park\n",
      "https://www.realtor.ca/Residential/Single-Family/19368856/367-Royal-ST-Regina-Saskatchewan-S4R4Y3-Regent-Park\n",
      "https://www.realtor.ca/Residential/Single-Family/19363368/4612-Castle-RD-Regina-Saskatchewan-S4S4X1-Whitmore-Park\n",
      "https://www.realtor.ca/Residential/Single-Family/19704463/4535-Castle-RD-Regina-Saskatchewan-S4S4W6-Whitmore-Park\n",
      "https://www.realtor.ca/Residential/Single-Family/19688503/7-Richardson-CRES-Regina-Saskatchewan-S4S4J2-Whitmore-Park\n",
      "https://www.realtor.ca/Residential/Single-Family/19164059/1570-Cameron-ST-Regina-Saskatchewan-S4T2T6-Washington-Park\n",
      "https://www.realtor.ca/Residential/Single-Family/19604212/4125-Princess-ST-Regina-Saskatchewan-S4S3N4-Parliament-Place\n",
      "https://www.realtor.ca/Residential/Single-Family/19412616/66-Haultain-CRES-Regina-Saskatchewan-S4S4B5-Hillsdale\n",
      "https://www.realtor.ca/Residential/Single-Family/19450383/2652-Mcara-ST-Regina-Saskatchewan-S4N2W9-Arnhem-Place\n",
      "https://www.realtor.ca/Residential/Single-Family/19454029/2121-King-ST-Regina-Saskatchewan-S4T4G9-Cathedral-RG\n",
      "https://www.realtor.ca/Residential/Single-Family/18661871/3205-Grant-RD-Regina-Saskatchewan-S4S5H3-Whitmore-Park\n",
      "https://www.realtor.ca/Residential/Single-Family/19405899/1307-Fleet-ST-Regina-Saskatchewan-S4N5R4-Glencairn-Village\n",
      "https://www.realtor.ca/Residential/Single-Family/19387080/225-Angus-ST-Regina-Saskatchewan-S4R3K5-Coronation-Park\n",
      "https://www.realtor.ca/Residential/Single-Family/19392629/625-Royal-ST-Regina-Saskatchewan-S4T4Z3-Rosemont\n",
      "https://www.realtor.ca/Residential/Single-Family/19584344/10-Hughes-ST-Regina-Saskatchewan-S4X1G9-Normanview-West\n",
      "https://www.realtor.ca/Residential/Single-Family/19671791/1435-Connaught-ST-Regina-Saskatchewan-S4T4T1-Rosemont\n",
      "https://www.realtor.ca/Residential/Single-Family/19656556/458-Sangster-BLVD-Regina-Saskatchewan-S4R7N2-Argyle-Park\n",
      "https://www.realtor.ca/Residential/Single-Family/19633696/153-McMurchy-AVE-Regina-Saskatchewan-S4R3G7-Coronation-Park\n",
      "https://www.realtor.ca/Residential/Single-Family/19707890/1037-Grace-ST-Regina-Saskatchewan-S4T5M5-Rosemont\n",
      "https://www.realtor.ca/Residential/Single-Family/19633696/153-McMurchy-AVE-Regina-Saskatchewan-S4R3G7-Coronation-Park\n",
      "https://www.realtor.ca/Residential/Single-Family/19584454/75-Walter-CRES-Regina-Saskatchewan-S4X1L5-Sherwood-Estates\n",
      "https://www.realtor.ca/Residential/Single-Family/19656556/458-Sangster-BLVD-Regina-Saskatchewan-S4R7N2-Argyle-Park\n",
      "https://www.realtor.ca/Residential/Single-Family/19474524/87-Cooper-CRES-Regina-Saskatchewan-S4R4J8-Walsh-Acres\n",
      "https://www.realtor.ca/Residential/Single-Family/19318565/31-Elmview-RD-Regina-Saskatchewan-S4R0B1-Uplands\n",
      "https://www.realtor.ca/Residential/Single-Family/19707890/1037-Grace-ST-Regina-Saskatchewan-S4T5M5-Rosemont\n",
      "https://www.realtor.ca/Residential/Single-Family/19584474/162-Thomson-AVE-Regina-Saskatchewan-S4N5L3-Glencairn-Village\n",
      "https://www.realtor.ca/Residential/Single-Family/19413046/451-York-ST-Regina-Saskatchewan-S4R4W7-Regent-Park\n",
      "https://www.realtor.ca/Residential/Single-Family/19499102/1469-Grosvenor-ST-Regina-Saskatchewan-S4N1R3-Glencairn\n"
     ]
    },
    {
     "name": "stdout",
     "output_type": "stream",
     "text": [
      "https://www.realtor.ca/Residential/Single-Family/19589173/2339-Garnet-ST-Regina-Saskatchewan-S4T3A3-Cathedral-RG\n",
      "https://www.realtor.ca/Residential/Single-Family/19367069/5413-Campling-AVE-Regina-Saskatchewan-S4W0L5-Harbour-Landing\n",
      "https://www.realtor.ca/Residential/Single-Family/19307858/6-Hooper-BY-Regina-Saskatchewan-S4N4V9-Glencairn-Village\n",
      "https://www.realtor.ca/Residential/Single-Family/19245716/1566-Grosvenor-ST-Regina-Saskatchewan-S4N4C6-Glencairn\n",
      "https://www.realtor.ca/Residential/Single-Family/18608745/3000-15th-AVE-Regina-Saskatchewan-S4T1S9-Cathedral-RG\n",
      "https://www.realtor.ca/Residential/Single-Family/19454449/40-Richardson-CRES-Regina-Saskatchewan-S4S4J3-Whitmore-Park\n",
      "https://www.realtor.ca/Residential/Single-Family/19197473/667-Athol-ST-Regina-Saskatchewan-S4T3B2-Washington-Park\n",
      "https://www.realtor.ca/Residential/Single-Family/19486312/610-Connaught-ST-Regina-Saskatchewan-S4T4S1-Rosemont\n",
      "https://www.realtor.ca/Residential/Single-Family/19488497/1356-Bond-ST-Regina-Saskatchewan-S4N1W9-Glen-Elm-Park\n",
      "https://www.realtor.ca/Residential/Single-Family/19488495/6307-Leger-BY-Regina-Saskatchewan-S4X2K4-McCarthy-Park\n",
      "https://www.realtor.ca/Residential/Single-Family/19480380/2-Hind-ST-Regina-Saskatchewan-S4X1R1-Sherwood-Estates\n",
      "https://www.realtor.ca/Residential/Single-Family/19722115/2036-Elliott-ST-Regina-Saskatchewan-S4N3G9-Broders-Annex\n",
      "https://www.realtor.ca/Residential/Single-Family/19668701/23-Hammond-RD-Regina-Saskatchewan-S4R3C7-Coronation-Park\n",
      "https://www.realtor.ca/Residential/Single-Family/19703510/2035-Wallace-ST-Regina-Saskatchewan-S4N4A3-Broders-Annex\n",
      "https://www.realtor.ca/Residential/Single-Family/19584300/29-Scott-ST-Regina-Saskatchewan-S4S4A1-Hillsdale\n",
      "https://www.realtor.ca/Residential/Single-Family/19082237/3408-Victoria-AVE-Regina-Saskatchewan-S4T1L8-Cathedral-RG\n",
      "https://www.realtor.ca/Residential/Single-Family/19488175/607-17th-AVE-E-Regina-Saskatchewan-S4N0Y8-Dominion-Heights-RG\n",
      "https://www.realtor.ca/Residential/Single-Family/18989411/2434-Edgar-ST-Regina-Saskatchewan-S4N3L3-Arnhem-Place\n",
      "https://www.realtor.ca/Residential/Single-Family/19284347/78-Aitken-CRES-Regina-Saskatchewan-S4R5W7-Uplands\n",
      "https://www.realtor.ca/Residential/Single-Family/19436897/82-Markwell-DR-Regina-Saskatchewan-S4X1T3-Sherwood-Estates\n",
      "https://www.realtor.ca/Residential/Single-Family/19654403/921-Connaught-ST-Regina-Saskatchewan-S4T4S7-Rosemont\n",
      "https://www.realtor.ca/Residential/Single-Family/19655251/404-St-John-ST-Regina-Saskatchewan-S4R1R3-Churchill-Downs\n",
      "https://www.realtor.ca/Residential/Single-Family/19584890/2136-Argyle-ST-Regina-Saskatchewan-S4T3S9-Cathedral-RG\n",
      "https://www.realtor.ca/Residential/Single-Family/19608618/387-Cavendish-ST-Regina-Saskatchewan-S4N4K6-Glencairn\n",
      "https://www.realtor.ca/Residential/Single-Family/19211121/3408-Avonhurst-DR-Regina-Saskatchewan-S4R3K1-Coronation-Park\n",
      "https://www.realtor.ca/Residential/Single-Family/19138296/5417-2nd-AVE-N-Regina-Saskatchewan-S4R5L1-Normanview\n",
      "https://www.realtor.ca/Residential/Single-Family/19691825/2249-Quebec-ST-Regina-Saskatchewan-S4P1K3-General-Hospital\n",
      "https://www.realtor.ca/Residential/Single-Family/19661227/2255-REYNOLDS-STREET-Outside-Area-Ontario-S4N3N4\n",
      "https://www.realtor.ca/Residential/Single-Family/19584838/3900-Quappelle-DR-Regina-Saskatchewan-S4S0C9-River-Heights-RG\n",
      "https://www.realtor.ca/Residential/Single-Family/19584374/2067-Lindsay-ST-Regina-Saskatchewan-S4N3B8-Broders-Annex\n",
      "https://www.realtor.ca/Residential/Single-Family/19584382/2544-Rothwell-ST-Regina-Saskatchewan-S4N2C8-Dominion-Heights-RG\n",
      "https://www.realtor.ca/Residential/Single-Family/19146175/4503-Sherwood-DR-Regina-Saskatchewan-S4R4B3-Regent-Park\n",
      "https://www.realtor.ca/Residential/Single-Family/19243913/68-Carmichael-RD-Regina-Saskatchewan-S4R0C5-Uplands\n",
      "https://www.realtor.ca/Residential/Single-Family/19041833/1706-7th-AVE-E-Regina-Saskatchewan-S4N4H1-Glencairn\n",
      "https://www.realtor.ca/Residential/Single-Family/18962001/1314-College-AVE-Regina-Saskatchewan-S4P1B2-General-Hospital\n",
      "https://www.realtor.ca/Residential/Single-Family/19405900/2030-Princess-ST-Regina-Saskatchewan-S4T3Z4-Cathedral-RG\n",
      "https://www.realtor.ca/Residential/Single-Family/19700263/103-McSherry-CRES-Regina-Saskatchewan-S4T7B5-Normanview-West\n",
      "https://www.realtor.ca/Residential/Single-Family/19146175/4503-Sherwood-DR-Regina-Saskatchewan-S4R4B3-Regent-Park\n",
      "https://www.realtor.ca/Residential/Single-Family/19369913/2263-OSLER-ST-Regina-Saskatchewan-S4P1W9-General-Hospital\n",
      "https://www.realtor.ca/Residential/Single-Family/19584374/2067-Lindsay-ST-Regina-Saskatchewan-S4N3B8-Broders-Annex\n",
      "https://www.realtor.ca/Residential/Single-Family/19488508/4220-8th-AVE-Regina-Saskatchewan-S4T0T7-Washington-Park\n",
      "https://www.realtor.ca/Residential/Single-Family/19405900/2030-Princess-ST-Regina-Saskatchewan-S4T3Z4-Cathedral-RG\n",
      "https://www.realtor.ca/Residential/Single-Family/18962001/1314-College-AVE-Regina-Saskatchewan-S4P1B2-General-Hospital\n",
      "https://www.realtor.ca/Residential/Single-Family/19041833/1706-7th-AVE-E-Regina-Saskatchewan-S4N4H1-Glencairn\n",
      "https://www.realtor.ca/Residential/Single-Family/19584382/2544-Rothwell-ST-Regina-Saskatchewan-S4N2C8-Dominion-Heights-RG\n"
     ]
    },
    {
     "ename": "KeyboardInterrupt",
     "evalue": "",
     "output_type": "error",
     "traceback": [
      "\u001b[1;31m---------------------------------------------------------------------------\u001b[0m",
      "\u001b[1;31mKeyboardInterrupt\u001b[0m                         Traceback (most recent call last)",
      "\u001b[1;32m<ipython-input-60-c302c581b58e>\u001b[0m in \u001b[0;36m<module>\u001b[1;34m()\u001b[0m\n\u001b[0;32m      7\u001b[0m         \u001b[1;32mprint\u001b[0m \u001b[0mlinks1\u001b[0m\u001b[1;33m\u001b[0m\u001b[0m\n\u001b[0;32m      8\u001b[0m     \u001b[0mdriver\u001b[0m\u001b[1;33m.\u001b[0m\u001b[0mfind_element_by_id\u001b[0m\u001b[1;33m(\u001b[0m\u001b[1;34m'm_pager_list_next'\u001b[0m\u001b[1;33m)\u001b[0m\u001b[1;33m.\u001b[0m\u001b[0mclick\u001b[0m\u001b[1;33m(\u001b[0m\u001b[1;33m)\u001b[0m\u001b[1;33m\u001b[0m\u001b[0m\n\u001b[1;32m----> 9\u001b[1;33m     \u001b[0msleep\u001b[0m\u001b[1;33m(\u001b[0m\u001b[1;36m16\u001b[0m\u001b[1;33m)\u001b[0m\u001b[1;33m\u001b[0m\u001b[0m\n\u001b[0m",
      "\u001b[1;31mKeyboardInterrupt\u001b[0m: "
     ]
    }
   ],
   "source": [
    "for mn in range(0,40):\n",
    "    soup=BeautifulSoup(driver.page_source, 'lxml')\n",
    "    links0=soup.find_all('a',class_=\"property_lst_cnt_property_lnktop\")\n",
    "    for i in range(len(links0)):\n",
    "        links1=links0[i].get('href')\n",
    "        linkstor.append(links1)\n",
    "        print links1\n",
    "    driver.find_element_by_id('m_pager_list_next').click()\n",
    "    sleep(16)"
   ]
  },
  {
   "cell_type": "code",
   "execution_count": 66,
   "metadata": {},
   "outputs": [
    {
     "name": "stdout",
     "output_type": "stream",
     "text": [
      "2267\n"
     ]
    },
    {
     "data": {
      "text/plain": [
       "948"
      ]
     },
     "execution_count": 66,
     "metadata": {},
     "output_type": "execute_result"
    }
   ],
   "source": [
    "print len(linkstor)\n",
    "from collections import OrderedDict\n",
    "list2=list(OrderedDict.fromkeys(linkstor))\n",
    "len(list2)"
   ]
  },
  {
   "cell_type": "code",
   "execution_count": 67,
   "metadata": {},
   "outputs": [],
   "source": [
    "afaq=list2\n",
    "csvfile = open('first2.csv', 'a')\n",
    "for row in afaq:\n",
    "    #line = ','.join(row)\n",
    "    values = ','.join(str(v) for v in row)\n",
    "    csvfile.write(row + '\\n')"
   ]
  },
  {
   "cell_type": "code",
   "execution_count": null,
   "metadata": {},
   "outputs": [],
   "source": []
  },
  {
   "cell_type": "code",
   "execution_count": 88,
   "metadata": {},
   "outputs": [],
   "source": []
  },
  {
   "cell_type": "code",
   "execution_count": 10,
   "metadata": {},
   "outputs": [],
   "source": []
  },
  {
   "cell_type": "code",
   "execution_count": 11,
   "metadata": {},
   "outputs": [],
   "source": []
  },
  {
   "cell_type": "code",
   "execution_count": null,
   "metadata": {},
   "outputs": [],
   "source": []
  },
  {
   "cell_type": "code",
   "execution_count": 86,
   "metadata": {},
   "outputs": [],
   "source": []
  },
  {
   "cell_type": "code",
   "execution_count": null,
   "metadata": {},
   "outputs": [],
   "source": []
  },
  {
   "cell_type": "code",
   "execution_count": null,
   "metadata": {},
   "outputs": [],
   "source": []
  },
  {
   "cell_type": "code",
   "execution_count": null,
   "metadata": {},
   "outputs": [],
   "source": []
  },
  {
   "cell_type": "code",
   "execution_count": null,
   "metadata": {},
   "outputs": [],
   "source": []
  },
  {
   "cell_type": "code",
   "execution_count": null,
   "metadata": {},
   "outputs": [],
   "source": []
  }
 ],
 "metadata": {
  "kernelspec": {
   "display_name": "Python 2",
   "language": "python",
   "name": "python2"
  },
  "language_info": {
   "codemirror_mode": {
    "name": "ipython",
    "version": 2
   },
   "file_extension": ".py",
   "mimetype": "text/x-python",
   "name": "python",
   "nbconvert_exporter": "python",
   "pygments_lexer": "ipython2",
   "version": "2.7.14"
  }
 },
 "nbformat": 4,
 "nbformat_minor": 2
}
