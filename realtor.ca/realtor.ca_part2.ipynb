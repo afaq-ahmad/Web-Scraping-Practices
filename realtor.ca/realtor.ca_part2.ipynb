{
 "cells": [
  {
   "cell_type": "code",
   "execution_count": 77,
   "metadata": {},
   "outputs": [],
   "source": [
    "\n",
    "from selenium.webdriver.common.by import By\n",
    "from selenium.webdriver.common.keys import Keys\n",
    "from selenium.webdriver.support.ui import Select\n",
    "from selenium.webdriver.support.ui import WebDriverWait\n",
    "from selenium.common.exceptions import TimeoutException\n",
    "from selenium.webdriver.support import expected_conditions as EC\n",
    "from selenium.common.exceptions import NoSuchElementException\n",
    "from selenium.common.exceptions import NoAlertPresentException\n",
    "\n",
    "from time import sleep\n",
    "import csv\n",
    "from selenium import webdriver\n",
    "\n",
    "PROXY = \"41.164.27.163:53281\" # \n",
    "\n",
    "\n",
    "chrome_options = webdriver.ChromeOptions()\n",
    "chrome_options.add_argument('--proxy-server=%s' % PROXY)\n",
    "chrome_options.add_argument(\"user-agent=Mozilla/4.0\")\n",
    "driver = webdriver.Chrome(executable_path=r'/Users/Name/Downloads/Compressed/chromedrives/chromedriver.exe',chrome_options=chrome_options)\n"
   ]
  },
  {
   "cell_type": "code",
   "execution_count": 57,
   "metadata": {},
   "outputs": [],
   "source": [
    "import re\n",
    "import urllib\n",
    "import urllib3\n",
    "import requests\n",
    "from bs4 import BeautifulSoup\n",
    "from selenium import webdriver\n",
    "from time import sleep\n",
    "import csv\n",
    "from random import randint\n",
    "urllib3.disable_warnings()\n",
    "import json, io\n",
    "headers = {'User-Agent':'Mozilla/6.0'}\n"
   ]
  },
  {
   "cell_type": "code",
   "execution_count": null,
   "metadata": {},
   "outputs": [],
   "source": []
  },
  {
   "cell_type": "code",
   "execution_count": 80,
   "metadata": {},
   "outputs": [],
   "source": [
    "\n",
    "from selenium.webdriver.common.by import By\n",
    "from selenium.webdriver.common.keys import Keys\n",
    "from selenium.webdriver.support.ui import Select\n",
    "from selenium.webdriver.support.ui import WebDriverWait\n",
    "from selenium.common.exceptions import TimeoutException\n",
    "from selenium.webdriver.support import expected_conditions as EC\n",
    "from selenium.common.exceptions import NoSuchElementException\n",
    "from selenium.common.exceptions import NoAlertPresentException\n",
    "\n",
    "from time import sleep\n",
    "import csv\n",
    "from selenium import webdriver\n",
    "\n",
    "chrome_options = webdriver.ChromeOptions()\n",
    "chrome_options.add_argument(\"user-agent=Mozilla/8.0\")\n",
    "driver = webdriver.Chrome(executable_path=r'/Users/Name/Downloads/Compressed/chromedrives/chromedriver.exe',chrome_options=chrome_options)\n"
   ]
  },
  {
   "cell_type": "code",
   "execution_count": null,
   "metadata": {},
   "outputs": [],
   "source": []
  },
  {
   "cell_type": "code",
   "execution_count": 6,
   "metadata": {},
   "outputs": [
    {
     "data": {
      "text/plain": [
       "949"
      ]
     },
     "execution_count": 6,
     "metadata": {},
     "output_type": "execute_result"
    }
   ],
   "source": [
    "list1=[]\n",
    "with open('first3.csv', 'r') as f:\n",
    "    reader = csv.reader(f, delimiter=',')\n",
    "    for row in reader:\n",
    "        #print(row[0])\n",
    "        list1.append(row[0])\n",
    "len(list1)"
   ]
  },
  {
   "cell_type": "code",
   "execution_count": 7,
   "metadata": {},
   "outputs": [],
   "source": [
    "storlist=[]"
   ]
  },
  {
   "cell_type": "code",
   "execution_count": null,
   "metadata": {},
   "outputs": [],
   "source": [
    "#262,"
   ]
  },
  {
   "cell_type": "code",
   "execution_count": 62,
   "metadata": {},
   "outputs": [
    {
     "data": {
      "text/plain": [
       "260"
      ]
     },
     "execution_count": 62,
     "metadata": {},
     "output_type": "execute_result"
    }
   ],
   "source": [
    "len(storlist)"
   ]
  },
  {
   "cell_type": "code",
   "execution_count": 79,
   "metadata": {},
   "outputs": [
    {
     "data": {
      "text/plain": [
       "280"
      ]
     },
     "execution_count": 79,
     "metadata": {},
     "output_type": "execute_result"
    }
   ],
   "source": [
    "ik"
   ]
  },
  {
   "cell_type": "code",
   "execution_count": 81,
   "metadata": {},
   "outputs": [
    {
     "name": "stdout",
     "output_type": "stream",
     "text": [
      "enterj\n"
     ]
    },
    {
     "ename": "NameError",
     "evalue": "name 'j' is not defined",
     "output_type": "error",
     "traceback": [
      "\u001b[1;31m---------------------------------------------------------------------------\u001b[0m",
      "\u001b[1;31mNameError\u001b[0m                                 Traceback (most recent call last)",
      "\u001b[1;32m<ipython-input-81-0cf6455372ec>\u001b[0m in \u001b[0;36m<module>\u001b[1;34m()\u001b[0m\n\u001b[0;32m     74\u001b[0m \u001b[1;33m\u001b[0m\u001b[0m\n\u001b[0;32m     75\u001b[0m     \u001b[1;32mexcept\u001b[0m\u001b[1;33m:\u001b[0m\u001b[1;33m\u001b[0m\u001b[0m\n\u001b[1;32m---> 76\u001b[1;33m         \u001b[0mx\u001b[0m\u001b[1;33m=\u001b[0m\u001b[0minput\u001b[0m\u001b[1;33m(\u001b[0m\u001b[1;34m'enter'\u001b[0m\u001b[1;33m)\u001b[0m\u001b[1;33m\u001b[0m\u001b[0m\n\u001b[0m\u001b[0;32m     77\u001b[0m \u001b[1;33m\u001b[0m\u001b[0m\n\u001b[0;32m     78\u001b[0m         \u001b[0msleep\u001b[0m\u001b[1;33m(\u001b[0m\u001b[1;36m20\u001b[0m\u001b[1;33m)\u001b[0m\u001b[1;33m\u001b[0m\u001b[0m\n",
      "\u001b[1;32mC:\\ProgramData\\Anaconda2\\lib\\site-packages\\ipykernel\\ipkernel.pyc\u001b[0m in \u001b[0;36m<lambda>\u001b[1;34m(prompt)\u001b[0m\n\u001b[0;32m    174\u001b[0m             \u001b[0mself\u001b[0m\u001b[1;33m.\u001b[0m\u001b[0m_sys_eval_input\u001b[0m \u001b[1;33m=\u001b[0m \u001b[0mbuiltin_mod\u001b[0m\u001b[1;33m.\u001b[0m\u001b[0minput\u001b[0m\u001b[1;33m\u001b[0m\u001b[0m\n\u001b[0;32m    175\u001b[0m             \u001b[0mbuiltin_mod\u001b[0m\u001b[1;33m.\u001b[0m\u001b[0mraw_input\u001b[0m \u001b[1;33m=\u001b[0m \u001b[0mself\u001b[0m\u001b[1;33m.\u001b[0m\u001b[0mraw_input\u001b[0m\u001b[1;33m\u001b[0m\u001b[0m\n\u001b[1;32m--> 176\u001b[1;33m             \u001b[0mbuiltin_mod\u001b[0m\u001b[1;33m.\u001b[0m\u001b[0minput\u001b[0m \u001b[1;33m=\u001b[0m \u001b[1;32mlambda\u001b[0m \u001b[0mprompt\u001b[0m\u001b[1;33m=\u001b[0m\u001b[1;34m''\u001b[0m\u001b[1;33m:\u001b[0m \u001b[0meval\u001b[0m\u001b[1;33m(\u001b[0m\u001b[0mself\u001b[0m\u001b[1;33m.\u001b[0m\u001b[0mraw_input\u001b[0m\u001b[1;33m(\u001b[0m\u001b[0mprompt\u001b[0m\u001b[1;33m)\u001b[0m\u001b[1;33m)\u001b[0m\u001b[1;33m\u001b[0m\u001b[0m\n\u001b[0m\u001b[0;32m    177\u001b[0m         \u001b[0mself\u001b[0m\u001b[1;33m.\u001b[0m\u001b[0m_save_getpass\u001b[0m \u001b[1;33m=\u001b[0m \u001b[0mgetpass\u001b[0m\u001b[1;33m.\u001b[0m\u001b[0mgetpass\u001b[0m\u001b[1;33m\u001b[0m\u001b[0m\n\u001b[0;32m    178\u001b[0m         \u001b[0mgetpass\u001b[0m\u001b[1;33m.\u001b[0m\u001b[0mgetpass\u001b[0m \u001b[1;33m=\u001b[0m \u001b[0mself\u001b[0m\u001b[1;33m.\u001b[0m\u001b[0mgetpass\u001b[0m\u001b[1;33m\u001b[0m\u001b[0m\n",
      "\u001b[1;32mC:\\ProgramData\\Anaconda2\\lib\\site-packages\\ipykernel\\ipkernel.pyc\u001b[0m in \u001b[0;36m<module>\u001b[1;34m()\u001b[0m\n",
      "\u001b[1;31mNameError\u001b[0m: name 'j' is not defined"
     ]
    }
   ],
   "source": [
    "for ik in range(280,len(list1)):\n",
    "    try:\n",
    "        url=list1[ik]\n",
    "        driver.get(url)\n",
    "        sleep(20)\n",
    "        soup=BeautifulSoup(driver.page_source, 'lxml')\n",
    "        data=['-']*15\n",
    "        propertyaddress0=soup.find('h1',id=\"m_property_dtl_address\").text\n",
    "        propertyaddress1=((propertyaddress0.replace('\\n','')).replace('\\t','')).encode('ascii', 'ignore')\n",
    "        #print propertyaddress1\n",
    "        data[0]=propertyaddress1\n",
    "        price0=soup.find('div',class_=\"m_property_dtl_info_hdr_lft_price\").text\n",
    "        price1=((price0.replace('\\n','')).replace('\\t','')).encode('ascii', 'ignore')\n",
    "        #print price1\n",
    "        data[1]=price1\n",
    "        propertyid0=soup.find('div',class_='m_property_dtl_info_hdr_lft_listingid').text\n",
    "        propertyid1=((propertyid0.replace('\\n','')).replace('\\t','')).encode('ascii', 'ignore')\n",
    "        #print propertyid1\n",
    "        data[2]=propertyid1\n",
    "        propertdesc0=soup.find('div',id=\"m_property_dtl_gendescription\").text\n",
    "        propertdesc1=((propertdesc0.replace('\\n','')).replace('\\t','')).encode('ascii', 'ignore')\n",
    "        #print propertdesc1\n",
    "        data[3]=propertdesc1\n",
    "\n",
    "        span0=soup.find_all('tbody')\n",
    "        for zx in range(len(span0)):\n",
    "            spans1=span0[zx].find_all('span')\n",
    "            for cv in range(len(spans1)):\n",
    "                #print spans1[cv].text\n",
    "                if spans1[cv].text=='Property Type':\n",
    "                    PropertyType=spans1[cv+1].text\n",
    "                    #print PropertyType\n",
    "                    data[4]=PropertyType\n",
    "                if spans1[cv].text=='Building Type':\n",
    "                    BuildingType=spans1[cv+1].text\n",
    "                    #print BuildingType\n",
    "                    data[5]=BuildingType\n",
    "                if spans1[cv].text=='Neighbourhood Name':\n",
    "                    NeighbourhoodName=spans1[cv+1].text\n",
    "                    #print NeighbourhoodName\n",
    "                    data[6]=NeighbourhoodName\n",
    "                if spans1[cv].text=='Title':\n",
    "                    Title=spans1[cv+1].text\n",
    "                    #print Title\n",
    "                    data[7]=Title\n",
    "                if spans1[cv].text=='Land Size':\n",
    "                    LandSize=spans1[cv+1].text\n",
    "                    #print LandSize\n",
    "                    data[8]=LandSize\n",
    "                if spans1[cv].text=='Built in':\n",
    "                    Builtin=spans1[cv+1].text\n",
    "                    #print Builtin\n",
    "                    data[9]=Builtin\n",
    "                if spans1[cv].text=='Parking Type':\n",
    "                    ParkingType=spans1[cv+1].text\n",
    "                    #print ParkingType\n",
    "                    data[10]=ParkingType\n",
    "                if spans1[cv].text=='Architecture Style':\n",
    "                    ArchitectureStyle=spans1[cv+1].text\n",
    "                    #print ArchitectureStyle\n",
    "                    data[11]=ArchitectureStyle\n",
    "                if spans1[cv].text=='Bathrooms (Total)':\n",
    "                    Bathrooms=spans1[cv+1].text\n",
    "                    #print Bathrooms\n",
    "                    data[12]=Bathrooms\n",
    "                if spans1[cv].text=='Floor Space':\n",
    "                    FloorSpace=spans1[cv+1].text\n",
    "                    #print FloorSpace\n",
    "                    data[13]=FloorSpace\n",
    "\n",
    "        data[14]=url\n",
    "        print data\n",
    "        storlist.append(data)\n",
    "        \n",
    "    except:\n",
    "        x=input('enter')\n",
    "        \n",
    "        sleep(20)\n",
    "        soup=BeautifulSoup(driver.page_source, 'lxml')\n",
    "        data=['-']*15\n",
    "        propertyaddress0=soup.find('h1',id=\"m_property_dtl_address\").text\n",
    "        propertyaddress1=((propertyaddress0.replace('\\n','')).replace('\\t','')).encode('ascii', 'ignore')\n",
    "        #print propertyaddress1\n",
    "        data[0]=propertyaddress1\n",
    "        price0=soup.find('div',class_=\"m_property_dtl_info_hdr_lft_price\").text\n",
    "        price1=((price0.replace('\\n','')).replace('\\t','')).encode('ascii', 'ignore')\n",
    "        #print price1\n",
    "        data[1]=price1\n",
    "        propertyid0=soup.find('div',class_='m_property_dtl_info_hdr_lft_listingid').text\n",
    "        propertyid1=((propertyid0.replace('\\n','')).replace('\\t','')).encode('ascii', 'ignore')\n",
    "        #print propertyid1\n",
    "        data[2]=propertyid1\n",
    "        propertdesc0=soup.find('div',id=\"m_property_dtl_gendescription\").text\n",
    "        propertdesc1=((propertdesc0.replace('\\n','')).replace('\\t','')).encode('ascii', 'ignore')\n",
    "        #print propertdesc1\n",
    "        data[3]=propertdesc1\n",
    "\n",
    "        span0=soup.find_all('tbody')\n",
    "        for zx in range(len(span0)):\n",
    "            spans1=span0[zx].find_all('span')\n",
    "            for cv in range(len(spans1)):\n",
    "                #print spans1[cv].text\n",
    "                if spans1[cv].text=='Property Type':\n",
    "                    PropertyType=spans1[cv+1].text\n",
    "                    #print PropertyType\n",
    "                    data[4]=PropertyType\n",
    "                if spans1[cv].text=='Building Type':\n",
    "                    BuildingType=spans1[cv+1].text\n",
    "                    #print BuildingType\n",
    "                    data[5]=BuildingType\n",
    "                if spans1[cv].text=='Neighbourhood Name':\n",
    "                    NeighbourhoodName=spans1[cv+1].text\n",
    "                    #print NeighbourhoodName\n",
    "                    data[6]=NeighbourhoodName\n",
    "                if spans1[cv].text=='Title':\n",
    "                    Title=spans1[cv+1].text\n",
    "                    #print Title\n",
    "                    data[7]=Title\n",
    "                if spans1[cv].text=='Land Size':\n",
    "                    LandSize=spans1[cv+1].text\n",
    "                    #print LandSize\n",
    "                    data[8]=LandSize\n",
    "                if spans1[cv].text=='Built in':\n",
    "                    Builtin=spans1[cv+1].text\n",
    "                    #print Builtin\n",
    "                    data[9]=Builtin\n",
    "                if spans1[cv].text=='Parking Type':\n",
    "                    ParkingType=spans1[cv+1].text\n",
    "                    #print ParkingType\n",
    "                    data[10]=ParkingType\n",
    "                if spans1[cv].text=='Architecture Style':\n",
    "                    ArchitectureStyle=spans1[cv+1].text\n",
    "                    #print ArchitectureStyle\n",
    "                    data[11]=ArchitectureStyle\n",
    "                if spans1[cv].text=='Bathrooms (Total)':\n",
    "                    Bathrooms=spans1[cv+1].text\n",
    "                    #print Bathrooms\n",
    "                    data[12]=Bathrooms\n",
    "                if spans1[cv].text=='Floor Space':\n",
    "                    FloorSpace=spans1[cv+1].text\n",
    "                    #print FloorSpace\n",
    "                    data[13]=FloorSpace\n",
    "                    \n",
    "        data[14]=url\n",
    "        print data\n",
    "        storlist.append(data)\n",
    "    print ik"
   ]
  },
  {
   "cell_type": "code",
   "execution_count": 49,
   "metadata": {
    "scrolled": true
   },
   "outputs": [],
   "source": [
    "from openpyxl import Workbook\n",
    "wb = Workbook(write_only=True)\n",
    "ws = wb.create_sheet()\n",
    "\n",
    "# now we'll fill it with 100 rows x 200 columns\n",
    "for irow in storlist:\n",
    "    ws.append(irow)\n",
    "# save the file\n",
    "wb.save('zer0.xlsx')"
   ]
  }
 ],
 "metadata": {
  "kernelspec": {
   "display_name": "Python 2",
   "language": "python",
   "name": "python2"
  },
  "language_info": {
   "codemirror_mode": {
    "name": "ipython",
    "version": 2
   },
   "file_extension": ".py",
   "mimetype": "text/x-python",
   "name": "python",
   "nbconvert_exporter": "python",
   "pygments_lexer": "ipython2",
   "version": "2.7.14"
  }
 },
 "nbformat": 4,
 "nbformat_minor": 2
}
