{
 "cells": [
  {
   "cell_type": "markdown",
   "metadata": {},
   "source": [
    "I have not completly run this code you have to run it for all links to scrape, it will take time depending on how many links are in total"
   ]
  },
  {
   "cell_type": "code",
   "execution_count": 138,
   "metadata": {},
   "outputs": [],
   "source": [
    "from openpyxl import load_workbook\n",
    "import requests.api\n",
    "import warnings\n",
    "from openpyxl import Workbook\n",
    "import random\n",
    "import re\n",
    "from time import sleep\n",
    "import urllib\n",
    "import urllib3\n",
    "import requests\n",
    "from bs4 import BeautifulSoup\n",
    "from collections import OrderedDict\n",
    "forsvaingall=[]\n",
    "urllib3.disable_warnings()\n",
    "headers = {'User-Agent':'Mozilla/6.0'}\n",
    "import csv"
   ]
  },
  {
   "cell_type": "code",
   "execution_count": 2,
   "metadata": {},
   "outputs": [],
   "source": [
    "list0=[]\n",
    "wb = load_workbook(filename='Files/Buisness_Links.xlsx', read_only=True)\n",
    "ws = wb['Sheet1']\n",
    "for row in ws.rows:\n",
    "    list00=[]\n",
    "    for kl in range(len(row)):\n",
    "        \n",
    "        list00.append(row[kl].value)\n",
    "    list0.append(list00)\n",
    "idlink=list0"
   ]
  },
  {
   "cell_type": "code",
   "execution_count": 132,
   "metadata": {},
   "outputs": [
    {
     "name": "stdout",
     "output_type": "stream",
     "text": [
      "https://www.alignable.com/tampa-fl/ateamportablewelding\n"
     ]
    }
   ],
   "source": [
    "for link_ in range(len(idlink)):\n",
    "\n",
    "    urlpage1=idlink[link_][0]\n",
    "    page1 = requests.get(urlpage1, headers=headers, verify=False)\n",
    "    dataforsoup1 = page1.content \n",
    "    soup1 = BeautifulSoup(dataforsoup1, \"html.parser\")\n",
    "    sleep(3)\n",
    "\n",
    "    datastr=['-']*9\n",
    "    so1=soup1.find_all('div',class_=\"js-business-body\")[0]\n",
    "    datastr[0]=urlpage1\n",
    "    name=so1.find('h1').text.replace('\\n','')\n",
    "    datastr[1]=name\n",
    "\n",
    "    categories=so1.find(class_=\"business-tags business-tags--category\").text.replace('\\n','')\n",
    "    datastr[2]=categories\n",
    "\n",
    "    description0=so1.find_all(class_=\"profile-text\")\n",
    "    if len(description0):\n",
    "        description=description0[-1].text.replace('\\n','')\n",
    "        datastr[3]=description\n",
    "\n",
    "    tags__list=so1.find_all(class_=\"business-tags__list\")[-1].text.replace('\\n\\n',',').replace('\\n','')\n",
    "    datastr[4]=tags__list\n",
    "\n",
    "    profile_info=so1.find(class_=\"profile-info\")\n",
    "\n",
    "    info__items=profile_info.find_all('div',class_=\"u--td profile-info__item\")\n",
    "\n",
    "    address=info__items[0].text.replace('\\n','')\n",
    "    datastr[5]=address\n",
    "\n",
    "    if len(info__items)>1:\n",
    "        number=info__items[1].text.replace('\\n','')\n",
    "        datastr[6]=number\n",
    "\n",
    "    for k in range(len(info__items)):\n",
    "        if info__items[k].text=='\\nVisit Website\\n\\n\\n':\n",
    "            website=info__items[k].find('a').get('href')\n",
    "            datastr[7]=website\n",
    "        if info__items[k].text=='\\nFacebook Page\\n\\n\\n':\n",
    "            Facebook=info__items[k].find('a').get('href')\n",
    "            datastr[8]=Facebook\n",
    "    forsvaingall.append(datastr)\n",
    "    if len(forsvaingall)%10==0:\n",
    "        print (len(forsvaingall))"
   ]
  },
  {
   "cell_type": "code",
   "execution_count": null,
   "metadata": {},
   "outputs": [],
   "source": []
  },
  {
   "cell_type": "code",
   "execution_count": null,
   "metadata": {},
   "outputs": [],
   "source": [
    "import warnings\n",
    "from openpyxl import Workbook\n",
    "\n",
    "wb = Workbook(write_only=True)\n",
    "ws = wb.create_sheet()\n",
    "\n",
    "# now we'll fill it with 100 rows x 200 columns\n",
    "for irow in forsvaingall:\n",
    "    ws.append(irow)\n",
    "# save the file\n",
    "wb.save('Files/output_alignable.xlsx')"
   ]
  }
 ],
 "metadata": {
  "kernelspec": {
   "display_name": "Python 3",
   "language": "python",
   "name": "python3"
  },
  "language_info": {
   "codemirror_mode": {
    "name": "ipython",
    "version": 3
   },
   "file_extension": ".py",
   "mimetype": "text/x-python",
   "name": "python",
   "nbconvert_exporter": "python",
   "pygments_lexer": "ipython3",
   "version": "3.6.5"
  }
 },
 "nbformat": 4,
 "nbformat_minor": 2
}
