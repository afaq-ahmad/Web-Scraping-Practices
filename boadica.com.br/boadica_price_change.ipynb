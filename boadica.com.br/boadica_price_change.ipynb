{
 "cells": [
  {
   "cell_type": "code",
   "execution_count": 233,
   "metadata": {},
   "outputs": [
    {
     "name": "stderr",
     "output_type": "stream",
     "text": [
      "C:\\ProgramData\\Anaconda3\\lib\\site-packages\\urllib3\\connectionpool.py:858: InsecureRequestWarning: Unverified HTTPS request is being made. Adding certificate verification is strongly advised. See: https://urllib3.readthedocs.io/en/latest/advanced-usage.html#ssl-warnings\n",
      "  InsecureRequestWarning)\n"
     ]
    }
   ],
   "source": [
    "import csv\n",
    "import re\n",
    "import urllib\n",
    "import requests\n",
    "from bs4 import BeautifulSoup\n",
    "import urllib3\n",
    "url= \"https://www.boadica.com.br/produtos/p150179\"\n",
    "headers = {'User-Agent':'Mozilla/5.0'}\n",
    "page = requests.get(url, headers=headers, verify=False)\n",
    "data = page.content \n",
    "soup = BeautifulSoup(data, \"html.parser\")\n"
   ]
  },
  {
   "cell_type": "code",
   "execution_count": 244,
   "metadata": {},
   "outputs": [],
   "source": [
    "data_set=[0]\n",
    "page_title=soup.title\n",
    "data_set[0] = page_title.text\n",
    "afaq=[data_set]\n",
    "csvfile = open('orderr.csv', 'a')\n",
    "for row in afaq:\n",
    "    #line = ','.join(row)\n",
    "    values = ','.join(str(v) for v in row)\n",
    "    csvfile.write(values + '\\n')"
   ]
  },
  {
   "cell_type": "code",
   "execution_count": 245,
   "metadata": {},
   "outputs": [
    {
     "data": {
      "text/plain": [
       "['Boadica - Xiaomi (MI) Mi Band 2 Preto']"
      ]
     },
     "execution_count": 245,
     "metadata": {},
     "output_type": "execute_result"
    }
   ],
   "source": [
    "data_set"
   ]
  },
  {
   "cell_type": "code",
   "execution_count": 246,
   "metadata": {},
   "outputs": [],
   "source": [
    "first = soup.find('div', {'class' : 'tab-pane active'})"
   ]
  },
  {
   "cell_type": "code",
   "execution_count": 247,
   "metadata": {
    "scrolled": true
   },
   "outputs": [
    {
     "data": {
      "text/plain": [
       "<div class=\"tab-pane active\" id=\"precos\" role=\"tabpanel\">\n",
       "<div class=\"row\">\n",
       "<div class=\"col-md-3\">\n",
       "<strong><a href=\"/supernova\" target=\"_blank\">Supernova</a></strong>\n",
       "</div>\n",
       "<div class=\"col-md-6\" style=\"padding-bottom:15px;\">\n",
       "                                                    Av Rio Branco 156 loja 309 a 311 st 10 - Centro - Rio de Janeiro / RJ\n",
       "\n",
       "\n",
       "                                                    <br/>\n",
       "                                                    (21) 3172-5402 \n",
       "                                                </div>\n",
       "<div class=\"col-md-3 preco-loja\">\n",
       "                                                    R$ 143,97 <br/>\n",
       "<span>BOX</span>\n",
       "</div>\n",
       "</div>\n",
       "<div class=\"row\">\n",
       "<div class=\"col-md-3\">\n",
       "<strong><a href=\"/consertmeier\" target=\"_blank\">Consert Meier</a></strong>\n",
       "</div>\n",
       "<div class=\"col-md-6\" style=\"padding-bottom:15px;\">\n",
       "                                                    Av Amaro Cacalvanti 157 loja 1 - Meier - Rio de Janeiro / RJ\n",
       "\n",
       "\n",
       "                                                    <br/>\n",
       "                                                    (21) 3983-4557\n",
       "                                                </div>\n",
       "<div class=\"col-md-3 preco-loja\">\n",
       "                                                    R$ 145,00 <br/>\n",
       "</div>\n",
       "</div>\n",
       "<div class=\"row\">\n",
       "<div class=\"col-md-3\">\n",
       "<strong><a href=\"/alfainfo\" target=\"_blank\">Alfa Info</a></strong>\n",
       "</div>\n",
       "<div class=\"col-md-6\" style=\"padding-bottom:15px;\">\n",
       "                                                    Av Rio Branco 156 loja 212 st J - Centro - Rio de Janeiro / RJ\n",
       "\n",
       "\n",
       "                                                    <br/>\n",
       "                                                    (21) 3176-0059\n",
       "                                                </div>\n",
       "<div class=\"col-md-3 preco-loja\">\n",
       "                                                    R$ 159,80 <br/>\n",
       "</div>\n",
       "</div>\n",
       "<div class=\"row\">\n",
       "<div class=\"col-md-3\">\n",
       "<strong><a href=\"/modomacro\" target=\"_blank\">Modo Macro</a></strong>\n",
       "</div>\n",
       "<div class=\"col-md-6\" style=\"padding-bottom:15px;\">\n",
       "                                                    Av Rio Branco 156 loja 316 - Centro - Rio de Janeiro / RJ\n",
       "\n",
       "                                                        <br/>3º piso do Edifício Avenida Central – Estação Carioca do Metrô \n",
       "                                                    <br/>\n",
       "                                                    (21) 4111-8234\n",
       "                                                </div>\n",
       "<div class=\"col-md-3 preco-loja\">\n",
       "                                                    R$ 159,80 <br/>\n",
       "<span>BOX</span>\n",
       "</div>\n",
       "</div>\n",
       "<div class=\"row\">\n",
       "<div class=\"col-md-3\">\n",
       "<strong><a href=\"/tekhelp\" target=\"_blank\">Tek Help</a></strong>\n",
       "</div>\n",
       "<div class=\"col-md-6\" style=\"padding-bottom:15px;\">\n",
       "                                                    Av Rio Branco 156 loja A st 44 - Centro - Rio de Janeiro / RJ\n",
       "\n",
       "                                                        <br/>sobreloja Promoinfo\n",
       "                                                    <br/>\n",
       "                                                    (21) 3549-2222\n",
       "                                                </div>\n",
       "<div class=\"col-md-3 preco-loja\">\n",
       "                                                    R$ 198,00 <br/>\n",
       "<span>BOX</span>\n",
       "</div>\n",
       "</div>\n",
       "<div class=\"row\">\n",
       "<div class=\"col-md-3\">\n",
       "<strong><a href=\"/infoplace249\" target=\"_blank\">Info Place 249</a></strong>\n",
       "</div>\n",
       "<div class=\"col-md-6\" style=\"padding-bottom:15px;\">\n",
       "                                                    Av Rio Branco 156 loja 249 - Centro - Rio de Janeiro / RJ\n",
       "\n",
       "\n",
       "                                                    <br/>\n",
       "                                                    (21) 3852-2637\n",
       "                                                </div>\n",
       "<div class=\"col-md-3 preco-loja\">\n",
       "                                                    R$ 199,00 <br/>\n",
       "</div>\n",
       "</div>\n",
       "</div>"
      ]
     },
     "execution_count": 247,
     "metadata": {},
     "output_type": "execute_result"
    }
   ],
   "source": [
    "first"
   ]
  },
  {
   "cell_type": "code",
   "execution_count": 248,
   "metadata": {},
   "outputs": [],
   "source": [
    "second1 = first.findAll('div', {'class' : 'col-md-3'})"
   ]
  },
  {
   "cell_type": "code",
   "execution_count": 249,
   "metadata": {
    "scrolled": true
   },
   "outputs": [
    {
     "data": {
      "text/plain": [
       "12"
      ]
     },
     "execution_count": 249,
     "metadata": {},
     "output_type": "execute_result"
    }
   ],
   "source": [
    "len(second1)"
   ]
  },
  {
   "cell_type": "code",
   "execution_count": 250,
   "metadata": {},
   "outputs": [
    {
     "name": "stdout",
     "output_type": "stream",
     "text": [
      "Supernova----14397\n",
      "-----------------------\n",
      "Consert Meier----14500\n",
      "-----------------------\n",
      "Alfa Info----15980\n",
      "-----------------------\n",
      "Modo Macro----15980\n",
      "-----------------------\n",
      "Tek Help----19800\n",
      "-----------------------\n",
      "Info Place 249----19900\n",
      "-----------------------\n"
     ]
    }
   ],
   "source": [
    "data_set = [0]*int(len(second1)/int(2))\n",
    "az=[0]*2\n",
    "#az[0]=\"Store Name\"\n",
    "#az[1]=\"Price\"\n",
    "p=0\n",
    "for n in range(0,len(second1),2):\n",
    "    bb=second1[n].text\n",
    "    dd=bb.split()\n",
    "    store_name=' '.join(map(str, dd))\n",
    "    \n",
    "    aa=second1[n+1].text\n",
    "    cc=aa.split()\n",
    "    price = int(cc[1].replace(',', ''))\n",
    "    print(store_name +\"----\"+ str(price))\n",
    "    print(\"-----------------------\")\n",
    "    az[0]=store_name\n",
    "    az[1]=price\n",
    "    data_set[p]=(az[0],az[1])\n",
    "    p=p+1\n",
    "    "
   ]
  },
  {
   "cell_type": "code",
   "execution_count": 251,
   "metadata": {},
   "outputs": [
    {
     "data": {
      "text/plain": [
       "[('Supernova', 14397),\n",
       " ('Consert Meier', 14500),\n",
       " ('Alfa Info', 15980),\n",
       " ('Modo Macro', 15980),\n",
       " ('Tek Help', 19800),\n",
       " ('Info Place 249', 19900)]"
      ]
     },
     "execution_count": 251,
     "metadata": {},
     "output_type": "execute_result"
    }
   ],
   "source": [
    "data_set"
   ]
  },
  {
   "cell_type": "code",
   "execution_count": 252,
   "metadata": {},
   "outputs": [],
   "source": [
    "b=0\n",
    "for mx in data_set:\n",
    "    if mx[0]=='Tek Help':\n",
    "        b = mx[1]"
   ]
  },
  {
   "cell_type": "code",
   "execution_count": 253,
   "metadata": {},
   "outputs": [
    {
     "name": "stdout",
     "output_type": "stream",
     "text": [
      "Supernova\n",
      "14397\n",
      "Consert Meier\n",
      "14500\n",
      "Alfa Info\n",
      "15980\n",
      "Modo Macro\n",
      "15980\n",
      "Tek Help\n",
      "19800\n",
      "Info Place 249\n",
      "19900\n"
     ]
    }
   ],
   "source": [
    "data_s=[0]*4\n",
    "data_s[0]=\"Store Name\"\n",
    "data_s[1]=\"Price\"\n",
    "data_s[2]=\"Difference of price\"\n",
    "data_s[3]=\"Percentage\"\n",
    "\n",
    "afaq=[data_s]\n",
    "csvfile = open('orderr.csv', 'a')\n",
    "for row in afaq:\n",
    "    #line = ','.join(row)\n",
    "    values = ','.join(str(v) for v in row)\n",
    "    csvfile.write(values + '\\n')\n",
    "for mx in data_set:\n",
    "    #d=0\n",
    "    data_s=[0]*4\n",
    "    data_s[0]= mx[0]\n",
    "    data_s[1]= mx[1]\n",
    "    print(data_s[0])\n",
    "    print(data_s[1])\n",
    "    d=mx[1]\n",
    "    diff=d-b\n",
    "    data_s[2]=diff\n",
    "    perc=(diff/b)*100\n",
    "    data_s[3]=perc\n",
    "    afaq=[data_s]\n",
    "    csvfile = open('orderr.csv', 'a')\n",
    "    for row in afaq:\n",
    "        #line = ','.join(row)\n",
    "        values = ','.join(str(v) for v in row)\n",
    "        csvfile.write(values + '\\n')\n",
    "            "
   ]
  },
  {
   "cell_type": "code",
   "execution_count": 254,
   "metadata": {},
   "outputs": [
    {
     "data": {
      "text/plain": [
       "['Info Place 249', 19900, 100, 0.5050505050505051]"
      ]
     },
     "execution_count": 254,
     "metadata": {},
     "output_type": "execute_result"
    }
   ],
   "source": [
    "data_s"
   ]
  },
  {
   "cell_type": "code",
   "execution_count": null,
   "metadata": {},
   "outputs": [],
   "source": []
  },
  {
   "cell_type": "code",
   "execution_count": null,
   "metadata": {},
   "outputs": [],
   "source": []
  },
  {
   "cell_type": "code",
   "execution_count": null,
   "metadata": {},
   "outputs": [],
   "source": []
  },
  {
   "cell_type": "code",
   "execution_count": 111,
   "metadata": {},
   "outputs": [
    {
     "data": {
      "text/plain": [
       "47499"
      ]
     },
     "execution_count": 111,
     "metadata": {},
     "output_type": "execute_result"
    }
   ],
   "source": [
    "aa=second1[1].text\n",
    "cc=aa.split()\n",
    "s = int(cc[1].replace(',', ''))\n",
    "s"
   ]
  },
  {
   "cell_type": "code",
   "execution_count": 73,
   "metadata": {},
   "outputs": [
    {
     "data": {
      "text/plain": [
       "'Sede dos Games'"
      ]
     },
     "execution_count": 73,
     "metadata": {},
     "output_type": "execute_result"
    }
   ],
   "source": [
    "bb=second1[0].text\n",
    "dd=bb.split()\n",
    "store_name=' '.join(map(str, dd))\n",
    "store_name\n",
    "#sa = int(dd[1].replace(',', ''))\n",
    "#sa"
   ]
  },
  {
   "cell_type": "code",
   "execution_count": 74,
   "metadata": {},
   "outputs": [
    {
     "data": {
      "text/plain": [
       "'Eletromix'"
      ]
     },
     "execution_count": 74,
     "metadata": {},
     "output_type": "execute_result"
    }
   ],
   "source": [
    "bb=second1[2].text\n",
    "dd=bb.split()\n",
    "store_name=' '.join(map(str, dd))\n",
    "store_name"
   ]
  },
  {
   "cell_type": "code",
   "execution_count": 57,
   "metadata": {
    "scrolled": true
   },
   "outputs": [
    {
     "data": {
      "text/plain": [
       "['R$', '474,99', 'BOX']"
      ]
     },
     "execution_count": 57,
     "metadata": {},
     "output_type": "execute_result"
    }
   ],
   "source": [
    "second2 = first.findAll('div', {'class' : 'col-md-3 preco-loja'})\n",
    "bb=second2[1].text\n",
    "bb.split()"
   ]
  },
  {
   "cell_type": "code",
   "execution_count": null,
   "metadata": {},
   "outputs": [],
   "source": []
  },
  {
   "cell_type": "code",
   "execution_count": null,
   "metadata": {},
   "outputs": [],
   "source": []
  },
  {
   "cell_type": "code",
   "execution_count": null,
   "metadata": {},
   "outputs": [],
   "source": []
  },
  {
   "cell_type": "code",
   "execution_count": null,
   "metadata": {},
   "outputs": [],
   "source": []
  }
 ],
 "metadata": {
  "kernelspec": {
   "display_name": "Python 2",
   "language": "python",
   "name": "python2"
  },
  "language_info": {
   "codemirror_mode": {
    "name": "ipython",
    "version": 2
   },
   "file_extension": ".py",
   "mimetype": "text/x-python",
   "name": "python",
   "nbconvert_exporter": "python",
   "pygments_lexer": "ipython2",
   "version": "2.7.14"
  }
 },
 "nbformat": 4,
 "nbformat_minor": 2
}
