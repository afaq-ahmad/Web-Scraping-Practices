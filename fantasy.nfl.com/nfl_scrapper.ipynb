{
 "cells": [
  {
   "cell_type": "code",
   "execution_count": 5,
   "metadata": {},
   "outputs": [
    {
     "ename": "KeyboardInterrupt",
     "evalue": "",
     "output_type": "error",
     "traceback": [
      "\u001b[1;31m---------------------------------------------------------------------------\u001b[0m",
      "\u001b[1;31mKeyboardInterrupt\u001b[0m                         Traceback (most recent call last)",
      "\u001b[1;32m<ipython-input-5-b5800f1df911>\u001b[0m in \u001b[0;36m<module>\u001b[1;34m()\u001b[0m\n\u001b[0;32m     41\u001b[0m \u001b[0mlogin_attempt\u001b[0m\u001b[1;33m.\u001b[0m\u001b[0msubmit\u001b[0m\u001b[1;33m(\u001b[0m\u001b[1;33m)\u001b[0m\u001b[1;33m\u001b[0m\u001b[0m\n\u001b[0;32m     42\u001b[0m \u001b[1;33m\u001b[0m\u001b[0m\n\u001b[1;32m---> 43\u001b[1;33m \u001b[0mdriver\u001b[0m\u001b[1;33m.\u001b[0m\u001b[0mget\u001b[0m\u001b[1;33m(\u001b[0m\u001b[0mInitial_address\u001b[0m\u001b[1;33m)\u001b[0m\u001b[1;33m\u001b[0m\u001b[0m\n\u001b[0m\u001b[0;32m     44\u001b[0m \u001b[0mtime\u001b[0m\u001b[1;33m.\u001b[0m\u001b[0msleep\u001b[0m\u001b[1;33m(\u001b[0m\u001b[1;36m3\u001b[0m\u001b[1;33m)\u001b[0m\u001b[1;33m\u001b[0m\u001b[0m\n\u001b[0;32m     45\u001b[0m \u001b[0ms\u001b[0m \u001b[1;33m=\u001b[0m \u001b[0mBeautifulSoup\u001b[0m\u001b[1;33m(\u001b[0m\u001b[0mdriver\u001b[0m\u001b[1;33m.\u001b[0m\u001b[0mpage_source\u001b[0m\u001b[1;33m,\u001b[0m \u001b[1;34m'lxml'\u001b[0m\u001b[1;33m)\u001b[0m\u001b[1;33m\u001b[0m\u001b[0m\n",
      "\u001b[1;32mC:\\ProgramData\\Anaconda2\\lib\\site-packages\\selenium\\webdriver\\remote\\webdriver.pyc\u001b[0m in \u001b[0;36mget\u001b[1;34m(self, url)\u001b[0m\n\u001b[0;32m    324\u001b[0m         \u001b[0mLoads\u001b[0m \u001b[0ma\u001b[0m \u001b[0mweb\u001b[0m \u001b[0mpage\u001b[0m \u001b[1;32min\u001b[0m \u001b[0mthe\u001b[0m \u001b[0mcurrent\u001b[0m \u001b[0mbrowser\u001b[0m \u001b[0msession\u001b[0m\u001b[1;33m.\u001b[0m\u001b[1;33m\u001b[0m\u001b[0m\n\u001b[0;32m    325\u001b[0m         \"\"\"\n\u001b[1;32m--> 326\u001b[1;33m         \u001b[0mself\u001b[0m\u001b[1;33m.\u001b[0m\u001b[0mexecute\u001b[0m\u001b[1;33m(\u001b[0m\u001b[0mCommand\u001b[0m\u001b[1;33m.\u001b[0m\u001b[0mGET\u001b[0m\u001b[1;33m,\u001b[0m \u001b[1;33m{\u001b[0m\u001b[1;34m'url'\u001b[0m\u001b[1;33m:\u001b[0m \u001b[0murl\u001b[0m\u001b[1;33m}\u001b[0m\u001b[1;33m)\u001b[0m\u001b[1;33m\u001b[0m\u001b[0m\n\u001b[0m\u001b[0;32m    327\u001b[0m \u001b[1;33m\u001b[0m\u001b[0m\n\u001b[0;32m    328\u001b[0m     \u001b[1;33m@\u001b[0m\u001b[0mproperty\u001b[0m\u001b[1;33m\u001b[0m\u001b[0m\n",
      "\u001b[1;32mC:\\ProgramData\\Anaconda2\\lib\\site-packages\\selenium\\webdriver\\remote\\webdriver.pyc\u001b[0m in \u001b[0;36mexecute\u001b[1;34m(self, driver_command, params)\u001b[0m\n\u001b[0;32m    310\u001b[0m \u001b[1;33m\u001b[0m\u001b[0m\n\u001b[0;32m    311\u001b[0m         \u001b[0mparams\u001b[0m \u001b[1;33m=\u001b[0m \u001b[0mself\u001b[0m\u001b[1;33m.\u001b[0m\u001b[0m_wrap_value\u001b[0m\u001b[1;33m(\u001b[0m\u001b[0mparams\u001b[0m\u001b[1;33m)\u001b[0m\u001b[1;33m\u001b[0m\u001b[0m\n\u001b[1;32m--> 312\u001b[1;33m         \u001b[0mresponse\u001b[0m \u001b[1;33m=\u001b[0m \u001b[0mself\u001b[0m\u001b[1;33m.\u001b[0m\u001b[0mcommand_executor\u001b[0m\u001b[1;33m.\u001b[0m\u001b[0mexecute\u001b[0m\u001b[1;33m(\u001b[0m\u001b[0mdriver_command\u001b[0m\u001b[1;33m,\u001b[0m \u001b[0mparams\u001b[0m\u001b[1;33m)\u001b[0m\u001b[1;33m\u001b[0m\u001b[0m\n\u001b[0m\u001b[0;32m    313\u001b[0m         \u001b[1;32mif\u001b[0m \u001b[0mresponse\u001b[0m\u001b[1;33m:\u001b[0m\u001b[1;33m\u001b[0m\u001b[0m\n\u001b[0;32m    314\u001b[0m             \u001b[0mself\u001b[0m\u001b[1;33m.\u001b[0m\u001b[0merror_handler\u001b[0m\u001b[1;33m.\u001b[0m\u001b[0mcheck_response\u001b[0m\u001b[1;33m(\u001b[0m\u001b[0mresponse\u001b[0m\u001b[1;33m)\u001b[0m\u001b[1;33m\u001b[0m\u001b[0m\n",
      "\u001b[1;32mC:\\ProgramData\\Anaconda2\\lib\\site-packages\\selenium\\webdriver\\remote\\remote_connection.pyc\u001b[0m in \u001b[0;36mexecute\u001b[1;34m(self, command, params)\u001b[0m\n\u001b[0;32m    470\u001b[0m         \u001b[0mdata\u001b[0m \u001b[1;33m=\u001b[0m \u001b[0mutils\u001b[0m\u001b[1;33m.\u001b[0m\u001b[0mdump_json\u001b[0m\u001b[1;33m(\u001b[0m\u001b[0mparams\u001b[0m\u001b[1;33m)\u001b[0m\u001b[1;33m\u001b[0m\u001b[0m\n\u001b[0;32m    471\u001b[0m         \u001b[0murl\u001b[0m \u001b[1;33m=\u001b[0m \u001b[1;34m'%s%s'\u001b[0m \u001b[1;33m%\u001b[0m \u001b[1;33m(\u001b[0m\u001b[0mself\u001b[0m\u001b[1;33m.\u001b[0m\u001b[0m_url\u001b[0m\u001b[1;33m,\u001b[0m \u001b[0mpath\u001b[0m\u001b[1;33m)\u001b[0m\u001b[1;33m\u001b[0m\u001b[0m\n\u001b[1;32m--> 472\u001b[1;33m         \u001b[1;32mreturn\u001b[0m \u001b[0mself\u001b[0m\u001b[1;33m.\u001b[0m\u001b[0m_request\u001b[0m\u001b[1;33m(\u001b[0m\u001b[0mcommand_info\u001b[0m\u001b[1;33m[\u001b[0m\u001b[1;36m0\u001b[0m\u001b[1;33m]\u001b[0m\u001b[1;33m,\u001b[0m \u001b[0murl\u001b[0m\u001b[1;33m,\u001b[0m \u001b[0mbody\u001b[0m\u001b[1;33m=\u001b[0m\u001b[0mdata\u001b[0m\u001b[1;33m)\u001b[0m\u001b[1;33m\u001b[0m\u001b[0m\n\u001b[0m\u001b[0;32m    473\u001b[0m \u001b[1;33m\u001b[0m\u001b[0m\n\u001b[0;32m    474\u001b[0m     \u001b[1;32mdef\u001b[0m \u001b[0m_request\u001b[0m\u001b[1;33m(\u001b[0m\u001b[0mself\u001b[0m\u001b[1;33m,\u001b[0m \u001b[0mmethod\u001b[0m\u001b[1;33m,\u001b[0m \u001b[0murl\u001b[0m\u001b[1;33m,\u001b[0m \u001b[0mbody\u001b[0m\u001b[1;33m=\u001b[0m\u001b[0mNone\u001b[0m\u001b[1;33m)\u001b[0m\u001b[1;33m:\u001b[0m\u001b[1;33m\u001b[0m\u001b[0m\n",
      "\u001b[1;32mC:\\ProgramData\\Anaconda2\\lib\\site-packages\\selenium\\webdriver\\remote\\remote_connection.pyc\u001b[0m in \u001b[0;36m_request\u001b[1;34m(self, method, url, body)\u001b[0m\n\u001b[0;32m    494\u001b[0m             \u001b[1;32mtry\u001b[0m\u001b[1;33m:\u001b[0m\u001b[1;33m\u001b[0m\u001b[0m\n\u001b[0;32m    495\u001b[0m                 \u001b[0mself\u001b[0m\u001b[1;33m.\u001b[0m\u001b[0m_conn\u001b[0m\u001b[1;33m.\u001b[0m\u001b[0mrequest\u001b[0m\u001b[1;33m(\u001b[0m\u001b[0mmethod\u001b[0m\u001b[1;33m,\u001b[0m \u001b[0mparsed_url\u001b[0m\u001b[1;33m.\u001b[0m\u001b[0mpath\u001b[0m\u001b[1;33m,\u001b[0m \u001b[0mbody\u001b[0m\u001b[1;33m,\u001b[0m \u001b[0mheaders\u001b[0m\u001b[1;33m)\u001b[0m\u001b[1;33m\u001b[0m\u001b[0m\n\u001b[1;32m--> 496\u001b[1;33m                 \u001b[0mresp\u001b[0m \u001b[1;33m=\u001b[0m \u001b[0mself\u001b[0m\u001b[1;33m.\u001b[0m\u001b[0m_conn\u001b[0m\u001b[1;33m.\u001b[0m\u001b[0mgetresponse\u001b[0m\u001b[1;33m(\u001b[0m\u001b[1;33m)\u001b[0m\u001b[1;33m\u001b[0m\u001b[0m\n\u001b[0m\u001b[0;32m    497\u001b[0m             \u001b[1;32mexcept\u001b[0m \u001b[1;33m(\u001b[0m\u001b[0mhttplib\u001b[0m\u001b[1;33m.\u001b[0m\u001b[0mHTTPException\u001b[0m\u001b[1;33m,\u001b[0m \u001b[0msocket\u001b[0m\u001b[1;33m.\u001b[0m\u001b[0merror\u001b[0m\u001b[1;33m)\u001b[0m\u001b[1;33m:\u001b[0m\u001b[1;33m\u001b[0m\u001b[0m\n\u001b[0;32m    498\u001b[0m                 \u001b[0mself\u001b[0m\u001b[1;33m.\u001b[0m\u001b[0m_conn\u001b[0m\u001b[1;33m.\u001b[0m\u001b[0mclose\u001b[0m\u001b[1;33m(\u001b[0m\u001b[1;33m)\u001b[0m\u001b[1;33m\u001b[0m\u001b[0m\n",
      "\u001b[1;32mC:\\ProgramData\\Anaconda2\\lib\\httplib.pyc\u001b[0m in \u001b[0;36mgetresponse\u001b[1;34m(self, buffering)\u001b[0m\n\u001b[0;32m   1119\u001b[0m \u001b[1;33m\u001b[0m\u001b[0m\n\u001b[0;32m   1120\u001b[0m         \u001b[1;32mtry\u001b[0m\u001b[1;33m:\u001b[0m\u001b[1;33m\u001b[0m\u001b[0m\n\u001b[1;32m-> 1121\u001b[1;33m             \u001b[0mresponse\u001b[0m\u001b[1;33m.\u001b[0m\u001b[0mbegin\u001b[0m\u001b[1;33m(\u001b[0m\u001b[1;33m)\u001b[0m\u001b[1;33m\u001b[0m\u001b[0m\n\u001b[0m\u001b[0;32m   1122\u001b[0m             \u001b[1;32massert\u001b[0m \u001b[0mresponse\u001b[0m\u001b[1;33m.\u001b[0m\u001b[0mwill_close\u001b[0m \u001b[1;33m!=\u001b[0m \u001b[0m_UNKNOWN\u001b[0m\u001b[1;33m\u001b[0m\u001b[0m\n\u001b[0;32m   1123\u001b[0m             \u001b[0mself\u001b[0m\u001b[1;33m.\u001b[0m\u001b[0m__state\u001b[0m \u001b[1;33m=\u001b[0m \u001b[0m_CS_IDLE\u001b[0m\u001b[1;33m\u001b[0m\u001b[0m\n",
      "\u001b[1;32mC:\\ProgramData\\Anaconda2\\lib\\httplib.pyc\u001b[0m in \u001b[0;36mbegin\u001b[1;34m(self)\u001b[0m\n\u001b[0;32m    436\u001b[0m         \u001b[1;31m# read until we get a non-100 response\u001b[0m\u001b[1;33m\u001b[0m\u001b[1;33m\u001b[0m\u001b[0m\n\u001b[0;32m    437\u001b[0m         \u001b[1;32mwhile\u001b[0m \u001b[0mTrue\u001b[0m\u001b[1;33m:\u001b[0m\u001b[1;33m\u001b[0m\u001b[0m\n\u001b[1;32m--> 438\u001b[1;33m             \u001b[0mversion\u001b[0m\u001b[1;33m,\u001b[0m \u001b[0mstatus\u001b[0m\u001b[1;33m,\u001b[0m \u001b[0mreason\u001b[0m \u001b[1;33m=\u001b[0m \u001b[0mself\u001b[0m\u001b[1;33m.\u001b[0m\u001b[0m_read_status\u001b[0m\u001b[1;33m(\u001b[0m\u001b[1;33m)\u001b[0m\u001b[1;33m\u001b[0m\u001b[0m\n\u001b[0m\u001b[0;32m    439\u001b[0m             \u001b[1;32mif\u001b[0m \u001b[0mstatus\u001b[0m \u001b[1;33m!=\u001b[0m \u001b[0mCONTINUE\u001b[0m\u001b[1;33m:\u001b[0m\u001b[1;33m\u001b[0m\u001b[0m\n\u001b[0;32m    440\u001b[0m                 \u001b[1;32mbreak\u001b[0m\u001b[1;33m\u001b[0m\u001b[0m\n",
      "\u001b[1;32mC:\\ProgramData\\Anaconda2\\lib\\httplib.pyc\u001b[0m in \u001b[0;36m_read_status\u001b[1;34m(self)\u001b[0m\n\u001b[0;32m    392\u001b[0m     \u001b[1;32mdef\u001b[0m \u001b[0m_read_status\u001b[0m\u001b[1;33m(\u001b[0m\u001b[0mself\u001b[0m\u001b[1;33m)\u001b[0m\u001b[1;33m:\u001b[0m\u001b[1;33m\u001b[0m\u001b[0m\n\u001b[0;32m    393\u001b[0m         \u001b[1;31m# Initialize with Simple-Response defaults\u001b[0m\u001b[1;33m\u001b[0m\u001b[1;33m\u001b[0m\u001b[0m\n\u001b[1;32m--> 394\u001b[1;33m         \u001b[0mline\u001b[0m \u001b[1;33m=\u001b[0m \u001b[0mself\u001b[0m\u001b[1;33m.\u001b[0m\u001b[0mfp\u001b[0m\u001b[1;33m.\u001b[0m\u001b[0mreadline\u001b[0m\u001b[1;33m(\u001b[0m\u001b[0m_MAXLINE\u001b[0m \u001b[1;33m+\u001b[0m \u001b[1;36m1\u001b[0m\u001b[1;33m)\u001b[0m\u001b[1;33m\u001b[0m\u001b[0m\n\u001b[0m\u001b[0;32m    395\u001b[0m         \u001b[1;32mif\u001b[0m \u001b[0mlen\u001b[0m\u001b[1;33m(\u001b[0m\u001b[0mline\u001b[0m\u001b[1;33m)\u001b[0m \u001b[1;33m>\u001b[0m \u001b[0m_MAXLINE\u001b[0m\u001b[1;33m:\u001b[0m\u001b[1;33m\u001b[0m\u001b[0m\n\u001b[0;32m    396\u001b[0m             \u001b[1;32mraise\u001b[0m \u001b[0mLineTooLong\u001b[0m\u001b[1;33m(\u001b[0m\u001b[1;34m\"header line\"\u001b[0m\u001b[1;33m)\u001b[0m\u001b[1;33m\u001b[0m\u001b[0m\n",
      "\u001b[1;32mC:\\ProgramData\\Anaconda2\\lib\\socket.pyc\u001b[0m in \u001b[0;36mreadline\u001b[1;34m(self, size)\u001b[0m\n\u001b[0;32m    478\u001b[0m             \u001b[1;32mwhile\u001b[0m \u001b[0mTrue\u001b[0m\u001b[1;33m:\u001b[0m\u001b[1;33m\u001b[0m\u001b[0m\n\u001b[0;32m    479\u001b[0m                 \u001b[1;32mtry\u001b[0m\u001b[1;33m:\u001b[0m\u001b[1;33m\u001b[0m\u001b[0m\n\u001b[1;32m--> 480\u001b[1;33m                     \u001b[0mdata\u001b[0m \u001b[1;33m=\u001b[0m \u001b[0mself\u001b[0m\u001b[1;33m.\u001b[0m\u001b[0m_sock\u001b[0m\u001b[1;33m.\u001b[0m\u001b[0mrecv\u001b[0m\u001b[1;33m(\u001b[0m\u001b[0mself\u001b[0m\u001b[1;33m.\u001b[0m\u001b[0m_rbufsize\u001b[0m\u001b[1;33m)\u001b[0m\u001b[1;33m\u001b[0m\u001b[0m\n\u001b[0m\u001b[0;32m    481\u001b[0m                 \u001b[1;32mexcept\u001b[0m \u001b[0merror\u001b[0m\u001b[1;33m,\u001b[0m \u001b[0me\u001b[0m\u001b[1;33m:\u001b[0m\u001b[1;33m\u001b[0m\u001b[0m\n\u001b[0;32m    482\u001b[0m                     \u001b[1;32mif\u001b[0m \u001b[0me\u001b[0m\u001b[1;33m.\u001b[0m\u001b[0margs\u001b[0m\u001b[1;33m[\u001b[0m\u001b[1;36m0\u001b[0m\u001b[1;33m]\u001b[0m \u001b[1;33m==\u001b[0m \u001b[0mEINTR\u001b[0m\u001b[1;33m:\u001b[0m\u001b[1;33m\u001b[0m\u001b[0m\n",
      "\u001b[1;31mKeyboardInterrupt\u001b[0m: "
     ]
    }
   ],
   "source": [
    "'''\n",
    "Devolper Name: AFAQ AHMAD\n",
    "Fiverr: https://www.fiverr.com/mrafaq1\n",
    "Whatssapp: +92-335695635\n",
    "Email:afaq.ahmad100@gmail.com\n",
    "'''\n",
    "\n",
    "Initial_address=\"http://fantasy.nfl.com/league/4008988/history/2017/teamhome?teamId=1\"\n",
    "\n",
    "from bs4 import BeautifulSoup\n",
    "from selenium import webdriver\n",
    "import time\n",
    "import csv\n",
    "from random import randint\n",
    "import json, io\n",
    "\n",
    "from selenium.webdriver.common.by import By\n",
    "from selenium.webdriver.common.keys import Keys\n",
    "from selenium.webdriver.support.ui import Select\n",
    "from selenium.webdriver.support.ui import WebDriverWait\n",
    "from selenium.common.exceptions import TimeoutException\n",
    "from selenium.webdriver.support import expected_conditions as EC\n",
    "from selenium.common.exceptions import NoSuchElementException\n",
    "from selenium.common.exceptions import NoAlertPresentException\n",
    "\n",
    "driver = webdriver.Chrome(executable_path=r'/Users/Name/Downloads/Compressed/chromedrives/chromedriver.exe')\n",
    "driver.get(\"http://fantasy.nfl.com/league/4008988/history/2017/teamhome?teamId=6\")\n",
    "time.sleep(3)\n",
    "s = BeautifulSoup(driver.page_source, 'lxml')\n",
    "username = driver.find_element_by_id(\"fanProfileEmailUsername\")\n",
    "password = driver.find_element_by_id(\"fanProfilePassword\")\n",
    "username.send_keys(\"bazlla\")\n",
    "password.send_keys(\"Mrafaq1\")\n",
    "login_attempt = driver.find_element_by_xpath(\"//*[@type='submit']\")\n",
    "login_attempt.submit()\n",
    "\n",
    "time.sleep(30)\n",
    "login_attempt = driver.find_element_by_xpath(\"//*[@type='submit']\")\n",
    "login_attempt.submit()\n",
    "\n",
    "driver.get(Initial_address)\n",
    "time.sleep(3)\n",
    "s = BeautifulSoup(driver.page_source, 'lxml')\n",
    "\n",
    "team_selector=s.find_all(\"span\", class_=\"selecter-item\")\n",
    "\n",
    "\n",
    "def saving_function(Excelname,data):\n",
    "    data[4]=(data[4]).encode('ascii', 'ignore')\n",
    "    data[3]=(data[3]).encode('ascii', 'ignore')\n",
    "    afaq=[data]\n",
    "    #print(afaq)\n",
    "    csvfile = open(Excelname, 'a')\n",
    "    for row in afaq:\n",
    "        #line = ','.join(row)\n",
    "        values = ','.join(str(v) for v in row)\n",
    "        csvfile.write(values + '\\n')\n",
    "\n",
    "\n",
    "def savetable(Excelname):\n",
    "    aaa=s.find_all(\"div\", class_=\"tableWrap\")\n",
    "\n",
    "    #--------For headlines---------------\n",
    "\n",
    "    tit=aaa[2].find_all('tr', class_=\"first\")\n",
    "    titt=tit[0].find_all('th')\n",
    "    \n",
    "    data=[' ',' ',' ',' ',' ',' ',' ',' ',' ',' ',' ',' ',' ',' ',' ']\n",
    "    saving_function(Excelname,data)\n",
    "    data=['-','-','-','-','-','-','-','=','Offense','Team','=','-','-','-','-','-','-','-','-']\n",
    "    saving_function(Excelname,data)\n",
    "    data=[' ',' ',' ',' ',' ','Passing',' ',' ','Rushing',' ','Receiving',' ',' ','Return',' ','Misc',' ','Fum','Fantasy']\n",
    "    saving_function(Excelname,data)\n",
    "    data=[]\n",
    "    trr= aaa[0].find_all('tr')\n",
    "    tit2=aaa[0].find_all('tr', class_=\"last\")\n",
    "    titt2 = tit2[0].find_all('th')\n",
    "    for k in range(0,len(titt2)):\n",
    "        #print(titt2[k].text)\n",
    "        data.append((titt2[k].text).replace(',',' '))\n",
    "    saving_function(Excelname,data)\n",
    "    data=[' ',' ',' ',' ',' ',' ',' ',' ',' ',' ',' ',' ',' ',' ',' ']\n",
    "    saving_function(Excelname,data)\n",
    "\n",
    "    data=[]\n",
    "    #print(\"----------------------\")\n",
    "    for g in range(2,len(trr)):\n",
    "        trrr=trr[g].find_all('td')\n",
    "        if len(trrr) > 1:\n",
    "            for i in range(0,len(trrr)):\n",
    "                #print(trrr[i].text)=(trrr[i].text).encode('ascii', 'ignore')\n",
    "                #(trrr[i].text)=(trrr[i].text).encode('ascii', 'ignore')\n",
    "                #print((trrr[i].text).replace(',',' '))\n",
    "                data.append((trrr[i].text).replace(',',' '))\n",
    "            saving_function(Excelname,data)\n",
    "            data=[]\n",
    "            #print(\"------\")\n",
    "\n",
    "    data=[' ',' ',' ',' ',' ',' ',' ',' ',' ',' ',' ',' ',' ',' ',' ']\n",
    "    saving_function(Excelname,data)\n",
    "    data=[' ',' ',' ',' ',' ',' ',' ',' ',' ',' ',' ',' ',' ',' ',' ']\n",
    "    saving_function(Excelname,data)\n",
    "    data=['-','-','-','-','-','-','-','=','Kicker','Team','=','-','-','-','-','-','-','-']\n",
    "    saving_function(Excelname,data)\n",
    "    data=[' ',' ',' ',' ',' ','PAT',' ','FG Made',' ',' ',' ',' ','FG Miss',' ',' ',' ',' ','Fantasy']\n",
    "    saving_function(Excelname,data)\n",
    "    data=[]\n",
    "    trr= aaa[1].find_all('tr')\n",
    "    tit2=aaa[1].find_all('tr', class_=\"last\")\n",
    "    titt2 = tit2[0].find_all('th')\n",
    "    for k in range(0,len(titt2)):\n",
    "        #print(titt2[k].text)\n",
    "        data.append((titt2[k].text).replace(',',' '))\n",
    "    saving_function(Excelname,data)\n",
    "    data=[' ',' ',' ',' ',' ',' ',' ',' ',' ',' ',' ',' ',' ',' ',' ']\n",
    "    saving_function(Excelname,data)\n",
    "\n",
    "    data=[]\n",
    "    #print(\"----------------------\")\n",
    "    for g in range(2,len(trr)):\n",
    "        trrr=trr[g].find_all('td')\n",
    "        if len(trrr) > 1:\n",
    "            for i in range(0,len(trrr)):\n",
    "                #print(trrr[i].text)\n",
    "                data.append((trrr[i].text).replace(',',' '))\n",
    "            saving_function(Excelname,data)\n",
    "            data=[]\n",
    "            #print(\"------\")\n",
    "\n",
    "    data=[' ',' ',' ',' ',' ',' ',' ',' ',' ',' ',' ',' ',' ',' ',' ']\n",
    "    saving_function(Excelname,data)\n",
    "    data=[' ',' ',' ',' ',' ',' ',' ',' ',' ',' ',' ',' ',' ',' ',' ']\n",
    "    saving_function(Excelname,data)\n",
    "    data=['-','-','-','-','-','=','Defense','Team','=','-','-','-','-','-','-']\n",
    "    saving_function(Excelname,data)\n",
    "    data=[' ',' ',' ',' ',' ','Tackles','Turnover',' ','Score',' ',' ','Return',' ','Points','Fantasy']\n",
    "    saving_function(Excelname,data)\n",
    "    data=[]\n",
    "    trr= aaa[2].find_all('tr')\n",
    "    tit2=aaa[2].find_all('tr', class_=\"last\")\n",
    "    titt2 = tit2[0].find_all('th')\n",
    "    for k in range(0,len(titt2)):\n",
    "        #print(titt2[k].text)\n",
    "        data.append((titt2[k].text).replace(',',' '))\n",
    "    saving_function(Excelname,data)\n",
    "    data=[' ',' ',' ',' ',' ',' ',' ',' ',' ',' ',' ',' ',' ',' ',' ']\n",
    "    saving_function(Excelname,data)\n",
    "\n",
    "    data=[]\n",
    "    #print(\"----------------------\")\n",
    "    for g in range(2,len(trr)):\n",
    "        trrr=trr[g].find_all('td')\n",
    "        if len(trrr) > 1:\n",
    "            for i in range(0,len(trrr)):\n",
    "                #print(trrr[i].text)\n",
    "                data.append((trrr[i].text).replace(',',' '))\n",
    "            saving_function(Excelname,data)\n",
    "            data=[]\n",
    "            #print(\"------\")\n",
    "\n",
    "            \n",
    "            \n",
    "for Noofteams in range(1,len(team_selector)+1):\n",
    "    url_address=bytearray(Initial_address)\n",
    "    del url_address[-1]\n",
    "    url_address=str(url_address+str(Noofteams))\n",
    "    driver.get(url_address)\n",
    "    time.sleep(randint(0, 9))\n",
    "    s = BeautifulSoup(driver.page_source, 'lxml')\n",
    "    \n",
    "    Basic_save={}\n",
    "    team_name=s.find(\"span\", class_=\"selecter-selected\")\n",
    "    team_owner=s.find(\"ul\", class_=\"owners\")\n",
    "    team_status=s.find_all(\"ul\", class_=\"teamStats\")\n",
    "    Basic_save['team_name']=(team_name.find(\"span\", class_=\"label\").text)\n",
    "    Basic_save['team_owner']=team_owner.text\n",
    "\n",
    "    status_save={}\n",
    "    qp=0\n",
    "    for n in team_status[0]:\n",
    "        #print(((n.text).split())[-1])\n",
    "        if qp == 0:\n",
    "            status_save['Rank']=((n.text).split())[-1]\n",
    "            qp=1\n",
    "            continue\n",
    "        if qp == 1:\n",
    "            status_save['Record']=((n.text).split())[-1]\n",
    "            qp=2\n",
    "            continue\n",
    "        if qp == 2:\n",
    "            status_save['Streak']=((n.text).split())[-1]\n",
    "    for n in team_status[1]:\n",
    "        #print(((n.text).split())[-2])\n",
    "        status_save['season Result']=((n.text).split())[-2]\n",
    "\n",
    "    with io.open(Basic_save['team_name']+str('.txt'), 'a', encoding='utf8') as json_file:\n",
    "        data3 = json.dumps(Basic_save, ensure_ascii=False, encoding='utf8',indent=4, sort_keys=True)\n",
    "        json_file.write(unicode(data3))\n",
    "    \n",
    "    with io.open(Basic_save['team_name']+str('.txt'), 'a', encoding='utf8') as json_file:\n",
    "        data3 = json.dumps(status_save, ensure_ascii=False, encoding='utf8',indent=4, sort_keys=True)\n",
    "        json_file.write(unicode(data3))\n",
    "    Excelname=Basic_save['team_name']+'_Total'+str('.csv')\n",
    "    savetable(Excelname)\n",
    "    \n",
    "    week=s.find_all('ul', class_=\"weekNav weekNav-full nav-bar\")\n",
    "    week_link_data=[]\n",
    "    week_link=week[0].find_all('a')\n",
    "    for k in range(0,len(week_link)-10):\n",
    "        aa=week_link[k]\n",
    "        link=aa['href']\n",
    "        week_link_data.append(link)\n",
    "        link=None\n",
    "    week_urll='http://fantasy.nfl.com/'+week_link_data[0]\n",
    "    week_url2=bytearray(week_urll)\n",
    "    del week_url2[-1]\n",
    "    del week_url2[-1]\n",
    "    for p in range(1,17):\n",
    "        week_url=str(week_url2+str(p))\n",
    "        driver.get(week_url)\n",
    "        time.sleep(randint(0, 9))\n",
    "        s = BeautifulSoup(driver.page_source, 'lxml')\n",
    "        Excelname=Basic_save['team_name']+'_week_'+str(p)+str('.csv')\n",
    "        savetable(Excelname)\n",
    "    \n",
    "    week_url='http://fantasy.nfl.com/'+week_link_data[-2]\n",
    "    driver.get(week_url)\n",
    "    time.sleep(randint(0, 9))\n",
    "    s = BeautifulSoup(driver.page_source, 'lxml')\n",
    "    Excelname=Basic_save['team_name']+'_Last_2_WKS'+str('.csv')\n",
    "    savetable(Excelname)\n",
    "    \n",
    "    week_url='http://fantasy.nfl.com/'+week_link_data[-1]\n",
    "    driver.get(week_url)\n",
    "    time.sleep(randint(0, 9))\n",
    "    s = BeautifulSoup(driver.page_source, 'lxml')\n",
    "    Excelname=Basic_save['team_name']+'_Last_4_WKS'+str('.csv')\n",
    "    savetable(Excelname)"
   ]
  },
  {
   "cell_type": "code",
   "execution_count": 64,
   "metadata": {},
   "outputs": [],
   "source": []
  },
  {
   "cell_type": "code",
   "execution_count": null,
   "metadata": {},
   "outputs": [],
   "source": [
    "from bs4 import BeautifulSoup\n",
    "from selenium import webdriver\n",
    "import time\n",
    "import csv\n",
    "from random import randint\n",
    "import json, io"
   ]
  },
  {
   "cell_type": "code",
   "execution_count": 7,
   "metadata": {},
   "outputs": [
    {
     "data": {
      "text/plain": [
       "'4.6.0'"
      ]
     },
     "execution_count": 7,
     "metadata": {},
     "output_type": "execute_result"
    }
   ],
   "source": [
    "import bs4\n"
   ]
  },
  {
   "cell_type": "code",
   "execution_count": 9,
   "metadata": {},
   "outputs": [
    {
     "data": {
      "text/plain": [
       "'3.12.0'"
      ]
     },
     "execution_count": 9,
     "metadata": {},
     "output_type": "execute_result"
    }
   ],
   "source": [
    "import selenium"
   ]
  },
  {
   "cell_type": "code",
   "execution_count": 10,
   "metadata": {},
   "outputs": [
    {
     "data": {
      "text/plain": [
       "'1.0'"
      ]
     },
     "execution_count": 10,
     "metadata": {},
     "output_type": "execute_result"
    }
   ],
   "source": [
    "import csv\n"
   ]
  },
  {
   "cell_type": "code",
   "execution_count": 11,
   "metadata": {},
   "outputs": [
    {
     "data": {
      "text/plain": [
       "'2.0.9'"
      ]
     },
     "execution_count": 11,
     "metadata": {},
     "output_type": "execute_result"
    }
   ],
   "source": [
    "import json, io"
   ]
  },
  {
   "cell_type": "code",
   "execution_count": 12,
   "metadata": {},
   "outputs": [
    {
     "ename": "AttributeError",
     "evalue": "'module' object has no attribute '__version__'",
     "output_type": "error",
     "traceback": [
      "\u001b[1;31m---------------------------------------------------------------------------\u001b[0m",
      "\u001b[1;31mAttributeError\u001b[0m                            Traceback (most recent call last)",
      "\u001b[1;32m<ipython-input-12-6fc34ba5e36a>\u001b[0m in \u001b[0;36m<module>\u001b[1;34m()\u001b[0m\n\u001b[1;32m----> 1\u001b[1;33m \u001b[0mio\u001b[0m\u001b[1;33m.\u001b[0m\u001b[0m__version__\u001b[0m\u001b[1;33m\u001b[0m\u001b[0m\n\u001b[0m",
      "\u001b[1;31mAttributeError\u001b[0m: 'module' object has no attribute '__version__'"
     ]
    }
   ],
   "source": [
    "io.__version__"
   ]
  },
  {
   "cell_type": "code",
   "execution_count": null,
   "metadata": {},
   "outputs": [],
   "source": []
  }
 ],
 "metadata": {
  "kernelspec": {
   "display_name": "Python 2",
   "language": "python",
   "name": "python2"
  },
  "language_info": {
   "codemirror_mode": {
    "name": "ipython",
    "version": 2
   },
   "file_extension": ".py",
   "mimetype": "text/x-python",
   "name": "python",
   "nbconvert_exporter": "python",
   "pygments_lexer": "ipython2",
   "version": "2.7.14"
  }
 },
 "nbformat": 4,
 "nbformat_minor": 2
}
