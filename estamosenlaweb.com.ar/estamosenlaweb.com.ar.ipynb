{
 "cells": [
  {
   "cell_type": "code",
   "execution_count": 6,
   "metadata": {},
   "outputs": [],
   "source": [
    "import csv\n",
    "with open('urls from bing.txt') as csvfile:\n",
    "    spamreader = csv.reader(csvfile, delimiter='\\n')"
   ]
  },
  {
   "cell_type": "code",
   "execution_count": 13,
   "metadata": {},
   "outputs": [],
   "source": [
    "with open('urls from bing.txt', 'r') as myfile: data=myfile.read().replace('\\n', ',')"
   ]
  },
  {
   "cell_type": "code",
   "execution_count": 17,
   "metadata": {},
   "outputs": [
    {
     "data": {
      "text/plain": [
       "660"
      ]
     },
     "execution_count": 17,
     "metadata": {},
     "output_type": "execute_result"
    }
   ],
   "source": [
    "links=data.split(',')\n",
    "len(links)"
   ]
  },
  {
   "cell_type": "code",
   "execution_count": 27,
   "metadata": {},
   "outputs": [
    {
     "name": "stdout",
     "output_type": "stream",
     "text": [
      "https://estamosenlaweb.com.ar/3019/la-opinion-austral-diario-de-noticias\n"
     ]
    }
   ],
   "source": [
    "print links[0]"
   ]
  },
  {
   "cell_type": "code",
   "execution_count": 22,
   "metadata": {},
   "outputs": [],
   "source": [
    "import re\n",
    "import urllib\n",
    "import urllib3\n",
    "import requests\n",
    "from bs4 import BeautifulSoup\n",
    "from selenium import webdriver\n",
    "from time import sleep\n",
    "import csv\n",
    "from random import randint\n",
    "urllib3.disable_warnings()\n",
    "import json, io\n",
    "headers = {'User-Agent':'Mozilla/6.0'}\n"
   ]
  },
  {
   "cell_type": "code",
   "execution_count": 28,
   "metadata": {},
   "outputs": [],
   "source": [
    "\n",
    "from selenium.webdriver.common.by import By\n",
    "from selenium.webdriver.common.keys import Keys\n",
    "from selenium.webdriver.support.ui import Select\n",
    "from selenium.webdriver.support.ui import WebDriverWait\n",
    "from selenium.common.exceptions import TimeoutException\n",
    "from selenium.webdriver.support import expected_conditions as EC\n",
    "from selenium.common.exceptions import NoSuchElementException\n",
    "from selenium.common.exceptions import NoAlertPresentException\n",
    "\n",
    "from time import sleep\n",
    "import csv\n",
    "from selenium import webdriver\n",
    "\n",
    "chrome_options = webdriver.ChromeOptions()\n",
    "chrome_options.add_argument(\"user-agent=Mozilla/8.0\")\n",
    "driver = webdriver.Chrome(executable_path=r'/Users/Name/Downloads/Compressed/chromedrives/chromedriver.exe',chrome_options=chrome_options)\n"
   ]
  },
  {
   "cell_type": "code",
   "execution_count": 176,
   "metadata": {},
   "outputs": [],
   "source": [
    "from openpyxl import load_workbook\n",
    "from openpyxl import Workbook"
   ]
  },
  {
   "cell_type": "code",
   "execution_count": 137,
   "metadata": {},
   "outputs": [],
   "source": []
  },
  {
   "cell_type": "code",
   "execution_count": null,
   "metadata": {},
   "outputs": [],
   "source": []
  },
  {
   "cell_type": "code",
   "execution_count": null,
   "metadata": {},
   "outputs": [],
   "source": []
  },
  {
   "cell_type": "code",
   "execution_count": 138,
   "metadata": {},
   "outputs": [],
   "source": []
  },
  {
   "cell_type": "code",
   "execution_count": 88,
   "metadata": {},
   "outputs": [],
   "source": [
    "x = BeautifulSoup(driver.page_source)\n",
    "\n",
    "x.prettify('latin-1')\n",
    "\n",
    "soup = BeautifulSoup(driver.page_source, fromEncoding='latin-1')\n"
   ]
  },
  {
   "cell_type": "code",
   "execution_count": null,
   "metadata": {},
   "outputs": [],
   "source": []
  },
  {
   "cell_type": "code",
   "execution_count": 173,
   "metadata": {},
   "outputs": [],
   "source": [
    "list1=[]"
   ]
  },
  {
   "cell_type": "code",
   "execution_count": 223,
   "metadata": {},
   "outputs": [
    {
     "data": {
      "text/plain": [
       "421"
      ]
     },
     "execution_count": 223,
     "metadata": {},
     "output_type": "execute_result"
    }
   ],
   "source": [
    "i"
   ]
  },
  {
   "cell_type": "code",
   "execution_count": 229,
   "metadata": {
    "scrolled": true
   },
   "outputs": [],
   "source": [
    "for i in range(422,len(links)):\n",
    "    try:\n",
    "        \n",
    "        driver.get(links[i])\n",
    "        sleep(5)\n",
    "        driver.find_elements_by_class_name('btn')[0].click()\n",
    "        sleep(3)\n",
    "        soup=BeautifulSoup(driver.page_source,from_encoding=\"UTF-8\")\n",
    "        data=['-']*7\n",
    "        title0=soup.find_all('img',class_=\"logo\")\n",
    "        if len(title0)>0:\n",
    "            title=title0[0].get('alt')\n",
    "            print title\n",
    "            data[0]=title\n",
    "\n",
    "        view_phone=soup.find('span',id=\"view_phone\").text\n",
    "        print view_phone\n",
    "        data[1]=view_phone\n",
    "\n",
    "        title=soup.find('title')\n",
    "        i_title = title.text\n",
    "        print i_title\n",
    "        data[2]=i_title\n",
    "\n",
    "        desciption0=soup.find_all('meta')\n",
    "        if len(desciption0)>2:\n",
    "            desciption=desciption0[2].get('content').encode('utf-8')\n",
    "            print desciption\n",
    "            data[3]=desciption\n",
    "\n",
    "        address0=soup.find('address')\n",
    "        if address0 is not None:\n",
    "            address=address0.text\n",
    "            print address\n",
    "            data[4]=address\n",
    "\n",
    "        weblink0=soup.find_all('a',title=\"web\")\n",
    "        if len(weblink0)>0:\n",
    "            weblink1=weblink0[0].get('href')\n",
    "            print weblink1\n",
    "            data[5]=weblink1\n",
    "        data[6]=links[i]\n",
    "\n",
    "        list1.append(data)\n",
    "        print '======================',i\n",
    "    except:\n",
    "        errlist.append([links[i],i])"
   ]
  },
  {
   "cell_type": "code",
   "execution_count": 250,
   "metadata": {},
   "outputs": [],
   "source": [
    "wb = Workbook(write_only=True)\n",
    "ws = wb.create_sheet()\n",
    "\n",
    "# now we'll fill it with 100 rows x 200 columns\n",
    "for irow in list1:\n",
    "    ws.append(irow)\n",
    "# save the file\n",
    "wb.save('output.xlsx')"
   ]
  },
  {
   "cell_type": "code",
   "execution_count": 242,
   "metadata": {},
   "outputs": [
    {
     "name": "stdout",
     "output_type": "stream",
     "text": [
      "18\n"
     ]
    },
    {
     "data": {
      "text/plain": [
       "12"
      ]
     },
     "execution_count": 242,
     "metadata": {},
     "output_type": "execute_result"
    }
   ],
   "source": [
    "error\n",
    "print len(error)\n",
    "from collections import OrderedDict\n",
    "listerror=list(OrderedDict.fromkeys(error))\n",
    "len(listerror)"
   ]
  },
  {
   "cell_type": "code",
   "execution_count": 249,
   "metadata": {},
   "outputs": [
    {
     "name": "stdout",
     "output_type": "stream",
     "text": [
      "https://estamosenlaweb.com.ar/25921/ypf\n",
      "https://estamosenlaweb.com.ar/25447/inmobiliaria-dominios-del-sur\n",
      "https://estamosenlaweb.com.ar/25796/salud-pscicologica\n",
      "https://estamosenlaweb.com.ar/26047/plaswag-s-a\n",
      "https://estamosenlaweb.com.ar/5529/raul-eduardo-dell-acqua-maletas-de-cuero\n",
      "https://estamosenlaweb.com.ar/344/abel-hernandez-motos\n",
      "https://estamosenlaweb.com.ar/4722/alvaro-ganado-bovino\n",
      "https://estamosenlaweb.com.ar/790/humberto-trigo\n",
      "https://estamosenlaweb.com.ar/25658/pizzeria-dieguito\n",
      "https://estamosenlaweb.com.ar/25760/aceitunas-castell\n",
      "https://www.estamosenlaweb.com.ar/1227/sociedad-quimica-del-pacifico\n"
     ]
    }
   ],
   "source": [
    "saverr=[]\n",
    "for i in range(len(listerror)):\n",
    "    print listerror[i]\n",
    "    saverr.append([listerror[i]])"
   ]
  },
  {
   "cell_type": "code",
   "execution_count": 240,
   "metadata": {},
   "outputs": [],
   "source": [
    "for i in range(len(errlist)):\n",
    "    error.append(errlist[i][0])"
   ]
  },
  {
   "cell_type": "code",
   "execution_count": 235,
   "metadata": {},
   "outputs": [],
   "source": [
    "problem=[169,176,278,285,361,421]"
   ]
  },
  {
   "cell_type": "code",
   "execution_count": null,
   "metadata": {},
   "outputs": [],
   "source": []
  }
 ],
 "metadata": {
  "kernelspec": {
   "display_name": "Python 3",
   "language": "python",
   "name": "python3"
  },
  "language_info": {
   "codemirror_mode": {
    "name": "ipython",
    "version": 3
   },
   "file_extension": ".py",
   "mimetype": "text/x-python",
   "name": "python",
   "nbconvert_exporter": "python",
   "pygments_lexer": "ipython3",
   "version": "3.7.7"
  }
 },
 "nbformat": 4,
 "nbformat_minor": 2
}
