{
 "cells": [
  {
   "cell_type": "code",
   "execution_count": 1,
   "metadata": {},
   "outputs": [],
   "source": [
    "urlpage='https://www.yelp.com/search?find_desc=Coworking+Space&find_loc=Los+Angeles Webscraping'"
   ]
  },
  {
   "cell_type": "code",
   "execution_count": 2,
   "metadata": {},
   "outputs": [],
   "source": [
    "from openpyxl import load_workbook\n",
    "\n",
    "from bs4 import BeautifulSoup\n",
    "from selenium import webdriver\n",
    "from time import sleep\n",
    "import csv\n",
    "from random import randint\n",
    "import json, io\n",
    "\n",
    "from selenium.webdriver.common.by import By\n",
    "from selenium.webdriver.common.keys import Keys\n",
    "from selenium.webdriver.support.ui import Select\n",
    "from selenium.webdriver.support.ui import WebDriverWait\n",
    "from selenium.common.exceptions import TimeoutException\n",
    "from selenium.webdriver.support import expected_conditions as EC\n",
    "from selenium.common.exceptions import NoSuchElementException\n",
    "from selenium.common.exceptions import NoAlertPresentException\n",
    "from selenium.webdriver.common.action_chains import ActionChains\n",
    "\n",
    "import urllib\n",
    "import urllib3\n",
    "import requests\n",
    "import json, io\n",
    "from bs4 import BeautifulSoup\n",
    "urllib3.disable_warnings()\n",
    "header = {'User-Agent':'Mozilla/5.0'}\n",
    "\n",
    "\n",
    "chrome_options = webdriver.ChromeOptions()\n",
    "chrome_options.add_argument('--user-agent=\"Mozilla/5.0')\n",
    "chrome_options.add_argument(\"user-data-dir=selenium\")\n",
    "driver = webdriver.Chrome(chrome_options=chrome_options, executable_path=r'/Users/Name/Downloads/Compressed/chromedrives/chromedriver.exe')\n",
    "\n",
    "cookies = json.load(open('cookiesdict.txt'))\n",
    "for cookie in cookies:\n",
    "    driver.add_cookie(cookie)"
   ]
  },
  {
   "cell_type": "code",
   "execution_count": null,
   "metadata": {},
   "outputs": [],
   "source": []
  },
  {
   "cell_type": "code",
   "execution_count": null,
   "metadata": {},
   "outputs": [],
   "source": [
    "ul0='https://www.yelp.com/search?find_desc=Home+Design&find_loc=90036&start=220&l=g:-118.401374817,34.0253477381,-118.299064636,34.1106675388'"
   ]
  },
  {
   "cell_type": "code",
   "execution_count": 3,
   "metadata": {},
   "outputs": [],
   "source": [
    "def extractpage():    \n",
    "    so1=BeautifulSoup(driver.page_source, 'lxml')\n",
    "    data_Stor0=['-']*14\n",
    "    title0=so1.find_all('h1')[0].text\n",
    "    title1=title0.replace('  ','').replace('\\n','')\n",
    "#     print title1\n",
    "    data_Stor0[0]=title1\n",
    "\n",
    "    biz_rating=so1.find_all('div',class_=\"biz-rating biz-rating-very-large clearfix\")\n",
    "    if len(biz_rating)>0:\n",
    "        rating=biz_rating[0].find(class_='offscreen').get('alt')\n",
    "#         print rating\n",
    "        data_Stor0[1]=rating\n",
    "\n",
    "        reviews0=biz_rating[0].find('span').text\n",
    "        reviews1=reviews0.replace('  ','').replace('\\n','')\n",
    "#         print reviews1\n",
    "        data_Stor0[2]=reviews1\n",
    "\n",
    "    mapbox=so1.find_all('div',class_=\"mapbox-text\")[0]\n",
    "    street_address0=mapbox.find_all('strong',class_=\"street-address\")[0]\n",
    "    street_address1=street_address0.next_element.next_element.next_element\n",
    "    street_address2=street_address1.next_element.next_element\n",
    "    try:\n",
    "        street_address11=street_address1.replace('  ','').replace('\\n','')\n",
    "#         print street_address11\n",
    "        data_Stor0[3]=street_address11\n",
    "    except:\n",
    "        street_address11=street_address1\n",
    "#         print street_address11\n",
    "        data_Stor0[3]=street_address11\n",
    "    try:\n",
    "        street_address22=street_address2.replace('  ','').replace('\\n','')\n",
    "#         print street_address22\n",
    "        data_Stor0[4]=street_address22\n",
    "    except:    \n",
    "        street_address22=street_address2\n",
    "#         print street_address22\n",
    "        data_Stor0[4]=street_address22\n",
    "        \n",
    "    biz_phone0=mapbox.find_all('span',class_=\"biz-phone\")\n",
    "    if len(biz_phone0)>0:\n",
    "        biz_phone1=biz_phone0[0].text\n",
    "        biz_phone2=biz_phone1.replace('  ','').replace('\\n','')\n",
    "#         print biz_phone2\n",
    "        data_Stor0[5]=biz_phone2\n",
    "\n",
    "    biz_website=mapbox.find_all('span',class_=\"biz-website js-biz-website js-add-url-tagging\")\n",
    "    print len(biz_website)\n",
    "    if len(biz_website)>0:\n",
    "        website0=biz_website[0]\n",
    "        website=website0.find_all('a')[0].text\n",
    "#         print website\n",
    "        data_Stor0[6]=website\n",
    "    data_Stor0[7]=driver.current_url\n",
    "\n",
    "    biz_main_info=so1.find_all('div',class_=\"biz-main-info embossed-text-white\")[0]\n",
    "    category_str_list=biz_main_info.find_all('span',class_=\"category-str-list\")[0]\n",
    "    acategory=category_str_list.find_all('a')\n",
    "    category_stor=[]\n",
    "    for ii in range(len(acategory)):\n",
    "#         print acategory[ii].text\n",
    "        category_stor.append(acategory[ii].text)\n",
    "    for hg in range(len(category_stor)):\n",
    "        data_Stor0[8+hg]=category_stor[hg]\n",
    "\n",
    "    print data_Stor0\n",
    "    data_Stor1.append(data_Stor0)"
   ]
  },
  {
   "cell_type": "code",
   "execution_count": 4,
   "metadata": {},
   "outputs": [],
   "source": [
    "driver.get(urlpage)"
   ]
  },
  {
   "cell_type": "code",
   "execution_count": 110,
   "metadata": {},
   "outputs": [],
   "source": [
    "driver.switch_to.window(driver.window_handles[0])\n",
    "search_result=driver.find_elements_by_class_name('regular-search-result')"
   ]
  },
  {
   "cell_type": "code",
   "execution_count": 89,
   "metadata": {},
   "outputs": [
    {
     "data": {
      "text/plain": [
       "10"
      ]
     },
     "execution_count": 89,
     "metadata": {},
     "output_type": "execute_result"
    }
   ],
   "source": [
    "len(search_result)\n"
   ]
  },
  {
   "cell_type": "code",
   "execution_count": 111,
   "metadata": {
    "scrolled": true
   },
   "outputs": [
    {
     "name": "stdout",
     "output_type": "stream",
     "text": [
      "1\n",
      "[u'Sabine\\u2019s Interior Design, Inc', '5.0 star rating', u'8 reviews', <span class=\"neighborhood-str-list\">\\n            Mid-Wilshire        </span>, u'', u'(310) 962-8962', u'sabinesinteriordesign.com', u'https://www.yelp.com/biz/sabines-interior-design-inc-los-angeles?osq=Home+Design', u'Interior Design', '-', '-', '-', '-', '-']\n",
      "1\n",
      "[u'housepaintingLA', '5.0 star rating', u'7 reviews', <span class=\"neighborhood-str-list\">\\n            Mid-Wilshire        </span>, u'', u'(323) 547-5431', u'housepaintingla.com', u'https://www.yelp.com/biz/housepaintingla-los-angeles?osq=Home+Design', u'Painters', u'Interior Design', '-', '-', '-', '-']\n",
      "1\n",
      "[u'J Michael Scott Interiors', '5.0 star rating', u'7 reviews', <address>\\n        509 N La Cienega Blvd<br/>West Hollywood, CA 90048\\n    </address>, <br/>, u'(323) 509-4979', u'jmichaelscott.com', u'https://www.yelp.com/biz/j-michael-scott-interiors-west-hollywood?osq=Home+Design', u'Interior Design', u'Furniture Stores', u'Home Decor', '-', '-', '-']\n",
      "1\n",
      "[u'Interior Illusions', '4.5 star rating', u'10 reviews', <address>\\n        7335 Santa Monica Blvd<br/>West Hollywood, CA 90046\\n    </address>, <br/>, u'(323) 656-8448', u'interiorillusionshome.com', u'https://www.yelp.com/biz/interior-illusions-west-hollywood-2?osq=Home+Design', u'Interior Design', u'Furniture Stores', u'Home Staging', '-', '-', '-']\n",
      "1\n",
      "[u'JRC Designs', '5.0 star rating', u'7 reviews', u'6053 1/2 Melrose Ave', u'Los Angeles, CA 90038', u'(323) 460-6767', u'jrcdesignsinc.com', u'https://www.yelp.com/biz/jrc-designs-los-angeles?osq=Home+Design', u'Interior Design', '-', '-', '-', '-', '-']\n",
      "1\n",
      "[u'Praner Design', '5.0 star rating', u'1 review', u'8424A Santa Monica Blvd', u'Ste 808', u'(323) 934-4450', u'pranerdesigns.com', u'https://www.yelp.com/biz/praner-design-los-angeles?osq=Home+Design', u'Interior Design', '-', '-', '-', '-', '-']\n",
      "1\n",
      "[u'Spazio LA', '5.0 star rating', u'44 reviews', <address>\\n        10620 W Magnolia Blvd<br/>North Hollywood, CA 91601\\n    </address>, <br/>, u'(877) 624-7772', u'spaziodesignsla.com', u'https://www.yelp.com/biz/spazio-la-north-hollywood-2?osq=Home+Design', u'Interior Design', u'Contractors', u'Architects', '-', '-', '-']\n",
      "1\n",
      "[u'SBT Home Design', '5.0 star rating', u'5 reviews', u'6362 W 6th St', u'Los Angeles, CA 90048', u'(310) 617-7042', u'sbtHomeDesign.com', u'https://www.yelp.com/biz/sbt-home-design-los-angeles?osq=Home+Design', u'Interior Design', u'Contractors', '-', '-', '-', '-']\n",
      "1\n",
      "[u'BoConcept Los Angeles', '4.0 star rating', u'55 reviews', u'434 N La Brea Ave', u'Los Angeles, CA 90036', u'(323) 591-0782', u'boconcept.us', u'https://www.yelp.com/biz/boconcept-los-angeles-los-angeles-2?osq=Home+Design', u'Furniture Stores', u'Home Decor', u'Interior Design', '-', '-', '-']\n",
      "1\n",
      "[u'Prairie Design & Staging', '5.0 star rating', u'25 reviews', <span class=\"neighborhood-str-list\">\\n            Hollywood Hills West        </span>, u'', u'(310) 994-7552', u'prairiehomestyling.com', u'https://www.yelp.com/biz/prairie-design-and-staging-los-angeles?osq=Home+Design', u'Home Staging', u'Interior Design', '-', '-', '-', '-']\n"
     ]
    }
   ],
   "source": [
    "for kl in range(0,1):    \n",
    "    search_result=driver.find_elements_by_class_name('regular-search-result')\n",
    "    for jk in range(0,len(search_result)):\n",
    "        driver.switch_to_window(driver.window_handles[0])\n",
    "        sleep(5)\n",
    "        actions = ActionChains(driver)\n",
    "        about=search_result[jk].find_element_by_class_name('biz-name')\n",
    "        actions.key_down(Keys.CONTROL).click(about).key_up(Keys.CONTROL).perform() \n",
    "        sleep(10)\n",
    "        driver.switch_to.window(driver.window_handles[1])\n",
    "        sleep(3)\n",
    "        extractpage()\n",
    "        driver.close()\n",
    "    driver.switch_to_window(driver.window_handles[0])\n",
    "    sleep(2)\n",
    "    driver.find_element_by_link_text('Next').click()\n",
    "    sleep(15)"
   ]
  },
  {
   "cell_type": "code",
   "execution_count": 107,
   "metadata": {
    "scrolled": true
   },
   "outputs": [
    {
     "name": "stdout",
     "output_type": "stream",
     "text": [
      "1\n",
      "[u'Sabine\\u2019s Interior Design, Inc', '5.0 star rating', u'8 reviews', <span class=\"neighborhood-str-list\">\\n            Mid-Wilshire        </span>, u'', u'(310) 962-8962', u'sabinesinteriordesign.com', u'https://www.yelp.com/biz/sabines-interior-design-inc-los-angeles?osq=Home+Design', u'Interior Design', '-', '-', '-', '-', '-']\n"
     ]
    }
   ],
   "source": [
    "jk\n",
    "driver.switch_to.window(driver.window_handles[1])\n",
    "extractpage()"
   ]
  },
  {
   "cell_type": "code",
   "execution_count": 112,
   "metadata": {},
   "outputs": [
    {
     "data": {
      "text/plain": [
       "9"
      ]
     },
     "execution_count": 112,
     "metadata": {},
     "output_type": "execute_result"
    }
   ],
   "source": [
    "jk\n"
   ]
  },
  {
   "cell_type": "code",
   "execution_count": null,
   "metadata": {},
   "outputs": [],
   "source": [
    "\n",
    "250,-7"
   ]
  },
  {
   "cell_type": "code",
   "execution_count": 109,
   "metadata": {},
   "outputs": [],
   "source": [
    "driver.close()"
   ]
  },
  {
   "cell_type": "code",
   "execution_count": 113,
   "metadata": {},
   "outputs": [
    {
     "data": {
      "text/plain": [
       "21"
      ]
     },
     "execution_count": 113,
     "metadata": {},
     "output_type": "execute_result"
    }
   ],
   "source": [
    "len(data_Stor1)"
   ]
  },
  {
   "cell_type": "code",
   "execution_count": 103,
   "metadata": {},
   "outputs": [
    {
     "data": {
      "text/plain": [
       "[]"
      ]
     },
     "execution_count": 103,
     "metadata": {},
     "output_type": "execute_result"
    }
   ],
   "source": [
    "data_Stor1"
   ]
  },
  {
   "cell_type": "code",
   "execution_count": 115,
   "metadata": {},
   "outputs": [
    {
     "name": "stdout",
     "output_type": "stream",
     "text": [
      "[u'Beverly Hills One', '5.0 star rating', u'1 review', <address>\\n        8383 Wilshire Blvd<br/>Ste 830<br/>Beverly Hills, CA 90211\\n    </address>, <br/>, u'(323) 370-6147', u'beverlyhillsone.com', u'https://www.yelp.com/biz/beverly-hills-one-beverly-hills?osq=Home+Design', u'Contractors', u'Architects', u'Interior Design', '-', '-', '-']\n",
      "1\n",
      "1\n",
      "[u'Lisa Merkle Design', '5.0 star rating', u'18 reviews', u'', <li>\\n<span aria-hidden=\"true\" class=\"icon icon--18-phone icon--size-18\" style=\"width: 18px; height: 18px;\">\\n<svg class=\"icon_svg\" role=\"img\" xmlns=\"http://www.w3.org/2000/svg\">\\n<use xlink:href=\"#18x18_phone\" xmlns:xlink=\"http://www.w3.org/1999/xlink\"></use>\\n</svg>\\n</span>\\n<span class=\"offscreen\">Phone number</span>\\n<span class=\"biz-phone\">\\n            (323) 745-2205\\n        </span>\\n</li>, u'(323) 745-2205', u'lisamerkledesign.com', u'https://www.yelp.com/biz/lisa-merkle-design-beverly-hills-2?osq=Home+Design', u'Interior Design', '-', '-', '-', '-', '-']\n",
      "2\n",
      "2\n",
      "[u'Give Me Shelter Design', '5.0 star rating', u'3 reviews', <span class=\"neighborhood-str-list\">\\n            Mid-Wilshire        </span>, u'', u'(323) 938-9933', u'givemeshelterdesign.com', u'https://www.yelp.com/biz/give-me-shelter-design-los-angeles-2?osq=Home+Design', u'Interior Design', '-', '-', '-', '-', '-']\n",
      "3\n",
      "3\n",
      "[u'Laurel & Wolf', '4.0 star rating', u'61 reviews', u'708 N Croft Ave', u'Los Angeles, CA 90069', u'(888) 574-4636', u'laurelandwolf.com', u'https://www.yelp.com/biz/laurel-and-wolf-los-angeles?osq=Home+Design', u'Interior Design', '-', '-', '-', '-', '-']\n",
      "4\n",
      "4\n",
      "[u'Vanguard Development', '5.0 star rating', u'2 reviews', <address>\\n        8383 Wilshire Blvd<br/>Ste 800<br/>Los Angeles, CA 90211\\n    </address>, <br/>, u'(866) 207-4284', u'vanguard-development.com', u'https://www.yelp.com/biz/vanguard-development-los-angeles-2?osq=Home+Design', u'Interior Design', u'Architects', '-', '-', '-', '-']\n",
      "5\n",
      "5\n",
      "[u'MAHD Design & Planning', '5.0 star rating', u'6 reviews', <address>\\n        8383 Wilshire Blvd<br/>Ste 800<br/>Beverly Hills, CA 90211\\n    </address>, <br/>, u'(424) 313-7020', u'mahddp.com', u'https://www.yelp.com/biz/mahd-design-and-planning-beverly-hills?osq=Home+Design', u'Interior Design', u'Architects', '-', '-', '-', '-']\n",
      "6\n",
      "6\n",
      "[u'Craft Home', '5.0 star rating', u'15 reviews', <span class=\"neighborhood-str-list\">\\n            Mid-Wilshire        </span>, u'', u'(323) 302-5483', u'crafthomestaging.com', u'https://www.yelp.com/biz/craft-home-los-angeles-2?osq=Home+Design', u'Home Staging', u'Interior Design', u'Furniture Rental', '-', '-', '-']\n",
      "7\n",
      "7\n",
      "[u'MKB Home Design', '4.5 star rating', u'127 reviews', u'', <li>\\n<span aria-hidden=\"true\" class=\"icon icon--18-phone icon--size-18\" style=\"width: 18px; height: 18px;\">\\n<svg class=\"icon_svg\" role=\"img\" xmlns=\"http://www.w3.org/2000/svg\">\\n<use xlink:href=\"#18x18_phone\" xmlns:xlink=\"http://www.w3.org/1999/xlink\"></use>\\n</svg>\\n</span>\\n<span class=\"offscreen\">Phone number</span>\\n<span class=\"biz-phone\">\\n            (562) 862-0279\\n        </span>\\n</li>, u'(562) 862-0279', u'mkbla.com', u'https://www.yelp.com/biz/mkb-home-design-downey-4?osq=Home+Design', u'Contractors', u'Kitchen & Bath', '-', '-', '-', '-']\n",
      "8\n",
      "8\n",
      "[u'Joshua Jackson Designs', '5.0 star rating', u'5 reviews', <address>\\n        8484 Wilshire Blvd<br/>Ste 501<br/>Beverly Hills, CA 90211\\n    </address>, <br/>, u'(323) 896-5450', u'joshuajacksondesigns.com', u'https://www.yelp.com/biz/joshua-jackson-designs-beverly-hills?osq=Home+Design', u'Home Staging', u'Interior Design', '-', '-', '-', '-']\n",
      "9\n",
      "9\n",
      "[u'27 Diamonds Interior Design', '5.0 star rating', u'7 reviews', <span class=\"neighborhood-str-list\">\\n            Mid-Wilshire        </span>, u'', u'(323) 433-0082', u'27diamonds.com', u'https://www.yelp.com/biz/27-diamonds-interior-design-los-angeles-2?osq=Home+Design', u'Interior Design', '-', '-', '-', '-', '-']\n",
      "10\n",
      "10\n",
      "[u'Sabine\\u2019s Interior Design, Inc', '5.0 star rating', u'8 reviews', <span class=\"neighborhood-str-list\">\\n            Mid-Wilshire        </span>, u'', u'(310) 962-8962', u'sabinesinteriordesign.com', u'https://www.yelp.com/biz/sabines-interior-design-inc-los-angeles?osq=Home+Design', u'Interior Design', '-', '-', '-', '-', '-']\n",
      "11\n",
      "11\n",
      "[u'Sabine\\u2019s Interior Design, Inc', '5.0 star rating', u'8 reviews', <span class=\"neighborhood-str-list\">\\n            Mid-Wilshire        </span>, u'', u'(310) 962-8962', u'sabinesinteriordesign.com', u'https://www.yelp.com/biz/sabines-interior-design-inc-los-angeles?osq=Home+Design', u'Interior Design', '-', '-', '-', '-', '-']\n",
      "12\n",
      "12\n",
      "[u'housepaintingLA', '5.0 star rating', u'7 reviews', <span class=\"neighborhood-str-list\">\\n            Mid-Wilshire        </span>, u'', u'(323) 547-5431', u'housepaintingla.com', u'https://www.yelp.com/biz/housepaintingla-los-angeles?osq=Home+Design', u'Painters', u'Interior Design', '-', '-', '-', '-']\n",
      "13\n",
      "13\n",
      "[u'J Michael Scott Interiors', '5.0 star rating', u'7 reviews', <address>\\n        509 N La Cienega Blvd<br/>West Hollywood, CA 90048\\n    </address>, <br/>, u'(323) 509-4979', u'jmichaelscott.com', u'https://www.yelp.com/biz/j-michael-scott-interiors-west-hollywood?osq=Home+Design', u'Interior Design', u'Furniture Stores', u'Home Decor', '-', '-', '-']\n",
      "14\n",
      "14\n",
      "[u'Interior Illusions', '4.5 star rating', u'10 reviews', <address>\\n        7335 Santa Monica Blvd<br/>West Hollywood, CA 90046\\n    </address>, <br/>, u'(323) 656-8448', u'interiorillusionshome.com', u'https://www.yelp.com/biz/interior-illusions-west-hollywood-2?osq=Home+Design', u'Interior Design', u'Furniture Stores', u'Home Staging', '-', '-', '-']\n",
      "15\n",
      "15\n",
      "[u'JRC Designs', '5.0 star rating', u'7 reviews', u'6053 1/2 Melrose Ave', u'Los Angeles, CA 90038', u'(323) 460-6767', u'jrcdesignsinc.com', u'https://www.yelp.com/biz/jrc-designs-los-angeles?osq=Home+Design', u'Interior Design', '-', '-', '-', '-', '-']\n",
      "16\n",
      "16\n",
      "[u'Praner Design', '5.0 star rating', u'1 review', u'8424A Santa Monica Blvd', u'Ste 808', u'(323) 934-4450', u'pranerdesigns.com', u'https://www.yelp.com/biz/praner-design-los-angeles?osq=Home+Design', u'Interior Design', '-', '-', '-', '-', '-']\n",
      "17\n",
      "17\n",
      "[u'Spazio LA', '5.0 star rating', u'44 reviews', <address>\\n        10620 W Magnolia Blvd<br/>North Hollywood, CA 91601\\n    </address>, <br/>, u'(877) 624-7772', u'spaziodesignsla.com', u'https://www.yelp.com/biz/spazio-la-north-hollywood-2?osq=Home+Design', u'Interior Design', u'Contractors', u'Architects', '-', '-', '-']\n",
      "18\n",
      "18\n",
      "[u'SBT Home Design', '5.0 star rating', u'5 reviews', u'6362 W 6th St', u'Los Angeles, CA 90048', u'(310) 617-7042', u'sbtHomeDesign.com', u'https://www.yelp.com/biz/sbt-home-design-los-angeles?osq=Home+Design', u'Interior Design', u'Contractors', '-', '-', '-', '-']\n",
      "19\n",
      "19\n",
      "[u'BoConcept Los Angeles', '4.0 star rating', u'55 reviews', u'434 N La Brea Ave', u'Los Angeles, CA 90036', u'(323) 591-0782', u'boconcept.us', u'https://www.yelp.com/biz/boconcept-los-angeles-los-angeles-2?osq=Home+Design', u'Furniture Stores', u'Home Decor', u'Interior Design', '-', '-', '-']\n",
      "20\n",
      "20\n",
      "[u'Prairie Design & Staging', '5.0 star rating', u'25 reviews', <span class=\"neighborhood-str-list\">\\n            Hollywood Hills West        </span>, u'', u'(310) 994-7552', u'prairiehomestyling.com', u'https://www.yelp.com/biz/prairie-design-and-staging-los-angeles?osq=Home+Design', u'Home Staging', u'Interior Design', '-', '-', '-', '-']\n",
      "21\n",
      "21\n"
     ]
    }
   ],
   "source": [
    "import warnings\n",
    "from openpyxl import Workbook\n",
    "\n",
    "wb = Workbook(write_only=True)\n",
    "ws = wb.create_sheet()\n",
    "p=0\n",
    "# now we'll fill it with 100 rows x 200 columns\n",
    "for irow in data_Stor1:\n",
    "    print irow\n",
    "    p=p+1\n",
    "    print p\n",
    "    try:\n",
    "        ws.append(irow)\n",
    "    except:\n",
    "        try:\n",
    "            data_Stor1[p-1][3]=data_Stor1[p-1][3].text\n",
    "        except:\n",
    "            pass\n",
    "        try:\n",
    "            data_Stor1[p-1][4]=data_Stor1[p-1][4].text\n",
    "        except:\n",
    "            pass\n",
    "    print p\n",
    "# save the file\n",
    "wb.save('af456.xlsx')"
   ]
  },
  {
   "cell_type": "code",
   "execution_count": 116,
   "metadata": {},
   "outputs": [],
   "source": [
    "import warnings\n",
    "from openpyxl import Workbook\n",
    "\n",
    "wb = Workbook(write_only=True)\n",
    "ws = wb.create_sheet()\n",
    "\n",
    "# now we'll fill it with 100 rows x 200 columns\n",
    "for irow in data_Stor1:\n",
    "    ws.append(irow)\n",
    "# save the file\n",
    "wb.save('home_des1--20.xlsx')"
   ]
  },
  {
   "cell_type": "code",
   "execution_count": null,
   "metadata": {},
   "outputs": [],
   "source": []
  },
  {
   "cell_type": "code",
   "execution_count": 325,
   "metadata": {},
   "outputs": [],
   "source": [
    "cookiesdict=driver.get_cookies()\n",
    "cookiesdict\n",
    "import json, io\n",
    "with io.open('cookiesdict.txt', 'w', encoding='utf8') as json_file:\n",
    "    data3 = json.dumps(cookiesdict, ensure_ascii=False, encoding='utf8',indent=4, sort_keys=True)\n",
    "    json_file.write(unicode(data3))"
   ]
  }
 ],
 "metadata": {
  "kernelspec": {
   "display_name": "Python 2",
   "language": "python",
   "name": "python2"
  },
  "language_info": {
   "codemirror_mode": {
    "name": "ipython",
    "version": 2
   },
   "file_extension": ".py",
   "mimetype": "text/x-python",
   "name": "python",
   "nbconvert_exporter": "python",
   "pygments_lexer": "ipython2",
   "version": "2.7.14"
  }
 },
 "nbformat": 4,
 "nbformat_minor": 2
}
