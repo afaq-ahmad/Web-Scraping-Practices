{
 "cells": [
  {
   "cell_type": "code",
   "execution_count": null,
   "metadata": {},
   "outputs": [],
   "source": [
    "from selenium import webdriver \n",
    "import requests\n",
    "from bs4 import BeautifulSoup\n",
    "\n",
    "url = 'https://www.rajamobil.com/jual/mobil/bekas'\n",
    "\n",
    "def find_page_items(driver,link):\n",
    "    driver.get(link)\n",
    "    item_link = [item.find_element_by_tag_name('a').get_attribute('href') for item in driver.find_elements_by_css_selector('li.productThumbnailItem')]\n",
    "    for newlink in item_link:\n",
    "        res = requests.get(newlink,headers={\"User-Agent\":\"Mozilla/5.0\"})\n",
    "        soup = BeautifulSoup(res.text,\"lxml\")\n",
    "        name = soup.select_one(\"h1[itemprop='name']\").text.strip()\n",
    "        print(name)\n",
    "\n",
    "        "
   ]
  },
  {
   "cell_type": "code",
   "execution_count": null,
   "metadata": {},
   "outputs": [],
   "source": [
    "driver = webdriver.Chrome()\n",
    "find_page_items(driver,url)"
   ]
  }
 ],
 "metadata": {
  "kernelspec": {
   "display_name": "Python 2",
   "language": "python",
   "name": "python2"
  },
  "language_info": {
   "codemirror_mode": {
    "name": "ipython",
    "version": 2
   },
   "file_extension": ".py",
   "mimetype": "text/x-python",
   "name": "python",
   "nbconvert_exporter": "python",
   "pygments_lexer": "ipython2",
   "version": "2.7.14"
  }
 },
 "nbformat": 4,
 "nbformat_minor": 2
}
