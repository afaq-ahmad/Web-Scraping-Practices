{
 "cells": [
  {
   "cell_type": "code",
   "execution_count": 2,
   "metadata": {},
   "outputs": [],
   "source": [
    "from openpyxl import load_workbook\n",
    "\n",
    "from bs4 import BeautifulSoup\n",
    "from selenium import webdriver\n",
    "from time import sleep\n",
    "import csv\n",
    "from random import randint\n",
    "import json, io\n",
    "\n",
    "from selenium.webdriver.common.by import By\n",
    "from selenium.webdriver.common.keys import Keys\n",
    "from selenium.webdriver.support.ui import Select\n",
    "from selenium.webdriver.support.ui import WebDriverWait\n",
    "from selenium.common.exceptions import TimeoutException\n",
    "from selenium.webdriver.support import expected_conditions as EC\n",
    "from selenium.common.exceptions import NoSuchElementException\n",
    "from selenium.common.exceptions import NoAlertPresentException\n",
    "from selenium.webdriver.common.action_chains import ActionChains\n",
    "\n",
    "import urllib\n",
    "import urllib3\n",
    "import requests\n",
    "import json, io\n",
    "from bs4 import BeautifulSoup\n",
    "urllib3.disable_warnings()\n",
    "header = {'User-Agent':'Mozilla/6.0'}\n",
    "\n",
    "\n",
    "chrome_options = webdriver.ChromeOptions()\n",
    "chrome_options.add_argument('--user-agent=\"Mozilla/6.0')\n",
    "chrome_options.add_argument(\"user-data-dir=selenium\")\n",
    "driver = webdriver.Chrome(chrome_options=chrome_options, executable_path=r'chromedriver.exe')\n",
    "\n",
    "\n",
    "cookies = json.load(open('cookiesdict.txt'))\n",
    "for cookie in cookies:\n",
    "    driver.add_cookie(cookie)\n"
   ]
  },
  {
   "cell_type": "code",
   "execution_count": 3,
   "metadata": {},
   "outputs": [],
   "source": [
    "driver.get('https://www.belimobilgue.co.id/en-id/')"
   ]
  },
  {
   "cell_type": "code",
   "execution_count": 16,
   "metadata": {},
   "outputs": [
    {
     "data": {
      "text/plain": [
       "20"
      ]
     },
     "execution_count": 16,
     "metadata": {},
     "output_type": "execute_result"
    }
   ],
   "source": [
    "i"
   ]
  },
  {
   "cell_type": "code",
   "execution_count": 5,
   "metadata": {},
   "outputs": [],
   "source": [
    "savedata1=[]"
   ]
  },
  {
   "cell_type": "code",
   "execution_count": 17,
   "metadata": {
    "scrolled": true
   },
   "outputs": [
    {
     "name": "stdout",
     "output_type": "stream",
     "text": [
      "[u'Hino', u'Dutro', u'2016', u'3.0 Solar', u'Manual', u'Rp 53,500,000', u'Rp 66,500,000', u'2016 Hino Dutro']\n"
     ]
    },
    {
     "ename": "IndexError",
     "evalue": "list index out of range",
     "output_type": "error",
     "traceback": [
      "\u001b[1;31m---------------------------------------------------------------------------\u001b[0m",
      "\u001b[1;31mIndexError\u001b[0m                                Traceback (most recent call last)",
      "\u001b[1;32m<ipython-input-17-af7a0ceaf8aa>\u001b[0m in \u001b[0;36m<module>\u001b[1;34m()\u001b[0m\n\u001b[0;32m    128\u001b[0m                         \u001b[0mevaluationQuoteCard\u001b[0m\u001b[1;33m=\u001b[0m\u001b[0mso1\u001b[0m\u001b[1;33m.\u001b[0m\u001b[0mfind_all\u001b[0m\u001b[1;33m(\u001b[0m\u001b[1;34m'div'\u001b[0m\u001b[1;33m,\u001b[0m\u001b[0mclass_\u001b[0m\u001b[1;33m=\u001b[0m\u001b[1;34m\"evaluationQuoteCard\"\u001b[0m\u001b[1;33m)\u001b[0m\u001b[1;33m\u001b[0m\u001b[0m\n\u001b[0;32m    129\u001b[0m \u001b[1;33m\u001b[0m\u001b[0m\n\u001b[1;32m--> 130\u001b[1;33m                         \u001b[0mQuoteFirst\u001b[0m\u001b[1;33m=\u001b[0m\u001b[0mevaluationQuoteCard\u001b[0m\u001b[1;33m[\u001b[0m\u001b[1;36m0\u001b[0m\u001b[1;33m]\u001b[0m\u001b[1;33m.\u001b[0m\u001b[0mfind\u001b[0m\u001b[1;33m(\u001b[0m\u001b[0mclass_\u001b[0m\u001b[1;33m=\u001b[0m\u001b[1;34m\"evaluationQuoteCardQuoteFirst\"\u001b[0m\u001b[1;33m)\u001b[0m\u001b[1;33m.\u001b[0m\u001b[0mtext\u001b[0m\u001b[1;33m\u001b[0m\u001b[0m\n\u001b[0m\u001b[0;32m    131\u001b[0m \u001b[1;33m\u001b[0m\u001b[0m\n\u001b[0;32m    132\u001b[0m                         \u001b[0mQuoteMain\u001b[0m\u001b[1;33m=\u001b[0m\u001b[0mevaluationQuoteCard\u001b[0m\u001b[1;33m[\u001b[0m\u001b[1;36m0\u001b[0m\u001b[1;33m]\u001b[0m\u001b[1;33m.\u001b[0m\u001b[0mfind\u001b[0m\u001b[1;33m(\u001b[0m\u001b[0mclass_\u001b[0m\u001b[1;33m=\u001b[0m\u001b[1;34m\"evaluationQuoteCardQuoteMain\"\u001b[0m\u001b[1;33m)\u001b[0m\u001b[1;33m.\u001b[0m\u001b[0mtext\u001b[0m\u001b[1;33m\u001b[0m\u001b[0m\n",
      "\u001b[1;31mIndexError\u001b[0m: list index out of range"
     ]
    }
   ],
   "source": [
    "driver.find_element_by_xpath('//*[@id=\"make\"]').click()\n",
    "sleep(1)\n",
    "Brands=driver.find_elements_by_class_name('selectSearchMenuItem')\n",
    "Brandsstoragename=[]\n",
    "for z in range(len(Brands)):\n",
    "    Brandsstoragename.append(Brands[z].text)\n",
    "ii=0\n",
    "for i in range(20,30):\n",
    "    Brand_Name=Brandsstoragename[i]\n",
    "    \n",
    "    if ii>0:\n",
    "        driver.find_element_by_xpath('//*[@id=\"make\"]').click()\n",
    "        Brands=driver.find_elements_by_class_name('selectSearchMenuItem')\n",
    "    Brands[i].click()\n",
    "    sleep(1)\n",
    "    ii=1\n",
    "    \n",
    "    driver.find_element_by_xpath('//*[@id=\"model\"]').click()\n",
    "    sleep(1)\n",
    "    model=driver.find_elements_by_class_name('selectSearchMenuItem')\n",
    "    modelstorage=[]\n",
    "    modelstoragename=[]\n",
    "    for q in range(len(model)):\n",
    "        if len(model[q].text)>0:\n",
    "            modelstorage.append(q)\n",
    "            modelstoragename.append(model[q].text)\n",
    "    ww=0\n",
    "    for w in modelstorage:\n",
    "        model_name0=driver.find_elements_by_class_name('selectSearchMenuItem')[w]\n",
    "        model_name=modelstoragename[modelstorage.index(w)]\n",
    "        if ww>0:\n",
    "            driver.find_element_by_xpath('//*[@id=\"model\"]').click()\n",
    "        model_name0.click()\n",
    "        sleep(1)\n",
    "        ww=1\n",
    "        \n",
    "        \n",
    "        driver.find_element_by_xpath('//*[@id=\"year\"]').click()\n",
    "        sleep(1)\n",
    "        year=driver.find_elements_by_class_name('selectSearchMenuItem')\n",
    "        yearstorage=[]\n",
    "        yearnamestorage=[]\n",
    "        for e in range(len(year)):\n",
    "            if len(year[e].text)>0:\n",
    "                yearstorage.append(e)\n",
    "                yearnamestorage.append(year[e].text)\n",
    "                \n",
    "                \n",
    "        rr=0\n",
    "        for r in yearstorage:\n",
    "            year_name0=driver.find_elements_by_class_name('selectSearchMenuItem')[r]\n",
    "            year_name=yearnamestorage[yearstorage.index(r)]\n",
    "            if rr>0:\n",
    "                driver.find_element_by_xpath('//*[@id=\"year\"]').click()\n",
    "            year_name0.click()\n",
    "            sleep(1)\n",
    "            rr=1\n",
    "            \n",
    "            if year_name=='Other':\n",
    "                Email=driver.find_element_by_name('email')\n",
    "                sleep(1)\n",
    "                Email.clear()\n",
    "                sleep(1)\n",
    "                Email.send_keys('awan24@gmail.com')\n",
    "\n",
    "#                             print (Brand_Name,model_name,year_name,trim_name,transmission_name)\n",
    "                driver.find_element_by_class_name('buttonText').click()\n",
    "                sleep(2.9)\n",
    "\n",
    "                so1=BeautifulSoup(driver.page_source, 'lxml')\n",
    "\n",
    "                evaluationQuoteCard=so1.find_all('div',class_=\"evaluationQuoteCard\")\n",
    "\n",
    "                QuoteFirst=evaluationQuoteCard[0].find(class_=\"evaluationQuoteCardQuoteFirst\").text\n",
    "\n",
    "                QuoteMain=evaluationQuoteCard[0].find(class_=\"evaluationQuoteCardQuoteMain\").text\n",
    "\n",
    "                CarInfo=evaluationQuoteCard[0].find(class_=\"evaluationQuoteCardCarInfo\").text\n",
    "                dataset=['-']*8\n",
    "                dataset[0]=Brand_Name\n",
    "                dataset[1]=model_name\n",
    "                dataset[2]=year_name\n",
    "                dataset[3]='-'\n",
    "                dataset[4]='-'\n",
    "                dataset[5]=QuoteFirst\n",
    "                dataset[6]=QuoteMain\n",
    "                dataset[7]=CarInfo\n",
    "                print dataset\n",
    "\n",
    "                savedata1.append(dataset)\n",
    "                driver.back()\n",
    "                sleep(2)\n",
    "            else:\n",
    "                driver.find_element_by_xpath('//*[@id=\"trim\"]').click()\n",
    "                sleep(1)\n",
    "                trim=driver.find_elements_by_class_name('selectSearchMenuItem')\n",
    "                trimstorage=[]\n",
    "                trimstoragename=[]\n",
    "                for t in range(len(trim)):\n",
    "                    if len(trim[t].text)>0:\n",
    "                        \n",
    "                        trimstorage.append(t)\n",
    "                        trimstoragename.append(trim[t].text)\n",
    "                yy=0\n",
    "                for y in trimstorage:\n",
    "                    trim_name0=driver.find_elements_by_class_name('selectSearchMenuItem')[y]\n",
    "                    trim_name=trimstoragename[trimstorage.index(y)]\n",
    "                    \n",
    "                    if yy>0:\n",
    "                        driver.find_element_by_xpath('//*[@id=\"trim\"]').click()\n",
    "                    trim_name0.click()\n",
    "                    sleep(1)\n",
    "                    yy=1\n",
    "\n",
    "                    if trim_name=='Other':\n",
    "                        Email=driver.find_element_by_name('email')\n",
    "                        sleep(1)\n",
    "                        Email.clear()\n",
    "                        sleep(1)\n",
    "                        Email.send_keys('awan24@gmail.com')\n",
    "\n",
    "#                             print (Brand_Name,model_name,year_name,trim_name,transmission_name)\n",
    "                        driver.find_element_by_class_name('buttonText').click()\n",
    "                        sleep(2.9)\n",
    "\n",
    "                        so1=BeautifulSoup(driver.page_source, 'lxml')\n",
    "\n",
    "                        evaluationQuoteCard=so1.find_all('div',class_=\"evaluationQuoteCard\")\n",
    "\n",
    "                        QuoteFirst=evaluationQuoteCard[0].find(class_=\"evaluationQuoteCardQuoteFirst\").text\n",
    "\n",
    "                        QuoteMain=evaluationQuoteCard[0].find(class_=\"evaluationQuoteCardQuoteMain\").text\n",
    "\n",
    "                        CarInfo=evaluationQuoteCard[0].find(class_=\"evaluationQuoteCardCarInfo\").text\n",
    "                        dataset=['-']*8\n",
    "                        dataset[0]=Brand_Name\n",
    "                        dataset[1]=model_name\n",
    "                        dataset[2]=year_name\n",
    "                        dataset[3]=trim_name\n",
    "                        dataset[4]='-'\n",
    "                        dataset[5]=QuoteFirst\n",
    "                        dataset[6]=QuoteMain\n",
    "                        dataset[7]=CarInfo\n",
    "                        print dataset\n",
    "\n",
    "                        savedata1.append(dataset)\n",
    "                        driver.back()\n",
    "                        sleep(2)\n",
    "                        \n",
    "                    else:\n",
    "\n",
    "                        driver.find_element_by_xpath('//*[@id=\"transmission\"]').click()\n",
    "                        sleep(1)\n",
    "\n",
    "                        transmission=driver.find_elements_by_class_name('selectSearchMenuItem')\n",
    "                        transmissionstorage=[]\n",
    "                        transmissionstoragename=[]\n",
    "                        for u in range(len(transmission)):\n",
    "                            if len(transmission[u].text)>0:\n",
    "                                \n",
    "                                transmissionstorage.append(u)\n",
    "                                transmissionstoragename.append(transmission[u].text)\n",
    "                        oo=0\n",
    "                        for o in transmissionstorage:\n",
    "                            transmission_name0=driver.find_elements_by_class_name('selectSearchMenuItem')[o]\n",
    "                            transmission_name=transmissionstoragename[transmissionstorage.index(o)]\n",
    "                            \n",
    "                            if oo>0:\n",
    "                                driver.find_element_by_xpath('//*[@id=\"transmission\"]').click()\n",
    "                            \n",
    "                            transmission_name0.click()\n",
    "                            sleep(1)\n",
    "                            oo=1\n",
    "\n",
    "                            Email=driver.find_element_by_name('email')\n",
    "                            sleep(1)\n",
    "                            Email.clear()\n",
    "                            sleep(1)\n",
    "                            Email.send_keys('awan24@gmail.com')\n",
    "\n",
    "#                             print (Brand_Name,model_name,year_name,trim_name,transmission_name)\n",
    "                            driver.find_element_by_class_name('buttonText').click()\n",
    "                            sleep(2.9)\n",
    "                            \n",
    "                            so1=BeautifulSoup(driver.page_source, 'lxml')\n",
    "\n",
    "                            evaluationQuoteCard=so1.find_all('div',class_=\"evaluationQuoteCard\")\n",
    "\n",
    "                            QuoteFirst=evaluationQuoteCard[0].find(class_=\"evaluationQuoteCardQuoteFirst\").text\n",
    "\n",
    "                            QuoteMain=evaluationQuoteCard[0].find(class_=\"evaluationQuoteCardQuoteMain\").text\n",
    "                            \n",
    "                            CarInfo=evaluationQuoteCard[0].find(class_=\"evaluationQuoteCardCarInfo\").text\n",
    "                            dataset=['-']*8\n",
    "                            dataset[0]=Brand_Name\n",
    "                            dataset[1]=model_name\n",
    "                            dataset[2]=year_name\n",
    "                            dataset[3]=trim_name\n",
    "                            dataset[4]=transmission_name\n",
    "                            dataset[5]=QuoteFirst\n",
    "                            dataset[6]=QuoteMain\n",
    "                            dataset[7]=CarInfo\n",
    "                            print dataset\n",
    "                            \n",
    "                            savedata1.append(dataset)\n",
    "\n",
    "                            driver.back()\n",
    "                            sleep(2)"
   ]
  },
  {
   "cell_type": "code",
   "execution_count": 18,
   "metadata": {},
   "outputs": [],
   "source": [
    "import warnings\n",
    "from openpyxl import Workbook\n",
    "\n",
    "wb = Workbook(write_only=True)\n",
    "ws = wb.create_sheet()\n",
    "\n",
    "# now we'll fill it with 100 rows x 200 columns\n",
    "for irow in savedata1:\n",
    "    ws.append(irow)\n",
    "# save the file\n",
    "wb.save('belimobilgue.co.id3.xlsx')"
   ]
  },
  {
   "cell_type": "code",
   "execution_count": null,
   "metadata": {},
   "outputs": [],
   "source": [
    "# [u'Audi', u'TT', u'2000', u'1.8 Bensin', u'Automatic', u'Rp 153,000,000', u'Rp 189,000,000', u'2000 Audi TT']\n",
    "#[u'BMW', u'330i', u'2001', u'Other', '-', u'Rp 229,500,000', u'Rp 283,500,000', u'2001 BMW 330i']\n",
    "#[u'Chery', u'QQ', u'2012', u'Other', '-', u'Rp 387,500,000', u'Rp 479,000,000', u'2012 Chery QQ']\n",
    "#[u'Daihatsu', u'Luxio', u'2011', u'1.3 Bensin', u'Manual', u'Rp 56,000,000', u'Rp 69,500,000', u'2011 Daihatsu Luxio']\n"
   ]
  },
  {
   "cell_type": "code",
   "execution_count": null,
   "metadata": {},
   "outputs": [],
   "source": [
    "#[u'Ford', u'Ranger', u'2004', u'2.7 Solar', u'Manual', u'Rp 42,500,000', u'Rp 52,500,000', u'2004 Ford Ranger']"
   ]
  },
  {
   "cell_type": "code",
   "execution_count": 11,
   "metadata": {
    "scrolled": true
   },
   "outputs": [
    {
     "data": {
      "text/plain": [
       "702"
      ]
     },
     "execution_count": 11,
     "metadata": {},
     "output_type": "execute_result"
    }
   ],
   "source": [
    "len(savedata1)"
   ]
  },
  {
   "cell_type": "code",
   "execution_count": null,
   "metadata": {
    "scrolled": true
   },
   "outputs": [],
   "source": []
  },
  {
   "cell_type": "code",
   "execution_count": null,
   "metadata": {},
   "outputs": [],
   "source": [
    "# [u'Chery', u'QQ', u'2012', u'Other', '-', u'Rp 387,500,000', u'Rp 479,000,000', u'2012 Chery QQ']\n",
    "# repeat till start from 0. repeat 4 entries"
   ]
  },
  {
   "cell_type": "code",
   "execution_count": null,
   "metadata": {},
   "outputs": [],
   "source": []
  },
  {
   "cell_type": "code",
   "execution_count": null,
   "metadata": {},
   "outputs": [],
   "source": [
    "cookiesdict=driver.get_cookies()\n",
    "cookiesdict\n",
    "import json, io\n",
    "with io.open('cookiesdict.txt', 'w', encoding='utf8') as json_file:\n",
    "    data3 = json.dumps(cookiesdict, ensure_ascii=False, encoding='utf8',indent=4, sort_keys=True)\n",
    "    json_file.write(unicode(data3))"
   ]
  }
 ],
 "metadata": {
  "kernelspec": {
   "display_name": "Python 2",
   "language": "python",
   "name": "python2"
  },
  "language_info": {
   "codemirror_mode": {
    "name": "ipython",
    "version": 2
   },
   "file_extension": ".py",
   "mimetype": "text/x-python",
   "name": "python",
   "nbconvert_exporter": "python",
   "pygments_lexer": "ipython2",
   "version": "2.7.14"
  }
 },
 "nbformat": 4,
 "nbformat_minor": 2
}
