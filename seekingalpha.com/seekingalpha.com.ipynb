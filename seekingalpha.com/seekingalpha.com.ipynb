{
 "cells": [
  {
   "cell_type": "code",
   "execution_count": 51,
   "metadata": {},
   "outputs": [],
   "source": [
    "import re\n",
    "import urllib\n",
    "import urllib3\n",
    "import requests\n",
    "from bs4 import BeautifulSoup\n",
    "from selenium import webdriver\n",
    "from time import sleep\n",
    "import csv\n",
    "from random import randint\n",
    "urllib3.disable_warnings()\n",
    "import json, io\n",
    "headers = {'User-Agent':'Mozilla/6.0'}\n"
   ]
  },
  {
   "cell_type": "code",
   "execution_count": 142,
   "metadata": {},
   "outputs": [],
   "source": [
    "\n",
    "from selenium.webdriver.common.by import By\n",
    "from selenium.webdriver.common.keys import Keys\n",
    "from selenium.webdriver.support.ui import Select\n",
    "from selenium.webdriver.support.ui import WebDriverWait\n",
    "from selenium.common.exceptions import TimeoutException\n",
    "from selenium.webdriver.support import expected_conditions as EC\n",
    "from selenium.common.exceptions import NoSuchElementException\n",
    "from selenium.common.exceptions import NoAlertPresentException\n",
    "\n",
    "driver = webdriver.Chrome(executable_path=r'chromedriver.exe')\n"
   ]
  },
  {
   "cell_type": "code",
   "execution_count": 138,
   "metadata": {},
   "outputs": [],
   "source": [
    "from selenium import webdriver\n",
    "\n",
    "PROXY = \"103.6.10.252:8080\" # IP:PORT or HOST:PORT\n",
    "\n",
    "chrome_options = webdriver.ChromeOptions()\n",
    "chrome_options.add_argument('--proxy-server=%s' % PROXY)\n",
    "chrome_options.add_argument(\"user-agent=Chrome/8.0\")\n",
    "driver = webdriver.Chrome(chrome_options=chrome_options)\n"
   ]
  },
  {
   "cell_type": "code",
   "execution_count": 109,
   "metadata": {},
   "outputs": [],
   "source": [
    "pool=['123.231.228.122:3128','202.29.236.141:3128','83.219.150.239:41258','160.19.138.28:3128','103.6.10.252:8080','173.160.6.105:8080','158.69.150.164:3128','184.82.30.166:8080','167.99.232.126:8991','89.23.19.143:8080','178.33.37.215:9999','95.154.144.38:8080','189.39.122.142:20183','200.11.228.86:3128','103.246.224.30:31773','62.33.210.206:8080','142.147.114.227:8080','77.240.35.202:8080','109.196.127.129:41258','89.189.183.183:8080','93.94.94.51:41258','2.137.209.197:8080']"
   ]
  },
  {
   "cell_type": "code",
   "execution_count": 143,
   "metadata": {
    "scrolled": true
   },
   "outputs": [
    {
     "name": "stdout",
     "output_type": "stream",
     "text": [
      "https://seekingalpha.com/earnings/earnings-call-transcripts/123\n",
      "30\n",
      "123 ------> 3720\n",
      "https://seekingalpha.com/earnings/earnings-call-transcripts/124\n",
      "0\n",
      "https://seekingalpha.com/earnings/earnings-call-transcripts/124\n",
      "0\n",
      "https://seekingalpha.com/earnings/earnings-call-transcripts/124\n",
      "0\n",
      "https://seekingalpha.com/earnings/earnings-call-transcripts/124\n",
      "0\n",
      "https://seekingalpha.com/earnings/earnings-call-transcripts/124\n",
      "0\n",
      "https://seekingalpha.com/earnings/earnings-call-transcripts/124\n",
      "0\n",
      "https://seekingalpha.com/earnings/earnings-call-transcripts/124\n",
      "0\n",
      "https://seekingalpha.com/earnings/earnings-call-transcripts/124\n",
      "0\n",
      "https://seekingalpha.com/earnings/earnings-call-transcripts/124\n",
      "0\n",
      "https://seekingalpha.com/earnings/earnings-call-transcripts/124\n",
      "0\n",
      "https://seekingalpha.com/earnings/earnings-call-transcripts/124\n",
      "0\n",
      "https://seekingalpha.com/earnings/earnings-call-transcripts/124\n",
      "0\n",
      "https://seekingalpha.com/earnings/earnings-call-transcripts/124\n",
      "0\n",
      "https://seekingalpha.com/earnings/earnings-call-transcripts/124\n",
      "0\n",
      "https://seekingalpha.com/earnings/earnings-call-transcripts/124\n",
      "0\n",
      "https://seekingalpha.com/earnings/earnings-call-transcripts/124\n",
      "0\n",
      "https://seekingalpha.com/earnings/earnings-call-transcripts/124\n",
      "0\n",
      "https://seekingalpha.com/earnings/earnings-call-transcripts/124\n",
      "0\n",
      "https://seekingalpha.com/earnings/earnings-call-transcripts/124\n",
      "0\n",
      "https://seekingalpha.com/earnings/earnings-call-transcripts/124\n",
      "0\n",
      "https://seekingalpha.com/earnings/earnings-call-transcripts/124\n",
      "0\n",
      "https://seekingalpha.com/earnings/earnings-call-transcripts/124\n",
      "0\n",
      "https://seekingalpha.com/earnings/earnings-call-transcripts/124\n",
      "0\n"
     ]
    },
    {
     "ename": "IndexError",
     "evalue": "list index out of range",
     "output_type": "error",
     "traceback": [
      "\u001b[1;31m---------------------------------------------------------------------------\u001b[0m",
      "\u001b[1;31mIndexError\u001b[0m                                Traceback (most recent call last)",
      "\u001b[1;32m<ipython-input-143-0d44d8724dc1>\u001b[0m in \u001b[0;36m<module>\u001b[1;34m()\u001b[0m\n\u001b[0;32m     13\u001b[0m         \u001b[0mgetting_data\u001b[0m\u001b[1;33m(\u001b[0m\u001b[1;33m)\u001b[0m\u001b[1;33m\u001b[0m\u001b[0m\n\u001b[0;32m     14\u001b[0m         \u001b[1;32mwhile\u001b[0m\u001b[1;33m(\u001b[0m\u001b[1;36m1\u001b[0m\u001b[1;33m)\u001b[0m\u001b[1;33m:\u001b[0m\u001b[1;33m\u001b[0m\u001b[0m\n\u001b[1;32m---> 15\u001b[1;33m             \u001b[0mgetting_data\u001b[0m\u001b[1;33m(\u001b[0m\u001b[1;33m)\u001b[0m\u001b[1;33m\u001b[0m\u001b[0m\n\u001b[0m\u001b[0;32m     16\u001b[0m             \u001b[1;32mif\u001b[0m \u001b[0mlen\u001b[0m\u001b[1;33m(\u001b[0m\u001b[0mpostlink0\u001b[0m\u001b[1;33m)\u001b[0m\u001b[1;33m>\u001b[0m\u001b[1;36m20\u001b[0m\u001b[1;33m:\u001b[0m\u001b[1;33m\u001b[0m\u001b[0m\n\u001b[0;32m     17\u001b[0m                 \u001b[1;32mbreak\u001b[0m\u001b[1;33m\u001b[0m\u001b[0m\n",
      "\u001b[1;32m<ipython-input-140-3474e8da5e5d>\u001b[0m in \u001b[0;36mgetting_data\u001b[1;34m()\u001b[0m\n\u001b[0;32m      2\u001b[0m     \u001b[1;32mglobal\u001b[0m \u001b[0mp\u001b[0m\u001b[1;33m\u001b[0m\u001b[0m\n\u001b[0;32m      3\u001b[0m     \u001b[0mchrome_options\u001b[0m \u001b[1;33m=\u001b[0m \u001b[0mwebdriver\u001b[0m\u001b[1;33m.\u001b[0m\u001b[0mChromeOptions\u001b[0m\u001b[1;33m(\u001b[0m\u001b[1;33m)\u001b[0m\u001b[1;33m\u001b[0m\u001b[0m\n\u001b[1;32m----> 4\u001b[1;33m     \u001b[0mchrome_options\u001b[0m\u001b[1;33m.\u001b[0m\u001b[0madd_argument\u001b[0m\u001b[1;33m(\u001b[0m\u001b[1;34m'--proxy-server=%s'\u001b[0m \u001b[1;33m%\u001b[0m \u001b[0mpool\u001b[0m\u001b[1;33m[\u001b[0m\u001b[0mp\u001b[0m\u001b[1;33m]\u001b[0m\u001b[1;33m)\u001b[0m\u001b[1;33m\u001b[0m\u001b[0m\n\u001b[0m\u001b[0;32m      5\u001b[0m     \u001b[0mchrome_options\u001b[0m\u001b[1;33m.\u001b[0m\u001b[0madd_argument\u001b[0m\u001b[1;33m(\u001b[0m\u001b[1;34m\"user-agent=Chrome/8.0\"\u001b[0m\u001b[1;33m)\u001b[0m\u001b[1;33m\u001b[0m\u001b[0m\n\u001b[0;32m      6\u001b[0m     \u001b[0mdriver\u001b[0m \u001b[1;33m=\u001b[0m \u001b[0mwebdriver\u001b[0m\u001b[1;33m.\u001b[0m\u001b[0mChrome\u001b[0m\u001b[1;33m(\u001b[0m\u001b[0mchrome_options\u001b[0m\u001b[1;33m=\u001b[0m\u001b[0mchrome_options\u001b[0m\u001b[1;33m)\u001b[0m\u001b[1;33m\u001b[0m\u001b[0m\n",
      "\u001b[1;31mIndexError\u001b[0m: list index out of range"
     ]
    }
   ],
   "source": [
    "global p\n",
    "p=0\n",
    "for mb in range(123,1000):\n",
    "    url0='https://seekingalpha.com/earnings/earnings-call-transcripts/'+str(mb)\n",
    "    print (url0)\n",
    "    driver.get(url0)\n",
    "    sleep(random.randint(5,15))    \n",
    "    soup=BeautifulSoup(driver.page_source, 'lxml')\n",
    "    postlink0=soup.find_all('a',class_=\"dashboard-article-link\")\n",
    "    print (len(postlink0))\n",
    "    if len(postlink0)<20:\n",
    "        driver.close()\n",
    "        getting_data()\n",
    "        while(1):\n",
    "            getting_data()\n",
    "            if len(postlink0)>20:\n",
    "                break\n",
    "           \n",
    "        \n",
    "    for mh in range(len(postlink0)):\n",
    "        postlink1=postlink0[mh].get('href')\n",
    "        initiallink='https://seekingalpha.com'\n",
    "        postlink=initiallink+postlink1\n",
    "        list1.append(postlink)\n",
    "    print (mb,\"------>\",len(list1))"
   ]
  },
  {
   "cell_type": "code",
   "execution_count": null,
   "metadata": {},
   "outputs": [],
   "source": []
  },
  {
   "cell_type": "code",
   "execution_count": 140,
   "metadata": {},
   "outputs": [],
   "source": [
    "def getting_data():\n",
    "    global p\n",
    "    chrome_options = webdriver.ChromeOptions()\n",
    "    chrome_options.add_argument('--proxy-server=%s' % pool[p])\n",
    "    chrome_options.add_argument(\"user-agent=Chrome/8.0\")\n",
    "    driver = webdriver.Chrome(chrome_options=chrome_options)\n",
    "    p=p+1\n",
    "    url0='https://seekingalpha.com/earnings/earnings-call-transcripts/'+str(mb)\n",
    "    print (url0)\n",
    "    driver.get(url0)\n",
    "    sleep(random.randint(5,15))    \n",
    "    soup=BeautifulSoup(driver.page_source, 'lxml')\n",
    "    postlink0=soup.find_all('a',class_=\"dashboard-article-link\")\n",
    "    print (len(postlink0))\n",
    "    \n",
    "    if len(postlink0)>20:\n",
    "        return postlink0\n",
    "    else:\n",
    "        driver.close()"
   ]
  },
  {
   "cell_type": "code",
   "execution_count": null,
   "metadata": {},
   "outputs": [],
   "source": []
  },
  {
   "cell_type": "code",
   "execution_count": 100,
   "metadata": {},
   "outputs": [
    {
     "name": "stdout",
     "output_type": "stream",
     "text": [
      "https://seekingalpha.com/earnings/earnings-call-transcripts/12\n",
      "0\n"
     ]
    }
   ],
   "source": [
    "for mb in range(12,1000):\n",
    "    url0='https://seekingalpha.com/earnings/earnings-call-transcripts/'+str(mb)\n",
    "    print (url0)\n",
    "    sleep(10)\n",
    "    page = requests.get(url0, headers=headers, verify=False)\n",
    "    data = page.content\n",
    "    soup = BeautifulSoup(data, \"html.parser\")\n",
    "    postlink0=soup.find_all('a',class_=\"dashboard-article-link\")\n",
    "    print (len(postlink0))\n",
    "    if len(postlink0)<20:\n",
    "        break\n",
    "    for mh in range(len(postlink0)):\n",
    "        postlink1=postlink0[mh].get('href')\n",
    "        initiallink='https://seekingalpha.com'\n",
    "        postlink=initiallink+postlink1\n",
    "        list1.append(postlink)\n",
    "    print (mb,\"------>\",len(list1))"
   ]
  },
  {
   "cell_type": "code",
   "execution_count": 56,
   "metadata": {},
   "outputs": [],
   "source": [
    "page\n",
    "import random"
   ]
  },
  {
   "cell_type": "code",
   "execution_count": null,
   "metadata": {},
   "outputs": [],
   "source": []
  },
  {
   "cell_type": "code",
   "execution_count": 77,
   "metadata": {},
   "outputs": [
    {
     "data": {
      "text/plain": [
       "88"
      ]
     },
     "execution_count": 77,
     "metadata": {},
     "output_type": "execute_result"
    }
   ],
   "source": [
    "mb"
   ]
  },
  {
   "cell_type": "code",
   "execution_count": 131,
   "metadata": {},
   "outputs": [],
   "source": [
    "from selenium import webdriver\n",
    "from selenium.webdriver.chrome.options import DesiredCapabilities\n",
    "from selenium.webdriver.common.proxy import Proxy, ProxyType\n",
    "\n",
    "import time\n",
    "\n",
    "\n",
    "co = webdriver.ChromeOptions()\n",
    "co.add_argument(\"log-level=3\")\n",
    "# co.add_argument(\"--headless\")\n",
    "PROXY = \"123.231.228.122:3128\" # IP:PORT or HOST:PORT\n",
    "\n",
    "co.add_argument('--proxy-server=%s' % PROXY)\n",
    "\n",
    "\n",
    "\n",
    "driver = webdriver.Chrome(chrome_options=co)\n",
    "driver.get(\"https://free-proxy-list.net/\")\n",
    "\n"
   ]
  },
  {
   "cell_type": "code",
   "execution_count": null,
   "metadata": {},
   "outputs": [],
   "source": [
    "def get_proxies(co=co):\n",
    "    \n",
    "    PROXIES = []\n",
    "    proxies = driver.find_elements_by_css_selector(\"tr[role='row']\")\n",
    "    for p in proxies:\n",
    "        result = p.text.split(\" \")\n",
    "\n",
    "        if result[-1] == \"yes\":\n",
    "            PROXIES.append(result[0]+\":\"+result[1])\n",
    "\n",
    "    driver.close()\n",
    "    return PROXIES\n",
    "\n",
    "\n",
    "ALL_PROXIES = get_proxies()"
   ]
  },
  {
   "cell_type": "code",
   "execution_count": 126,
   "metadata": {},
   "outputs": [
    {
     "ename": "ValueError",
     "evalue": "A very specific bad thing happened.",
     "output_type": "error",
     "traceback": [
      "\u001b[1;31m---------------------------------------------------------------------------\u001b[0m",
      "\u001b[1;31mValueError\u001b[0m                                Traceback (most recent call last)",
      "\u001b[1;32m<ipython-input-126-bf62aa681e65>\u001b[0m in \u001b[0;36m<module>\u001b[1;34m()\u001b[0m\n\u001b[1;32m----> 1\u001b[1;33m \u001b[1;32mraise\u001b[0m \u001b[0mValueError\u001b[0m\u001b[1;33m(\u001b[0m\u001b[1;34m'A very specific bad thing happened.'\u001b[0m\u001b[1;33m)\u001b[0m\u001b[1;33m\u001b[0m\u001b[0m\n\u001b[0m",
      "\u001b[1;31mValueError\u001b[0m: A very specific bad thing happened."
     ]
    }
   ],
   "source": [
    "def proxy_driver(PROXIES, co=co):\n",
    "    prox = Proxy()\n",
    "\n",
    "    if PROXIES:\n",
    "        pxy = PROXIES[-1]\n",
    "    else:\n",
    "        print(\"--- Proxies used up (%s)\" % len(PROXIES))\n",
    "        PROXIES = get_proxies()\n",
    "\n",
    "    prox.proxy_type = ProxyType.MANUAL\n",
    "    prox.http_proxy = pxy\n",
    "    prox.socks_proxy = pxy\n",
    "    prox.ssl_proxy = pxy\n",
    "\n",
    "    capabilities = webdriver.DesiredCapabilities.CHROME\n",
    "    prox.add_to_capabilities(capabilities)\n",
    "\n",
    "    driver = webdriver.Chrome(chrome_options=co, desired_capabilities=capabilities)\n",
    "\n",
    "    return driver\n",
    "\n",
    "\n",
    "\n",
    "# --- YOU ONLY NEED TO CARE FROM THIS LINE ---\n",
    "# creating new driver to use proxy\n",
    "pd = proxy_driver(ALL_PROXIES)\n",
    "\n",
    "# code must be in a while loop with a try to keep trying with different proxies\n",
    "running = True\n",
    "\n",
    "\n",
    "for mb in range(122,1000):\n",
    "    url0='https://seekingalpha.com/earnings/earnings-call-transcripts/'+str(mb)\n",
    "    print (url0)\n",
    "                \n",
    "    i=0\n",
    "    while i<2:\n",
    "        try:\n",
    "            driver.get(url0)\n",
    "            sleep(random.randint(5,10))    \n",
    "            soup=BeautifulSoup(driver.page_source, 'lxml')\n",
    "            postlink0=soup.find_all('a',class_=\"dashboard-article-link\")\n",
    "            print (len(postlink0))\n",
    "            if len(postlink0)<20:\n",
    "                raise ValueError('A very specific bad thing happened.')\n",
    "\n",
    "\n",
    "            for mh in range(len(postlink0)):\n",
    "                postlink1=postlink0[mh].get('href')\n",
    "                initiallink='https://seekingalpha.com'\n",
    "                postlink=initiallink+postlink1\n",
    "                list1.append(postlink)\n",
    "            print (mb,\"------>\",len(list1))\n",
    "            i=3\n",
    "            # you \n",
    "        except:\n",
    "            new = ALL_PROXIES.pop()\n",
    "\n",
    "            # reassign driver if fail to switch proxy\n",
    "            pd = proxy_driver(ALL_PROXIES)\n",
    "            print(\"--- Switched proxy to: %s\" % new)\n",
    "            time.sleep(1)"
   ]
  }
 ],
 "metadata": {
  "kernelspec": {
   "display_name": "Python 2",
   "language": "python",
   "name": "python2"
  },
  "language_info": {
   "codemirror_mode": {
    "name": "ipython",
    "version": 2
   },
   "file_extension": ".py",
   "mimetype": "text/x-python",
   "name": "python",
   "nbconvert_exporter": "python",
   "pygments_lexer": "ipython2",
   "version": "2.7.14"
  }
 },
 "nbformat": 4,
 "nbformat_minor": 2
}
