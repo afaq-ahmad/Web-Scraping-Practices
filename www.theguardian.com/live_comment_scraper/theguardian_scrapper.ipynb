{
 "cells": [
  {
   "cell_type": "code",
   "execution_count": 45,
   "metadata": {},
   "outputs": [
    {
     "name": "stdout",
     "output_type": "stream",
     "text": [
      "19:10\n",
      "That’s all for now. Thanks as always for following along with us and do check back later for Kevin Mitchell’s full match report.\n",
      "----------------------------------\n",
      "19:08\n",
      "Murray moves up nine spots to No 147 in the live ATP rankings. His current ranking (No 156) is his lowest since he was at No 164 during the week of 18 July 2005. Now the big question: Will he play Wimbledon next week?\n",
      "----------------------------------\n",
      "19:01\n",
      "Edmund has scored his first win over Murray in three career meetings. Or at least some form of Murray as he tries to regain form after nearly a year on the shelf. Next up for the British No 1 is a quarter-final clash with Mikhail Kukushkin.\n",
      "----------------------------------\n",
      "18:56\n",
      "Second set: Murray 4-6, 4-6 EdmundEdmund gets a free point on his serve then hangs in a taxing baseline rally long enough for Murray to net from the baseline. Two points from the finish line as the shadows have almost completely fallen over the main show court as the match enters its 100th minute. Murray pulls one back, but another Edmund winner gives him a pair of match points. Edmund puts a big serve down the middle, Murray returns and comes to net and – appropriately – Edmund closes the show with a passing shot.\n",
      "----------------------------------\n",
      "18:51\n",
      "Second set: Murray 4-6, 4-5 Edmund* (*denotes next server)Three quick points by Murray. But then Edmund comes back with a forehand winner down the line, Murray sends a backhand from the baseline wide and Edmund kisses a beautiful slice dropshot winner at the net for deuce. Murray hits a winner but misfires at the net. Deuce No 2. Murray then crushes his fifth ace of the day for game point and closes down the hold when Edmund sends a return wide. Now Edmund will try for a second time to serve out the match.\n",
      "----------------------------------\n",
      "18:45\n",
      "Second set: *Murray 4-6, 3-5 Edmund (*denotes next server)Murray wins the opening point when Edmund nets at the end of an all-court rally, then makes it love-30 with a forehand winner into a wide-open court. Edmund hits back with a winner, but misfires on the next point and Murray will have two chances to break back at 15-40. He needs only one as Edmund sends a forehand wide. Good fight from Murray here, but he’ll need another break if he has any hope of forcing a decider.\n",
      "----------------------------------\n",
      "18:41\n",
      "Second set: Murray 4-6, 2-5 Edmund* (*denotes next server)Edmund goes wide from the baseline but rips a cross-court winner for 15-all. Then he passes an approaching Murray (again!) for 15-30. And on the following point it’s a marvelous one-handed forehand winner on the run from Edmund – just a brilliant tennis shot – to give the 23-year-old a pair of break points. He needs only one as Murray sprays a forehand wide. Edmund to serve for the match after the changeover.\n",
      "----------------------------------\n",
      "18:37\n",
      "Second set: *Murray 4-6, 2-4 Edmund (*denotes next server)Important game for Edmund. If he can back up the break he’ll be two games from the finish line. Off to a flying start here with a service winner and an emphatic forehand winner from the middle of the court. Now another forehand winner for 40-love and he follows it with an easy touch volley winner at the next to consolidate the break with a love hold. Exactly what he needed.\n",
      "----------------------------------\n",
      "18:34\n",
      "Second set: Murray 4-6, 2-3 Edmund* (*denotes next server)Serving at 15-all, Murray cracks a big forehand winner, but Edmund answers on the next point for 30-all. Some prodigious hitting from both men. Murray makes it 40-30 with a big serve, but Edmund delivers a lovely angled winner for deuce. They trade points, back and forth from Advantage Murray to deuce three times, before Murray is pushed way beyond the baseline by an Edmund forehand and can’t return it into the court. That will be a break-point chance for Murray, but he saves it and we’re back to deuce. Bit of a marathon, this game, but Murray’s service games haven’t come easy today with a couple of exceptions. Edmund eventually earns a second look at a break point, hangs in greuling all-court rally before netting a backhand. Now Edmund stakes a third break point and for a third time can’t convert, getting pushed back by a big Murray serve and sending the second shot of the rally sailing past the baseline. Now a fourth break-point chance for Edmund when Murray tries and exceedingly difficult backhand winner from outside the baseline that catches the net – and this time Edmund converts when Murray double-faults! \n",
      "----------------------------------\n",
      "18:19\n",
      "Second set: *Murray 4-6, 2-2 Edmund (*denotes next server)Edmund opens with an ace and Murray misfires for 30-love, but he then double-faults and nets from the baseline for 30-love. From there, a forehand winner and a service winner seal the stress-free hold.\n",
      "----------------------------------\n",
      "18:13\n",
      "Second set: Murray 4-6, 2-1 Edmund* (*denotes next server)Murray wins the first point on his serve then comes to the net on the second and Edmund punishes him yet again with another passing shot. Just brutal. Now Murray misfires on a forehand from the baseline, spraying it wide of the alleyway and he’s down 15-30. They go at it from the baseline on the next point for about a dozen strokes but it’s Murray who blinks first, netting a forehand and giving Edmund two looks at a break point. Murray saves the first with a 121mph serve down the middle that Edmund can’t return into the court, then the second when Edmund gets a bit impatient in a baseline rally and sends an intended winner into the net. Deuce. Murray then dials in his fourth ace and escapes with the hold from 15-40 down when Edmund goes wide on a backhand down the line.\n",
      "----------------------------------\n",
      "18:08\n",
      "Second set: *Murray 4-6, 1-1 Edmund (*denotes next server)Edmund pounds a winner, then crushes a serve down the middle that Murray can barely get a racket on for 30-love. He misfires on a forehand for 30-15, but follows with a forehand winner and a service winner for the comfortable hold.\n",
      "----------------------------------\n",
      "18:05\n",
      "Second set: Murray 4-6, 1-0 Edmund* (*denotes next server)Murray serving to open the second. Edmund makes an error early in the rally on the opening point to bail him out, but Murray wins three quick points behind booming serves to hold at love.\n",
      "----------------------------------\n",
      "18:01\n",
      "First set: Murray 4-6 EdmundMurray wins the opening point and someone’s car alarm has gone off. It’s quite loud. It’s stopped ... then it’s started again. Edmund hits a winner for 15-all, then his fifth ace of the match. Two points from the set. Car alarm still going ... then it’s stopped. The crowd seems to find it a lot more amusing than the players I imagine. A sharp backhand winner gives Edmund a pair of set points but he needs only one, closing it out with a winner. \n",
      "----------------------------------\n",
      "17:56\n",
      "First set: Murray 4-5 Edmund* (*denotes next server)Getting a bit tight here for Murray at 15-all: he’s three points from losing the set. But Edmund misses on a pair of returns, Murray hits a blistering forehand winner on the run and Edmund dumps a backhand into the net and the game is Murray’s. Now Edmund will try to serve out the set.\n",
      "----------------------------------\n",
      "17:52\n",
      "First set: *Murray 3-5 Edmund (*denotes next server)Edmund briefly falls behind, but hits a crisp forehand winner for 15-all. Then he mixes in his second double fault of the afternoon and he’s got a half-chance at 15-30. Edmund wins the next point, then outlasts Murray in a grueling rally for 40-30. He’s really cracking the forehand today, Edmund is. Murray hits a backhand into the net on the next point to seal the game for Edmund and now he’ll serve to stay in the first set. \n",
      "----------------------------------\n",
      "17:47\n",
      "First set: Murray 3-4 Edmund* (*denotes next server)Three quick points for Murray on his serve, then Edmund sprays a backhand wide. Love hold for the three-times major champion.\n",
      "----------------------------------\n",
      "17:44\n",
      "First set: *Murray 2-4 Edmund (*denotes next server)Edmund wins the first point after the changeover on a Murray error, then hits a truly sublime lob winner that lands a few feet inside the baseline for 30-love to applause from the gallery. The players trade errors, then Murray nets a forehand from the baseline and Edmund has the stress-free hold. \n",
      "----------------------------------\n",
      "17:39\n",
      "First set: Murray 2-3 Edmund* (*denotes next server)Murray gets the better of Edmund in a pair of baseline rallies and he’s won six straight points on his serve. Edmund pulls one back with a nifty angled return that sends Murray scrambling wide. Murray wins the next point, but comes to net early in the next rally and he’s passed by Edmund again! 40-30. A nice varied rally ensures and Edmund wins it with a cross-court forehand winner for deuce. Murray threads in his second ace of the afternoon for game point, but tries another serve and volley on the next point and is thwarted by the Edmund passing shot again. So accurate on those Edmund’s been so far. Now Edmund wins another point and Murray faces break point for the second time in three service games. Edmund runs Murray ragged on the rally and tries to end it with a forehand from the baseline, but sends it into the net for deuce. Murray hits another ace, which Edmund challenges unsuccessfully. Advantage, Murray. A Murray error from the baseline returns it to deuce, but he then hits a pair of a service winners to lock down the hard-won hold. \n",
      "----------------------------------\n",
      "17:31\n",
      "First set: *Murray 1-3 Edmund (*denotes next server)After the changeover Edmund thuds his second and third aces past Murray for 30-love. He follows with his first double fault of the afternoon, but Murray misses on a backhand return for 40-15, then puts a backhand into the net from the baseline to hand Edmund the game.\n",
      "----------------------------------\n",
      "17:27\n",
      "First set: Murray 1-2 Edmund* (*denotes next server)That’s more like it. An elementary love hold for Murray and the world No 156 is on the board.\n",
      "----------------------------------\n",
      "17:26\n",
      "First set: *Murray 0-2 Edmund (*denotes next server)Edmund nets a pair of forehands and he’s quickly behind love-30. A lengthy rally breaks out, backhand to backhand for several strokes before Murray goes forehand and Edmund comes to net, but Murray passes him and he’ll have triple break point to get back on level terms. Edmund saves the first and then the second, both on Murray unforced errors. Then Murray pushes a return long past the baseline for deuce. Three break points saved. A misfired backhand from the baseline by Edmund at deuce gives Murray a fourth, but Edmund saves that too when Murray can’t return a blistering serve out wide into the court. Now a fifth look at a break point for Murray, but Edmund saves it then wins a pair of quick points to consolidate the break, sealing it with an ace.\n",
      "----------------------------------\n",
      "17:19\n",
      "First set: Murray 0-1 Edmund* (*denotes next server)Murray double-faults to start it off. He serves and volleys on the next point, but Edmund passes him and it’s love-30. Edmund misfires from the baseline early in a rally and a hearty clap for Murray as he’s on the board. Another unforced error by Edmund for 30-all. Another rally and – wow! – Edmund pounds a running two-handed backhand winner into the corner and Murray faces a break point at 30-40. And Murray frames a forehand badly early in a rally and he’s been broken in his first service game!\n",
      "----------------------------------\n",
      "17:14\n",
      "The players are on court for their warm up. We should be under way shortly. \n",
      "----------------------------------\n",
      "17:01\n",
      "Apparently there’s a football game happening (or two). Meanwhile in Eastbourne, Caroline Wozniacki is through the last right after seeing off last year’s semi-finalist Jo Konta in three sets. Murray and Edmund are next on.\n",
      "----------------------------------\n",
      "16:49\n",
      "Hello and welcome to today’s match between Andy Murray and Kyle Edmund in the last 16 at Eastbourne. Murray, on the comeback trail from an extended layoff after undergoing hip surgery, is fresh off his first victory in nearly a year: a Monday win over Stan Wawrinka in straight sets.Now he’s in with the 23-year-old who succeeded him as British No 1 in March, ending the Scot’s 12-year stranglehold on the mantle. \n",
      "----------------------------------\n",
      "15:34\n",
      "Bryan will be here soon. In the meantime here’s Kevin Mitchell’s lookahead to today’s match.\n",
      "----------------------------------\n"
     ]
    }
   ],
   "source": [
    "'''\n",
    "Devolper Name: AFAQ AHMAD\n",
    "Fiverr: https://www.fiverr.com/mrafaq1\n",
    "Whatssapp: +92-335695635\n",
    "Email:afaq.ahmad100@gmail.com\n",
    "'''\n",
    "\n",
    "urlpage = 'https://www.theguardian.com/sport/live/2018/jun/27/andy-murray-v-kyle-edmund-eastbourne-international-2018-live'\n",
    "\n",
    "import urllib\n",
    "import urllib3\n",
    "import requests\n",
    "import json, io\n",
    "from bs4 import BeautifulSoup\n",
    "urllib3.disable_warnings()\n",
    "\n",
    "next_link = None\n",
    "data1=[]\n",
    "data2=[]\n",
    "\n",
    "while(1):\n",
    "    if next_link is not None:\n",
    "        urlpage = next_link\n",
    "    headers = {'User-Agent':'Mozilla/5.0'}\n",
    "    page = requests.get(urlpage, headers=headers, verify=False)\n",
    "    data = page.content \n",
    "    soup = BeautifulSoup(data, \"html.parser\")\n",
    "    Blog = soup.find_all('div', {'itemprop' : 'liveBlogUpdate'})\n",
    "    for i in range(0,len(Blog)):\n",
    "        first1 = Blog[i].find_all('p', {'class' : 'block-time published-time'})\n",
    "        time=((first1[0].text).split())[-1].encode('utf-8')\n",
    "        first2 = Blog[i].find_all('div', {'class' : 'block-elements block-elements--no-byline'})\n",
    "        if len(first2) > 0:\n",
    "            first3 = first2[0].find_all('p')\n",
    "            if first3 is not None:\n",
    "                aaaa=first3[0].get_text()\n",
    "                if len(first3) >1:\n",
    "                    bbbbcc=first3[1].get_text()\n",
    "                    aaaa=aaaa+bbbbcc\n",
    "                Blog_text=aaaa.encode('utf-8')\n",
    "                print(time)\n",
    "                print(Blog_text)\n",
    "                print(\"----------------------------------\")\n",
    "                data1.append(time)\n",
    "                data2.append(Blog_text)\n",
    "            \n",
    "        \n",
    "    For_next_link = soup.find_all('div', {'class' : 'liveblog-navigation__older'})\n",
    "    if len(For_next_link) > 0:\n",
    "        handles = [ a[\"href\"] for a in For_next_link[0].find_all(\"a\", href=True)]\n",
    "        if len(handles) > 0:\n",
    "            next_link2=handles[0].encode('utf-8')\n",
    "            next_link= 'https://www.theguardian.com'+ next_link2\n",
    "        else:\n",
    "            break\n",
    "    else:\n",
    "        break\n",
    "output_data = {}\n",
    "for p in range(0,len(data2)):\n",
    "    output_data[data1[p]]= data2[p]\n",
    "with io.open('result.json', 'w', encoding='utf8') as json_file:\n",
    "    data3 = json.dumps(output_data, ensure_ascii=False, encoding='utf8',indent=4, sort_keys=True)\n",
    "    json_file.write(unicode(data3))\n",
    "\n",
    "# ( For data loading)\n",
    "# with open('result.json') as data_file:\n",
    "#    data_loaded = json.load(data_file)\n",
    "# for x in data_loaded:\n",
    "#    print(x.encode('utf-8'),(data_loaded[x]).encode('utf-8'))\n",
    "# (data_loaded['13:17']).encode('utf-8')"
   ]
  },
  {
   "cell_type": "code",
   "execution_count": 34,
   "metadata": {},
   "outputs": [
    {
     "data": {
      "text/plain": [
       "[<div class=\"block-elements block-elements--no-byline\" itemprop=\"articleBody\">\\n<p><strong>That\\u2019s all for now. </strong>Thanks as always for following along with us and do check back later for Kevin Mitchell\\u2019s full match report.</p>\\n</div>]"
      ]
     },
     "execution_count": 34,
     "metadata": {},
     "output_type": "execute_result"
    }
   ],
   "source": [
    "aa=Blog[0].find_all('div', {'class' : 'block-elements block-elements--no-byline'})\n",
    "aa"
   ]
  },
  {
   "cell_type": "code",
   "execution_count": 35,
   "metadata": {},
   "outputs": [
    {
     "name": "stdout",
     "output_type": "stream",
     "text": [
      "<div class=\"block-elements block-elements--no-byline\" itemprop=\"articleBody\">\n",
      "<p><strong>Second set: Murray 4-6, 2-1 Edmund* (*denotes next server)</strong></p>\n",
      "<p>Murray wins the first point on his serve then comes to the net on the second and Edmund punishes him yet again with another passing shot. Just brutal. Now Murray misfires on a forehand from the baseline, spraying it wide of the alleyway and he’s down 15-30. They go at it from the baseline on the next point for about a dozen strokes but it’s Murray who blinks first, netting a forehand and giving Edmund two looks at a break point. Murray saves the first with a 121mph serve down the middle that Edmund can’t return into the court, then the second when Edmund gets a bit impatient in a baseline rally and sends an intended winner into the net. Deuce. Murray then dials in his fourth ace and escapes with the hold from 15-40 down when Edmund goes wide on a backhand down the line.</p>\n",
      "</div>\n"
     ]
    }
   ],
   "source": [
    "first2 = Blog[10].find_all('div', {'class' : 'block-elements block-elements--no-byline'})\n",
    "print(first2[0])"
   ]
  },
  {
   "cell_type": "code",
   "execution_count": 41,
   "metadata": {},
   "outputs": [
    {
     "data": {
      "text/plain": [
       "u'Murray wins the first point on his serve then comes to the net on the second and Edmund punishes him yet again with another passing shot. Just brutal. Now Murray misfires on a forehand from the baseline, spraying it wide of the alleyway and he\\u2019s down 15-30. They go at it from the baseline on the next point for about a dozen strokes but it\\u2019s Murray who blinks first, netting a forehand and giving Edmund two looks at a break point. Murray saves the first with a 121mph serve down the middle that Edmund can\\u2019t return into the court, then the second when Edmund gets a bit impatient in a baseline rally and sends an intended winner into the net. Deuce. Murray then dials in his fourth ace and escapes with the hold from 15-40 down when Edmund goes wide on a backhand down the line.'"
      ]
     },
     "execution_count": 41,
     "metadata": {},
     "output_type": "execute_result"
    }
   ],
   "source": [
    "first3 = first2[0].find_all('p')\n",
    "first3[1].text"
   ]
  },
  {
   "cell_type": "code",
   "execution_count": 42,
   "metadata": {},
   "outputs": [
    {
     "data": {
      "text/plain": [
       "2"
      ]
     },
     "execution_count": 42,
     "metadata": {},
     "output_type": "execute_result"
    }
   ],
   "source": [
    "len(first3)"
   ]
  }
 ],
 "metadata": {
  "kernelspec": {
   "display_name": "Python 2",
   "language": "python",
   "name": "python2"
  },
  "language_info": {
   "codemirror_mode": {
    "name": "ipython",
    "version": 2
   },
   "file_extension": ".py",
   "mimetype": "text/x-python",
   "name": "python",
   "nbconvert_exporter": "python",
   "pygments_lexer": "ipython2",
   "version": "2.7.14"
  }
 },
 "nbformat": 4,
 "nbformat_minor": 2
}
