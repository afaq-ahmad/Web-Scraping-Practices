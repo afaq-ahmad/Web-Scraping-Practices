{
 "cells": [
  {
   "cell_type": "code",
   "execution_count": 1,
   "metadata": {},
   "outputs": [],
   "source": [
    "import re\n",
    "import urllib\n",
    "import urllib3\n",
    "import csv\n",
    "import requests\n",
    "from bs4 import BeautifulSoup\n",
    "from collections import OrderedDict\n",
    "urllib3.disable_warnings()\n",
    "headers = {'User-Agent':'Mozilla/5.0'}\n"
   ]
  },
  {
   "cell_type": "code",
   "execution_count": 2,
   "metadata": {},
   "outputs": [],
   "source": [
    "urlpage='https://www.bestbusiness101.com/search/A/1'\n",
    "\n",
    "page = requests.get(urlpage, headers=headers, verify=False)\n",
    "data = page.content\n",
    "soup = BeautifulSoup(data, \"html.parser\")"
   ]
  },
  {
   "cell_type": "code",
   "execution_count": 4,
   "metadata": {},
   "outputs": [
    {
     "data": {
      "text/plain": [
       "[<a class=\"navbar-brand\" href=\"/\">Best Business 101</a>,\n",
       " <a href=\"/\"><span class=\"glyphicon glyphicon-home\"></span> Home</a>,\n",
       " <a aria-expanded=\"false\" aria-haspopup=\"true\" class=\"dropdown-toggle\" data-toggle=\"dropdown\" href=\"#\" role=\"button\">More... <span class=\"caret\"></span></a>,\n",
       " <a href=\"/search/\"><span class=\"glyphicon glyphicon-search\"></span> Advanced Search</a>,\n",
       " <a class=\"current\" href=\"#\" title=\"Go to Page 1 of 3632\">1</a>,\n",
       " <a class=\"paginate\" href=\"/search/A/2\" title=\"Go to Page 2 of 3632\">2</a>,\n",
       " <a class=\"paginate\" href=\"/search/A/3\" title=\"Go to Page 3 of 3632\">3</a>,\n",
       " <a class=\"paginate\" href=\"/search/A/4\" title=\"Go to Page 4 of 3632\">4</a>,\n",
       " <a class=\"paginate\" href=\"/search/A/5\" title=\"Go to Page 5 of 3632\">5</a>,\n",
       " <a class=\"paginate\" href=\"/search/A/3632\" title=\"Go to Page 3632 of 3632\">3632</a>,\n",
       " <a class=\"paginate\" href=\"/search/A/2\">Next</a>,\n",
       " <a href=\"/profile/packer-engineering\">Packer Engineering</a>,\n",
       " <a href=\"/profile/promega-corporation\">Promega Corporation</a>,\n",
       " <a href=\"/profile/severn-trent-laboratories-inc\">Severn Trent Laboratories, Inc.</a>,\n",
       " <a href=\"/profile/research-testing-laboratories-inc\">Research Testing Laboratories, Inc.</a>,\n",
       " <a href=\"/profile/rieter-automotive-north-america-inc\">Rieter Automotive North America, Inc.</a>,\n",
       " <a href=\"/profile/sachs-automotive-of-america\">Sachs Automotive of America</a>,\n",
       " <a href=\"/profile/sgs-us-testing-company-inc\">SGS US Testing Company, Inc.</a>,\n",
       " <a href=\"/profile/shuster-laboratories-inc\">Shuster Laboratories, Inc.</a>,\n",
       " <a href=\"/profile/source-electronics-corporation\">Source Electronics Corporation</a>,\n",
       " <a href=\"/profile/space-science-services-inc\">Space Science Services, Inc.</a>,\n",
       " <a href=\"/profile/springborn-laboratories-inc\">Springborn Laboratories, Inc.</a>,\n",
       " <a href=\"/profile/triangle-laboratories-inc\">Triangle Laboratories, Inc.</a>,\n",
       " <a href=\"/profile/turner-laboratories-inc\">Turner Laboratories, Inc.</a>,\n",
       " <a href=\"/profile/tyree-organization-ltd\">Tyree Organization, Ltd.</a>,\n",
       " <a href=\"/profile/westmoreland-mechanical-testing-research-inc\">Westmoreland Mechanical Testing &amp; Research, Inc.</a>,\n",
       " <a href=\"/profile/wyle-laboratories-inc\">Wyle Laboratories, Inc.</a>,\n",
       " <a href=\"/profile/acl-laboratories\">ACL Laboratories</a>,\n",
       " <a href=\"/profile/alegent-health-laboratory-services\">Alegent Health Laboratory Services</a>,\n",
       " <a href=\"/profile/american-medical-laboratories-inc\">American Medical Laboratories, Inc.</a>,\n",
       " <a href=\"/profile/ameripath-inc\">Ameripath, Inc.</a>,\n",
       " <a class=\"current\" href=\"#\" title=\"Go to Page 1 of 3632\">1</a>,\n",
       " <a class=\"paginate\" href=\"/search/A/2\" title=\"Go to Page 2 of 3632\">2</a>,\n",
       " <a class=\"paginate\" href=\"/search/A/3\" title=\"Go to Page 3 of 3632\">3</a>,\n",
       " <a class=\"paginate\" href=\"/search/A/4\" title=\"Go to Page 4 of 3632\">4</a>,\n",
       " <a class=\"paginate\" href=\"/search/A/5\" title=\"Go to Page 5 of 3632\">5</a>,\n",
       " <a class=\"paginate\" href=\"/search/A/3632\" title=\"Go to Page 3632 of 3632\">3632</a>,\n",
       " <a class=\"paginate\" href=\"/search/A/2\">Next</a>,\n",
       " <a alt=\"ABC Polymers, Inc. Company Information\" href=\"/profile/abc-polymers-inc\" title=\"ABC Polymers, Inc. Company Information\">ABC Polymers, Inc.</a>,\n",
       " <a alt=\"Absolute Hire, Inc. Company Information\" href=\"/profile/absolute-hire-inc\" title=\"Absolute Hire, Inc. Company Information\">Absolute Hire, Inc.</a>,\n",
       " <a alt=\"AgroFarma, Inc. Company Information\" href=\"/profile/agrofarma-inc\" title=\"AgroFarma, Inc. Company Information\">AgroFarma, Inc.</a>,\n",
       " <a alt=\"Capri Packaging Company Information\" href=\"/profile/capri-packaging\" title=\"Capri Packaging Company Information\">Capri Packaging</a>,\n",
       " <a alt=\"CBC Companies, Inc. Company Information\" href=\"/profile/cbc-companies-inc\" title=\"CBC Companies, Inc. Company Information\">CBC Companies, Inc.</a>,\n",
       " <a alt=\"Hanahreum Group Company Information\" href=\"/profile/hanahreum-group\" title=\"Hanahreum Group Company Information\">Hanahreum Group</a>,\n",
       " <a alt=\"Insect Lore Company Information\" href=\"/profile/insect-lore\" title=\"Insect Lore Company Information\">Insect Lore</a>,\n",
       " <a alt=\"Juzo USA, Inc. Company Information\" href=\"/profile/juzo-usa-inc\" title=\"Juzo USA, Inc. Company Information\">Juzo USA, Inc.</a>,\n",
       " <a alt=\"KidKraft, Inc. Company Information\" href=\"/profile/kidkraft-inc\" title=\"KidKraft, Inc. Company Information\">KidKraft, Inc.</a>,\n",
       " <a alt=\"Oak Hill Cemetery Company Information\" href=\"/profile/oak-hill-cemetery\" title=\"Oak Hill Cemetery Company Information\">Oak Hill Cemetery</a>,\n",
       " <a alt=\"Opteka Inc. Company Information\" href=\"/profile/opteka-inc\" title=\"Opteka Inc. Company Information\">Opteka Inc.</a>,\n",
       " <a alt=\"Osprey Packs, Inc Company Information\" href=\"/profile/osprey-packs-inc\" title=\"Osprey Packs, Inc Company Information\">Osprey Packs, Inc</a>,\n",
       " <a alt=\"Poly-America, LP Company Information\" href=\"/profile/poly-america-lp\" title=\"Poly-America, LP Company Information\">Poly-America, LP</a>,\n",
       " <a alt=\"Seirus Innovation Company Information\" href=\"/profile/seirus-innovation\" title=\"Seirus Innovation Company Information\">Seirus Innovation</a>,\n",
       " <a alt=\"Shaw Industries Company Information\" href=\"/profile/shaw-industries\" title=\"Shaw Industries Company Information\">Shaw Industries</a>,\n",
       " <a alt=\"Sportcraft, Ltd. Company Information\" href=\"/profile/sportcraft-ltd\" title=\"Sportcraft, Ltd. Company Information\">Sportcraft, Ltd.</a>,\n",
       " <a alt=\"Sycuan Casino Company Information\" href=\"/profile/sycuan-casino\" title=\"Sycuan Casino Company Information\">Sycuan Casino</a>,\n",
       " <a alt=\"The Mako Group Company Information\" href=\"/profile/the-mako-group\" title=\"The Mako Group Company Information\">The Mako Group</a>,\n",
       " <a alt=\"The Marvin Group Company Information\" href=\"/profile/the-marvin-group\" title=\"The Marvin Group Company Information\">The Marvin Group</a>,\n",
       " <a alt=\"TOMS Shoes Company Information\" href=\"/profile/toms-shoes\" title=\"TOMS Shoes Company Information\">TOMS Shoes</a>,\n",
       " <a href=\"http://www.bestbusiness101.com/\">BestBusiness101.com</a>]"
      ]
     },
     "execution_count": 4,
     "metadata": {},
     "output_type": "execute_result"
    }
   ],
   "source": [
    "soup.find_all('a')"
   ]
  }
 ],
 "metadata": {
  "kernelspec": {
   "display_name": "Python 2",
   "language": "python",
   "name": "python2"
  },
  "language_info": {
   "codemirror_mode": {
    "name": "ipython",
    "version": 2
   },
   "file_extension": ".py",
   "mimetype": "text/x-python",
   "name": "python",
   "nbconvert_exporter": "python",
   "pygments_lexer": "ipython2",
   "version": "2.7.14"
  }
 },
 "nbformat": 4,
 "nbformat_minor": 2
}
