{
 "cells": [
  {
   "cell_type": "code",
   "execution_count": 1,
   "metadata": {},
   "outputs": [],
   "source": [
    "from openpyxl import load_workbook"
   ]
  },
  {
   "cell_type": "code",
   "execution_count": 2,
   "metadata": {},
   "outputs": [],
   "source": [
    "list0=[]\n",
    "wb = load_workbook(filename='output_comp_details_result.xlsx', read_only=True)\n",
    "ws = wb['Sheet']\n",
    "for row in ws.rows:\n",
    "    list00=[]\n",
    "    for kl in range(len(row)):\n",
    "        \n",
    "        list00.append(row[kl].value)\n",
    "    list0.append(list00)"
   ]
  },
  {
   "cell_type": "code",
   "execution_count": 28,
   "metadata": {},
   "outputs": [],
   "source": [
    "for i in range(0,len(list0)):\n",
    "    first_name=' '.join(list0[i][2].split()[0:-1])\n",
    "    list0[i].append(first_name)\n",
    "\n",
    "    lastname=list0[i][2].split()[-1]\n",
    "    list0[i].append(lastname)\n",
    "\n"
   ]
  },
  {
   "cell_type": "code",
   "execution_count": 32,
   "metadata": {},
   "outputs": [],
   "source": [
    "import warnings\n",
    "from openpyxl import Workbook\n",
    "\n",
    "wb = Workbook(write_only=True)\n",
    "ws = wb.create_sheet()\n",
    "\n",
    "# now we'll fill it with 100 rows x 200 columns\n",
    "for irow in list0:\n",
    "    ws.append(irow)\n",
    "# save the file\n",
    "wb.save('output_comp.xlsx')"
   ]
  },
  {
   "cell_type": "code",
   "execution_count": null,
   "metadata": {},
   "outputs": [],
   "source": []
  }
 ],
 "metadata": {
  "kernelspec": {
   "display_name": "Python 2",
   "language": "python",
   "name": "python2"
  },
  "language_info": {
   "codemirror_mode": {
    "name": "ipython",
    "version": 2
   },
   "file_extension": ".py",
   "mimetype": "text/x-python",
   "name": "python",
   "nbconvert_exporter": "python",
   "pygments_lexer": "ipython2",
   "version": "2.7.14"
  }
 },
 "nbformat": 4,
 "nbformat_minor": 2
}
