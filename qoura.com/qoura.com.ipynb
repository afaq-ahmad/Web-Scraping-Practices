{
 "cells": [
  {
   "cell_type": "code",
   "execution_count": 31,
   "metadata": {},
   "outputs": [],
   "source": [
    "from openpyxl import load_workbook\n",
    "\n",
    "from bs4 import BeautifulSoup\n",
    "from selenium import webdriver\n",
    "from time import sleep\n",
    "import csv\n",
    "from random import randint\n",
    "import json, io\n",
    "\n",
    "import warnings\n",
    "from openpyxl import Workbook\n",
    "\n",
    "from selenium.webdriver.common.by import By\n",
    "from selenium.webdriver.common.keys import Keys\n",
    "from selenium.webdriver.support.ui import Select\n",
    "from selenium.webdriver.support.ui import WebDriverWait\n",
    "from selenium.common.exceptions import TimeoutException\n",
    "from selenium.webdriver.support import expected_conditions as EC\n",
    "from selenium.common.exceptions import NoSuchElementException\n",
    "from selenium.common.exceptions import NoAlertPresentException\n",
    "from selenium.webdriver.common.action_chains import ActionChains\n",
    "\n",
    "import urllib\n",
    "import urllib3\n",
    "import requests\n",
    "import json, io\n",
    "from bs4 import BeautifulSoup\n",
    "urllib3.disable_warnings()\n",
    "header = {'User-Agent':'Mozilla/6.0'}\n",
    "\n",
    "\n",
    "chrome_options = webdriver.ChromeOptions()\n",
    "chrome_options.add_argument('--user-agent=\"Mozilla/6.0')\n",
    "chrome_options.add_argument(\"user-data-dir=selenium\")\n",
    "driver = webdriver.Chrome(chrome_options=chrome_options, executable_path=r'/Users/Name/Downloads/Compressed/chromedrives/chromedriver.exe')\n",
    "\n",
    "\n",
    "# cookies = json.load(open('cookiesdict.txt'))\n",
    "# for cookie in cookies:\n",
    "#     driver.add_cookie(cookie)"
   ]
  },
  {
   "cell_type": "code",
   "execution_count": 15,
   "metadata": {},
   "outputs": [],
   "source": [
    "savedata1=[]"
   ]
  },
  {
   "cell_type": "code",
   "execution_count": 65,
   "metadata": {},
   "outputs": [],
   "source": [
    "links=['https://www.quora.com/topic/Social-Advice',\n",
    "'https://www.quora.com/topic/BDSM',\n",
    "'https://www.quora.com/topic/Fetishes',\n",
    "'https://www.quora.com/topic/Adult-Dating-and-Relationships']"
   ]
  },
  {
   "cell_type": "code",
   "execution_count": 39,
   "metadata": {},
   "outputs": [],
   "source": [
    "for i in range(0,10):\n",
    "    driver.execute_script(\"window.scrollTo(0, 500000)\")\n",
    "    sleep(10)"
   ]
  },
  {
   "cell_type": "code",
   "execution_count": null,
   "metadata": {},
   "outputs": [],
   "source": []
  },
  {
   "cell_type": "code",
   "execution_count": 54,
   "metadata": {
    "scrolled": true
   },
   "outputs": [],
   "source": [
    "driver.execute_script(\"window.scrollTo(0, 0)\")\n",
    "aaa=driver.find_elements_by_link_text('(more)')\n",
    "for mj in range(0,len(aaa)):\n",
    "    aaa[mj].click()\n",
    "    sleep(5)"
   ]
  },
  {
   "cell_type": "code",
   "execution_count": 53,
   "metadata": {
    "scrolled": true
   },
   "outputs": [],
   "source": [
    "for i in range(0,10):\n",
    "    driver.execute_script(\"window.scrollTo(0, 500000)\")\n",
    "    sleep(10)"
   ]
  },
  {
   "cell_type": "code",
   "execution_count": 55,
   "metadata": {
    "scrolled": true
   },
   "outputs": [
    {
     "name": "stdout",
     "output_type": "stream",
     "text": [
      "89\n",
      "What is wrong with Omegle? What are the negatives and problems of Omegle?\n",
      "To my knowledge, it’s Craigslist meets Skype meets Russian Roulette.\n",
      "On Omegle my webcam is flipped the other way round. How do I fix this?\n",
      "Go into input or device settings and select the front facing camera as camera input.\n",
      "What are the different categories or types of people on Omegle?\n",
      "BoredHorney for F, only F, F, F, FGrowth/learning/dialogue/discussionCombos apply.\n",
      "Why does Omegle keep giving me the \"Error connecting to server. Please try again\" error even though I’ve done everything to fix it?\n",
      "You are probaply behind some kind of firewall.\n",
      "Why do people like to use Omegle chat rooms?\n",
      "Because it's fun.\n",
      "My friend and I were on Omegle and some girl said that I got hacked and she now knows my IP address. Can people actually hack you through video chats and online chats?\n",
      "yep, with omegle though, its not even hacking, you just need a simple ipGrabber\n",
      "Which is the best random chat site besides Omegle?\n",
      "I recently discovered Hamstercam. Had a lot of chats with female amateur strangers!\n",
      "Why is Omegle full of bots nowadays? What are the website workers doing?\n",
      "Coffee and smokes betav.17\n",
      "Is it weird to search for my old mail pals?\n",
      "No, unless the correspondence ended badly.\n"
     ]
    }
   ],
   "source": [
    "savedata1=[]\n",
    "driver.execute_script(\"window.scrollTo(0, 0)\")\n",
    "aaa=driver.find_elements_by_link_text('(more)')\n",
    "for mj in range(0,len(aaa)):\n",
    "    aaa[mj].click()\n",
    "    sleep(5)\n",
    "driver.execute_script(\"window.scrollTo(0, 0)\")\n",
    "aaa=driver.find_elements_by_link_text('(more)')\n",
    "for mj in range(0,len(aaa)):\n",
    "    aaa[mj].click()\n",
    "    sleep(5)\n",
    "if len(driver.find_elements_by_link_text('(more)'))==0:\n",
    "    so1=BeautifulSoup(driver.page_source, 'lxml')\n",
    "    TopicFeed=so1.find_all('div',class_=\"TopicFeed\")\n",
    "    paged_list_wrapper=TopicFeed[0].find_all('div',class_=\"paged_list_wrapper\")\n",
    "    AnswerStoryBundle=paged_list_wrapper[0].find_all(class_=\"AnswerStoryBundle\")\n",
    "    print len(AnswerStoryBundle)\n",
    "\n",
    "    for ff in range(0,len(AnswerStoryBundle)):\n",
    "        dataset=['-']*2\n",
    "        question=AnswerStoryBundle[ff].find_all(class_=\"ui_story_title ui_story_title_medium \")[0].text\n",
    "        answer_body_preview=AnswerStoryBundle[ff].find_all('div',class_=\"answer_body_preview\")[0]\n",
    "        try:\n",
    "            answer=answer_body_preview.find_all('span',class_=\"ui_qtext_rendered_qtext\")[1].text\n",
    "        except:\n",
    "            answer=answer_body_preview.find_all('span',class_=\"ui_qtext_rendered_qtext\")[0].text\n",
    "            print question\n",
    "            print answer\n",
    "        dataset[0]=question\n",
    "        dataset[1]=answer\n",
    "        savedata1.append(dataset)\n",
    "        \n",
    "    \n",
    "\n",
    "    wb = Workbook(write_only=True)\n",
    "    ws = wb.create_sheet()\n",
    "\n",
    "    # now we'll fill it with 100 rows x 200 columns\n",
    "    for irow in savedata1:\n",
    "        ws.append(irow)\n",
    "    # save the file\n",
    "    wb.save((driver.current_url.split('/')[-1])+'1.xlsx')"
   ]
  },
  {
   "cell_type": "code",
   "execution_count": 150,
   "metadata": {},
   "outputs": [
    {
     "data": {
      "text/plain": [
       "92"
      ]
     },
     "execution_count": 150,
     "metadata": {},
     "output_type": "execute_result"
    }
   ],
   "source": [
    "len(savedata1)"
   ]
  },
  {
   "cell_type": "code",
   "execution_count": 4,
   "metadata": {},
   "outputs": [],
   "source": [
    "driver.switch_to_window(driver.window_handles[0])"
   ]
  },
  {
   "cell_type": "code",
   "execution_count": 53,
   "metadata": {},
   "outputs": [],
   "source": []
  },
  {
   "cell_type": "code",
   "execution_count": null,
   "metadata": {},
   "outputs": [],
   "source": [
    "savedata1[-1]"
   ]
  },
  {
   "cell_type": "code",
   "execution_count": 55,
   "metadata": {},
   "outputs": [],
   "source": []
  },
  {
   "cell_type": "code",
   "execution_count": 56,
   "metadata": {},
   "outputs": [
    {
     "data": {
      "text/plain": [
       "90"
      ]
     },
     "execution_count": 56,
     "metadata": {},
     "output_type": "execute_result"
    }
   ],
   "source": [
    "# AnswerStoryBundle=paged_list_wrapper[0].find_all('div',class_=\"AnswerStoryBundle Bundle\")\n"
   ]
  },
  {
   "cell_type": "code",
   "execution_count": null,
   "metadata": {
    "scrolled": true
   },
   "outputs": [],
   "source": []
  },
  {
   "cell_type": "code",
   "execution_count": null,
   "metadata": {},
   "outputs": [],
   "source": []
  },
  {
   "cell_type": "code",
   "execution_count": 68,
   "metadata": {},
   "outputs": [
    {
     "data": {
      "text/plain": [
       "u'Sex-in-Marriage-1'"
      ]
     },
     "execution_count": 68,
     "metadata": {},
     "output_type": "execute_result"
    }
   ],
   "source": []
  },
  {
   "cell_type": "code",
   "execution_count": null,
   "metadata": {},
   "outputs": [],
   "source": []
  },
  {
   "cell_type": "code",
   "execution_count": 70,
   "metadata": {},
   "outputs": [],
   "source": []
  },
  {
   "cell_type": "code",
   "execution_count": 66,
   "metadata": {
    "scrolled": true
   },
   "outputs": [
    {
     "name": "stdout",
     "output_type": "stream",
     "text": [
      "90\n",
      "What is the best way to say \"No Jews\" on your dating profile without saying \"No Jews\"?\n",
      "What is the best way to say \"No Jews\" on your dating profile without saying \"No Jews\"?I’d suggest referring to yourself as a “bigotry-friendly American.”\n",
      "What is the best way to say \"No Jews\" on your dating profile without saying \"No Jews\"?\n",
      "I'm an areshole. Please don't date me. Done.\n",
      "What is the best way to say \"No Jews\" on your dating profile without saying \"No Jews\"?\n",
      "Really? Are Jew serious?Worth the collapse, no regrets.\n",
      "What is the best way to say \"No Jews\" on your dating profile without saying \"No Jews\"?\n",
      "Extol the beauty, virtues and deliciousness of bacon and pork in general\n",
      "What is the best way to say \"No Jews\" on your dating profile without saying \"No Jews\"?\n",
      "Just write this on your dating profile instead:“Hi, I am a garbage racist douchebag”\n",
      "A girl I met online sent me a picture of herself in a hot dress. Does that mean she likes me or just want attention?\n",
      "She probably just wants attention, since you only met her online.\n",
      "Are there true dating sites?\n",
      "Of course. Here is one of them. A popular dating online app.\n",
      "What is the best way to say \"No Jews\" on your dating profile without saying \"No Jews\"?\n",
      "You might as well own it and just write something like “Keine Juden!” That should get the picture across and let’em know right quick the kind of feller you are.\n",
      "What is the best way to say \"No Jews\" on your dating profile without saying \"No Jews\"?\n",
      "This is obviously a troll question. They are looking to get people riled up. And yet here we are, 100 + answers later.\n",
      "What is the best dating site?\n",
      "Here is one best dating site , Lifiling is most popular for adult dating.\n",
      "89\n",
      "What is the Tinder experience like in San Francisco?\n",
      "Don’t try to use online dating apps in San Francisco. Just don’t. Words of advice.\n",
      "We have been talking online and I fell in love, but it recently turned out she had a boyfriend, so what now?\n",
      "You have learned a painful lesson: don’t fall in love on the Internet.\n",
      "3\n",
      "90\n",
      "If each brand had an honest slogan, what would some be?\n",
      "Google: We make money from serving ads.Facebook: We make money from serving ads.LinkedIn: We make money from serving ads.Quora: We try to make money from serving ads.\n",
      "Why do dating apps require men to disclose their height, but don't require women to disclose their bra size? Is breast size less important to men than height is to women?\n",
      "I assume you also feel that men should have to disclose their penis size?\n",
      "Have you ever been on a date that was going so badly you walked out and left?\n",
      "I'm having one right now. The girl next to me is talking on a phone to someone for 3:42 seconds. I'm going to leave the table in 1:18 seconds if she doesn't hang up.\n",
      "When was the last time you went on a Tinder date?\n",
      "Maybe in January?She was leaving the State a few weeks later.We met for coffee and had a chat.I asked if she wanted to hang out again.She didn’t seem too enthused.I shrugged and moved on.\n",
      "What is most popular dating app in China?\n",
      "Mo Mo 陌陌I guess, but I have never used it, I remain my bachelorette statue :d\n",
      "131\n",
      "87\n",
      "What is the first rule for first dates in college?\n",
      "Be yourself. Everyone else is taken.\n",
      "Is Italian food a good choice for a first date?\n",
      "Yes, if you are looking for something romantic and a lot of tomato sauce on you.\n",
      "Is it a bad sign if a woman tells a man on first date that he has a good personality but is physically ugly, partly because of his race?\n",
      "Creepy woman. Avoid her, yuck.\n",
      "69\n",
      "What unfair advantage does an average man have over a very beautiful woman?\n",
      "The chances of him remaining average throughout his life are very good.The chances of her remaining beautiful throughout her life are very slim.Beauty has a shelf life. Average does not.\n",
      "87\n",
      "How would you explain your job to a 5-year-old?\n",
      "(My field, not my job)\"Hey, do you like asking the question 'why'?\"\"Yes\"\"Me too kid\"\n",
      "What would you say to someone who says “I can't talk to you because you're an atheist”?\n",
      "Goodbye.\n",
      "How do I welcome a new black family into our ‘lily-white’ community? I want them to know that we’re not all racists; some of us embrace diversity, and we truly welcome them here.\n",
      "The same way you welcome new blue-eyed families, new left-handed families, and new red-headed families.You say you don’t pay attention to such trivia?Ah.\n",
      "A woman chose to breastfeed her child in a filled bus. She exposed more than what some would consider to be appropriate. What should one say or do?\n",
      "I strongly recommend returning your gaze to your Kindle, or even better, not looking away from it in the first place. Why are you wasting precious reading time watching someone breastfeed?\n",
      "How did you feel when you found out “being a gentleman” actually comes from sexism?\n",
      "If \"being a gentleman\" comes from sexism, then I'm all for sexism.Seriously, with all of the terrible things men do to women, why are we getting offended and uptight when they act like gentlemen?::\n",
      "Would a girl find it disrespectful to grab her hand, pull her gently towards you, and grab her by the waist and ask her what her name is?\n",
      "Something tells me you’re asking this because you plan on doing it.Yes, I’d find it disrespectful, and also incredibly gross. I may also find myself a brief jail sentence.\n",
      "Are British people actually polite?\n",
      "I told Alexa to ‘Please stop the music.” and when it stopped I said ‘Thank you.”.Yes, we’re polite.Not because we want to, because we’ve been conditioned to be so.\n"
     ]
    },
    {
     "ename": "KeyboardInterrupt",
     "evalue": "",
     "output_type": "error",
     "traceback": [
      "\u001b[1;31m---------------------------------------------------------------------------\u001b[0m",
      "\u001b[1;31mKeyboardInterrupt\u001b[0m                         Traceback (most recent call last)",
      "\u001b[1;32m<ipython-input-66-75134932a12d>\u001b[0m in \u001b[0;36m<module>\u001b[1;34m()\u001b[0m\n\u001b[0;32m     13\u001b[0m     \u001b[1;32mfor\u001b[0m \u001b[0mmj\u001b[0m \u001b[1;32min\u001b[0m \u001b[0mrange\u001b[0m\u001b[1;33m(\u001b[0m\u001b[1;36m0\u001b[0m\u001b[1;33m,\u001b[0m\u001b[0mlen\u001b[0m\u001b[1;33m(\u001b[0m\u001b[0maaa\u001b[0m\u001b[1;33m)\u001b[0m\u001b[1;33m)\u001b[0m\u001b[1;33m:\u001b[0m\u001b[1;33m\u001b[0m\u001b[0m\n\u001b[0;32m     14\u001b[0m         \u001b[0maaa\u001b[0m\u001b[1;33m[\u001b[0m\u001b[0mmj\u001b[0m\u001b[1;33m]\u001b[0m\u001b[1;33m.\u001b[0m\u001b[0mclick\u001b[0m\u001b[1;33m(\u001b[0m\u001b[1;33m)\u001b[0m\u001b[1;33m\u001b[0m\u001b[0m\n\u001b[1;32m---> 15\u001b[1;33m         \u001b[0msleep\u001b[0m\u001b[1;33m(\u001b[0m\u001b[1;36m5\u001b[0m\u001b[1;33m)\u001b[0m\u001b[1;33m\u001b[0m\u001b[0m\n\u001b[0m\u001b[0;32m     16\u001b[0m \u001b[1;33m\u001b[0m\u001b[0m\n\u001b[0;32m     17\u001b[0m     \u001b[0mdriver\u001b[0m\u001b[1;33m.\u001b[0m\u001b[0mexecute_script\u001b[0m\u001b[1;33m(\u001b[0m\u001b[1;34m\"window.scrollTo(0, 0)\"\u001b[0m\u001b[1;33m)\u001b[0m\u001b[1;33m\u001b[0m\u001b[0m\n",
      "\u001b[1;31mKeyboardInterrupt\u001b[0m: "
     ]
    }
   ],
   "source": [
    "for m in links:\n",
    "    driver.get(m)\n",
    "    \n",
    "    sleep(10)\n",
    "    for i in range(0,20):\n",
    "        driver.execute_script(\"window.scrollTo(0, 500000)\")\n",
    "        sleep(6)\n",
    "\n",
    "    savedata1=[]\n",
    "    \n",
    "    driver.execute_script(\"window.scrollTo(0, 0)\")\n",
    "    aaa=driver.find_elements_by_link_text('(more)')\n",
    "    for mj in range(0,len(aaa)):\n",
    "        aaa[mj].click()\n",
    "        sleep(5)\n",
    "        \n",
    "    driver.execute_script(\"window.scrollTo(0, 0)\")\n",
    "    aaa=driver.find_elements_by_link_text('(more)')\n",
    "    for mj in range(0,len(aaa)):\n",
    "        aaa[mj].click()\n",
    "        sleep(5)\n",
    "        \n",
    "    if len(driver.find_elements_by_link_text('(more)'))==0:\n",
    "        so1=BeautifulSoup(driver.page_source, 'lxml')\n",
    "        TopicFeed=so1.find_all('div',class_=\"TopicFeed\")\n",
    "        paged_list_wrapper=TopicFeed[0].find_all('div',class_=\"paged_list_wrapper\")\n",
    "        AnswerStoryBundle=paged_list_wrapper[0].find_all(class_=\"AnswerStoryBundle\")\n",
    "        print len(AnswerStoryBundle)\n",
    "\n",
    "        for ff in range(0,len(AnswerStoryBundle)):\n",
    "            dataset=['-']*2\n",
    "            question=AnswerStoryBundle[ff].find_all(class_=\"ui_story_title ui_story_title_medium \")[0].text\n",
    "            answer_body_preview=AnswerStoryBundle[ff].find_all('div',class_=\"answer_body_preview\")[0]\n",
    "            try:\n",
    "                answer=answer_body_preview.find_all('span',class_=\"ui_qtext_rendered_qtext\")[1].text\n",
    "            except:\n",
    "                answer=answer_body_preview.find_all('span',class_=\"ui_qtext_rendered_qtext\")[0].text\n",
    "                print question\n",
    "                print answer\n",
    "            dataset[0]=question\n",
    "            dataset[1]=answer\n",
    "            savedata1.append(dataset)\n",
    "\n",
    "\n",
    "\n",
    "        wb = Workbook(write_only=True)\n",
    "        ws = wb.create_sheet()\n",
    "\n",
    "        # now we'll fill it with 100 rows x 200 columns\n",
    "        for irow in savedata1:\n",
    "            ws.append(irow)\n",
    "        # save the file\n",
    "        wb.save((driver.current_url.split('/')[-1])+'.xlsx')"
   ]
  },
  {
   "cell_type": "code",
   "execution_count": null,
   "metadata": {},
   "outputs": [],
   "source": []
  },
  {
   "cell_type": "code",
   "execution_count": null,
   "metadata": {},
   "outputs": [],
   "source": []
  }
 ],
 "metadata": {
  "kernelspec": {
   "display_name": "Python 2",
   "language": "python",
   "name": "python2"
  },
  "language_info": {
   "codemirror_mode": {
    "name": "ipython",
    "version": 2
   },
   "file_extension": ".py",
   "mimetype": "text/x-python",
   "name": "python",
   "nbconvert_exporter": "python",
   "pygments_lexer": "ipython2",
   "version": "2.7.14"
  }
 },
 "nbformat": 4,
 "nbformat_minor": 2
}
