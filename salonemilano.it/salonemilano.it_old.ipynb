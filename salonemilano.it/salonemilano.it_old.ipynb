{
 "cells": [
  {
   "cell_type": "code",
   "execution_count": 47,
   "metadata": {},
   "outputs": [],
   "source": [
    "import re\n",
    "import urllib\n",
    "import urllib3\n",
    "import requests\n",
    "from bs4 import BeautifulSoup\n",
    "from selenium import webdriver\n",
    "from time import sleep\n",
    "import csv\n",
    "from random import randint\n",
    "urllib3.disable_warnings()\n",
    "import json, io\n",
    "headers = {'User-Agent':'Mozilla/6.0'}\n"
   ]
  },
  {
   "cell_type": "code",
   "execution_count": 2,
   "metadata": {},
   "outputs": [],
   "source": [
    "from selenium.webdriver.common.by import By\n",
    "from selenium.webdriver.common.keys import Keys\n",
    "from selenium.webdriver.support.ui import Select\n",
    "from selenium.webdriver.support.ui import WebDriverWait\n",
    "from selenium.common.exceptions import TimeoutException\n",
    "from selenium.webdriver.support import expected_conditions as EC\n",
    "from selenium.common.exceptions import NoSuchElementException\n",
    "from selenium.common.exceptions import NoAlertPresentException\n",
    "\n",
    "from time import sleep\n",
    "import csv\n",
    "from selenium import webdriver\n",
    "\n",
    "chrome_options = webdriver.ChromeOptions()\n",
    "chrome_options.add_argument(\"user-agent=Mozilla/8.0\")\n",
    "driver = webdriver.Chrome(executable_path=r'/Users/Name/Downloads/Compressed/chromedrives/chromedriver.exe',chrome_options=chrome_options)\n"
   ]
  },
  {
   "cell_type": "code",
   "execution_count": 3,
   "metadata": {},
   "outputs": [],
   "source": [
    "driver.get('https://www.salonemilano.it/espositori/catalogo-espositori/catalogo.html?company=&exi1=SMI&exi2=CDA&exi3=EUC&exi4=FTK&exi5=ARB&pavilion=&nation=IT&catSel=&prodSel=&letterSel=&search=1')"
   ]
  },
  {
   "cell_type": "code",
   "execution_count": 15,
   "metadata": {},
   "outputs": [],
   "source": [
    "driver.find_elements_by_xpath('//*[@id=\"others-content-container\"]/div[13]/a')[0].click()"
   ]
  },
  {
   "cell_type": "code",
   "execution_count": 19,
   "metadata": {},
   "outputs": [],
   "source": [
    "driver.find_elements_by_xpath()[0].click()"
   ]
  },
  {
   "cell_type": "code",
   "execution_count": 153,
   "metadata": {
    "scrolled": true
   },
   "outputs": [
    {
     "name": "stdout",
     "output_type": "stream",
     "text": [
      "//*[@id=\"others-content-container\"]/div[13]/a\n",
      "//*[@id=\"others-content-container\"]/div[26]/a\n",
      "//*[@id=\"others-content-container\"]/div[39]/a\n",
      "//*[@id=\"others-content-container\"]/div[52]/a\n",
      "//*[@id=\"others-content-container\"]/div[65]/a\n",
      "//*[@id=\"others-content-container\"]/div[78]/a\n",
      "//*[@id=\"others-content-container\"]/div[91]/a\n",
      "//*[@id=\"others-content-container\"]/div[104]/a\n",
      "//*[@id=\"others-content-container\"]/div[117]/a\n",
      "//*[@id=\"others-content-container\"]/div[130]/a\n",
      "//*[@id=\"others-content-container\"]/div[143]/a\n",
      "//*[@id=\"others-content-container\"]/div[156]/a\n"
     ]
    },
    {
     "ename": "IndexError",
     "evalue": "list index out of range",
     "output_type": "error",
     "traceback": [
      "\u001b[1;31m---------------------------------------------------------------------------\u001b[0m",
      "\u001b[1;31mIndexError\u001b[0m                                Traceback (most recent call last)",
      "\u001b[1;32m<ipython-input-153-66f6e27853e4>\u001b[0m in \u001b[0;36m<module>\u001b[1;34m()\u001b[0m\n\u001b[0;32m      5\u001b[0m     \u001b[0mxpath\u001b[0m\u001b[1;33m=\u001b[0m\u001b[0mxpath0\u001b[0m\u001b[1;33m+\u001b[0m\u001b[0mstr\u001b[0m\u001b[1;33m(\u001b[0m\u001b[0mnumber\u001b[0m\u001b[1;33m*\u001b[0m\u001b[0mmf\u001b[0m\u001b[1;33m)\u001b[0m\u001b[1;33m+\u001b[0m\u001b[0mxpath1\u001b[0m\u001b[1;33m\u001b[0m\u001b[0m\n\u001b[0;32m      6\u001b[0m     \u001b[0mprint\u001b[0m \u001b[1;33m(\u001b[0m\u001b[0mxpath\u001b[0m\u001b[1;33m)\u001b[0m\u001b[1;33m\u001b[0m\u001b[0m\n\u001b[1;32m----> 7\u001b[1;33m     \u001b[0mdriver\u001b[0m\u001b[1;33m.\u001b[0m\u001b[0mfind_elements_by_xpath\u001b[0m\u001b[1;33m(\u001b[0m\u001b[0mxpath\u001b[0m\u001b[1;33m)\u001b[0m\u001b[1;33m[\u001b[0m\u001b[1;36m0\u001b[0m\u001b[1;33m]\u001b[0m\u001b[1;33m.\u001b[0m\u001b[0mclick\u001b[0m\u001b[1;33m(\u001b[0m\u001b[1;33m)\u001b[0m\u001b[1;33m\u001b[0m\u001b[0m\n\u001b[0m\u001b[0;32m      8\u001b[0m     \u001b[0msleep\u001b[0m\u001b[1;33m(\u001b[0m\u001b[1;36m10\u001b[0m\u001b[1;33m)\u001b[0m\u001b[1;33m\u001b[0m\u001b[0m\n",
      "\u001b[1;31mIndexError\u001b[0m: list index out of range"
     ]
    }
   ],
   "source": [
    "number=13\n",
    "xpath0='//*[@id=\"others-content-container\"]/div['\n",
    "xpath1=']/a'\n",
    "for mf in range(1,30):\n",
    "    xpath=xpath0+str(number*mf)+xpath1\n",
    "    print (xpath)\n",
    "    driver.find_elements_by_xpath(xpath)[0].click()\n",
    "    sleep(10)\n"
   ]
  },
  {
   "cell_type": "code",
   "execution_count": 154,
   "metadata": {},
   "outputs": [
    {
     "name": "stderr",
     "output_type": "stream",
     "text": [
      "C:\\ProgramData\\Anaconda3\\lib\\site-packages\\bs4\\__init__.py:146: UserWarning: You provided Unicode markup but also provided a value for from_encoding. Your from_encoding will be ignored.\n",
      "  warnings.warn(\"You provided Unicode markup but also provided a value for from_encoding. Your from_encoding will be ignored.\")\n",
      "C:\\ProgramData\\Anaconda3\\lib\\site-packages\\bs4\\__init__.py:181: UserWarning: No parser was explicitly specified, so I'm using the best available HTML parser for this system (\"lxml\"). This usually isn't a problem, but if you run this code on another system, or in a different virtual environment, it may use a different parser and behave differently.\n",
      "\n",
      "The code that caused this warning is on line 193 of the file C:\\ProgramData\\Anaconda3\\lib\\runpy.py. To get rid of this warning, change code that looks like this:\n",
      "\n",
      " BeautifulSoup(YOUR_MARKUP})\n",
      "\n",
      "to this:\n",
      "\n",
      " BeautifulSoup(YOUR_MARKUP, \"lxml\")\n",
      "\n",
      "  markup_type=markup_type))\n"
     ]
    },
    {
     "name": "stdout",
     "output_type": "stream",
     "text": [
      "https://www.salonemilano.it/espositori/catalogo-espositori/catalogo-dettaglio.html?id=0000224731&expo=CDA\n",
      "https://www.salonemilano.it/espositori/catalogo-espositori/catalogo-dettaglio.html?id=0000277426&expo=ARB\n",
      "https://www.salonemilano.it/espositori/catalogo-espositori/catalogo-dettaglio.html?id=0000010068&expo=SMI\n",
      "https://www.salonemilano.it/espositori/catalogo-espositori/catalogo-dettaglio.html?id=0000010081&expo=SMI\n",
      "https://www.salonemilano.it/espositori/catalogo-espositori/catalogo-dettaglio.html?id=0000015250&expo=SMI\n",
      "https://www.salonemilano.it/espositori/catalogo-espositori/catalogo-dettaglio.html?id=0000329917&expo=SMI\n",
      "https://www.salonemilano.it/espositori/catalogo-espositori/catalogo-dettaglio.html?id=0000301868&expo=SMI\n",
      "https://www.salonemilano.it/espositori/catalogo-espositori/catalogo-dettaglio.html?id=0000233272&expo=CDA\n",
      "https://www.salonemilano.it/espositori/catalogo-espositori/catalogo-dettaglio.html?id=0000327130&expo=EUC\n",
      "https://www.salonemilano.it/espositori/catalogo-espositori/catalogo-dettaglio.html?id=0000325461&expo=ARB\n",
      "https://www.salonemilano.it/espositori/catalogo-espositori/catalogo-dettaglio.html?id=0000304936&expo=ARB\n",
      "https://www.salonemilano.it/espositori/catalogo-espositori/catalogo-dettaglio.html?id=0000327326&expo=SMI\n",
      "https://www.salonemilano.it/espositori/catalogo-espositori/catalogo-dettaglio.html?id=0000010027&expo=SMI\n",
      "https://www.salonemilano.it/espositori/catalogo-espositori/catalogo-dettaglio.html?id=0000329869&expo=ARB\n",
      "https://www.salonemilano.it/espositori/catalogo-espositori/catalogo-dettaglio.html?id=0000329714&expo=ARB\n",
      "https://www.salonemilano.it/espositori/catalogo-espositori/catalogo-dettaglio.html?id=0000329988&expo=ARB\n",
      "https://www.salonemilano.it/espositori/catalogo-espositori/catalogo-dettaglio.html?id=0000015633&expo=SMI\n",
      "https://www.salonemilano.it/espositori/catalogo-espositori/catalogo-dettaglio.html?id=0000304513&expo=SMI\n",
      "https://www.salonemilano.it/espositori/catalogo-espositori/catalogo-dettaglio.html?id=0000329034&expo=SMI\n",
      "https://www.salonemilano.it/espositori/catalogo-espositori/catalogo-dettaglio.html?id=0000104409&expo=SMI\n",
      "https://www.salonemilano.it/espositori/catalogo-espositori/catalogo-dettaglio.html?id=0000326830&expo=CDA\n",
      "https://www.salonemilano.it/espositori/catalogo-espositori/catalogo-dettaglio.html?id=0000248129&expo=CDA\n",
      "https://www.salonemilano.it/espositori/catalogo-espositori/catalogo-dettaglio.html?id=0000326732&expo=SMI\n",
      "https://www.salonemilano.it/espositori/catalogo-espositori/catalogo-dettaglio.html?id=0000304852&expo=ARB\n",
      "https://www.salonemilano.it/espositori/catalogo-espositori/catalogo-dettaglio.html?id=0000236532&expo=ARB\n",
      "https://www.salonemilano.it/espositori/catalogo-espositori/catalogo-dettaglio.html?id=0000261370&expo=SMI\n",
      "https://www.salonemilano.it/espositori/catalogo-espositori/catalogo-dettaglio.html?id=0000327982&expo=SMI\n",
      "https://www.salonemilano.it/espositori/catalogo-espositori/catalogo-dettaglio.html?id=0000257590&expo=CDA\n",
      "https://www.salonemilano.it/espositori/catalogo-espositori/catalogo-dettaglio.html?id=0000328620&expo=CDA\n",
      "https://www.salonemilano.it/espositori/catalogo-espositori/catalogo-dettaglio.html?id=0000010063&expo=SMI\n",
      "https://www.salonemilano.it/espositori/catalogo-espositori/catalogo-dettaglio.html?id=0000238115&expo=FTK\n",
      "https://www.salonemilano.it/espositori/catalogo-espositori/catalogo-dettaglio.html?id=0000254326&expo=SMI\n",
      "https://www.salonemilano.it/espositori/catalogo-espositori/catalogo-dettaglio.html?id=0000304776&expo=SMI\n",
      "https://www.salonemilano.it/espositori/catalogo-espositori/catalogo-dettaglio.html?id=0000227672&expo=SMI\n",
      "https://www.salonemilano.it/espositori/catalogo-espositori/catalogo-dettaglio.html?id=0000014894&expo=SMI\n",
      "https://www.salonemilano.it/espositori/catalogo-espositori/catalogo-dettaglio.html?id=0000015318&expo=SMI\n",
      "https://www.salonemilano.it/espositori/catalogo-espositori/catalogo-dettaglio.html?id=0000329747&expo=SMI\n",
      "https://www.salonemilano.it/espositori/catalogo-espositori/catalogo-dettaglio.html?id=0000215416&expo=SMI\n",
      "https://www.salonemilano.it/espositori/catalogo-espositori/catalogo-dettaglio.html?id=0000012621&expo=SMI\n",
      "https://www.salonemilano.it/espositori/catalogo-espositori/catalogo-dettaglio.html?id=0000025535&expo=CDA\n",
      "https://www.salonemilano.it/espositori/catalogo-espositori/catalogo-dettaglio.html?id=0000010273&expo=SMI\n",
      "https://www.salonemilano.it/espositori/catalogo-espositori/catalogo-dettaglio.html?id=0000272408&expo=SMI\n",
      "https://www.salonemilano.it/espositori/catalogo-espositori/catalogo-dettaglio.html?id=0000015426&expo=SMI\n",
      "https://www.salonemilano.it/espositori/catalogo-espositori/catalogo-dettaglio.html?id=0000327165&expo=ARB\n",
      "https://www.salonemilano.it/espositori/catalogo-espositori/catalogo-dettaglio.html?id=0000014365&expo=SMI\n",
      "https://www.salonemilano.it/espositori/catalogo-espositori/catalogo-dettaglio.html?id=0000265223&expo=SMI\n",
      "https://www.salonemilano.it/espositori/catalogo-espositori/catalogo-dettaglio.html?id=0000326884&expo=ARB\n",
      "https://www.salonemilano.it/espositori/catalogo-espositori/catalogo-dettaglio.html?id=0000016538&expo=SMI\n",
      "https://www.salonemilano.it/espositori/catalogo-espositori/catalogo-dettaglio.html?id=0000010108&expo=SMI\n",
      "https://www.salonemilano.it/espositori/catalogo-espositori/catalogo-dettaglio.html?id=0000019001&expo=EUC\n",
      "https://www.salonemilano.it/espositori/catalogo-espositori/catalogo-dettaglio.html?id=0000304815&expo=SMI\n",
      "https://www.salonemilano.it/espositori/catalogo-espositori/catalogo-dettaglio.html?id=0000256521&expo=SMI\n",
      "https://www.salonemilano.it/espositori/catalogo-espositori/catalogo-dettaglio.html?id=0000015242&expo=SMI\n",
      "https://www.salonemilano.it/espositori/catalogo-espositori/catalogo-dettaglio.html?id=0000301327&expo=SMI\n",
      "https://www.salonemilano.it/espositori/catalogo-espositori/catalogo-dettaglio.html?id=0000327381&expo=SMI\n",
      "https://www.salonemilano.it/espositori/catalogo-espositori/catalogo-dettaglio.html?id=0000326282&expo=SMI\n",
      "https://www.salonemilano.it/espositori/catalogo-espositori/catalogo-dettaglio.html?id=0000254307&expo=SMI\n",
      "https://www.salonemilano.it/espositori/catalogo-espositori/catalogo-dettaglio.html?id=0000327107&expo=CDA\n",
      "https://www.salonemilano.it/espositori/catalogo-espositori/catalogo-dettaglio.html?id=0000329951&expo=SMI\n",
      "https://www.salonemilano.it/espositori/catalogo-espositori/catalogo-dettaglio.html?id=0000241758&expo=SMI\n",
      "https://www.salonemilano.it/espositori/catalogo-espositori/catalogo-dettaglio.html?id=0000010822&expo=SMI\n",
      "https://www.salonemilano.it/espositori/catalogo-espositori/catalogo-dettaglio.html?id=0000013104&expo=SMI\n",
      "https://www.salonemilano.it/espositori/catalogo-espositori/catalogo-dettaglio.html?id=0000221541&expo=CDA\n",
      "https://www.salonemilano.it/espositori/catalogo-espositori/catalogo-dettaglio.html?id=0000011082&expo=SMI\n",
      "https://www.salonemilano.it/espositori/catalogo-espositori/catalogo-dettaglio.html?id=0000017134&expo=CDA\n",
      "https://www.salonemilano.it/espositori/catalogo-espositori/catalogo-dettaglio.html?id=0000017700&expo=CDA\n",
      "https://www.salonemilano.it/espositori/catalogo-espositori/catalogo-dettaglio.html?id=0000010161&expo=SMI\n",
      "https://www.salonemilano.it/espositori/catalogo-espositori/catalogo-dettaglio.html?id=0000236074&expo=SMI\n",
      "https://www.salonemilano.it/espositori/catalogo-espositori/catalogo-dettaglio.html?id=0000023920&expo=ARB\n",
      "https://www.salonemilano.it/espositori/catalogo-espositori/catalogo-dettaglio.html?id=0000241601&expo=ARB\n",
      "https://www.salonemilano.it/espositori/catalogo-espositori/catalogo-dettaglio.html?id=0000250006&expo=ARB\n",
      "https://www.salonemilano.it/espositori/catalogo-espositori/catalogo-dettaglio.html?id=0000018231&expo=EUC\n",
      "https://www.salonemilano.it/espositori/catalogo-espositori/catalogo-dettaglio.html?id=0000018232&expo=EUC\n",
      "https://www.salonemilano.it/espositori/catalogo-espositori/catalogo-dettaglio.html?id=0000327772&expo=EUC\n",
      "https://www.salonemilano.it/espositori/catalogo-espositori/catalogo-dettaglio.html?id=0000018247&expo=EUC\n",
      "https://www.salonemilano.it/espositori/catalogo-espositori/catalogo-dettaglio.html?id=0000023255&expo=ARB\n",
      "https://www.salonemilano.it/espositori/catalogo-espositori/catalogo-dettaglio.html?id=0000252692&expo=ARB\n",
      "https://www.salonemilano.it/espositori/catalogo-espositori/catalogo-dettaglio.html?id=0000017115&expo=CDA\n",
      "https://www.salonemilano.it/espositori/catalogo-espositori/catalogo-dettaglio.html?id=0000253847&expo=SMI\n",
      "https://www.salonemilano.it/espositori/catalogo-espositori/catalogo-dettaglio.html?id=0000304484&expo=ARB\n",
      "https://www.salonemilano.it/espositori/catalogo-espositori/catalogo-dettaglio.html?id=0000236290&expo=ARB\n",
      "https://www.salonemilano.it/espositori/catalogo-espositori/catalogo-dettaglio.html?id=0000228448&expo=ARB\n",
      "https://www.salonemilano.it/espositori/catalogo-espositori/catalogo-dettaglio.html?id=0000252693&expo=ARB\n",
      "https://www.salonemilano.it/espositori/catalogo-espositori/catalogo-dettaglio.html?id=0000329618&expo=EUC\n",
      "https://www.salonemilano.it/espositori/catalogo-espositori/catalogo-dettaglio.html?id=0000010211&expo=SMI\n",
      "https://www.salonemilano.it/espositori/catalogo-espositori/catalogo-dettaglio.html?id=0000302340&expo=CDA\n",
      "https://www.salonemilano.it/espositori/catalogo-espositori/catalogo-dettaglio.html?id=0000255344&expo=CDA\n",
      "https://www.salonemilano.it/espositori/catalogo-espositori/catalogo-dettaglio.html?id=0000327770&expo=ARB\n",
      "https://www.salonemilano.it/espositori/catalogo-espositori/catalogo-dettaglio.html?id=0000329902&expo=ARB\n",
      "https://www.salonemilano.it/espositori/catalogo-espositori/catalogo-dettaglio.html?id=0000302302&expo=SMI\n",
      "https://www.salonemilano.it/espositori/catalogo-espositori/catalogo-dettaglio.html?id=0000301234&expo=SMI\n",
      "https://www.salonemilano.it/espositori/catalogo-espositori/catalogo-dettaglio.html?id=0000329017&expo=SMI\n",
      "https://www.salonemilano.it/espositori/catalogo-espositori/catalogo-dettaglio.html?id=0000325790&expo=SMI\n",
      "https://www.salonemilano.it/espositori/catalogo-espositori/catalogo-dettaglio.html?id=0000245188&expo=ARB\n",
      "https://www.salonemilano.it/espositori/catalogo-espositori/catalogo-dettaglio.html?id=0000326309&expo=SMI\n",
      "https://www.salonemilano.it/espositori/catalogo-espositori/catalogo-dettaglio.html?id=0000276915&expo=EUC\n",
      "https://www.salonemilano.it/espositori/catalogo-espositori/catalogo-dettaglio.html?id=0000329574&expo=CDA\n",
      "https://www.salonemilano.it/espositori/catalogo-espositori/catalogo-dettaglio.html?id=0000246391&expo=CDA\n",
      "https://www.salonemilano.it/espositori/catalogo-espositori/catalogo-dettaglio.html?id=0000246214&expo=ARB\n",
      "https://www.salonemilano.it/espositori/catalogo-espositori/catalogo-dettaglio.html?id=0000303696&expo=SMI\n",
      "https://www.salonemilano.it/espositori/catalogo-espositori/catalogo-dettaglio.html?id=0000326790&expo=CDA\n",
      "https://www.salonemilano.it/espositori/catalogo-espositori/catalogo-dettaglio.html?id=0000014731&expo=SMI\n",
      "https://www.salonemilano.it/espositori/catalogo-espositori/catalogo-dettaglio.html?id=0000328839&expo=EUC\n",
      "https://www.salonemilano.it/espositori/catalogo-espositori/catalogo-dettaglio.html?id=0000013442&expo=SMI\n",
      "https://www.salonemilano.it/espositori/catalogo-espositori/catalogo-dettaglio.html?id=0000018221&expo=EUC\n",
      "https://www.salonemilano.it/espositori/catalogo-espositori/catalogo-dettaglio.html?id=0000018246&expo=EUC\n",
      "https://www.salonemilano.it/espositori/catalogo-espositori/catalogo-dettaglio.html?id=0000010263&expo=SMI\n",
      "https://www.salonemilano.it/espositori/catalogo-espositori/catalogo-dettaglio.html?id=0000245780&expo=ARB\n",
      "https://www.salonemilano.it/espositori/catalogo-espositori/catalogo-dettaglio.html?id=0000329749&expo=ARB\n",
      "https://www.salonemilano.it/espositori/catalogo-espositori/catalogo-dettaglio.html?id=0000015964&expo=SMI\n",
      "https://www.salonemilano.it/espositori/catalogo-espositori/catalogo-dettaglio.html?id=0000010280&expo=SMI\n",
      "https://www.salonemilano.it/espositori/catalogo-espositori/catalogo-dettaglio.html?id=0000228414&expo=SMI\n",
      "https://www.salonemilano.it/espositori/catalogo-espositori/catalogo-dettaglio.html?id=0000015571&expo=SMI\n",
      "https://www.salonemilano.it/espositori/catalogo-espositori/catalogo-dettaglio.html?id=0000326809&expo=SMI\n",
      "https://www.salonemilano.it/espositori/catalogo-espositori/catalogo-dettaglio.html?id=0000329380&expo=SMI\n",
      "https://www.salonemilano.it/espositori/catalogo-espositori/catalogo-dettaglio.html?id=0000329891&expo=SMI\n",
      "https://www.salonemilano.it/espositori/catalogo-espositori/catalogo-dettaglio.html?id=0000265910&expo=CDA\n",
      "https://www.salonemilano.it/espositori/catalogo-espositori/catalogo-dettaglio.html?id=0000326812&expo=SMI\n",
      "https://www.salonemilano.it/espositori/catalogo-espositori/catalogo-dettaglio.html?id=0000276873&expo=SMI\n",
      "https://www.salonemilano.it/espositori/catalogo-espositori/catalogo-dettaglio.html?id=0000023831&expo=ARB\n",
      "https://www.salonemilano.it/espositori/catalogo-espositori/catalogo-dettaglio.html?id=0000016908&expo=CDA\n",
      "https://www.salonemilano.it/espositori/catalogo-espositori/catalogo-dettaglio.html?id=0000252697&expo=ARB\n",
      "https://www.salonemilano.it/espositori/catalogo-espositori/catalogo-dettaglio.html?id=0000010332&expo=SMI\n",
      "https://www.salonemilano.it/espositori/catalogo-espositori/catalogo-dettaglio.html?id=0000329552&expo=SMI\n",
      "https://www.salonemilano.it/espositori/catalogo-espositori/catalogo-dettaglio.html?id=0000326248&expo=SMI\n",
      "https://www.salonemilano.it/espositori/catalogo-espositori/catalogo-dettaglio.html?id=0000327060&expo=SMI\n",
      "https://www.salonemilano.it/espositori/catalogo-espositori/catalogo-dettaglio.html?id=0000010339&expo=SMI\n",
      "https://www.salonemilano.it/espositori/catalogo-espositori/catalogo-dettaglio.html?id=0000327059&expo=SMI\n",
      "https://www.salonemilano.it/espositori/catalogo-espositori/catalogo-dettaglio.html?id=0000262540&expo=SMI\n",
      "https://www.salonemilano.it/espositori/catalogo-espositori/catalogo-dettaglio.html?id=0000255879&expo=SMI\n",
      "https://www.salonemilano.it/espositori/catalogo-espositori/catalogo-dettaglio.html?id=0000305010&expo=EUC\n",
      "https://www.salonemilano.it/espositori/catalogo-espositori/catalogo-dettaglio.html?id=0000237572&expo=ARB\n",
      "https://www.salonemilano.it/espositori/catalogo-espositori/catalogo-dettaglio.html?id=0000326731&expo=SMI\n",
      "https://www.salonemilano.it/espositori/catalogo-espositori/catalogo-dettaglio.html?id=0000302123&expo=SMI\n",
      "https://www.salonemilano.it/espositori/catalogo-espositori/catalogo-dettaglio.html?id=0000010353&expo=SMI\n",
      "https://www.salonemilano.it/espositori/catalogo-espositori/catalogo-dettaglio.html?id=0000017758&expo=EUC\n",
      "https://www.salonemilano.it/espositori/catalogo-espositori/catalogo-dettaglio.html?id=0000262766&expo=SMI\n",
      "https://www.salonemilano.it/espositori/catalogo-espositori/catalogo-dettaglio.html?id=0000026098&expo=CDA\n",
      "https://www.salonemilano.it/espositori/catalogo-espositori/catalogo-dettaglio.html?id=0000329478&expo=SMI\n",
      "https://www.salonemilano.it/espositori/catalogo-espositori/catalogo-dettaglio.html?id=0000327038&expo=SMI\n",
      "https://www.salonemilano.it/espositori/catalogo-espositori/catalogo-dettaglio.html?id=0000014368&expo=SMI\n",
      "https://www.salonemilano.it/espositori/catalogo-espositori/catalogo-dettaglio.html?id=0000261351&expo=SMI\n",
      "https://www.salonemilano.it/espositori/catalogo-espositori/catalogo-dettaglio.html?id=0000023838&expo=ARB\n",
      "1551\n"
     ]
    }
   ],
   "source": [
    "\n",
    "soup=BeautifulSoup(driver.page_source,from_encoding=\"UTF-8\")\n",
    "main=soup.find_all('div',id=\"others-content-container\")\n",
    "main0=main[0].find_all('a',class_=\"element-box\")\n",
    "len(main0)\n",
    "\n",
    "initiall='https://www.salonemilano.it'\n",
    "for mk in range(len(main0)):\n",
    "    endl=(main0[mk].get('href'))\n",
    "    print (initiall+endl)\n",
    "    liststor.append(initiall+endl)\n",
    "print (len(liststor))\n",
    "\n",
    "afaq=liststor\n",
    "csvfile = open('first0.csv', 'a')\n",
    "for row in afaq:\n",
    "    #line = ','.join(row)\n",
    "    values = ','.join(str(v) for v in row)\n",
    "    csvfile.write(row + '\\n')\n",
    "    \n",
    "csvfile.close()"
   ]
  },
  {
   "cell_type": "code",
   "execution_count": null,
   "metadata": {},
   "outputs": [],
   "source": [
    "liststor"
   ]
  },
  {
   "cell_type": "code",
   "execution_count": 158,
   "metadata": {
    "scrolled": true
   },
   "outputs": [
    {
     "name": "stdout",
     "output_type": "stream",
     "text": [
      "1551\n"
     ]
    },
    {
     "data": {
      "text/plain": [
       "1312"
      ]
     },
     "execution_count": 158,
     "metadata": {},
     "output_type": "execute_result"
    }
   ],
   "source": [
    "print (len(liststor))\n",
    "from collections import OrderedDict\n",
    "list2=list(OrderedDict.fromkeys(liststor))\n",
    "len(list2)"
   ]
  },
  {
   "cell_type": "code",
   "execution_count": 155,
   "metadata": {},
   "outputs": [],
   "source": [
    "afaq=liststor\n",
    "csvfile = open('first0.csv', 'a')\n",
    "for row in afaq:\n",
    "    #line = ','.join(row)\n",
    "    values = ','.join(str(v) for v in row)\n",
    "    csvfile.write(row + '\\n')\n",
    "    \n",
    "csvfile.close()"
   ]
  },
  {
   "cell_type": "code",
   "execution_count": 134,
   "metadata": {},
   "outputs": [],
   "source": []
  },
  {
   "cell_type": "code",
   "execution_count": 135,
   "metadata": {},
   "outputs": [],
   "source": []
  },
  {
   "cell_type": "code",
   "execution_count": null,
   "metadata": {},
   "outputs": [],
   "source": []
  },
  {
   "cell_type": "code",
   "execution_count": null,
   "metadata": {},
   "outputs": [],
   "source": []
  },
  {
   "cell_type": "code",
   "execution_count": null,
   "metadata": {},
   "outputs": [],
   "source": []
  }
 ],
 "metadata": {
  "kernelspec": {
   "display_name": "Python 2",
   "language": "python",
   "name": "python2"
  },
  "language_info": {
   "codemirror_mode": {
    "name": "ipython",
    "version": 2
   },
   "file_extension": ".py",
   "mimetype": "text/x-python",
   "name": "python",
   "nbconvert_exporter": "python",
   "pygments_lexer": "ipython2",
   "version": "2.7.14"
  }
 },
 "nbformat": 4,
 "nbformat_minor": 2
}
